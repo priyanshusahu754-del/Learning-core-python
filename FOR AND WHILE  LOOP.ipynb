{
 "cells": [
  {
   "cell_type": "markdown",
   "id": "92e8cd66-e2d1-4924-8b0e-c31937b27208",
   "metadata": {},
   "source": [
    "# **Basic for loop in python**"
   ]
  },
  {
   "cell_type": "markdown",
   "id": "a1e92f46-b091-4e4a-b24b-0010bfb56511",
   "metadata": {},
   "source": [
    "- a loop is used to repeat a block of code a specific number of times , or for each item in a sequence (like a list , string etc)"
   ]
  },
  {
   "cell_type": "code",
   "execution_count": null,
   "id": "c2c10426-ef32-4734-8558-3ab9ebe20dd8",
   "metadata": {},
   "outputs": [],
   "source": [
    "# syntax \n",
    "for variable in sequence:\n",
    "    # block code (indented)"
   ]
  },
  {
   "cell_type": "code",
   "execution_count": null,
   "id": "5d690970-3754-4be4-8725-482bd9a634e5",
   "metadata": {},
   "outputs": [],
   "source": [
    "fruits=[\"apple\",\"banana\",\"cherry\"]\n",
    "\n",
    "for fruit in fruits:\n",
    "    print(fruit)"
   ]
  },
  {
   "cell_type": "code",
   "execution_count": null,
   "id": "69bd3eed-2875-436a-8b7c-7ec5b3873af7",
   "metadata": {},
   "outputs": [],
   "source": [
    "fruits=[\"apple\",\"banana\",\"cherry\"]\n",
    "\n",
    "for fruit in fruits:\n",
    "    print(fruit,end=\"&&&\")"
   ]
  },
  {
   "cell_type": "markdown",
   "id": "26be49a6-d809-45d5-9688-5f499b6732f2",
   "metadata": {},
   "source": [
    "### USING range() WITH  LOOP \n",
    "### range(start,stop,step) is often used with for to repeat something multiple times"
   ]
  },
  {
   "cell_type": "code",
   "execution_count": null,
   "id": "dccb5fc6-726a-4765-a209-b207531d844e",
   "metadata": {},
   "outputs": [],
   "source": [
    "for i in range(5):\n",
    "    print(i)"
   ]
  },
  {
   "cell_type": "code",
   "execution_count": null,
   "id": "6ebb62f4-7504-40c7-88b1-7d0845ad0afb",
   "metadata": {},
   "outputs": [],
   "source": [
    "for i in range(5,9,2):\n",
    "    print(i)"
   ]
  },
  {
   "cell_type": "code",
   "execution_count": null,
   "id": "303fc3c3-64fa-49cc-b962-a1f1abcc6a97",
   "metadata": {},
   "outputs": [],
   "source": [
    "for i in range(1,90,20):\n",
    "    print(i)"
   ]
  },
  {
   "cell_type": "markdown",
   "id": "178f18da-abeb-4867-9908-822121837c40",
   "metadata": {},
   "source": [
    "# **NESTED FOR LOOP**\n",
    "A NESTED LOOP IS WHEN ONE FOR LOOP IS INSIDE ANOTHER"
   ]
  },
  {
   "cell_type": "code",
   "execution_count": null,
   "id": "fb97c325-7a6e-47dc-8139-dc5c7dc0a9ca",
   "metadata": {},
   "outputs": [],
   "source": [
    "#syntax\n",
    "for i in outer_loop:\n",
    "    for j in inner loop:\n",
    "        #code block"
   ]
  },
  {
   "cell_type": "code",
   "execution_count": null,
   "id": "5b7d94aa-5765-48ed-934f-ec5e5e826e2c",
   "metadata": {},
   "outputs": [],
   "source": [
    "for i in range(3):          #outer loop run 3 times\n",
    "    for j in range(2):      #inner loop runs 2 times for each outer\n",
    "        print(f\"i={i},j={j}\")"
   ]
  },
  {
   "cell_type": "code",
   "execution_count": null,
   "id": "a76e9b28-5b55-4a95-a326-ad109437a783",
   "metadata": {},
   "outputs": [],
   "source": [
    "for i in range(3):          #outer loop run 3 times\n",
    "    for j in range(2):      #inner loop runs 2 times for each outer\n",
    "        print(\"i={i},j={j}\")"
   ]
  },
  {
   "cell_type": "markdown",
   "id": "5ba1d5e8-e3ba-4889-8216-080131830ff6",
   "metadata": {},
   "source": [
    "### **building loop skills**"
   ]
  },
  {
   "cell_type": "code",
   "execution_count": null,
   "id": "8a90daa3-e07c-483f-91e4-64381e094348",
   "metadata": {},
   "outputs": [],
   "source": [
    "# right angled triangle\n",
    "rows = 5\n",
    "\n",
    "for i in range(1,rows+1):\n",
    "    print(\"*\"*i)"
   ]
  },
  {
   "cell_type": "code",
   "execution_count": null,
   "id": "5fc6e1d8-e439-4fa1-bbf0-a805bcfcb2ba",
   "metadata": {},
   "outputs": [],
   "source": [
    "# right angled triangle\n",
    "rows = 15\n",
    "\n",
    "for i in range(1,rows+1):\n",
    "    print(\"*\"*i)"
   ]
  },
  {
   "cell_type": "code",
   "execution_count": null,
   "id": "f5536ee7-52ae-4063-9820-0c3b09747b60",
   "metadata": {},
   "outputs": [],
   "source": [
    "# right angled triangle\n",
    "rows = 15\n",
    "\n",
    "for i in range(1,rows-2):\n",
    "    print(\"*\"*i)"
   ]
  },
  {
   "cell_type": "code",
   "execution_count": null,
   "id": "b334cce0-116f-4ab9-97b7-650014371b94",
   "metadata": {},
   "outputs": [],
   "source": [
    "# right angled triangle\n",
    "rows = 5\n",
    "\n",
    "for i in range(1,rows-7):\n",
    "    print(\"*\"*i)"
   ]
  },
  {
   "cell_type": "code",
   "execution_count": null,
   "id": "d15f6d57-b86d-4661-b0c7-b2e477b47d34",
   "metadata": {},
   "outputs": [],
   "source": [
    "# right angled triangle\n",
    "#INVERTED TRIANGLE \n",
    "\n",
    "for i in range(-2,-15):\n",
    "    print(\"*\"*i)"
   ]
  },
  {
   "cell_type": "code",
   "execution_count": null,
   "id": "84904db8-207a-4cb6-b743-51a11988265f",
   "metadata": {},
   "outputs": [],
   "source": [
    "# right angled triangle\n",
    "rows = 5\n",
    "\n",
    "for i in range(1,rows):\n",
    "    print(\"*\"*i)"
   ]
  },
  {
   "cell_type": "code",
   "execution_count": null,
   "id": "a4018071-25e1-481b-84a4-6a3477d9ab07",
   "metadata": {},
   "outputs": [],
   "source": [
    "# rectangle output\n",
    "size=7\n",
    "for i in range(size):\n",
    "    for j in range(size):\n",
    "        if i == 0 or i == size-1 or j == 0 or j == size-1:\n",
    "            print(\"*\",end=\"  \")\n",
    "        else:\n",
    "            print(\" \",end=\"  \")\n",
    "    print( )"
   ]
  },
  {
   "cell_type": "code",
   "execution_count": null,
   "id": "c109d94c-dacf-4512-a881-6fd089f550d5",
   "metadata": {},
   "outputs": [],
   "source": [
    "# right angled triangle\n",
    "rows = 5\n",
    "\n",
    "for i in range(1,rows+3):\n",
    "    print(\"x\"*i)"
   ]
  },
  {
   "cell_type": "code",
   "execution_count": null,
   "id": "1dc58d8d-e3c9-41fa-bdda-48d7d12995a5",
   "metadata": {},
   "outputs": [],
   "source": [
    "# right angled triangle\n",
    "rows = 6\n",
    "\n",
    "for i in range(1,rows+6,2):\n",
    "    print(\"x\"*i)"
   ]
  },
  {
   "cell_type": "code",
   "execution_count": null,
   "id": "5ae367d2-c04d-4724-80a4-e8be6117f675",
   "metadata": {},
   "outputs": [],
   "source": [
    "# right angled triangle\n",
    "rows = 10\n",
    "\n",
    "for i in range(1,rows+6,2):\n",
    "    print(\"x\"*i)"
   ]
  },
  {
   "cell_type": "code",
   "execution_count": null,
   "id": "bdbfe888-cde3-424e-a049-92d6ba089bc5",
   "metadata": {},
   "outputs": [],
   "source": [
    "# right angled triangle\n",
    "rows = 6\n",
    "\n",
    "for i in range(1,rows+6,2):\n",
    "    print(\"x\"*i+2)"
   ]
  },
  {
   "cell_type": "code",
   "execution_count": null,
   "id": "a5dc8bcd-4b34-406b-9e84-e89ad0fe8a23",
   "metadata": {},
   "outputs": [],
   "source": [
    "# right angled triangle\n",
    "rows = 6\n",
    "\n",
    "for i in range(1,rows+6,2):\n",
    "    print(\"x\"*i*i)"
   ]
  },
  {
   "cell_type": "markdown",
   "id": "ed1cad5b-b4e8-4155-8a01-f7798d39f9eb",
   "metadata": {},
   "source": [
    "# inverted triangle"
   ]
  },
  {
   "cell_type": "code",
   "execution_count": null,
   "id": "1832ea63-cbfd-48c9-81e1-8d37b3835afd",
   "metadata": {},
   "outputs": [],
   "source": [
    "row=5\n",
    "\n",
    "for i in range(1,row+2):\n",
    "    print(\"*\"*i)"
   ]
  },
  {
   "cell_type": "code",
   "execution_count": null,
   "id": "3ef63232-7533-4f26-a01f-70c7597e6a98",
   "metadata": {},
   "outputs": [],
   "source": [
    "i=10\n",
    "\n",
    "for i in range(10,1,-1):\n",
    "    print(\"*\"*i)"
   ]
  },
  {
   "cell_type": "markdown",
   "id": "334c36dc-4a5e-4f60-b41f-980a4b24e616",
   "metadata": {},
   "source": [
    "# NUMBER PYRAMID"
   ]
  },
  {
   "cell_type": "code",
   "execution_count": null,
   "id": "1ba67cad-3147-45f6-b272-ba578b23aacb",
   "metadata": {},
   "outputs": [],
   "source": [
    "row=5\n",
    "\n",
    "for i in range(1,row+1):\n",
    "    for j in range(1,i+1):\n",
    "        print(j)\n",
    "    print()"
   ]
  },
  {
   "cell_type": "code",
   "execution_count": null,
   "id": "47dadcc5-9d2b-4565-b032-7d684a81f49a",
   "metadata": {},
   "outputs": [],
   "source": [
    "row=5\n",
    "\n",
    "for i in range(1,row+1):\n",
    "    for j in range(1,i+1):\n",
    "        print(j,end=\" \")\n",
    "    print()"
   ]
  },
  {
   "cell_type": "code",
   "execution_count": null,
   "id": "3708ef84-84e3-44d8-857f-24a15b6fdaed",
   "metadata": {},
   "outputs": [],
   "source": [
    "i=10\n",
    "\n",
    "for i in range(10,1,-1):\n",
    "    for j in range(1,i+1):\n",
    "        print(j,end=\" \")\n",
    "    print()"
   ]
  },
  {
   "cell_type": "code",
   "execution_count": null,
   "id": "0c8d8622-1a31-4de9-af62-28ecd902ace2",
   "metadata": {},
   "outputs": [],
   "source": [
    "i=10\n",
    "\n",
    "for i in range(i,1,-1):\n",
    "    for j in range(1,i+1):\n",
    "        print(j,end=\" \")\n",
    "    print()"
   ]
  },
  {
   "cell_type": "code",
   "execution_count": null,
   "id": "1a88b3eb-c17b-4822-b20a-7d2ed52c994f",
   "metadata": {},
   "outputs": [],
   "source": [
    "i=10\n",
    "\n",
    "for i in range(i,0,-1):\n",
    "    for j in range(1,i+1):\n",
    "        print(j,end=\" \")\n",
    "    print()"
   ]
  },
  {
   "cell_type": "code",
   "execution_count": null,
   "id": "c1be7a49-ad02-4c6e-9b06-02a74860e362",
   "metadata": {},
   "outputs": [],
   "source": [
    "row=15\n",
    "\n",
    "for i in range(row,0,-1):\n",
    "    for j in range(1,i+1):\n",
    "        print(j,end=\" \")\n",
    "    print()"
   ]
  },
  {
   "cell_type": "code",
   "execution_count": null,
   "id": "5bc2c3a7-7dfa-4483-a459-cc8a3b669821",
   "metadata": {},
   "outputs": [],
   "source": [
    "row=15\n",
    "\n",
    "for i in range(row,-1,-1):\n",
    "    for j in range(1,i+1):\n",
    "        print(j,end=\" \")\n",
    "    print(i)"
   ]
  },
  {
   "cell_type": "code",
   "execution_count": null,
   "id": "658f7481-4001-492a-9022-ab627f45fe04",
   "metadata": {},
   "outputs": [],
   "source": [
    "row=5\n",
    "\n",
    "for i in range(1,row+1):\n",
    "    for j in range(1,i+1):\n",
    "        print(j,end=\"\") # end jo hai wo saare element ko ek row me rakhega \n",
    "    print()             # ye print row ko change kar dega doosri row me start hoga iske baad loop "
   ]
  },
  {
   "cell_type": "markdown",
   "id": "b0d58bf4-e0ff-49a4-bcc9-041c6685ffb2",
   "metadata": {},
   "source": []
  },
  {
   "cell_type": "code",
   "execution_count": null,
   "id": "51702306-a9ee-4b0c-bc6a-ff67c726fd08",
   "metadata": {},
   "outputs": [],
   "source": []
  },
  {
   "cell_type": "code",
   "execution_count": null,
   "id": "99787660-d94a-4639-8d14-54687dbbf90b",
   "metadata": {},
   "outputs": [],
   "source": []
  },
  {
   "cell_type": "markdown",
   "id": "39546557-86a5-4418-b8b7-98b283cbb4ce",
   "metadata": {},
   "source": [
    "# BASIC EXAMPLE 1: COUNT UP TIMER"
   ]
  },
  {
   "cell_type": "code",
   "execution_count": null,
   "id": "2c39fb83-8283-4390-a65e-5443f473cbe2",
   "metadata": {},
   "outputs": [],
   "source": [
    "i=1\n",
    "while i<=5:\n",
    "    print(i)\n",
    "\n",
    "    i+=1\n",
    "print(\"get up it is time to study\")"
   ]
  },
  {
   "cell_type": "code",
   "execution_count": null,
   "id": "37171997-ca4b-4a72-b302-d1e24b0b3f9d",
   "metadata": {},
   "outputs": [],
   "source": [
    "ROW=4\n",
    "while ROW<=20:\n",
    "    print(ROW)\n",
    "\n",
    "    ROW+=4\n",
    "print(\"NO MORE SPACE\")"
   ]
  },
  {
   "cell_type": "code",
   "execution_count": null,
   "id": "7ec2da6e-2e1a-4c1d-b6e8-a4af7ec1ad80",
   "metadata": {},
   "outputs": [],
   "source": [
    "i=1\n",
    "while i<=5:\n",
    "    print(i)\n",
    "\n",
    "    i=i+1\n",
    "    print(\"enter your password\")\n",
    "    print(\"try one more time\")\n",
    "print(\"now you can't enter your password\")"
   ]
  },
  {
   "cell_type": "code",
   "execution_count": null,
   "id": "1e6f96f9-b246-4ad3-b224-1ebe76266a37",
   "metadata": {},
   "outputs": [],
   "source": [
    "# EXAMPLE 2 : countdown timer\n",
    "i=10\n",
    "while i>=0:\n",
    "    print(i)\n",
    "    \n",
    "    i=i-1\n",
    "print(\"ready to blast\")\n",
    "    "
   ]
  },
  {
   "cell_type": "code",
   "execution_count": null,
   "id": "d1b65578-88b6-4b40-b43b-fa2d13c3006a",
   "metadata": {},
   "outputs": [],
   "source": [
    "row=5\n",
    "i=1\n",
    "while i<=row:\n",
    "    print(\"*\"*i)\n",
    "    i+=1"
   ]
  },
  {
   "cell_type": "code",
   "execution_count": null,
   "id": "8a3c2a90-34a5-43fa-98a3-c426202cbe2b",
   "metadata": {},
   "outputs": [],
   "source": [
    "# inverted star triangle \n",
    "row=1\n",
    "i=10\n",
    "while i>=row:\n",
    "    print(\"*\"*i)\n",
    "    i=i-1"
   ]
  },
  {
   "cell_type": "code",
   "execution_count": null,
   "id": "82596634-e758-4f63-8bbc-2bca71afe80a",
   "metadata": {},
   "outputs": [],
   "source": [
    "# print number in triangle form usind while loop\n",
    "row=7\n",
    "i=1\n",
    "while i in range(1,row+1):\n",
    "    while j in range(1,i+1):\n",
    "        print(j,end=\" \")\n",
    "    print(i)\n",
    "    i=i+1"
   ]
  },
  {
   "cell_type": "code",
   "execution_count": null,
   "id": "25942713-27f0-4b9a-9c7f-b26b8f708d00",
   "metadata": {},
   "outputs": [],
   "source": [
    "# print number in triangle form usind while loop\n",
    "row=7\n",
    "i=1\n",
    "J=1\n",
    "while i in range(1,row+1):\n",
    "    while j in range(1,i+1):\n",
    "        print(j,end=\" \")\n",
    "    print(i)\n",
    "    i=i+1\n",
    "\n",
    "# INFINITE LOOP "
   ]
  },
  {
   "cell_type": "code",
   "execution_count": null,
   "id": "081cc663-b3e5-48e1-8dff-c12a83a9b626",
   "metadata": {},
   "outputs": [],
   "source": [
    "row=5\n",
    "i=1\n",
    "while i<=5:\n",
    "    j=1\n",
    "    while j<=i:\n",
    "        print(j,end=\" \")\n",
    "        j+=1\n",
    "    print()\n",
    "    i+=1"
   ]
  },
  {
   "cell_type": "code",
   "execution_count": null,
   "id": "5c28fb11-f796-4322-b1e5-a4821460a591",
   "metadata": {},
   "outputs": [],
   "source": [
    "row=5\n",
    "i=1\n",
    "while i<=5:\n",
    "    j=1\n",
    "    while j<=i:\n",
    "        print(j,end=\" \")\n",
    "        j+=1\n",
    "    print(i)\n",
    "    i+=1"
   ]
  },
  {
   "cell_type": "code",
   "execution_count": null,
   "id": "2a613095-5187-4add-abec-a47b9b09d7e3",
   "metadata": {},
   "outputs": [],
   "source": [
    "row=5\n",
    "i=1\n",
    "while i<=5:\n",
    "    j=1\n",
    "    while j<=i:\n",
    "        print(j,end=\" \")\n",
    "        j+=1\n",
    "    print(i,end=\" \")\n",
    "    i+=1"
   ]
  },
  {
   "cell_type": "code",
   "execution_count": null,
   "id": "73cafcfc-5eb7-4e97-aef2-85c75849303c",
   "metadata": {},
   "outputs": [],
   "source": [
    "row=5\n",
    "i=1\n",
    "while i<=5:\n",
    "    j=1\n",
    "    while j<=i:\n",
    "        print(j)\n",
    "        j+=1\n",
    "    print(i,end=\" \")\n",
    "    i+=1"
   ]
  },
  {
   "cell_type": "code",
   "execution_count": null,
   "id": "d3047381-9383-4cdc-b1e9-816d5f2e7114",
   "metadata": {},
   "outputs": [],
   "source": [
    "row=5\n",
    "i=1\n",
    "while i<=5:\n",
    "    j=1\n",
    "    while j<=i:\n",
    "        print(j,end=\" \")\n",
    "        j+=1\n",
    "    i+=1"
   ]
  },
  {
   "cell_type": "code",
   "execution_count": null,
   "id": "597f86ad-e64a-4ad3-abc5-6b35e9ee53db",
   "metadata": {},
   "outputs": [],
   "source": [
    "row=5\n",
    "i=1\n",
    "while i<=5:\n",
    "    j=1\n",
    "    while j<=i:\n",
    "        print(j,end=\" \")\n",
    "        j+=1\n",
    "    print(i)\n",
    "    i+=2"
   ]
  },
  {
   "cell_type": "code",
   "execution_count": null,
   "id": "8fbf7506-7548-4e0b-be65-79efd878e879",
   "metadata": {},
   "outputs": [],
   "source": [
    "#inverted number triangle\n",
    "row=1\n",
    "i=5\n",
    "while i>=row:\n",
    "    j=5\n",
    "    while j>=i:\n",
    "        print(j,end=\" \")\n",
    "        j=j-1\n",
    "    print()\n",
    "    i=i-1"
   ]
  },
  {
   "cell_type": "code",
   "execution_count": null,
   "id": "a018cd0f-a70d-4e0e-bd16-11572f0c118b",
   "metadata": {},
   "outputs": [],
   "source": [
    "i=2\n",
    "j=1\n",
    "while j>i:\n",
    "    print(\"outer loop control the number of rows(vertical dimension\")\n",
    "    k=1\n",
    "    while k>i:\n",
    "        print(\"inner loop control characters per row(horizontal dimension\")\n",
    "        l=1\n",
    "        while l>i:\n",
    "            print(\"print(...,end=\" \")keep printing in the same line\")\n",
    "            m=1\n",
    "            while m>i:\n",
    "                print(\"print() moves to the next line after a row is done\")\n",
    "                n=1\n",
    "                while n>i:\n",
    "                    print(\"logic in inner decides what to print *,number,space,etc\")\n",
    "                    o=1\n",
    "                    while o>i:\n",
    "                        print(\"condition (if)used for shapes like hollow boxes ,diagonal etc\")\n",
    "    print()\n",
    "                        "
   ]
  },
  {
   "cell_type": "code",
   "execution_count": null,
   "id": "2745eb2e-bac7-400b-a3b7-3e6f2d87b36e",
   "metadata": {},
   "outputs": [],
   "source": [
    "for i in range(3):\n",
    "    for j in range(1,i):\n",
    "        print(\"outer loop control the number of rows(vertical dimension\")\n",
    "        for k in range(1,i):\n",
    "            print(\"inner loop control characters per row(horizontal dimension\")\n",
    "            for l in range(1,i):\n",
    "                print(\"print(...,end=\" \")keep printing in the same line\")\n",
    "                for m in range(1,i):\n",
    "                    print(\"print() moves to the next line after a row is done\")\n",
    "                    for n in range(1,i):\n",
    "                        print(\"logic in inner decides what to print *,number,space,etc\")\n",
    "                        for o in range(1,i):\n",
    "                            print(\"condition (if)used for shapes like hollow boxes ,diagonal etc\")\n",
    "    print()\n",
    "                    "
   ]
  },
  {
   "cell_type": "code",
   "execution_count": null,
   "id": "a1f3fb1c-c1c6-4252-ab60-68ccb404a840",
   "metadata": {},
   "outputs": [],
   "source": [
    "# right aligned triangle\n",
    "row=5\n",
    "i=1\n",
    "\n",
    "while i<=row:\n",
    "    spaces=row-i\n",
    "    stars=i\n",
    "\n",
    "    j=1\n",
    "    while j <= spaces:\n",
    "        print(\" \",end=\"\")\n",
    "        j+=1\n",
    "\n",
    "    k=1\n",
    "    while k<= stars:\n",
    "        print(\"*\",end=\"\")\n",
    "        k+=1\n",
    "\n",
    "    print()\n",
    "    i+=1"
   ]
  },
  {
   "cell_type": "code",
   "execution_count": null,
   "id": "45c67bb8-f6b0-442d-b237-98bc3aa64b21",
   "metadata": {},
   "outputs": [],
   "source": [
    "# diamond shape\n",
    "rows=3\n",
    "\n",
    "i=1\n",
    "while i<=rows:\n",
    "    spaces=rows-i\n",
    "    stars=2*i-1\n",
    "\n",
    "    print(\" \"*spaces + \"*\"*stars)\n",
    "    i+=1\n",
    "\n",
    "i=rows-1\n",
    "while i>=1:\n",
    "    spaces=rows-i\n",
    "    stars=2*i-1\n",
    "\n",
    "    print(\" \"*spaces + \"*\"*stars)\n",
    "    i-=1"
   ]
  },
  {
   "cell_type": "code",
   "execution_count": null,
   "id": "0c757ea7-269a-4c84-b71d-c18282093bc1",
   "metadata": {},
   "outputs": [],
   "source": [
    "i=1\n",
    "j=1\n",
    "while i>=j:\n",
    "    if(i+j)%2==0:\n",
    "        print(\"0\",end=\" \")\n",
    "    else:\n",
    "        print(\"1\",end=\" \")\n",
    "        j+=1\n",
    "print()"
   ]
  },
  {
   "cell_type": "code",
   "execution_count": null,
   "id": "668576a0-6fbc-4ba4-a640-ba9bb641b5f1",
   "metadata": {},
   "outputs": [],
   "source": [
    "rows=5\n",
    "i=1\n",
    "\n",
    "while i<=rows:\n",
    "    print(\" _ \"*i)\n",
    "    i=i+1"
   ]
  },
  {
   "cell_type": "code",
   "execution_count": null,
   "id": "f8236250-8ada-42ab-9517-ef3696bbb48d",
   "metadata": {},
   "outputs": [],
   "source": [
    "rows=5\n",
    "i=1\n",
    "\n",
    "while i<=rows:\n",
    "    j=1\n",
    "    while j<=i:\n",
    "        print(j*2,end=\" \")\n",
    "        j+=1\n",
    "    print()\n",
    "    i+=1"
   ]
  },
  {
   "cell_type": "markdown",
   "id": "b959b881-1d1b-430b-9269-b8e4d23ae91f",
   "metadata": {},
   "source": [
    "## **concept role**\n",
    "- outer loop control the number of rows(vertical dimension)\n",
    "- inner loop control characters per row(horizontal dimension)\n",
    "- print(...,end=\" \")keep printing in the same line\n",
    "- print() moves to the next line after a row is done\n",
    "- logic in inner decides what to print *,number,space,etc\n",
    "- condition (if)used for shapes like hollow boxes ,diagonal etc"
   ]
  },
  {
   "cell_type": "markdown",
   "id": "7fd5ad8f-c578-499b-9eec-92646a1d0695",
   "metadata": {},
   "source": [
    "# ***pro tips to practice***\n",
    "start with:\n",
    "\n",
    "for i in range(n):for j in range(m):print(\"?\",end=\" \")print()\n",
    "\n",
    "then change \n",
    "\n",
    "? = i,j,ijetc "
   ]
  },
  {
   "cell_type": "code",
   "execution_count": null,
   "id": "e9fe75a9-dd0e-4e23-8bd6-47e641e92ea6",
   "metadata": {},
   "outputs": [],
   "source": []
  },
  {
   "cell_type": "markdown",
   "id": "9fdbe5ce-76b4-4059-9169-736f8e68cb65",
   "metadata": {},
   "source": [
    "# **PYTHON FUNCTION**\n",
    "\n",
    " pyhton function are a block of statement that does a specific task the idea is to put some commonly or repeatedly done task together and make a function sp that insted of writing a same code again and again for different input we can do the function call to reuse code contained in it over and over again.n is:"
   ]
  },
  {
   "cell_type": "markdown",
   "id": "f1311513-5008-4900-a8cb-15e3d0901145",
   "metadata": {},
   "source": [
    "# defining a function \n",
    "\n",
    "we can define a function in python usinf the ***def keyword*** we can add any type of functionalities and properties to it as we require \n",
    "\n",
    "the *** def keyword*** stands for define it is used to create a user - defined function it marks the beginning of a function block nad allow you to group a set of statement so they can be reused when the function is called"
   ]
  },
  {
   "cell_type": "markdown",
   "id": "a21db72b-7e30-4dbd-b07c-2f60e66cd9d7",
   "metadata": {},
   "source": [
    "### ***function declaration***\n",
    "\n",
    "the syntax to declare a function is:\n",
    "\n",
    "\n",
    "          def functiom_name(parameters):\n",
    "\n",
    "                # statement\n",
    "\n",
    "              return expression\n",
    "\n",
    "- def : starts the function definition\n",
    "- functiom_name: name of the function\n",
    "- parameters : input passed to the function (inside()),optional\n",
    "- indented code: the function that run when called\n",
    "\n",
    "here we define a function using def that prints a welcome message when called"
   ]
  },
  {
   "cell_type": "code",
   "execution_count": null,
   "id": "c7b42ce5-bac0-4285-ab2b-c301ecfc5d7a",
   "metadata": {},
   "outputs": [],
   "source": [
    "def fun():\n",
    "    print (\"welcome to Vij AI\")\n",
    "    "
   ]
  },
  {
   "cell_type": "code",
   "execution_count": null,
   "id": "e2fd6b29-5a1c-41be-9c25-690d76550562",
   "metadata": {},
   "outputs": [],
   "source": [
    "fun()"
   ]
  },
  {
   "cell_type": "code",
   "execution_count": null,
   "id": "0b363f6b-d0ba-46b7-bc26-1e096107093e",
   "metadata": {},
   "outputs": [],
   "source": [
    "def multiply(n1,n2):\n",
    "    n3=n1*n2\n",
    "    print(n3)\n",
    "\n",
    "multiply(2,3)"
   ]
  },
  {
   "cell_type": "code",
   "execution_count": null,
   "id": "0a96fddc-ced3-4501-b652-2882e961288c",
   "metadata": {},
   "outputs": [],
   "source": [
    "def add(n1,n2):\n",
    "    n3=n1+n2\n",
    "    print(n3)\n",
    "\n",
    "add(2,3)"
   ]
  },
  {
   "cell_type": "code",
   "execution_count": null,
   "id": "6b6652c0-2cba-4071-a067-f7851333a2bb",
   "metadata": {},
   "outputs": [],
   "source": [
    "add(10208,3284)"
   ]
  },
  {
   "cell_type": "code",
   "execution_count": null,
   "id": "01b7f3c1-3158-4f4a-af56-8c103625957c",
   "metadata": {},
   "outputs": [],
   "source": [
    "add(9,4)"
   ]
  },
  {
   "cell_type": "code",
   "execution_count": null,
   "id": "c014cfe1-7345-40b0-b711-d2b949f04351",
   "metadata": {},
   "outputs": [],
   "source": [
    "def add(n1,n2):\n",
    "    n3=n1+n2\n",
    "    return(n3)\n",
    "\n",
    "add(9,5)"
   ]
  },
  {
   "cell_type": "code",
   "execution_count": null,
   "id": "27d53650-6f2b-4dc6-8874-fb565d22056c",
   "metadata": {},
   "outputs": [],
   "source": [
    "def multiply(n1,n2):\n",
    "    n3=n1*n2\n",
    "    return(n3)\n",
    "\n",
    "multiply(2,3)"
   ]
  },
  {
   "cell_type": "code",
   "execution_count": null,
   "id": "1869dd03-6571-431c-83bf-9972de0d7b9e",
   "metadata": {},
   "outputs": [],
   "source": [
    "multiply(2,3)"
   ]
  },
  {
   "cell_type": "code",
   "execution_count": null,
   "id": "4634c863-334e-45ee-9e1b-a0a45d6dc5a0",
   "metadata": {},
   "outputs": [],
   "source": [
    "multiply(10,5)"
   ]
  },
  {
   "cell_type": "code",
   "execution_count": null,
   "id": "fd26308b-16d3-48e0-9d3c-7a4af496e7b7",
   "metadata": {},
   "outputs": [],
   "source": [
    "def REVERSE(a):\n",
    "    a.reverse()\n",
    "    return(a)\n",
    "def YKNJS(a):\n",
    "    b=[]\n",
    "    b.extend(REVERSE(a))\n",
    "    print(b)\n",
    "\n",
    "a=[1,3.1,5.31,7.531]\n",
    "YKNJS(a)"
   ]
  },
  {
   "cell_type": "code",
   "execution_count": null,
   "id": "f51da3a5-7370-43af-b469-8dc747be70c6",
   "metadata": {},
   "outputs": [],
   "source": [
    "password=\"priyanshu123\"\n",
    "user_input=\"\"\n",
    "\n",
    "while user_input!=password:\n",
    "    user_input=input(\"enter the password\")\n",
    "\n",
    "print(\"access granted\")"
   ]
  },
  {
   "cell_type": "code",
   "execution_count": null,
   "id": "650e5d28-c04c-4781-9f82-75bceddee79e",
   "metadata": {},
   "outputs": [],
   "source": [
    "password=\"priyanshu123\"\n",
    "user_input=\"  \"\n",
    "\n",
    "while user_input==password:\n",
    "    user_input=input(\"enter the password\")\n",
    "\n",
    "print(\"access granted\")"
   ]
  },
  {
   "cell_type": "code",
   "execution_count": null,
   "id": "fa658970-a951-4396-a70c-83713feda28d",
   "metadata": {},
   "outputs": [],
   "source": [
    "# while loop with break\n",
    "i=1\n",
    "while True:\n",
    "    print(i)\n",
    "    if i==3:\n",
    "        break\n",
    "    i+=1"
   ]
  },
  {
   "cell_type": "code",
   "execution_count": null,
   "id": "8b0bf615-0f35-47ee-aced-8de528323b8b",
   "metadata": {},
   "outputs": [],
   "source": [
    "# while loop with break\n",
    "i=1\n",
    "while True:\n",
    "    print(i)\n",
    "    if i==3:\n",
    "        i+=1\n",
    "\n",
    "#INFINTE LOOP WITHOUT BREAK"
   ]
  },
  {
   "cell_type": "code",
   "execution_count": null,
   "id": "77d5db0c-004f-4d2d-bed5-3a0823a94eee",
   "metadata": {},
   "outputs": [],
   "source": [
    "total=0\n",
    "num=int(input(\" enter a number(0 to stop): \"))\n",
    "\n",
    "while num!=0:\n",
    "    total+=num\n",
    "    num=int(input(\" enter a number(0 to stop) \"))\n",
    "\n",
    "print(\"total sum =\",total)"
   ]
  },
  {
   "cell_type": "code",
   "execution_count": null,
   "id": "89d15ffc-9938-4555-b302-9ce415769e34",
   "metadata": {},
   "outputs": [],
   "source": [
    "# triangle of stars\n",
    "row=5\n",
    "i=1\n",
    "while i<=row:\n",
    "    print(\"*\"*i)\n",
    "    i+=1"
   ]
  },
  {
   "cell_type": "code",
   "execution_count": null,
   "id": "afbd0cca-a8c1-4c38-a3b9-a6e53f8ead6c",
   "metadata": {},
   "outputs": [],
   "source": [
    "# numbers in triangle form\n",
    "row=5\n",
    "i=1\n",
    "while i<=row:\n",
    "    j=1\n",
    "    while j<=i:\n",
    "        print(j,end=\" \")\n",
    "        j+=1\n",
    "    print()\n",
    "    i+=1"
   ]
  },
  {
   "cell_type": "code",
   "execution_count": null,
   "id": "15405459-c072-4473-9573-535ba631293c",
   "metadata": {},
   "outputs": [],
   "source": [
    "#inverted triangle\n",
    "row=1\n",
    "i=5\n",
    "while i>=row:\n",
    "    print(\"*\"*i)\n",
    "    i-=1"
   ]
  },
  {
   "cell_type": "code",
   "execution_count": null,
   "id": "40bc8b03-d20c-4236-a714-13e09f3e03b2",
   "metadata": {},
   "outputs": [],
   "source": [
    "#right aligned trianle\n",
    "row=5\n",
    "i=1\n",
    "while i<=row:\n",
    "    spaces=row-i\n",
    "    stars=i\n",
    "\n",
    "    j=1\n",
    "    while j<=spaces:\n",
    "        print(\" \",end=\"\")\n",
    "        j+=1\n",
    "\n",
    "    k=1\n",
    "    while k<=stars:\n",
    "        print(\"*\",end=\"\")\n",
    "        k+=1\n",
    "\n",
    "    print()\n",
    "    i+=1"
   ]
  },
  {
   "cell_type": "code",
   "execution_count": null,
   "id": "b059889d-ace5-4f29-91c4-4ddcccd213f7",
   "metadata": {},
   "outputs": [],
   "source": [
    "# diamond shape\n",
    "rows=3\n",
    "#upper part\n",
    "i=1\n",
    "while i<=rows:\n",
    "    spaces=rows-i\n",
    "    stars=2*i-1\n",
    "\n",
    "    print(\" \"*spaces + \"*\"*stars)\n",
    "    i+=1\n",
    "\n",
    "#lower part\n",
    "i=rows-1\n",
    "while i>=1:\n",
    "    spaces=rows-i\n",
    "    stars=2*i-1\n",
    "\n",
    "    print(\" \"*spaces + \"*\"*stars)\n",
    "    i -= 1"
   ]
  },
  {
   "cell_type": "code",
   "execution_count": null,
   "id": "91dcd18f-601a-4cc6-bfa4-791fef42943f",
   "metadata": {},
   "outputs": [],
   "source": [
    "rows=3\n",
    "\n",
    "i=1\n",
    "while i<=rows:\n",
    "    spaces=rows-i\n",
    "    stars=2*i-1\n",
    "\n",
    "    print(\" \"*spaces + \"*\"*stars)\n",
    "    i+=1\n",
    "\n",
    "i=rows-1\n",
    "while i>=1:\n",
    "    spaces=rows-i\n",
    "    stars=2*i-1\n",
    "\n",
    "    print(\" \"*spaces + \"*\"*stars)\n",
    "    i-=1"
   ]
  },
  {
   "cell_type": "code",
   "execution_count": null,
   "id": "4683bb8f-d921-4762-886b-27c817c97bb8",
   "metadata": {},
   "outputs": [],
   "source": [
    "size=5\n",
    "for i in range(size):\n",
    "    for j in range(size):\n",
    "        print(i,end=\" \")\n",
    "\n",
    "    print()"
   ]
  },
  {
   "cell_type": "code",
   "execution_count": null,
   "id": "5d52c6fd-99e5-41e2-acf8-79d0f98d4fdb",
   "metadata": {},
   "outputs": [],
   "source": [
    "size=5\n",
    "for i in range(size):\n",
    "    for j in range(size):\n",
    "        if i == 0 or i ==4 :\n",
    "            print(\"*\",end=\" \")\n",
    "        elif j==0 or j==4:\n",
    "            print(\"*\",end=\" \")\n",
    "        else:\n",
    "            print(\" \",end=\" \")\n",
    "    print( )"
   ]
  },
  {
   "cell_type": "code",
   "execution_count": null,
   "id": "bd9ee667-0689-49d9-a542-3c146ee20e52",
   "metadata": {},
   "outputs": [],
   "source": [
    "i=5\n",
    "a=1\n",
    "while a<=i:\n",
    "    b=1\n",
    "    while b<=a:\n",
    "        if (a+b)%2==0:\n",
    "            print(\"0\",end=\" \")\n",
    "        else:\n",
    "            print(\"1\",end=\" \")\n",
    "        b+=1\n",
    "    print()\n",
    "    a+=1\n",
    "    \n",
    "                  "
   ]
  },
  {
   "cell_type": "code",
   "execution_count": null,
   "id": "ee224bdd-c76c-4f25-89ff-c37025ac9c8a",
   "metadata": {},
   "outputs": [],
   "source": [
    "row=5\n",
    "a=1\n",
    "while a<=row:\n",
    "    b=1\n",
    "    while b<=a:\n",
    "        print(b*2,end=\" \")\n",
    "        b+=1\n",
    "    print()\n",
    "    a+=1"
   ]
  },
  {
   "cell_type": "code",
   "execution_count": null,
   "id": "41e24aae-b13c-4b02-a68a-21b251c89fa0",
   "metadata": {},
   "outputs": [],
   "source": [
    "i=15\n",
    "a=1\n",
    "while a<=i:\n",
    "    b=1\n",
    "    while b==a+1:\n",
    "        print(b,end=\" \")\n",
    "        b+=1\n",
    "    print(\n",
    "    a+=1\n",
    "    "
   ]
  },
  {
   "cell_type": "code",
   "execution_count": 15,
   "id": "37fa4b41-ea3f-4ef8-87fa-cd36ab9d1d36",
   "metadata": {},
   "outputs": [
    {
     "name": "stdout",
     "output_type": "stream",
     "text": [
      "  *\n",
      " ***\n",
      "*****\n",
      " ***\n",
      "  *\n"
     ]
    }
   ],
   "source": [
    "row=3\n",
    "i=1\n",
    "while i<=row:\n",
    "    spaces=row-i\n",
    "    stars=2*i-1\n",
    "    print(\" \" * spaces + \"*\" * stars)\n",
    "    i+=1\n",
    "\n",
    "i=row-1\n",
    "while i>=1:\n",
    "    spaces=row-i\n",
    "    stars=2*i-1\n",
    "    print(\" \"*spaces + \"*\" * stars)\n",
    "    i-=1"
   ]
  },
  {
   "cell_type": "code",
   "execution_count": null,
   "id": "c148c39a-05b5-48d8-a039-7107709779e3",
   "metadata": {},
   "outputs": [],
   "source": []
  }
 ],
 "metadata": {
  "kernelspec": {
   "display_name": "Python 3 (ipykernel)",
   "language": "python",
   "name": "python3"
  },
  "language_info": {
   "codemirror_mode": {
    "name": "ipython",
    "version": 3
   },
   "file_extension": ".py",
   "mimetype": "text/x-python",
   "name": "python",
   "nbconvert_exporter": "python",
   "pygments_lexer": "ipython3",
   "version": "3.12.7"
  }
 },
 "nbformat": 4,
 "nbformat_minor": 5
}
