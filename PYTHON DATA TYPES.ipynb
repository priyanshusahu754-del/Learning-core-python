{
 "cells": [
  {
   "cell_type": "markdown",
   "id": "e0ce9efb-82a6-426a-bdc3-3c9f7fe39bb2",
   "metadata": {},
   "source": [
    "# CORE DATA TYPES IN PYTHON"
   ]
  },
  {
   "cell_type": "markdown",
   "id": "15d45a4d-6f9c-4108-ba8a-35d9f9de93cd",
   "metadata": {},
   "source": [
    "### MUTABLE D.T (LIST , DICT , SETS )\n",
    "- Data types in python wher the value assigned to a variable can be changed but memory adress never changes some mutable data types in python include set ,  list , user defned classy and dictionary "
   ]
  },
  {
   "cell_type": "markdown",
   "id": "efee5669-ae05-48f7-9627-6f2e9278b7e8",
   "metadata": {},
   "source": [
    "### IMMUTABLE D.T (COMPLEX NO , TUPLES , FLOAT , INTEGER , STRING)\n",
    "- data types in python where the value assigned to a variable cannot br changed some immutale data types are INT , FLOAT , TUPLES BOOLEAN , RANGE AND STRING "
   ]
  },
  {
   "cell_type": "markdown",
   "id": "3bcf3295-6a0c-47a6-b714-873e26048586",
   "metadata": {},
   "source": [
    "### PYTHON LIST (MUTABLE/UNHASABLE/SEQUENCE DATA TYPES)\n",
    "##### PROPERTIES OF LIST \n",
    "- mutable: the element of list can be modified we  can remove or add items to the list after it has been created (under particular operational condition)\n",
    "- ordered: the items in the list are ordered each item has a unique index value the new item will be added to the end of the list(under particular operational condition)\n",
    "- heterogenous: the list csn contain different kind of element i.e they can contain elememt of string int boolean or any type(under particular operational condition)\n",
    "- duplicates: the list can contain duplicate i.e list can have two items with the same value(under particular operational condition)\n",
    "- iterable: python an iterable refer to an object that can be iterted over , meaning you can loop through its element one by one (under particular operational condition)  "
   ]
  },
  {
   "cell_type": "code",
   "execution_count": 9,
   "id": "dda30749-7247-4c79-bff7-1234594e3bc0",
   "metadata": {},
   "outputs": [],
   "source": [
    "my_list=[2,3,4,5,6,7,8]"
   ]
  },
  {
   "cell_type": "code",
   "execution_count": 10,
   "id": "3a358839-7a64-4dee-9b52-51fd1e25a4f5",
   "metadata": {},
   "outputs": [
    {
     "data": {
      "text/plain": [
       "[2, 3, 4, 5]"
      ]
     },
     "execution_count": 10,
     "metadata": {},
     "output_type": "execute_result"
    }
   ],
   "source": [
    "my_list[0:4]"
   ]
  },
  {
   "cell_type": "code",
   "execution_count": 11,
   "id": "045c2bd1-8a33-42ab-bab4-514c4eef10c2",
   "metadata": {},
   "outputs": [
    {
     "data": {
      "text/plain": [
       "5"
      ]
     },
     "execution_count": 11,
     "metadata": {},
     "output_type": "execute_result"
    }
   ],
   "source": [
    "my_list[3]"
   ]
  },
  {
   "cell_type": "code",
   "execution_count": 12,
   "id": "7ad8b419-3b46-41f5-ac0e-d96c109b18d6",
   "metadata": {},
   "outputs": [
    {
     "data": {
      "text/plain": [
       "[3, 4, 5, 6, 7]"
      ]
     },
     "execution_count": 12,
     "metadata": {},
     "output_type": "execute_result"
    }
   ],
   "source": [
    "my_list[1:6]"
   ]
  },
  {
   "cell_type": "code",
   "execution_count": 13,
   "id": "22a591f0-b4be-4bdd-a01d-eb08376fd8c0",
   "metadata": {},
   "outputs": [
    {
     "data": {
      "text/plain": [
       "7"
      ]
     },
     "execution_count": 13,
     "metadata": {},
     "output_type": "execute_result"
    }
   ],
   "source": [
    "len(my_list)"
   ]
  },
  {
   "cell_type": "code",
   "execution_count": 1,
   "id": "163c770f-c34b-436b-92c6-d2e56d540889",
   "metadata": {},
   "outputs": [],
   "source": [
    "x=[1,2,3,4,6,7,8,9]"
   ]
  },
  {
   "cell_type": "code",
   "execution_count": 2,
   "id": "7c4434ef-7b95-46fe-9c2d-3a934104acd0",
   "metadata": {},
   "outputs": [
    {
     "name": "stdout",
     "output_type": "stream",
     "text": [
      "2086566525312\n"
     ]
    }
   ],
   "source": [
    "print(id(x))"
   ]
  },
  {
   "cell_type": "code",
   "execution_count": 3,
   "id": "e899acba-cfda-4259-9a5b-b758e28dfa21",
   "metadata": {},
   "outputs": [],
   "source": [
    "x=[1,2,3,4,7,8,9]"
   ]
  },
  {
   "cell_type": "code",
   "execution_count": 4,
   "id": "43878cc2-62bb-4696-891c-7515a560f088",
   "metadata": {},
   "outputs": [
    {
     "name": "stdout",
     "output_type": "stream",
     "text": [
      "2086566512192\n"
     ]
    }
   ],
   "source": [
    "print(id(x))"
   ]
  },
  {
   "cell_type": "code",
   "execution_count": 6,
   "id": "dba93c00-5cae-4ab1-94cc-ae84f7789bef",
   "metadata": {},
   "outputs": [],
   "source": [
    "shyam=[1,2,3,4,6,7,8,9]"
   ]
  },
  {
   "cell_type": "code",
   "execution_count": 7,
   "id": "e9363a9d-be1e-4e19-96b0-b6f19e5580ba",
   "metadata": {},
   "outputs": [
    {
     "data": {
      "text/plain": [
       "2086566566976"
      ]
     },
     "execution_count": 7,
     "metadata": {},
     "output_type": "execute_result"
    }
   ],
   "source": [
    "id(shyam)"
   ]
  },
  {
   "cell_type": "code",
   "execution_count": 8,
   "id": "b85d3b07-c627-4d24-aadc-187a96341876",
   "metadata": {},
   "outputs": [
    {
     "data": {
      "text/plain": [
       "False"
      ]
     },
     "execution_count": 8,
     "metadata": {},
     "output_type": "execute_result"
    }
   ],
   "source": [
    "x is shyam "
   ]
  },
  {
   "cell_type": "code",
   "execution_count": 9,
   "id": "be4b092f-3f5b-4db5-8abf-5000a537e231",
   "metadata": {},
   "outputs": [
    {
     "data": {
      "text/plain": [
       "True"
      ]
     },
     "execution_count": 9,
     "metadata": {},
     "output_type": "execute_result"
    }
   ],
   "source": [
    "x is not shyam "
   ]
  },
  {
   "cell_type": "code",
   "execution_count": 13,
   "id": "7f0845b4-fcdc-40ae-aa16-9604d20d55fd",
   "metadata": {},
   "outputs": [],
   "source": [
    "my_list=[[1,2,3],{3,5,9},2.5,(3,4,7)]"
   ]
  },
  {
   "cell_type": "code",
   "execution_count": 14,
   "id": "2c83d1a3-9b43-4c38-a942-2ba9830e97b7",
   "metadata": {},
   "outputs": [
    {
     "name": "stdout",
     "output_type": "stream",
     "text": [
      "[[1, 2, 3], {9, 3, 5}, 2.5, (3, 4, 7)]\n"
     ]
    }
   ],
   "source": [
    "print(my_list)"
   ]
  },
  {
   "cell_type": "code",
   "execution_count": 19,
   "id": "075a2bea-4828-477e-90de-715e22e6c588",
   "metadata": {},
   "outputs": [],
   "source": [
    "my_list=[[1,2,3],{3,5,9},2.5,(3,4,7),95,95,95,95,95,95,95,95,95,[1,2,9],[1,2,9],(\"ayush\"),(\"priyanshu\")]"
   ]
  },
  {
   "cell_type": "code",
   "execution_count": 20,
   "id": "06cbdba6-dd79-4ff2-9568-684d2656dd34",
   "metadata": {},
   "outputs": [
    {
     "name": "stdout",
     "output_type": "stream",
     "text": [
      "[[1, 2, 3], {9, 3, 5}, 2.5, (3, 4, 7), 95, 95, 95, 95, 95, 95, 95, 95, 95, [1, 2, 9], [1, 2, 9], 'ayush', 'priyanshu']\n"
     ]
    }
   ],
   "source": [
    "print(my_list)"
   ]
  },
  {
   "cell_type": "code",
   "execution_count": 23,
   "id": "d4a6c726-1899-4769-9826-8ead04fae053",
   "metadata": {},
   "outputs": [],
   "source": [
    "set1={2,3,5,3,9}"
   ]
  },
  {
   "cell_type": "code",
   "execution_count": 26,
   "id": "6c8b968d-842c-418c-aeb6-dcca6b321538",
   "metadata": {},
   "outputs": [
    {
     "name": "stdout",
     "output_type": "stream",
     "text": [
      "{9, 2, 3, 5}\n"
     ]
    }
   ],
   "source": [
    "print(set1)"
   ]
  },
  {
   "cell_type": "markdown",
   "id": "8967669d-a78b-4b39-baa6-9bd83e65a42c",
   "metadata": {},
   "source": [
    "# CREATING A PYTHON LIST"
   ]
  },
  {
   "cell_type": "markdown",
   "id": "5dd1d4cd-8592-4eb4-b1d9-4d4f39022977",
   "metadata": {},
   "source": [
    "THIS LIST CAN BE CREATED EITHER THE LIST CONSTRUCTOR OR USING SQUARE BRACKET.\n",
    "- USING   list() CONSTRUCTOR IN GENERAL THE CONSTRUCTOR OF A CLASS HAS ITS CLASS NAME SIMILARLY CRETE A LIST BY PASSING THE COMMON SEPARATED VALUES INSIDE THE LIST()\n",
    "- USING SQUARE BRACKET[]: IN THIS METHOD WE CREATE A LIST SIMPLY BY ENCLOSING THE ITEMS INSIDE THE SQUARE BRACKET"
   ]
  },
  {
   "cell_type": "code",
   "execution_count": 27,
   "id": "8f9e387b-eba5-4e89-82ad-5dbdb76b7875",
   "metadata": {},
   "outputs": [],
   "source": [
    "# ITERABLE DATA TYPE \n",
    "list1=[1,7,90]\n",
    "tuple1=(1,6,8,90)\n",
    "set1={2,7,90,67}\n",
    "str1='aditya'"
   ]
  },
  {
   "cell_type": "code",
   "execution_count": 28,
   "id": "2131ce4c-2bda-4d73-8bdf-e83e15495a0d",
   "metadata": {},
   "outputs": [],
   "source": [
    "my_list=([1,7,90],(1,6,8,90),{2,7,90,67},'aditya')"
   ]
  },
  {
   "cell_type": "code",
   "execution_count": 37,
   "id": "6e97fee7-a080-49d8-ac0d-8eb78cb21cca",
   "metadata": {},
   "outputs": [
    {
     "name": "stdout",
     "output_type": "stream",
     "text": [
      "list[1, 3, 5, 7, 9]\n"
     ]
    }
   ],
   "source": [
    "list2=list[(1,3,5,7,9)]\n",
    "print(list2)"
   ]
  },
  {
   "cell_type": "code",
   "execution_count": 36,
   "id": "e85d4d2b-f194-4a5f-bb25-0e45d7ecefe2",
   "metadata": {},
   "outputs": [
    {
     "name": "stdout",
     "output_type": "stream",
     "text": [
      "[1, 3, 5, 7, 9]\n"
     ]
    }
   ],
   "source": [
    "list2=list((1,3,5,7,9))\n",
    "print(list2)"
   ]
  },
  {
   "cell_type": "code",
   "execution_count": 35,
   "id": "2bed01a1-9e06-4649-8485-bf05ed8f0eed",
   "metadata": {},
   "outputs": [
    {
     "name": "stdout",
     "output_type": "stream",
     "text": [
      "[1, 3, 5, 7, 9]\n"
     ]
    }
   ],
   "source": [
    "list2=list({1,3,5,7,9})\n",
    "print(list2)"
   ]
  },
  {
   "cell_type": "code",
   "execution_count": 34,
   "id": "1c2b1af9-0c07-46a4-90ae-9ea99f77aa98",
   "metadata": {},
   "outputs": [
    {
     "name": "stdout",
     "output_type": "stream",
     "text": [
      "['1', ',', '3', ',', '5', ',', '7', ',', '9']\n"
     ]
    }
   ],
   "source": [
    "list2=list(('1,3,5,7,9'))\n",
    "print(list2)"
   ]
  },
  {
   "cell_type": "code",
   "execution_count": 1,
   "id": "6d1c090b-b1c6-45a4-9b61-5ae81ff8217b",
   "metadata": {},
   "outputs": [],
   "source": [
    "tuple=(2,4,6,8,10,12)"
   ]
  },
  {
   "cell_type": "code",
   "execution_count": 2,
   "id": "6fe6fde9-857e-439e-9665-0d60388eee7b",
   "metadata": {},
   "outputs": [
    {
     "name": "stdout",
     "output_type": "stream",
     "text": [
      "[2, 4, 6, 8, 10, 12]\n"
     ]
    }
   ],
   "source": [
    "list3=list((2,4,6,8,10,12))\n",
    "print(list3)"
   ]
  },
  {
   "cell_type": "code",
   "execution_count": 3,
   "id": "40c4efc1-c98b-42d8-9647-51c273796987",
   "metadata": {},
   "outputs": [
    {
     "name": "stdout",
     "output_type": "stream",
     "text": [
      "['a', 'a', 'y', 'u', 's', 'h']\n"
     ]
    }
   ],
   "source": [
    "str1='aayush'\n",
    "list4=list(('aayush'))\n",
    "print(list4)"
   ]
  },
  {
   "cell_type": "code",
   "execution_count": 7,
   "id": "b50e34c3-532c-4162-93c1-ca2dd96db944",
   "metadata": {},
   "outputs": [
    {
     "name": "stdout",
     "output_type": "stream",
     "text": [
      "['aayush']\n"
     ]
    }
   ],
   "source": [
    "list5=list(['aayush'])\n",
    "print(list5)"
   ]
  },
  {
   "cell_type": "code",
   "execution_count": 1,
   "id": "d47130a9-0f00-4d98-9fa3-e43a78783cff",
   "metadata": {},
   "outputs": [],
   "source": [
    "a=\"aayush\""
   ]
  },
  {
   "cell_type": "code",
   "execution_count": 5,
   "id": "6f6109d9-3703-4e33-9a9a-0652beb3e584",
   "metadata": {},
   "outputs": [
    {
     "data": {
      "text/plain": [
       "'s'"
      ]
     },
     "execution_count": 5,
     "metadata": {},
     "output_type": "execute_result"
    }
   ],
   "source": [
    "a[-2]"
   ]
  },
  {
   "cell_type": "code",
   "execution_count": 7,
   "id": "34ab7fbe-ad74-412c-8c1d-48915fb73090",
   "metadata": {},
   "outputs": [
    {
     "data": {
      "text/plain": [
       "'h'"
      ]
     },
     "execution_count": 7,
     "metadata": {},
     "output_type": "execute_result"
    }
   ],
   "source": [
    "a[5]"
   ]
  },
  {
   "cell_type": "code",
   "execution_count": 8,
   "id": "78ec87fb-6b4b-48b9-8cd4-6c9d01e18e26",
   "metadata": {},
   "outputs": [
    {
     "data": {
      "text/plain": [
       "'aayu'"
      ]
     },
     "execution_count": 8,
     "metadata": {},
     "output_type": "execute_result"
    }
   ],
   "source": [
    "a[0:4]"
   ]
  },
  {
   "cell_type": "code",
   "execution_count": 9,
   "id": "6504c5c4-d9ea-4990-864a-4611adef5107",
   "metadata": {},
   "outputs": [
    {
     "data": {
      "text/plain": [
       "'aayus'"
      ]
     },
     "execution_count": 9,
     "metadata": {},
     "output_type": "execute_result"
    }
   ],
   "source": [
    "a[0:5]"
   ]
  },
  {
   "cell_type": "code",
   "execution_count": 2,
   "id": "038a6405-c8d1-41e3-a8d8-d576c21bf9ae",
   "metadata": {},
   "outputs": [],
   "source": [
    "list=[2,4,8,9]"
   ]
  },
  {
   "cell_type": "code",
   "execution_count": 3,
   "id": "e32cb2c3-fe87-4e9a-b049-dc9832f79de5",
   "metadata": {},
   "outputs": [
    {
     "data": {
      "text/plain": [
       "2"
      ]
     },
     "execution_count": 3,
     "metadata": {},
     "output_type": "execute_result"
    }
   ],
   "source": [
    "list[0]"
   ]
  },
  {
   "cell_type": "code",
   "execution_count": 28,
   "id": "ff7087b0-9af7-47fd-8283-a2044d18131d",
   "metadata": {},
   "outputs": [
    {
     "data": {
      "text/plain": [
       "[2, 4]"
      ]
     },
     "execution_count": 28,
     "metadata": {},
     "output_type": "execute_result"
    }
   ],
   "source": [
    "list[0:2]"
   ]
  },
  {
   "cell_type": "code",
   "execution_count": 37,
   "id": "839c987f-2787-447a-8aa4-abafafd03a65",
   "metadata": {},
   "outputs": [
    {
     "data": {
      "text/plain": [
       "6"
      ]
     },
     "execution_count": 37,
     "metadata": {},
     "output_type": "execute_result"
    }
   ],
   "source": [
    "list[0]+list[1]"
   ]
  },
  {
   "cell_type": "code",
   "execution_count": 35,
   "id": "2a53009f-6e8d-484b-ad1d-ded2ee78b758",
   "metadata": {},
   "outputs": [
    {
     "data": {
      "text/plain": [
       "24"
      ]
     },
     "execution_count": 35,
     "metadata": {},
     "output_type": "execute_result"
    }
   ],
   "source": [
    "list[2]*3"
   ]
  },
  {
   "cell_type": "code",
   "execution_count": 48,
   "id": "4d097862-576d-4b06-8cf3-190b9189c4ed",
   "metadata": {},
   "outputs": [
    {
     "data": {
      "text/plain": [
       "[2, 4]"
      ]
     },
     "execution_count": 48,
     "metadata": {},
     "output_type": "execute_result"
    }
   ],
   "source": [
    "(list[0:2])\n"
   ]
  },
  {
   "cell_type": "code",
   "execution_count": 52,
   "id": "b17a1c48-cf0e-45fa-aa60-ca352ef6db3d",
   "metadata": {},
   "outputs": [
    {
     "data": {
      "text/plain": [
       "'01'"
      ]
     },
     "execution_count": 52,
     "metadata": {},
     "output_type": "execute_result"
    }
   ],
   "source": [
    "'0'+'1'"
   ]
  },
  {
   "cell_type": "code",
   "execution_count": 59,
   "id": "b51b725c-3371-4347-91b6-b8ce17e23a62",
   "metadata": {},
   "outputs": [
    {
     "data": {
      "text/plain": [
       "'[2, 4, 8, 9]'"
      ]
     },
     "execution_count": 59,
     "metadata": {},
     "output_type": "execute_result"
    }
   ],
   "source": [
    "str(list)"
   ]
  },
  {
   "cell_type": "code",
   "execution_count": 62,
   "id": "38d8cdd1-8fb7-434b-8e19-f3b5ad3718ee",
   "metadata": {},
   "outputs": [
    {
     "data": {
      "text/plain": [
       "'24'"
      ]
     },
     "execution_count": 62,
     "metadata": {},
     "output_type": "execute_result"
    }
   ],
   "source": [
    "str(list[0])+str(list[1])"
   ]
  },
  {
   "cell_type": "code",
   "execution_count": 63,
   "id": "6d916f6f-4a9b-40aa-86ce-220c2c57aaec",
   "metadata": {},
   "outputs": [
    {
     "data": {
      "text/plain": [
       "24"
      ]
     },
     "execution_count": 63,
     "metadata": {},
     "output_type": "execute_result"
    }
   ],
   "source": [
    "int(str(list[0])+str(list[1]))"
   ]
  },
  {
   "cell_type": "code",
   "execution_count": 65,
   "id": "f0d10249-a4aa-4386-b870-18b773c2ed1e",
   "metadata": {},
   "outputs": [
    {
     "data": {
      "text/plain": [
       "set[24]"
      ]
     },
     "execution_count": 65,
     "metadata": {},
     "output_type": "execute_result"
    }
   ],
   "source": [
    "set[int(str(list[0])+str(list[1]))]"
   ]
  },
  {
   "cell_type": "markdown",
   "id": "1224fc85-aeee-441b-be1d-98c6630c154e",
   "metadata": {},
   "source": [
    "# concatenation "
   ]
  },
  {
   "cell_type": "code",
   "execution_count": 71,
   "id": "93c2988c-0b34-455b-a69e-f10a7e610ffe",
   "metadata": {},
   "outputs": [
    {
     "data": {
      "text/plain": [
       "[1, 2, 3, 4, 5, 6, 7, 8]"
      ]
     },
     "execution_count": 71,
     "metadata": {},
     "output_type": "execute_result"
    }
   ],
   "source": [
    "list1=[1,2]\n",
    "list2=[3,4]\n",
    "list3=[5,6]\n",
    "list4=[7,8]\n",
    "list1+list2+list3+list4"
   ]
  },
  {
   "cell_type": "code",
   "execution_count": 106,
   "id": "4b207cfd-1f15-49cc-ada4-4d0b931c6fe2",
   "metadata": {},
   "outputs": [],
   "source": [
    "my_list=[2,4,9,8]"
   ]
  },
  {
   "cell_type": "code",
   "execution_count": 107,
   "id": "af03b7c6-76d3-4d2b-872c-ad5a035bcef3",
   "metadata": {},
   "outputs": [
    {
     "data": {
      "text/plain": [
       "1575553196800"
      ]
     },
     "execution_count": 107,
     "metadata": {},
     "output_type": "execute_result"
    }
   ],
   "source": [
    "id(my_list)"
   ]
  },
  {
   "cell_type": "code",
   "execution_count": 19,
   "id": "86962a61-8494-44f5-bf73-1e7eb42a0dcc",
   "metadata": {},
   "outputs": [
    {
     "ename": "NameError",
     "evalue": "name 'my_list' is not defined",
     "output_type": "error",
     "traceback": [
      "\u001b[1;31m---------------------------------------------------------------------------\u001b[0m",
      "\u001b[1;31mNameError\u001b[0m                                 Traceback (most recent call last)",
      "Cell \u001b[1;32mIn[19], line 1\u001b[0m\n\u001b[1;32m----> 1\u001b[0m \u001b[38;5;28mlist\u001b[39m\u001b[38;5;241m=\u001b[39mmy_list[ : :\u001b[38;5;241m-\u001b[39m\u001b[38;5;241m1\u001b[39m]\n",
      "\u001b[1;31mNameError\u001b[0m: name 'my_list' is not defined"
     ]
    }
   ],
   "source": [
    "list = my_list[ : :-1]"
   ]
  },
  {
   "cell_type": "code",
   "execution_count": 113,
   "id": "c1741b9b-e424-43d6-9e7e-552e27ffa82a",
   "metadata": {},
   "outputs": [
    {
     "data": {
      "text/plain": [
       "1575553196800"
      ]
     },
     "execution_count": 113,
     "metadata": {},
     "output_type": "execute_result"
    }
   ],
   "source": [
    "id(my_list)"
   ]
  },
  {
   "cell_type": "code",
   "execution_count": 8,
   "id": "992c929c-b425-4b9d-8692-ce8a605d966a",
   "metadata": {},
   "outputs": [],
   "source": [
    "list=[9,5,15,19]"
   ]
  },
  {
   "cell_type": "code",
   "execution_count": 9,
   "id": "5d10c532-7f02-442c-85ac-c59befebcee2",
   "metadata": {},
   "outputs": [
    {
     "data": {
      "text/plain": [
       "9"
      ]
     },
     "execution_count": 9,
     "metadata": {},
     "output_type": "execute_result"
    }
   ],
   "source": [
    "list[0]"
   ]
  },
  {
   "cell_type": "code",
   "execution_count": 10,
   "id": "e441cd6c-2522-4ba2-83b1-fe2b54e0602c",
   "metadata": {},
   "outputs": [
    {
     "data": {
      "text/plain": [
       "int"
      ]
     },
     "execution_count": 10,
     "metadata": {},
     "output_type": "execute_result"
    }
   ],
   "source": [
    "type(list[0])"
   ]
  },
  {
   "cell_type": "code",
   "execution_count": 1,
   "id": "edd7c9d9-88df-42d9-b2d8-c862eb5a7d3c",
   "metadata": {},
   "outputs": [],
   "source": [
    "list1=[1,2,7,9]"
   ]
  },
  {
   "cell_type": "code",
   "execution_count": 2,
   "id": "8e40feb5-deab-41af-98c4-19d2d61e43da",
   "metadata": {},
   "outputs": [
    {
     "data": {
      "text/plain": [
       "1"
      ]
     },
     "execution_count": 2,
     "metadata": {},
     "output_type": "execute_result"
    }
   ],
   "source": [
    "list1[0]"
   ]
  },
  {
   "cell_type": "code",
   "execution_count": 3,
   "id": "9fe358d9-3e59-496a-b9bf-d0de873b4bb0",
   "metadata": {},
   "outputs": [
    {
     "ename": "TypeError",
     "evalue": "'int' object is not iterable",
     "output_type": "error",
     "traceback": [
      "\u001b[1;31m---------------------------------------------------------------------------\u001b[0m",
      "\u001b[1;31mTypeError\u001b[0m                                 Traceback (most recent call last)",
      "Cell \u001b[1;32mIn[3], line 1\u001b[0m\n\u001b[1;32m----> 1\u001b[0m \u001b[38;5;28mlist\u001b[39m(list1[\u001b[38;5;241m0\u001b[39m])\n",
      "\u001b[1;31mTypeError\u001b[0m: 'int' object is not iterable"
     ]
    }
   ],
   "source": [
    "list(list1[0])"
   ]
  },
  {
   "cell_type": "code",
   "execution_count": 4,
   "id": "12d8423f-031f-4a7c-9f01-278f93f430fd",
   "metadata": {},
   "outputs": [
    {
     "ename": "TypeError",
     "evalue": "'list' object is not callable",
     "output_type": "error",
     "traceback": [
      "\u001b[1;31m---------------------------------------------------------------------------\u001b[0m",
      "\u001b[1;31mTypeError\u001b[0m                                 Traceback (most recent call last)",
      "Cell \u001b[1;32mIn[4], line 1\u001b[0m\n\u001b[1;32m----> 1\u001b[0m list1(\u001b[38;5;241m1\u001b[39m)\n",
      "\u001b[1;31mTypeError\u001b[0m: 'list' object is not callable"
     ]
    }
   ],
   "source": [
    "list1(1)"
   ]
  },
  {
   "cell_type": "markdown",
   "id": "db15782f-dfc5-44dd-8149-8295c0153fde",
   "metadata": {},
   "source": [
    "### we cannot make an integer a list because integer is not iterable \n",
    "### list is iterable \n",
    "### we can make list of all these data type which are iterable (eg tuple string and set and dic)\n",
    "### int,complex no are not iterable ,so we cannot change them into list by the help of list "
   ]
  },
  {
   "cell_type": "code",
   "execution_count": 9,
   "id": "f793bc01-5b3e-489c-a858-c4e1799322e7",
   "metadata": {},
   "outputs": [],
   "source": [
    "int1=2,5"
   ]
  },
  {
   "cell_type": "code",
   "execution_count": 10,
   "id": "945ccaf7-0642-4a9a-9831-dda2241ad545",
   "metadata": {},
   "outputs": [
    {
     "data": {
      "text/plain": [
       "[2, 5]"
      ]
     },
     "execution_count": 10,
     "metadata": {},
     "output_type": "execute_result"
    }
   ],
   "source": [
    "list(int1)"
   ]
  },
  {
   "cell_type": "code",
   "execution_count": 11,
   "id": "f1a152c9-bdcf-4dd6-ba32-032489e11254",
   "metadata": {},
   "outputs": [
    {
     "data": {
      "text/plain": [
       "list"
      ]
     },
     "execution_count": 11,
     "metadata": {},
     "output_type": "execute_result"
    }
   ],
   "source": [
    "type(list(int1))"
   ]
  },
  {
   "cell_type": "code",
   "execution_count": 12,
   "id": "195e681e-4c7c-4707-b999-aa61c6866e54",
   "metadata": {},
   "outputs": [
    {
     "data": {
      "text/plain": [
       "tuple"
      ]
     },
     "execution_count": 12,
     "metadata": {},
     "output_type": "execute_result"
    }
   ],
   "source": [
    "type(int1)"
   ]
  },
  {
   "cell_type": "code",
   "execution_count": 13,
   "id": "5ca1238e-9077-4881-ab62-d7392c118cb2",
   "metadata": {},
   "outputs": [
    {
     "data": {
      "text/plain": [
       "[2, 5]"
      ]
     },
     "execution_count": 13,
     "metadata": {},
     "output_type": "execute_result"
    }
   ],
   "source": [
    "int=25\n",
    "list(int1)"
   ]
  },
  {
   "cell_type": "code",
   "execution_count": 14,
   "id": "6a4c090f-aa61-4f61-838e-5ffc8552148a",
   "metadata": {},
   "outputs": [],
   "source": [
    "int2=(29)"
   ]
  },
  {
   "cell_type": "code",
   "execution_count": 15,
   "id": "9c6f2276-8664-4330-8ee8-fb6da46c2f23",
   "metadata": {},
   "outputs": [
    {
     "data": {
      "text/plain": [
       "int"
      ]
     },
     "execution_count": 15,
     "metadata": {},
     "output_type": "execute_result"
    }
   ],
   "source": [
    "type(int2)"
   ]
  },
  {
   "cell_type": "code",
   "execution_count": 16,
   "id": "fb2204cd-3917-46d3-83da-8665f781a4ac",
   "metadata": {},
   "outputs": [],
   "source": [
    "int2=2,9"
   ]
  },
  {
   "cell_type": "code",
   "execution_count": 17,
   "id": "24283bc3-3481-4fc5-bc4c-182c808f404d",
   "metadata": {},
   "outputs": [
    {
     "data": {
      "text/plain": [
       "tuple"
      ]
     },
     "execution_count": 17,
     "metadata": {},
     "output_type": "execute_result"
    }
   ],
   "source": [
    "type(int2)"
   ]
  },
  {
   "cell_type": "code",
   "execution_count": 22,
   "id": "b282e534-9911-4b37-98e1-f1e5ba485eb9",
   "metadata": {},
   "outputs": [
    {
     "name": "stdout",
     "output_type": "stream",
     "text": [
      "list[slice(None, None, -1)]\n",
      "3057505190592\n"
     ]
    }
   ],
   "source": [
    "list1=[1,4,6,9]\n",
    "my_list2=list[ : :-1]    # slicing always give a new list \n",
    "print(my_list2)\n",
    "print(id(list1))"
   ]
  },
  {
   "cell_type": "code",
   "execution_count": 23,
   "id": "cb93e2e3-7f30-463d-a777-9ae62496b1fe",
   "metadata": {},
   "outputs": [
    {
     "data": {
      "text/plain": [
       "3057505279472"
      ]
     },
     "execution_count": 23,
     "metadata": {},
     "output_type": "execute_result"
    }
   ],
   "source": [
    "id(my_list2)"
   ]
  },
  {
   "cell_type": "code",
   "execution_count": 26,
   "id": "ac7a33f6-e25f-46fe-bf36-18cf700c05b6",
   "metadata": {},
   "outputs": [
    {
     "data": {
      "text/plain": [
       "[2]"
      ]
     },
     "execution_count": 26,
     "metadata": {},
     "output_type": "execute_result"
    }
   ],
   "source": [
    "list6=[[2],5,9]\n",
    "list(list6[0])   # list constructor can contain only one argument and it should be iterable  "
   ]
  },
  {
   "cell_type": "code",
   "execution_count": 25,
   "id": "4952a464-6571-4dfd-9b9d-ab990f5a2950",
   "metadata": {},
   "outputs": [],
   "source": [
    "list8=[[12,7,8,9],8,3]"
   ]
  },
  {
   "cell_type": "code",
   "execution_count": 28,
   "id": "396c523a-6041-4427-ad85-d1ec0ce7f553",
   "metadata": {},
   "outputs": [
    {
     "data": {
      "text/plain": [
       "[12, 7, 8, 9]"
      ]
     },
     "execution_count": 28,
     "metadata": {},
     "output_type": "execute_result"
    }
   ],
   "source": [
    "list(list8[0])"
   ]
  },
  {
   "cell_type": "code",
   "execution_count": 25,
   "id": "3b9fb532-1f23-4496-9a42-ff04d3271748",
   "metadata": {},
   "outputs": [],
   "source": [
    "list3=[1,3,6,7]"
   ]
  },
  {
   "cell_type": "code",
   "execution_count": 29,
   "id": "52b59e50-0d5c-497c-a2d7-fc5c1e33eb38",
   "metadata": {},
   "outputs": [
    {
     "name": "stdout",
     "output_type": "stream",
     "text": [
      "[1, 3, 6, 7, 9, 9, 9, 9]\n"
     ]
    }
   ],
   "source": [
    "list3.append(9)\n",
    "print(list3)"
   ]
  },
  {
   "cell_type": "code",
   "execution_count": 30,
   "id": "64141a36-02d6-4248-afbf-0c0947f324cf",
   "metadata": {
    "scrolled": true
   },
   "outputs": [
    {
     "name": "stdout",
     "output_type": "stream",
     "text": [
      "[1, 3, 6, 7, 9, 9, 9, 9, [29]]\n"
     ]
    }
   ],
   "source": [
    "list3.append([29])\n",
    "print(list3)"
   ]
  },
  {
   "cell_type": "code",
   "execution_count": 31,
   "id": "703c4b93-cde7-48e5-b683-c670b37d4f41",
   "metadata": {},
   "outputs": [
    {
     "name": "stdout",
     "output_type": "stream",
     "text": [
      "[1, 3, 6, 7, 9, 9, 9, 9, [29], {35, 46}]\n"
     ]
    }
   ],
   "source": [
    "list3.append({35,46})\n",
    "print(list3)"
   ]
  },
  {
   "cell_type": "code",
   "execution_count": 32,
   "id": "dc3a2027-7acb-466e-ab25-327d51201f72",
   "metadata": {},
   "outputs": [
    {
     "name": "stdout",
     "output_type": "stream",
     "text": [
      "[1, 3, 6, 7, 9, 9, 9, 9, [29], {35, 46}, '24,37,48']\n"
     ]
    }
   ],
   "source": [
    "list3.append('24,37,48')\n",
    "print(list3)"
   ]
  },
  {
   "cell_type": "code",
   "execution_count": 33,
   "id": "833cce07-585c-43d6-aad6-4336c136bd8b",
   "metadata": {},
   "outputs": [
    {
     "ename": "TypeError",
     "evalue": "'int' object is not iterable",
     "output_type": "error",
     "traceback": [
      "\u001b[1;31m---------------------------------------------------------------------------\u001b[0m",
      "\u001b[1;31mTypeError\u001b[0m                                 Traceback (most recent call last)",
      "Cell \u001b[1;32mIn[33], line 1\u001b[0m\n\u001b[1;32m----> 1\u001b[0m list3\u001b[38;5;241m.\u001b[39mextend(\u001b[38;5;241m3\u001b[39m)\n\u001b[0;32m      2\u001b[0m \u001b[38;5;28mprint\u001b[39m(list3)\n",
      "\u001b[1;31mTypeError\u001b[0m: 'int' object is not iterable"
     ]
    }
   ],
   "source": [
    "list3.extend(3)\n",
    "print(list3)"
   ]
  },
  {
   "cell_type": "code",
   "execution_count": 35,
   "id": "6cbd16e0-2cc9-4873-859b-39bc92da8c4b",
   "metadata": {},
   "outputs": [
    {
     "name": "stdout",
     "output_type": "stream",
     "text": [
      "[1, 3, 6, 7, 9, 9, 9, 9, [29], {35, 46}, '24,37,48', 23, 23]\n"
     ]
    }
   ],
   "source": [
    "list3.extend([23])\n",
    "print(list3)                # extend will contain only iterable "
   ]
  },
  {
   "cell_type": "code",
   "execution_count": 2,
   "id": "d0070092-30a3-4400-abfe-6d0bbf8f5d97",
   "metadata": {},
   "outputs": [],
   "source": [
    "list=[1,3,4,5,6,7,8,9,0]"
   ]
  },
  {
   "cell_type": "code",
   "execution_count": 3,
   "id": "54653594-ddf2-44e2-9c3d-a8636c8d082d",
   "metadata": {},
   "outputs": [
    {
     "data": {
      "text/plain": [
       "[4]"
      ]
     },
     "execution_count": 3,
     "metadata": {},
     "output_type": "execute_result"
    }
   ],
   "source": [
    "list[2:3]"
   ]
  },
  {
   "cell_type": "code",
   "execution_count": 4,
   "id": "1faaf520-a3e4-4be5-8ba4-f462fa85b2ad",
   "metadata": {},
   "outputs": [
    {
     "data": {
      "text/plain": [
       "9"
      ]
     },
     "execution_count": 4,
     "metadata": {},
     "output_type": "execute_result"
    }
   ],
   "source": [
    "len(list)"
   ]
  },
  {
   "cell_type": "code",
   "execution_count": 9,
   "id": "f5c6a3d5-7b6e-4a07-9d3b-35a3079c31ae",
   "metadata": {},
   "outputs": [
    {
     "name": "stdout",
     "output_type": "stream",
     "text": [
      "list is not empty\n"
     ]
    }
   ],
   "source": [
    "list=[1,3,4,5,6,7,8,9,0]\n",
    "if not list:\n",
    "    print(\"my list is empty\")\n",
    "else:\n",
    "     print(\"list is not empty\")"
   ]
  },
  {
   "cell_type": "code",
   "execution_count": 10,
   "id": "646a95e9-226f-4819-b762-786e8e761e54",
   "metadata": {},
   "outputs": [],
   "source": [
    "my_list=[1,2,3,4,5,6,7,8,9]"
   ]
  },
  {
   "cell_type": "code",
   "execution_count": 13,
   "id": "b1a5e395-6b9a-429e-a3d1-8246ceee3779",
   "metadata": {},
   "outputs": [
    {
     "data": {
      "text/plain": [
       "[1, 2, 3]"
      ]
     },
     "execution_count": 13,
     "metadata": {},
     "output_type": "execute_result"
    }
   ],
   "source": [
    "my_list[0:3]"
   ]
  },
  {
   "cell_type": "code",
   "execution_count": 15,
   "id": "92759ea8-26b4-4e81-b0ba-da78a3e2347f",
   "metadata": {},
   "outputs": [
    {
     "data": {
      "text/plain": [
       "set[[1, 2, 3]]"
      ]
     },
     "execution_count": 15,
     "metadata": {},
     "output_type": "execute_result"
    }
   ],
   "source": [
    "set[my_list[0:3]]"
   ]
  },
  {
   "cell_type": "code",
   "execution_count": 19,
   "id": "232b6f14-ea79-426c-9b4e-d4dbda330a76",
   "metadata": {},
   "outputs": [
    {
     "data": {
      "text/plain": [
       "[9, 8, 7, 6, 5, 4, 3, 2, 1]"
      ]
     },
     "execution_count": 19,
     "metadata": {},
     "output_type": "execute_result"
    }
   ],
   "source": [
    "my_list[ : :-1]"
   ]
  },
  {
   "cell_type": "code",
   "execution_count": 20,
   "id": "21da4f42-7acf-40b8-9d1f-25c6782560e9",
   "metadata": {},
   "outputs": [
    {
     "ename": "SyntaxError",
     "evalue": "invalid syntax (1025795226.py, line 1)",
     "output_type": "error",
     "traceback": [
      "\u001b[1;36m  Cell \u001b[1;32mIn[20], line 1\u001b[1;36m\u001b[0m\n\u001b[1;33m    remove element\u001b[0m\n\u001b[1;37m           ^\u001b[0m\n\u001b[1;31mSyntaxError\u001b[0m\u001b[1;31m:\u001b[0m invalid syntax\n"
     ]
    }
   ],
   "source": [
    "remove element \n",
    "remove 600 from the list \n",
    "sum of all int in list"
   ]
  },
  {
   "cell_type": "code",
   "execution_count": 48,
   "id": "3a95006f-4140-4e7f-a616-0542639afa95",
   "metadata": {},
   "outputs": [],
   "source": [
    "p=[10,20,30,50,70]"
   ]
  },
  {
   "cell_type": "code",
   "execution_count": 49,
   "id": "d693a192-597c-4d33-8b80-5a422bfa3e45",
   "metadata": {},
   "outputs": [
    {
     "data": {
      "text/plain": [
       "180"
      ]
     },
     "execution_count": 49,
     "metadata": {},
     "output_type": "execute_result"
    }
   ],
   "source": [
    "sum(p)"
   ]
  },
  {
   "cell_type": "code",
   "execution_count": 50,
   "id": "cdaf5a83-c991-4c90-a13e-78812087258b",
   "metadata": {},
   "outputs": [],
   "source": [
    "p.insert(70,600)"
   ]
  },
  {
   "cell_type": "code",
   "execution_count": 51,
   "id": "036f8651-6b33-460b-bfc3-e66675b47679",
   "metadata": {},
   "outputs": [
    {
     "data": {
      "text/plain": [
       "780"
      ]
     },
     "execution_count": 51,
     "metadata": {},
     "output_type": "execute_result"
    }
   ],
   "source": [
    "sum(p)"
   ]
  },
  {
   "cell_type": "code",
   "execution_count": 3,
   "id": "cc9f8cfe-e233-4a8b-92b2-3a60fa9c8c7a",
   "metadata": {},
   "outputs": [
    {
     "ename": "IndentationError",
     "evalue": "expected an indented block after 'for' statement on line 2 (3196194736.py, line 3)",
     "output_type": "error",
     "traceback": [
      "\u001b[1;36m  Cell \u001b[1;32mIn[3], line 3\u001b[1;36m\u001b[0m\n\u001b[1;33m    print(i)\u001b[0m\n\u001b[1;37m    ^\u001b[0m\n\u001b[1;31mIndentationError\u001b[0m\u001b[1;31m:\u001b[0m expected an indented block after 'for' statement on line 2\n"
     ]
    }
   ],
   "source": [
    "str1='priyanshu'\n",
    "for i in str1:\n",
    "print(i)"
   ]
  },
  {
   "cell_type": "code",
   "execution_count": 6,
   "id": "6e16cfcb-8fa7-4cb3-b90a-b2a7da76be70",
   "metadata": {},
   "outputs": [
    {
     "name": "stdout",
     "output_type": "stream",
     "text": [
      "p\n",
      "r\n",
      "i\n",
      "y\n",
      "a\n",
      "n\n",
      "s\n",
      "h\n",
      "u\n"
     ]
    }
   ],
   "source": [
    "str1='priyanshu'\n",
    "for i in str1:\n",
    "    print(i)\n",
    "    "
   ]
  },
  {
   "cell_type": "code",
   "execution_count": 10,
   "id": "4158930e-7822-4aa7-a5d3-ad33efeb850c",
   "metadata": {},
   "outputs": [
    {
     "name": "stdout",
     "output_type": "stream",
     "text": [
      "p\n"
     ]
    }
   ],
   "source": [
    "str1='priyanshu'\n",
    "for i in str1:\n",
    "    if i=='p':\n",
    "        print(i)\n",
    "\n",
    "    "
   ]
  },
  {
   "cell_type": "code",
   "execution_count": 11,
   "id": "a9cc7082-267b-46e1-9fe9-e1727a334745",
   "metadata": {},
   "outputs": [
    {
     "name": "stdout",
     "output_type": "stream",
     "text": [
      "a\n"
     ]
    }
   ],
   "source": [
    "str1='priyanshu'\n",
    "for i in str1:\n",
    "    if i=='a':\n",
    "        print(i)\n",
    "\n",
    "    "
   ]
  },
  {
   "cell_type": "code",
   "execution_count": 12,
   "id": "b281112f-0477-4b84-bf3a-a64bbc1d87c2",
   "metadata": {},
   "outputs": [
    {
     "ename": "TypeError",
     "evalue": "'list' is an invalid keyword argument for print()",
     "output_type": "error",
     "traceback": [
      "\u001b[1;31m---------------------------------------------------------------------------\u001b[0m",
      "\u001b[1;31mTypeError\u001b[0m                                 Traceback (most recent call last)",
      "Cell \u001b[1;32mIn[12], line 4\u001b[0m\n\u001b[0;32m      2\u001b[0m \u001b[38;5;28;01mfor\u001b[39;00m i \u001b[38;5;129;01min\u001b[39;00m str1:\n\u001b[0;32m      3\u001b[0m     \u001b[38;5;28;01mif\u001b[39;00m i\u001b[38;5;241m==\u001b[39m\u001b[38;5;124m'\u001b[39m\u001b[38;5;124ma\u001b[39m\u001b[38;5;124m'\u001b[39m:\n\u001b[1;32m----> 4\u001b[0m         \u001b[38;5;28mprint\u001b[39m(\u001b[38;5;28mlist\u001b[39m\u001b[38;5;241m=\u001b[39m[i])\n",
      "\u001b[1;31mTypeError\u001b[0m: 'list' is an invalid keyword argument for print()"
     ]
    }
   ],
   "source": [
    "str1='priyanshu'\n",
    "for i in str1:\n",
    "    if i=='a':\n",
    "        print(list=[i])\n",
    "\n",
    "    "
   ]
  },
  {
   "cell_type": "code",
   "execution_count": 13,
   "id": "c66d19f0-2742-4c17-803e-71f76fc52e94",
   "metadata": {},
   "outputs": [
    {
     "name": "stdout",
     "output_type": "stream",
     "text": [
      "['a']\n"
     ]
    }
   ],
   "source": [
    "str1='priyanshu'\n",
    "for i in str1:\n",
    "    if i=='a':\n",
    "        print([i])\n",
    "\n",
    "    "
   ]
  },
  {
   "cell_type": "code",
   "execution_count": 15,
   "id": "ba322da7-1992-499a-a0f1-9e610f611317",
   "metadata": {},
   "outputs": [
    {
     "ename": "TypeError",
     "evalue": "unsupported operand type(s) for ** or pow(): 'str' and 'int'",
     "output_type": "error",
     "traceback": [
      "\u001b[1;31m---------------------------------------------------------------------------\u001b[0m",
      "\u001b[1;31mTypeError\u001b[0m                                 Traceback (most recent call last)",
      "Cell \u001b[1;32mIn[15], line 4\u001b[0m\n\u001b[0;32m      2\u001b[0m \u001b[38;5;28;01mfor\u001b[39;00m i \u001b[38;5;129;01min\u001b[39;00m str1:\n\u001b[0;32m      3\u001b[0m     \u001b[38;5;28;01mif\u001b[39;00m i\u001b[38;5;241m==\u001b[39m\u001b[38;5;124m'\u001b[39m\u001b[38;5;124ma\u001b[39m\u001b[38;5;124m'\u001b[39m:\n\u001b[1;32m----> 4\u001b[0m         \u001b[38;5;28mprint\u001b[39m([i,i\u001b[38;5;241m*\u001b[39m\u001b[38;5;241m*\u001b[39m\u001b[38;5;241m2\u001b[39m])\n",
      "\u001b[1;31mTypeError\u001b[0m: unsupported operand type(s) for ** or pow(): 'str' and 'int'"
     ]
    }
   ],
   "source": [
    "str1='priyanshu'\n",
    "for i in str1:\n",
    "    if i=='a':\n",
    "        print([i,i**2])\n",
    "\n",
    "    "
   ]
  },
  {
   "cell_type": "code",
   "execution_count": 16,
   "id": "af71f773-5189-49f1-8649-eeaf1eeef4d9",
   "metadata": {},
   "outputs": [
    {
     "name": "stdout",
     "output_type": "stream",
     "text": [
      "['a', 'aa']\n"
     ]
    }
   ],
   "source": [
    "str1='priyanshu'\n",
    "for i in str1:\n",
    "    if i=='a':\n",
    "        print([i,i*2])\n",
    "\n",
    "    "
   ]
  },
  {
   "cell_type": "code",
   "execution_count": 17,
   "id": "02ea64fa-8ea4-42c0-8fd9-de65d4f0c408",
   "metadata": {},
   "outputs": [
    {
     "name": "stdout",
     "output_type": "stream",
     "text": [
      "['a', 'aa', 5]\n"
     ]
    }
   ],
   "source": [
    "str1='priyanshu'\n",
    "for i in str1:\n",
    "    if i=='a':\n",
    "        print([i,i*2,5])\n",
    "\n",
    "    "
   ]
  },
  {
   "cell_type": "code",
   "execution_count": 18,
   "id": "23d89d0d-50a1-4de6-9a6c-7523006129a7",
   "metadata": {},
   "outputs": [
    {
     "name": "stdout",
     "output_type": "stream",
     "text": [
      "*\n"
     ]
    }
   ],
   "source": [
    "str1='priyanshu'\n",
    "for i in str1:\n",
    "    if i=='a':\n",
    "        print('*')\n",
    "\n",
    "    "
   ]
  },
  {
   "cell_type": "code",
   "execution_count": 9,
   "id": "8eed47ba-ee06-482d-96c3-cc805d0837e1",
   "metadata": {},
   "outputs": [
    {
     "name": "stdout",
     "output_type": "stream",
     "text": [
      "*                 *\n",
      "*                 *\n",
      "*                 *\n",
      "*                 *\n",
      "*                 *\n",
      "*                 *\n",
      "*                 *\n",
      "*                 *\n",
      "*                 *\n"
     ]
    }
   ],
   "source": [
    "str1='priyanshu'\n",
    "for i in str1:\n",
    "    print('*                 *')\n",
    "        \n",
    "\n",
    "    "
   ]
  },
  {
   "cell_type": "code",
   "execution_count": 20,
   "id": "1e3ca1ae-86cb-49e9-823d-73b7836d4a0b",
   "metadata": {
    "scrolled": true
   },
   "outputs": [
    {
     "name": "stdout",
     "output_type": "stream",
     "text": [
      "p\n",
      "r\n",
      "i\n",
      "y\n",
      "a\n",
      "n\n",
      "s\n",
      "h\n",
      "u\n",
      "p\n",
      "r\n",
      "i\n",
      "y\n",
      "a\n",
      "n\n",
      "s\n",
      "h\n",
      "u\n",
      "p\n",
      "r\n",
      "i\n",
      "y\n",
      "a\n",
      "n\n",
      "s\n",
      "h\n",
      "u\n",
      "p\n",
      "r\n",
      "i\n",
      "y\n",
      "a\n",
      "n\n",
      "s\n",
      "h\n",
      "u\n",
      "p\n",
      "r\n",
      "i\n",
      "y\n",
      "a\n",
      "n\n",
      "s\n",
      "h\n",
      "u\n",
      "p\n",
      "r\n",
      "i\n",
      "y\n",
      "a\n",
      "n\n",
      "s\n",
      "h\n",
      "u\n",
      "p\n",
      "r\n",
      "i\n",
      "y\n",
      "a\n",
      "n\n",
      "s\n",
      "h\n",
      "u\n",
      "p\n",
      "r\n",
      "i\n",
      "y\n",
      "a\n",
      "n\n",
      "s\n",
      "h\n",
      "u\n",
      "p\n",
      "r\n",
      "i\n",
      "y\n",
      "a\n",
      "n\n",
      "s\n",
      "h\n",
      "u\n"
     ]
    }
   ],
   "source": [
    "str1='priyanshu'\n",
    "for i in str1:\n",
    "    for i in str1:\n",
    "        print(i)\n",
    "        \n",
    "\n",
    "    "
   ]
  },
  {
   "cell_type": "code",
   "execution_count": 12,
   "id": "978b9b42-aead-4bbb-a160-b7456f182563",
   "metadata": {},
   "outputs": [
    {
     "name": "stdout",
     "output_type": "stream",
     "text": [
      "{9, 2, 5}\n"
     ]
    }
   ],
   "source": [
    "set1={2,2,5,9}\n",
    "print(set1)"
   ]
  },
  {
   "cell_type": "code",
   "execution_count": 13,
   "id": "debcd452-f9e2-45fc-86a8-ecad74925594",
   "metadata": {
    "scrolled": true
   },
   "outputs": [
    {
     "ename": "TypeError",
     "evalue": "'set' object is not subscriptable",
     "output_type": "error",
     "traceback": [
      "\u001b[1;31m---------------------------------------------------------------------------\u001b[0m",
      "\u001b[1;31mTypeError\u001b[0m                                 Traceback (most recent call last)",
      "Cell \u001b[1;32mIn[13], line 1\u001b[0m\n\u001b[1;32m----> 1\u001b[0m set1[\u001b[38;5;241m0\u001b[39m]\n",
      "\u001b[1;31mTypeError\u001b[0m: 'set' object is not subscriptable"
     ]
    }
   ],
   "source": [
    "set1[0] #subscriptale = cannot be indexing and slicing"
   ]
  },
  {
   "cell_type": "code",
   "execution_count": 14,
   "id": "7ed5b28c-ae1c-4731-b4e6-9ca9641744e1",
   "metadata": {},
   "outputs": [
    {
     "data": {
      "text/plain": [
       "[9, 2, 5]"
      ]
     },
     "execution_count": 14,
     "metadata": {},
     "output_type": "execute_result"
    }
   ],
   "source": [
    "list(set1)"
   ]
  },
  {
   "cell_type": "code",
   "execution_count": 21,
   "id": "6206ad9d-28cb-4826-9bb1-10b61465e1c9",
   "metadata": {},
   "outputs": [],
   "source": [
    "set_1=(2,2,4,9)\n",
    "set_2=(3,3,8,7)\n"
   ]
  },
  {
   "cell_type": "code",
   "execution_count": 12,
   "id": "d524f7a8-44e0-4bda-b4b5-4cab0c52f117",
   "metadata": {},
   "outputs": [
    {
     "ename": "SyntaxError",
     "evalue": "invalid syntax (2451328528.py, line 1)",
     "output_type": "error",
     "traceback": [
      "\u001b[1;36m  Cell \u001b[1;32mIn[12], line 1\u001b[1;36m\u001b[0m\n\u001b[1;33m    ('set_1') union ('set_2')\u001b[0m\n\u001b[1;37m              ^\u001b[0m\n\u001b[1;31mSyntaxError\u001b[0m\u001b[1;31m:\u001b[0m invalid syntax\n"
     ]
    }
   ],
   "source": [
    "('set_1') union ('set_2')"
   ]
  },
  {
   "cell_type": "code",
   "execution_count": 13,
   "id": "ddc1906b-ae11-4f8c-91dd-2591e627b66a",
   "metadata": {},
   "outputs": [
    {
     "ename": "SyntaxError",
     "evalue": "invalid syntax (3205313374.py, line 1)",
     "output_type": "error",
     "traceback": [
      "\u001b[1;36m  Cell \u001b[1;32mIn[13], line 1\u001b[1;36m\u001b[0m\n\u001b[1;33m    'set1' union 'set2'\u001b[0m\n\u001b[1;37m           ^\u001b[0m\n\u001b[1;31mSyntaxError\u001b[0m\u001b[1;31m:\u001b[0m invalid syntax\n"
     ]
    }
   ],
   "source": [
    "'set1' union 'set2'"
   ]
  },
  {
   "cell_type": "code",
   "execution_count": 14,
   "id": "ca33ecf6-7e28-40ea-a625-5db178b47f20",
   "metadata": {},
   "outputs": [
    {
     "ename": "SyntaxError",
     "evalue": "invalid syntax (620838298.py, line 1)",
     "output_type": "error",
     "traceback": [
      "\u001b[1;36m  Cell \u001b[1;32mIn[14], line 1\u001b[1;36m\u001b[0m\n\u001b[1;33m    'set1' U 'set2'\u001b[0m\n\u001b[1;37m           ^\u001b[0m\n\u001b[1;31mSyntaxError\u001b[0m\u001b[1;31m:\u001b[0m invalid syntax\n"
     ]
    }
   ],
   "source": [
    "'set1' U 'set2'"
   ]
  },
  {
   "cell_type": "code",
   "execution_count": 15,
   "id": "205138bb-2919-4b36-b5ad-6902801fbd07",
   "metadata": {},
   "outputs": [
    {
     "ename": "AttributeError",
     "evalue": "'tuple' object has no attribute 'union'",
     "output_type": "error",
     "traceback": [
      "\u001b[1;31m---------------------------------------------------------------------------\u001b[0m",
      "\u001b[1;31mAttributeError\u001b[0m                            Traceback (most recent call last)",
      "Cell \u001b[1;32mIn[15], line 1\u001b[0m\n\u001b[1;32m----> 1\u001b[0m set_1\u001b[38;5;241m.\u001b[39munion(set_2)\n",
      "\u001b[1;31mAttributeError\u001b[0m: 'tuple' object has no attribute 'union'"
     ]
    }
   ],
   "source": [
    "set_1.union(set_2)"
   ]
  },
  {
   "cell_type": "code",
   "execution_count": 16,
   "id": "134fde52-0233-4d76-9d19-3682d523b35f",
   "metadata": {},
   "outputs": [
    {
     "ename": "SyntaxError",
     "evalue": "invalid syntax (3657349350.py, line 1)",
     "output_type": "error",
     "traceback": [
      "\u001b[1;36m  Cell \u001b[1;32mIn[16], line 1\u001b[1;36m\u001b[0m\n\u001b[1;33m    'set1' intersection 'set2'\u001b[0m\n\u001b[1;37m           ^\u001b[0m\n\u001b[1;31mSyntaxError\u001b[0m\u001b[1;31m:\u001b[0m invalid syntax\n"
     ]
    }
   ],
   "source": [
    "'set1' intersection 'set2'"
   ]
  },
  {
   "cell_type": "code",
   "execution_count": 19,
   "id": "fc0088a2-f5fd-441f-bd67-6d0dc5ef3d46",
   "metadata": {},
   "outputs": [
    {
     "ename": "AttributeError",
     "evalue": "'tuple' object has no attribute 'append'",
     "output_type": "error",
     "traceback": [
      "\u001b[1;31m---------------------------------------------------------------------------\u001b[0m",
      "\u001b[1;31mAttributeError\u001b[0m                            Traceback (most recent call last)",
      "Cell \u001b[1;32mIn[19], line 1\u001b[0m\n\u001b[1;32m----> 1\u001b[0m set_1\u001b[38;5;241m.\u001b[39mappend(\u001b[38;5;241m5\u001b[39m)\n",
      "\u001b[1;31mAttributeError\u001b[0m: 'tuple' object has no attribute 'append'"
     ]
    }
   ],
   "source": [
    "set_1.append(5)"
   ]
  },
  {
   "cell_type": "code",
   "execution_count": 18,
   "id": "a5b18cc4-6dfe-4028-a553-7ad8b68b659e",
   "metadata": {},
   "outputs": [
    {
     "ename": "AttributeError",
     "evalue": "'tuple' object has no attribute 'intersection'",
     "output_type": "error",
     "traceback": [
      "\u001b[1;31m---------------------------------------------------------------------------\u001b[0m",
      "\u001b[1;31mAttributeError\u001b[0m                            Traceback (most recent call last)",
      "Cell \u001b[1;32mIn[18], line 1\u001b[0m\n\u001b[1;32m----> 1\u001b[0m set_1\u001b[38;5;241m.\u001b[39mintersection(set_2)\n",
      "\u001b[1;31mAttributeError\u001b[0m: 'tuple' object has no attribute 'intersection'"
     ]
    }
   ],
   "source": [
    "set_1.intersection(set_2)"
   ]
  },
  {
   "cell_type": "code",
   "execution_count": 20,
   "id": "5462317a-db20-4406-a487-abfbd65c128f",
   "metadata": {},
   "outputs": [
    {
     "ename": "NameError",
     "evalue": "name 'set1' is not defined",
     "output_type": "error",
     "traceback": [
      "\u001b[1;31m---------------------------------------------------------------------------\u001b[0m",
      "\u001b[1;31mNameError\u001b[0m                                 Traceback (most recent call last)",
      "Cell \u001b[1;32mIn[20], line 1\u001b[0m\n\u001b[1;32m----> 1\u001b[0m set1\u001b[38;5;241m.\u001b[39madd(set2)\n",
      "\u001b[1;31mNameError\u001b[0m: name 'set1' is not defined"
     ]
    }
   ],
   "source": [
    "set1.add(set2)"
   ]
  },
  {
   "cell_type": "code",
   "execution_count": 1,
   "id": "d52f08ca-3432-4690-ae7f-3b010e7bbf46",
   "metadata": {},
   "outputs": [],
   "source": [
    "set_1={2,2,4,9}\n",
    "set_2={3,3,8,7}"
   ]
  },
  {
   "cell_type": "code",
   "execution_count": 2,
   "id": "46f9dae6-aebe-4db0-9315-fcd38aeeeff5",
   "metadata": {},
   "outputs": [
    {
     "data": {
      "text/plain": [
       "{2, 3, 4, 7, 8, 9}"
      ]
     },
     "execution_count": 2,
     "metadata": {},
     "output_type": "execute_result"
    }
   ],
   "source": [
    "set_1.union(set_2)"
   ]
  },
  {
   "cell_type": "code",
   "execution_count": 3,
   "id": "96a8d52d-cbc8-4740-8ad2-9ebf023ccf62",
   "metadata": {},
   "outputs": [
    {
     "data": {
      "text/plain": [
       "set()"
      ]
     },
     "execution_count": 3,
     "metadata": {},
     "output_type": "execute_result"
    }
   ],
   "source": [
    "set_1.intersection(set_2)   #union intersection subtraction symmetric diff  , add set1.set2.update "
   ]
  },
  {
   "cell_type": "code",
   "execution_count": 4,
   "id": "1a044cc8-9181-443a-b0b5-2021eb14f2b5",
   "metadata": {},
   "outputs": [
    {
     "ename": "AttributeError",
     "evalue": "'set' object has no attribute 'subtraction'",
     "output_type": "error",
     "traceback": [
      "\u001b[1;31m---------------------------------------------------------------------------\u001b[0m",
      "\u001b[1;31mAttributeError\u001b[0m                            Traceback (most recent call last)",
      "Cell \u001b[1;32mIn[4], line 1\u001b[0m\n\u001b[1;32m----> 1\u001b[0m set_1\u001b[38;5;241m.\u001b[39msubtraction(set_2)\n",
      "\u001b[1;31mAttributeError\u001b[0m: 'set' object has no attribute 'subtraction'"
     ]
    }
   ],
   "source": [
    "set_1.subtraction(set_2)"
   ]
  },
  {
   "cell_type": "code",
   "execution_count": 7,
   "id": "b2aceaba-7bcd-4ae7-b75c-298ee16b5479",
   "metadata": {},
   "outputs": [
    {
     "data": {
      "text/plain": [
       "{2, 4, 9}"
      ]
     },
     "execution_count": 7,
     "metadata": {},
     "output_type": "execute_result"
    }
   ],
   "source": [
    "set_1-(set_2)"
   ]
  },
  {
   "cell_type": "code",
   "execution_count": 8,
   "id": "301a154b-1453-4a16-bd22-b7319482301e",
   "metadata": {},
   "outputs": [
    {
     "ename": "TypeError",
     "evalue": "unhashable type: 'set'",
     "output_type": "error",
     "traceback": [
      "\u001b[1;31m---------------------------------------------------------------------------\u001b[0m",
      "\u001b[1;31mTypeError\u001b[0m                                 Traceback (most recent call last)",
      "Cell \u001b[1;32mIn[8], line 1\u001b[0m\n\u001b[1;32m----> 1\u001b[0m set_1\u001b[38;5;241m.\u001b[39madd(set_2)\n",
      "\u001b[1;31mTypeError\u001b[0m: unhashable type: 'set'"
     ]
    }
   ],
   "source": [
    "set_1.add(set_2)"
   ]
  },
  {
   "cell_type": "code",
   "execution_count": 6,
   "id": "fb59e13f-4863-49c4-8876-a1cca54555cc",
   "metadata": {},
   "outputs": [
    {
     "ename": "TypeError",
     "evalue": "unhashable type: 'set'",
     "output_type": "error",
     "traceback": [
      "\u001b[1;31m---------------------------------------------------------------------------\u001b[0m",
      "\u001b[1;31mTypeError\u001b[0m                                 Traceback (most recent call last)",
      "Cell \u001b[1;32mIn[6], line 1\u001b[0m\n\u001b[1;32m----> 1\u001b[0m set_1\u001b[38;5;241m.\u001b[39madd(set_2)\n",
      "\u001b[1;31mTypeError\u001b[0m: unhashable type: 'set'"
     ]
    }
   ],
   "source": [
    "set_1.add(set_2)"
   ]
  },
  {
   "cell_type": "code",
   "execution_count": 14,
   "id": "84f867bb-e91c-4046-8f31-9e6912a36d9d",
   "metadata": {},
   "outputs": [
    {
     "ename": "NameError",
     "evalue": "name 'add' is not defined",
     "output_type": "error",
     "traceback": [
      "\u001b[1;31m---------------------------------------------------------------------------\u001b[0m",
      "\u001b[1;31mNameError\u001b[0m                                 Traceback (most recent call last)",
      "Cell \u001b[1;32mIn[14], line 1\u001b[0m\n\u001b[1;32m----> 1\u001b[0m add[\u001b[38;5;241m5\u001b[39m]\u001b[38;5;241m.\u001b[39mset_1\u001b[38;5;241m.\u001b[39mset_2\u001b[38;5;241m.\u001b[39mupdate\n",
      "\u001b[1;31mNameError\u001b[0m: name 'add' is not defined"
     ]
    }
   ],
   "source": [
    "add[5].set_1.set_2.update"
   ]
  },
  {
   "cell_type": "code",
   "execution_count": 16,
   "id": "d5a56d08-1561-45c5-9495-be43302e7a5d",
   "metadata": {},
   "outputs": [
    {
     "data": {
      "text/plain": [
       "{2, 3, 4, 7, 8, 9}"
      ]
     },
     "execution_count": 16,
     "metadata": {},
     "output_type": "execute_result"
    }
   ],
   "source": [
    "set_1.symmetric_difference(set_2)  #COMMON HTA DEGA SYMM DIFF"
   ]
  },
  {
   "cell_type": "code",
   "execution_count": 10,
   "id": "a7e9a54c-de31-46cc-ae43-551c53d7c8e2",
   "metadata": {},
   "outputs": [
    {
     "ename": "NameError",
     "evalue": "name 'set_1' is not defined",
     "output_type": "error",
     "traceback": [
      "\u001b[1;31m---------------------------------------------------------------------------\u001b[0m",
      "\u001b[1;31mNameError\u001b[0m                                 Traceback (most recent call last)",
      "Cell \u001b[1;32mIn[10], line 1\u001b[0m\n\u001b[1;32m----> 1\u001b[0m set_1\u001b[38;5;241m.\u001b[39msymmetric_difference(set_2)\n",
      "\u001b[1;31mNameError\u001b[0m: name 'set_1' is not defined"
     ]
    }
   ],
   "source": [
    "set_1.symmetric_difference(set_2)  #COMMON HTA DEGA SYMM DIFF"
   ]
  },
  {
   "cell_type": "markdown",
   "id": "9a019ce2-69c3-4889-baa8-9cce1a5a870d",
   "metadata": {},
   "source": [
    "# comments multiline \n"
   ]
  },
  {
   "cell_type": "code",
   "execution_count": 11,
   "id": "975709be-260f-4b86-bb0e-9b6b6fb2eede",
   "metadata": {},
   "outputs": [
    {
     "data": {
      "text/plain": [
       "' hello world\\ngoodmorning everyone\\nwe are working on \\npython data types '"
      ]
     },
     "execution_count": 11,
     "metadata": {},
     "output_type": "execute_result"
    }
   ],
   "source": [
    "''' hello world\n",
    "goodmorning everyone\n",
    "we are working on \n",
    "python data types '''"
   ]
  },
  {
   "cell_type": "raw",
   "id": "b604ec56-001b-47a7-8762-c72ddee5e966",
   "metadata": {},
   "source": [
    "multiline comments "
   ]
  },
  {
   "cell_type": "code",
   "execution_count": null,
   "id": "67146cf7-1743-4376-92b1-9737195707c1",
   "metadata": {},
   "outputs": [],
   "source": []
  },
  {
   "cell_type": "code",
   "execution_count": null,
   "id": "76593919-2f70-49e7-93c3-ed46bed987f0",
   "metadata": {},
   "outputs": [],
   "source": []
  }
 ],
 "metadata": {
  "kernelspec": {
   "display_name": "Python 3 (ipykernel)",
   "language": "python",
   "name": "python3"
  },
  "language_info": {
   "codemirror_mode": {
    "name": "ipython",
    "version": 3
   },
   "file_extension": ".py",
   "mimetype": "text/x-python",
   "name": "python",
   "nbconvert_exporter": "python",
   "pygments_lexer": "ipython3",
   "version": "3.12.7"
  }
 },
 "nbformat": 4,
 "nbformat_minor": 5
}
