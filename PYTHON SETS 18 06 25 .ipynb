{
 "cells": [
  {
   "cell_type": "markdown",
   "id": "2effb0be-fd1a-4ded-8309-697bc7d293a1",
   "metadata": {},
   "source": [
    "# CHARACTERISTIC OF A SET "
   ]
  },
  {
   "cell_type": "markdown",
   "id": "cedbd8f3-4948-44fb-a25c-a97af36cea34",
   "metadata": {},
   "source": [
    "### A SET is a built in data structure in python with the following three characteristic\n",
    "- unordered the items in the set are unordered unlike list ,i.e it will not maintain the order in which the iten are inserted the item will bw in a different order each time when we access the set object there will not be any index value assigned to each item in the set \n",
    "- unchangeable: set item must be immutable we cannot change the set item but set as a whole is mutable \n",
    "- unique: ther cannot be two items with the same value in the set \n",
    "- iterable "
   ]
  },
  {
   "cell_type": "code",
   "execution_count": 2,
   "id": "285400d1-1c28-4249-a408-a01a3e9a44e5",
   "metadata": {},
   "outputs": [],
   "source": [
    "set1=[{2,4,7,8,10}]"
   ]
  },
  {
   "cell_type": "code",
   "execution_count": 3,
   "id": "a08cb447-cec5-4505-ba32-c0da79c22cbc",
   "metadata": {},
   "outputs": [
    {
     "ename": "TypeError",
     "evalue": "unhashable type: 'list'",
     "output_type": "error",
     "traceback": [
      "\u001b[1;31m---------------------------------------------------------------------------\u001b[0m",
      "\u001b[1;31mTypeError\u001b[0m                                 Traceback (most recent call last)",
      "Cell \u001b[1;32mIn[3], line 1\u001b[0m\n\u001b[1;32m----> 1\u001b[0m set2\u001b[38;5;241m=\u001b[39m{[\u001b[38;5;241m2\u001b[39m,\u001b[38;5;241m4\u001b[39m,\u001b[38;5;241m6\u001b[39m,\u001b[38;5;241m5\u001b[39m,\u001b[38;5;241m9\u001b[39m,\u001b[38;5;241m8\u001b[39m]}\n",
      "\u001b[1;31mTypeError\u001b[0m: unhashable type: 'list'"
     ]
    }
   ],
   "source": [
    "set2={[2,4,6,5,9,8]}"
   ]
  },
  {
   "cell_type": "code",
   "execution_count": 6,
   "id": "67efc68f-2f72-4ec1-97f9-29f6e84c819d",
   "metadata": {},
   "outputs": [
    {
     "data": {
      "text/plain": [
       "tuple"
      ]
     },
     "execution_count": 6,
     "metadata": {},
     "output_type": "execute_result"
    }
   ],
   "source": [
    "set3=(())\n",
    "type(set3)"
   ]
  },
  {
   "cell_type": "code",
   "execution_count": 9,
   "id": "3fbb9002-5784-4e78-a232-325b92532701",
   "metadata": {},
   "outputs": [
    {
     "data": {
      "text/plain": [
       "list"
      ]
     },
     "execution_count": 9,
     "metadata": {},
     "output_type": "execute_result"
    }
   ],
   "source": [
    "set4=[()]\n",
    "type(set4)"
   ]
  },
  {
   "cell_type": "code",
   "execution_count": 10,
   "id": "02bd66a7-83dd-4361-8b53-06b35a443e23",
   "metadata": {},
   "outputs": [
    {
     "data": {
      "text/plain": [
       "dict"
      ]
     },
     "execution_count": 10,
     "metadata": {},
     "output_type": "execute_result"
    }
   ],
   "source": [
    "x={}\n",
    "type(x)"
   ]
  },
  {
   "cell_type": "code",
   "execution_count": 11,
   "id": "117b482c-722b-42ac-bca4-7fdf114871f6",
   "metadata": {},
   "outputs": [
    {
     "data": {
      "text/plain": [
       "list"
      ]
     },
     "execution_count": 11,
     "metadata": {},
     "output_type": "execute_result"
    }
   ],
   "source": [
    "set5=([])\n",
    "type(set5)"
   ]
  },
  {
   "cell_type": "code",
   "execution_count": 12,
   "id": "757deb96-1d18-45f0-9301-d502e04c6e51",
   "metadata": {},
   "outputs": [
    {
     "ename": "TypeError",
     "evalue": "unhashable type: 'list'",
     "output_type": "error",
     "traceback": [
      "\u001b[1;31m---------------------------------------------------------------------------\u001b[0m",
      "\u001b[1;31mTypeError\u001b[0m                                 Traceback (most recent call last)",
      "Cell \u001b[1;32mIn[12], line 1\u001b[0m\n\u001b[1;32m----> 1\u001b[0m set6\u001b[38;5;241m=\u001b[39m{[]}\n\u001b[0;32m      2\u001b[0m \u001b[38;5;28mtype\u001b[39m(set6)\n",
      "\u001b[1;31mTypeError\u001b[0m: unhashable type: 'list'"
     ]
    }
   ],
   "source": [
    "set6={[]}\n",
    "type(set6)"
   ]
  },
  {
   "cell_type": "markdown",
   "id": "918e6aef-3a70-4f7a-9a18-eb5ffa9e01c6",
   "metadata": {},
   "source": [
    "## accessing items ina set:set being unordered so no indexing \n",
    "- the items of a set are unordered and they dont have any index number in order to access the items of a set we need to iterate throgh the set object using a for loop "
   ]
  },
  {
   "cell_type": "code",
   "execution_count": 13,
   "id": "219c37f9-ee6e-42e0-b1b0-fd6c54ad9b31",
   "metadata": {},
   "outputs": [
    {
     "name": "stdout",
     "output_type": "stream",
     "text": [
      "harry potter\n",
      "atlas shrugged\n",
      "angels and demons\n"
     ]
    }
   ],
   "source": [
    "book_set={\"harry potter\",\"angels and demons\",\"atlas shrugged\"}\n",
    "for i in book_set:\n",
    "    print(i)"
   ]
  },
  {
   "cell_type": "code",
   "execution_count": 15,
   "id": "43dce9fe-01c3-4e99-93f1-84f6dde7a28b",
   "metadata": {},
   "outputs": [
    {
     "data": {
      "text/plain": [
       "['harry potter', 'atlas shrugged', 'angels and demons']"
      ]
     },
     "execution_count": 15,
     "metadata": {},
     "output_type": "execute_result"
    }
   ],
   "source": [
    "book_set=list({\"harry potter\",\"angels and demons\",\"atlas shrugged\"}) # we can access element mpf a set by convertimg it list and then accessig the items\n",
    "book_set[ : ]"
   ]
  },
  {
   "cell_type": "markdown",
   "id": "a7671eed-8595-41ea-98cc-b20027c7f3e3",
   "metadata": {},
   "source": [
    "###  Q-checking if an item exist in a set "
   ]
  },
  {
   "cell_type": "code",
   "execution_count": 19,
   "id": "02d3ffae-703f-4a5c-abdb-ba980acf9c5d",
   "metadata": {},
   "outputs": [
    {
     "data": {
      "text/plain": [
       "True"
      ]
     },
     "execution_count": 19,
     "metadata": {},
     "output_type": "execute_result"
    }
   ],
   "source": [
    "book_set={\"harry potter\",\"angels and demons\",\"atlas shrugged\"}\n",
    "'harry potter'in book_set"
   ]
  },
  {
   "cell_type": "code",
   "execution_count": 20,
   "id": "52c3d25b-ee5d-4942-b30b-4067a53a07a9",
   "metadata": {},
   "outputs": [
    {
     "data": {
      "text/plain": [
       "False"
      ]
     },
     "execution_count": 20,
     "metadata": {},
     "output_type": "execute_result"
    }
   ],
   "source": [
    "book_set={\"harry potter\",\"angels and demons\",\"atlas shrugged\"}\n",
    "'harry potter'not in book_set"
   ]
  },
  {
   "cell_type": "code",
   "execution_count": 2,
   "id": "a6b89f60-8d76-4400-9cd3-9163d7bf74d0",
   "metadata": {},
   "outputs": [
    {
     "ename": "TypeError",
     "evalue": "'builtin_function_or_method' object is not subscriptable",
     "output_type": "error",
     "traceback": [
      "\u001b[1;31m---------------------------------------------------------------------------\u001b[0m",
      "\u001b[1;31mTypeError\u001b[0m                                 Traceback (most recent call last)",
      "Cell \u001b[1;32mIn[2], line 2\u001b[0m\n\u001b[0;32m      1\u001b[0m book_set\u001b[38;5;241m=\u001b[39m{\u001b[38;5;124m\"\u001b[39m\u001b[38;5;124mharry potter\u001b[39m\u001b[38;5;124m\"\u001b[39m,\u001b[38;5;124m\"\u001b[39m\u001b[38;5;124mangels and demons\u001b[39m\u001b[38;5;124m\"\u001b[39m,\u001b[38;5;124m\"\u001b[39m\u001b[38;5;124matlas shrugged\u001b[39m\u001b[38;5;124m\"\u001b[39m}\n\u001b[1;32m----> 2\u001b[0m book_set\u001b[38;5;241m.\u001b[39madd[\u001b[38;5;124m'\u001b[39m\u001b[38;5;124mdefinite integrals\u001b[39m\u001b[38;5;124m'\u001b[39m,\u001b[38;5;124m'\u001b[39m\u001b[38;5;124mdifferentiation\u001b[39m\u001b[38;5;124m'\u001b[39m,\u001b[38;5;124m'\u001b[39m\u001b[38;5;124m9\u001b[39m\u001b[38;5;124m'\u001b[39m]\n",
      "\u001b[1;31mTypeError\u001b[0m: 'builtin_function_or_method' object is not subscriptable"
     ]
    }
   ],
   "source": [
    "book_set={\"harry potter\",\"angels and demons\",\"atlas shrugged\"}\n",
    "book_set.add['definite integrals','differentiation','9']"
   ]
  },
  {
   "cell_type": "code",
   "execution_count": 5,
   "id": "7fcb7835-3d77-4b4e-beb1-2cea81017654",
   "metadata": {},
   "outputs": [
    {
     "ename": "TypeError",
     "evalue": "'builtin_function_or_method' object is not subscriptable",
     "output_type": "error",
     "traceback": [
      "\u001b[1;31m---------------------------------------------------------------------------\u001b[0m",
      "\u001b[1;31mTypeError\u001b[0m                                 Traceback (most recent call last)",
      "Cell \u001b[1;32mIn[5], line 2\u001b[0m\n\u001b[0;32m      1\u001b[0m book_set\u001b[38;5;241m=\u001b[39m{\u001b[38;5;124m\"\u001b[39m\u001b[38;5;124mharry potter\u001b[39m\u001b[38;5;124m\"\u001b[39m,\u001b[38;5;124m\"\u001b[39m\u001b[38;5;124mangels and demons\u001b[39m\u001b[38;5;124m\"\u001b[39m,\u001b[38;5;124m\"\u001b[39m\u001b[38;5;124matlas shrugged\u001b[39m\u001b[38;5;124m\"\u001b[39m}\n\u001b[1;32m----> 2\u001b[0m book_set\u001b[38;5;241m.\u001b[39madd[\u001b[38;5;124m\"\u001b[39m\u001b[38;5;124mdefinite integrals\u001b[39m\u001b[38;5;124m\"\u001b[39m,\u001b[38;5;124m\"\u001b[39m\u001b[38;5;124mdifferentiation\u001b[39m\u001b[38;5;124m\"\u001b[39m]\n\u001b[0;32m      3\u001b[0m \u001b[38;5;28mprint\u001b[39m(book_set)\n",
      "\u001b[1;31mTypeError\u001b[0m: 'builtin_function_or_method' object is not subscriptable"
     ]
    }
   ],
   "source": [
    "book_set={\"harry potter\",\"angels and demons\",\"atlas shrugged\"}\n",
    "book_set.add[\"definite integrals\",\"differentiation\"]\n",
    "print(book_set)"
   ]
  },
  {
   "cell_type": "code",
   "execution_count": 1,
   "id": "77e1819c-e432-4830-8aae-aa6f371f2886",
   "metadata": {},
   "outputs": [
    {
     "name": "stdout",
     "output_type": "stream",
     "text": [
      "{34, 5, 7, 9, 90}\n"
     ]
    }
   ],
   "source": [
    "set7={34,5,7,9}\n",
    "set7.add(90)\n",
    "print(set7)"
   ]
  },
  {
   "cell_type": "code",
   "execution_count": 2,
   "id": "407df28f-3105-4aff-8387-f79774958cb3",
   "metadata": {},
   "outputs": [
    {
     "name": "stdout",
     "output_type": "stream",
     "text": [
      "{'a', 's', 'i', 'harry potter', 'angels and demons', 'k', 'atlas shrugged', 'h', 'n'}\n"
     ]
    }
   ],
   "source": [
    "book_set={\"harry potter\",\"angels and demons\",\"atlas shrugged\"}\n",
    "book_set.update(list('anshika'))\n",
    "print(book_set)"
   ]
  },
  {
   "cell_type": "code",
   "execution_count": 3,
   "id": "3c87a3b6-801a-4cb8-b261-3f8c9c5af3c0",
   "metadata": {},
   "outputs": [
    {
     "name": "stdout",
     "output_type": "stream",
     "text": [
      "{'a', 's', 'i', 'harry potter', 'angels and demons', 'k', 'atlas shrugged', 'anshika', 'h', 'n'}\n"
     ]
    }
   ],
   "source": [
    "book_set.update(['anshika'])\n",
    "print(book_set)"
   ]
  },
  {
   "cell_type": "code",
   "execution_count": 10,
   "id": "824c8a94-7f4c-4f17-acdf-e2836c22864d",
   "metadata": {},
   "outputs": [
    {
     "name": "stdout",
     "output_type": "stream",
     "text": [
      "{'i', 's', 'a', 'atlas shrugged', 'k', 'n', 'h', 'angels and demons', 'harry potter'}\n"
     ]
    }
   ],
   "source": [
    "book_set.remove('anshika') # remove only one argument aur koi unknown element remove krne pe error ayega\n",
    "print(book_set)"
   ]
  },
  {
   "cell_type": "code",
   "execution_count": 14,
   "id": "f94e538d-85ec-4a7a-a273-5b0fb569588c",
   "metadata": {},
   "outputs": [
    {
     "name": "stdout",
     "output_type": "stream",
     "text": [
      "{'s', 'a', 'atlas shrugged', 'k', 'n', 'h', 'angels and demons', 'harry potter'}\n"
     ]
    }
   ],
   "source": [
    "book_set.discard('i') # discard only one argumemt aur kisi unknown pw no error \n",
    "print(book_set)"
   ]
  },
  {
   "cell_type": "code",
   "execution_count": 15,
   "id": "fc66a22f-70b4-4b52-bd3e-b7c8d4d32806",
   "metadata": {},
   "outputs": [
    {
     "name": "stdout",
     "output_type": "stream",
     "text": [
      "{'s', 'a', 'atlas shrugged', 'k', 'n', 'h', 'angels and demons', 'harry potter'}\n"
     ]
    }
   ],
   "source": [
    "book_set.discard('g')\n",
    "print(book_set)"
   ]
  },
  {
   "cell_type": "code",
   "execution_count": 16,
   "id": "c2d0efb8-75a5-4931-be9b-41c7983de308",
   "metadata": {},
   "outputs": [
    {
     "ename": "KeyError",
     "evalue": "'g'",
     "output_type": "error",
     "traceback": [
      "\u001b[1;31m---------------------------------------------------------------------------\u001b[0m",
      "\u001b[1;31mKeyError\u001b[0m                                  Traceback (most recent call last)",
      "Cell \u001b[1;32mIn[16], line 1\u001b[0m\n\u001b[1;32m----> 1\u001b[0m book_set\u001b[38;5;241m.\u001b[39mremove(\u001b[38;5;124m'\u001b[39m\u001b[38;5;124mg\u001b[39m\u001b[38;5;124m'\u001b[39m)\n\u001b[0;32m      2\u001b[0m \u001b[38;5;28mprint\u001b[39m(book_set)\n",
      "\u001b[1;31mKeyError\u001b[0m: 'g'"
     ]
    }
   ],
   "source": [
    "book_set.remove('g')\n",
    "print(book_set)"
   ]
  },
  {
   "cell_type": "code",
   "execution_count": 19,
   "id": "082e30ee-bb2b-42e3-b106-109e2ae260b4",
   "metadata": {},
   "outputs": [
    {
     "name": "stdout",
     "output_type": "stream",
     "text": [
      "{'a', 'atlas shrugged', 'k', 'n', 'h', 'angels and demons', 'harry potter'}\n"
     ]
    }
   ],
   "source": [
    "book_set.pop()  # randomly koi bhi elememt remove hoga \n",
    "print(book_set)"
   ]
  },
  {
   "cell_type": "code",
   "execution_count": 20,
   "id": "96e73e2f-6406-4f6f-ab4d-8c766a8fee38",
   "metadata": {},
   "outputs": [
    {
     "name": "stdout",
     "output_type": "stream",
     "text": [
      "set()\n"
     ]
    }
   ],
   "source": [
    "book_set.clear() #poora set clear hojaywga aur null set aayega \n",
    "print(book_set)"
   ]
  },
  {
   "cell_type": "code",
   "execution_count": 26,
   "id": "85a042a7-ece3-4bd6-9f7d-fe6d8904d741",
   "metadata": {},
   "outputs": [
    {
     "name": "stdout",
     "output_type": "stream",
     "text": [
      "{'y', 'i', 's', 'a', 'p', 'atlas shrugged', 'r', 'n', 'u', 'h', 'angels and demons', 'harry potter'}\n"
     ]
    }
   ],
   "source": [
    "book_set={\"harry potter\",\"angels and demons\",\"atlas shrugged\"}\n",
    "book_set.symmetric_difference_update('priyanshu')\n",
    "print(book_set)"
   ]
  },
  {
   "cell_type": "code",
   "execution_count": 27,
   "id": "b037bc0c-2561-4ae4-8585-f82d6174af12",
   "metadata": {},
   "outputs": [
    {
     "name": "stdout",
     "output_type": "stream",
     "text": [
      "{'atlas shrugged', 'angels and demons', 'harry potter'}\n"
     ]
    }
   ],
   "source": [
    "book_set={\"harry potter\",\"angels and demons\",\"atlas shrugged\"}\n",
    "book_set.symmetric_difference('priyanshu')\n",
    "print(book_set)"
   ]
  },
  {
   "cell_type": "code",
   "execution_count": 4,
   "id": "25b5a86c-d172-4477-b854-14f2e4dfdb8d",
   "metadata": {},
   "outputs": [
    {
     "name": "stdout",
     "output_type": "stream",
     "text": [
      "2078404194624\n"
     ]
    }
   ],
   "source": [
    "color_set={'violet','indigo','blue','green','yellow'}\n",
    "print(id(color_set))"
   ]
  },
  {
   "cell_type": "code",
   "execution_count": 9,
   "id": "9d64bde5-4277-4f6a-b589-5627ce502b08",
   "metadata": {},
   "outputs": [
    {
     "name": "stdout",
     "output_type": "stream",
     "text": [
      "{'blue', 'violet', 'yellow', 'green', 'indigo'}\n"
     ]
    }
   ],
   "source": [
    "color_set={'violet','indigo','blue','green','yellow'}\n",
    "remaining_colors={'indigo','orange','red'}\n",
    "\n",
    "#SYMMETRIC DIFFERENCE\n",
    "unique_item = color_set.symmetric_difference(remaining_colors)\n",
    "print(color_set)"
   ]
  },
  {
   "cell_type": "code",
   "execution_count": 10,
   "id": "da166785-e980-48fe-8485-1b9e783f0374",
   "metadata": {},
   "outputs": [
    {
     "name": "stdout",
     "output_type": "stream",
     "text": [
      "{'blue', 'violet', 'yellow', 'green', 'indigo'}\n"
     ]
    }
   ],
   "source": [
    "color_set1={'violet','indigo','blue','green','yellow'}\n",
    "remaining_colors1={'indigo','orange','red'}\n",
    "\n",
    "#SYMMETRIC DIFFERENCE\n",
    "unique_item1= color_set1.symmetric_difference_update(remaining_colors1)\n",
    "print(color_set)"
   ]
  },
  {
   "cell_type": "markdown",
   "id": "471cbb5e-a957-45bd-baca-1d8c86a7a11f",
   "metadata": {},
   "source": [
    "### symmetric diff se naya set banega but update se nhi banega "
   ]
  },
  {
   "cell_type": "code",
   "execution_count": 5,
   "id": "dd1267e0-a981-4b45-aabb-4facdb53144d",
   "metadata": {},
   "outputs": [
    {
     "name": "stdout",
     "output_type": "stream",
     "text": [
      "{'indigo', 'violet', ' blue', 'green', 'red'}\n"
     ]
    }
   ],
   "source": [
    "set1={'red','green',' blue','orange'}\n",
    "remain_color={'orange','indigo','violet'}\n",
    "unique_set1=set1.symmetric_difference(remain_color)\n",
    "print(unique_set1)"
   ]
  },
  {
   "cell_type": "code",
   "execution_count": 6,
   "id": "0fe74ea6-3846-49a5-b046-c68622d6c75b",
   "metadata": {},
   "outputs": [
    {
     "name": "stdout",
     "output_type": "stream",
     "text": [
      "None\n"
     ]
    }
   ],
   "source": [
    "set1={'red','green',' blue','orange'}\n",
    "remain_color={'orange','indigo','violet'}\n",
    "unique_set1=set1.symmetric_difference_update(remain_color)\n",
    "print(unique_set1)"
   ]
  },
  {
   "cell_type": "markdown",
   "id": "959fe09d-4db7-4a8e-9042-b63327c852b9",
   "metadata": {},
   "source": [
    "# find whether two sets are disjoint\n",
    "- the isdisjoint() method will find whether two sets are disjoint there are no common element"
   ]
  },
  {
   "cell_type": "code",
   "execution_count": 7,
   "id": "cdf2e973-fb99-4f1a-8576-2615c10986e9",
   "metadata": {},
   "outputs": [
    {
     "name": "stdout",
     "output_type": "stream",
     "text": [
      "False\n"
     ]
    }
   ],
   "source": [
    "color_set1 = {'violet','blue','yellow','red'}\n",
    "color_set2 = {'orange','red'}\n",
    "color_set3 = {'green','orange'}\n",
    "print(color_set2.isdisjoint(color_set1))"
   ]
  },
  {
   "cell_type": "code",
   "execution_count": 8,
   "id": "05f9c1ee-fd66-41e1-b4c5-2ab5161e8121",
   "metadata": {},
   "outputs": [
    {
     "name": "stdout",
     "output_type": "stream",
     "text": [
      "True\n"
     ]
    }
   ],
   "source": [
    "color_set1 = {'violet','blue','yellow','red'}\n",
    "color_set2 = {'orange','red'}\n",
    "color_set3 = {'green','orange'}\n",
    "print(color_set3.isdisjoint(color_set1))"
   ]
  },
  {
   "cell_type": "code",
   "execution_count": 9,
   "id": "9c2f6b26-5533-48af-8a50-72c65ffb58a9",
   "metadata": {},
   "outputs": [
    {
     "ename": "TypeError",
     "evalue": "unhashable type: 'list'",
     "output_type": "error",
     "traceback": [
      "\u001b[1;31m---------------------------------------------------------------------------\u001b[0m",
      "\u001b[1;31mTypeError\u001b[0m                                 Traceback (most recent call last)",
      "Cell \u001b[1;32mIn[9], line 1\u001b[0m\n\u001b[1;32m----> 1\u001b[0m color_set1 \u001b[38;5;241m=\u001b[39m {[\u001b[38;5;124m'\u001b[39m\u001b[38;5;124mviolet\u001b[39m\u001b[38;5;124m'\u001b[39m,\u001b[38;5;124m'\u001b[39m\u001b[38;5;124mblue\u001b[39m\u001b[38;5;124m'\u001b[39m,\u001b[38;5;124m'\u001b[39m\u001b[38;5;124myellow\u001b[39m\u001b[38;5;124m'\u001b[39m,\u001b[38;5;124m'\u001b[39m\u001b[38;5;124mred\u001b[39m\u001b[38;5;124m'\u001b[39m]}\n\u001b[0;32m      2\u001b[0m color_set2 \u001b[38;5;241m=\u001b[39m {[\u001b[38;5;124m'\u001b[39m\u001b[38;5;124morange\u001b[39m\u001b[38;5;124m'\u001b[39m,\u001b[38;5;124m'\u001b[39m\u001b[38;5;124mred\u001b[39m\u001b[38;5;124m'\u001b[39m]}\n\u001b[0;32m      3\u001b[0m color_set3 \u001b[38;5;241m=\u001b[39m {[\u001b[38;5;124m'\u001b[39m\u001b[38;5;124mgreen\u001b[39m\u001b[38;5;124m'\u001b[39m,\u001b[38;5;124m'\u001b[39m\u001b[38;5;124morange\u001b[39m\u001b[38;5;124m'\u001b[39m]}\n",
      "\u001b[1;31mTypeError\u001b[0m: unhashable type: 'list'"
     ]
    }
   ],
   "source": [
    "color_set1 = {['violet','blue','yellow','red']}\n",
    "color_set2 = {['orange','red']}\n",
    "color_set3 = {['green','orange']}\n",
    "print(color_set3.isdisjoint(color_set1))"
   ]
  },
  {
   "cell_type": "code",
   "execution_count": 10,
   "id": "b63d4d96-335a-4d96-b3d2-9c2e571c3c60",
   "metadata": {},
   "outputs": [
    {
     "name": "stdout",
     "output_type": "stream",
     "text": [
      "{4, 20, 6, 8, 10, 15}\n"
     ]
    }
   ],
   "source": [
    "set1={20,4,6,10,8,15}\n",
    "sorted_set=sorted(set1)\n",
    "print(set1)"
   ]
  },
  {
   "cell_type": "code",
   "execution_count": 11,
   "id": "337d05f3-f06e-4550-8a76-0150776f767e",
   "metadata": {},
   "outputs": [
    {
     "name": "stdout",
     "output_type": "stream",
     "text": [
      "1403638305216\n"
     ]
    }
   ],
   "source": [
    "print(id(set1))"
   ]
  },
  {
   "cell_type": "code",
   "execution_count": 12,
   "id": "912ec789-3612-4a0f-b7df-00883754d318",
   "metadata": {},
   "outputs": [
    {
     "name": "stdout",
     "output_type": "stream",
     "text": [
      "[4, 6, 8, 10, 15, 20]\n"
     ]
    }
   ],
   "source": [
    "print(sorted_set)"
   ]
  },
  {
   "cell_type": "code",
   "execution_count": 13,
   "id": "1cbc4502-826d-4b45-aabc-6f566df5cefe",
   "metadata": {},
   "outputs": [
    {
     "name": "stdout",
     "output_type": "stream",
     "text": [
      "1403639094592\n"
     ]
    }
   ],
   "source": [
    "print(id(sorted_set))"
   ]
  },
  {
   "cell_type": "code",
   "execution_count": 14,
   "id": "b09a1b07-7aa3-4c24-9aae-3e4d68062df1",
   "metadata": {},
   "outputs": [
    {
     "data": {
      "text/plain": [
       "list"
      ]
     },
     "execution_count": 14,
     "metadata": {},
     "output_type": "execute_result"
    }
   ],
   "source": [
    "type(sorted_set)"
   ]
  },
  {
   "cell_type": "markdown",
   "id": "29f90c26-d799-4f20-b826-35ae173b3859",
   "metadata": {},
   "source": [
    "## jab bhi set ko sort karenge to wo list ban jayegi kyuki usme order aajayega "
   ]
  },
  {
   "cell_type": "markdown",
   "id": "a77fa7d0-aa9e-4dbd-943e-85793b65a52c",
   "metadata": {},
   "source": [
    "# max and min"
   ]
  },
  {
   "cell_type": "code",
   "execution_count": 16,
   "id": "e14450f2-02b6-490a-b354-125f698844cc",
   "metadata": {},
   "outputs": [
    {
     "name": "stdout",
     "output_type": "stream",
     "text": [
      "15\n"
     ]
    }
   ],
   "source": [
    "set1={2,4,6,8,10,15}\n",
    "set2={'ABC','abc'}\n",
    "\n",
    "print(max(set1))"
   ]
  },
  {
   "cell_type": "code",
   "execution_count": 17,
   "id": "d1913ff0-c27f-4503-9077-e16846ce7509",
   "metadata": {},
   "outputs": [
    {
     "name": "stdout",
     "output_type": "stream",
     "text": [
      "abc\n"
     ]
    }
   ],
   "source": [
    "print(max(set2))"
   ]
  },
  {
   "cell_type": "code",
   "execution_count": 18,
   "id": "d5a5e45c-2b1e-4bd6-ab39-394f7b4548f5",
   "metadata": {},
   "outputs": [
    {
     "name": "stdout",
     "output_type": "stream",
     "text": [
      "dhdj\n"
     ]
    }
   ],
   "source": [
    "set={'AHFG','dhdj'}\n",
    "print(max(set))"
   ]
  },
  {
   "cell_type": "code",
   "execution_count": 21,
   "id": "4d3b9d3a-2db9-4893-88fb-f204f7b2cc6c",
   "metadata": {},
   "outputs": [
    {
     "name": "stdout",
     "output_type": "stream",
     "text": [
      "Aaa\n"
     ]
    }
   ],
   "source": [
    "set3={'AAa','Aaa'}\n",
    "print(max(set3))"
   ]
  },
  {
   "cell_type": "code",
   "execution_count": 24,
   "id": "5b0d03d1-d56e-4fee-8adb-86014e78ea3e",
   "metadata": {},
   "outputs": [
    {
     "name": "stdout",
     "output_type": "stream",
     "text": [
      "aAA\n"
     ]
    }
   ],
   "source": [
    "set4={'AAaa','aAA'}\n",
    "print(max(set4))"
   ]
  },
  {
   "cell_type": "markdown",
   "id": "62403c1f-78ae-4ea8-87da-641410ce3fcc",
   "metadata": {},
   "source": [
    "alphabet me small letters bade hote hai \n"
   ]
  },
  {
   "cell_type": "markdown",
   "id": "8e936813-c8e7-4885-b943-7a260d736335",
   "metadata": {},
   "source": [
    "# frozen set \n",
    "- a frozen set is an immutable set frozen set is thus an unordered collection of immutale unique items \n",
    "- we can create a frozen set using the frozenset"
   ]
  },
  {
   "cell_type": "code",
   "execution_count": null,
   "id": "e6cee564-a092-4eda-b9b6-8c655e5b08c8",
   "metadata": {},
   "outputs": [],
   "source": []
  }
 ],
 "metadata": {
  "kernelspec": {
   "display_name": "Python 3 (ipykernel)",
   "language": "python",
   "name": "python3"
  },
  "language_info": {
   "codemirror_mode": {
    "name": "ipython",
    "version": 3
   },
   "file_extension": ".py",
   "mimetype": "text/x-python",
   "name": "python",
   "nbconvert_exporter": "python",
   "pygments_lexer": "ipython3",
   "version": "3.12.7"
  }
 },
 "nbformat": 4,
 "nbformat_minor": 5
}
