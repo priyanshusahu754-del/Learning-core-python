{
 "cells": [
  {
   "cell_type": "markdown",
   "id": "710f937d-6e03-4969-9bff-617d595bb048",
   "metadata": {},
   "source": [
    "# **INDEXING**"
   ]
  },
  {
   "cell_type": "markdown",
   "id": "ee658fe6-c1c7-49b5-a207-d2e252c9b248",
   "metadata": {},
   "source": [
    "**indexing means acessing individual character (character)  of a string by its position within the string**"
   ]
  },
  {
   "cell_type": "markdown",
   "id": "ebc75303-5346-4346-834b-3c4ffdbd5b40",
   "metadata": {},
   "source": [
    "***syntax for indexing - variable_name[index]***"
   ]
  },
  {
   "cell_type": "code",
   "execution_count": 1,
   "id": "bbdfd806-ca8d-4192-95cb-9c51c6ef231b",
   "metadata": {},
   "outputs": [],
   "source": [
    "text = \"openAI\""
   ]
  },
  {
   "cell_type": "code",
   "execution_count": 2,
   "id": "b4612876-509b-4ebe-9061-f7b6a83a04ea",
   "metadata": {},
   "outputs": [
    {
     "name": "stdout",
     "output_type": "stream",
     "text": [
      "o\n"
     ]
    }
   ],
   "source": [
    "print (text[0])"
   ]
  },
  {
   "cell_type": "code",
   "execution_count": 3,
   "id": "d7980131-b665-410f-8d9d-653d7da4cacd",
   "metadata": {},
   "outputs": [
    {
     "name": "stdout",
     "output_type": "stream",
     "text": [
      "n\n"
     ]
    }
   ],
   "source": [
    "print(text[-3])"
   ]
  },
  {
   "cell_type": "code",
   "execution_count": 4,
   "id": "0e8a7969-ee20-44ce-bedf-3e0ac8096572",
   "metadata": {},
   "outputs": [],
   "source": [
    "a=\"python is case sensitive\"  "
   ]
  },
  {
   "cell_type": "code",
   "execution_count": 5,
   "id": "389995c5-5f65-4920-96bd-64243e776bed",
   "metadata": {},
   "outputs": [
    {
     "data": {
      "text/plain": [
       "'v'"
      ]
     },
     "execution_count": 5,
     "metadata": {},
     "output_type": "execute_result"
    }
   ],
   "source": [
    "a[-2]"
   ]
  },
  {
   "cell_type": "code",
   "execution_count": 6,
   "id": "40ffa83c-aefa-4185-9680-45ba7a4bde0e",
   "metadata": {},
   "outputs": [
    {
     "data": {
      "text/plain": [
       "'i'"
      ]
     },
     "execution_count": 6,
     "metadata": {},
     "output_type": "execute_result"
    }
   ],
   "source": [
    "a[-5]"
   ]
  },
  {
   "cell_type": "code",
   "execution_count": 7,
   "id": "02aa5bb1-33ac-4322-98a4-303fe13da6f5",
   "metadata": {},
   "outputs": [
    {
     "data": {
      "text/plain": [
       "'y'"
      ]
     },
     "execution_count": 7,
     "metadata": {},
     "output_type": "execute_result"
    }
   ],
   "source": [
    "a[1]"
   ]
  },
  {
   "cell_type": "code",
   "execution_count": 8,
   "id": "5254fded-1634-44e2-bb74-44cb5557ba77",
   "metadata": {},
   "outputs": [
    {
     "data": {
      "text/plain": [
       "'o'"
      ]
     },
     "execution_count": 8,
     "metadata": {},
     "output_type": "execute_result"
    }
   ],
   "source": [
    "a[4]"
   ]
  },
  {
   "cell_type": "code",
   "execution_count": 9,
   "id": "ab43eb32-886f-4217-85f9-1656a00c13cf",
   "metadata": {},
   "outputs": [
    {
     "data": {
      "text/plain": [
       "'s'"
      ]
     },
     "execution_count": 9,
     "metadata": {},
     "output_type": "execute_result"
    }
   ],
   "source": [
    "a[8]"
   ]
  },
  {
   "cell_type": "code",
   "execution_count": 10,
   "id": "579fed04-8f67-4f66-9513-65db9e54ab16",
   "metadata": {},
   "outputs": [
    {
     "data": {
      "text/plain": [
       "'a'"
      ]
     },
     "execution_count": 10,
     "metadata": {},
     "output_type": "execute_result"
    }
   ],
   "source": [
    "a[11]"
   ]
  },
  {
   "cell_type": "code",
   "execution_count": 11,
   "id": "1496dea9-b9f5-4852-a9fc-0418c00ba57a",
   "metadata": {},
   "outputs": [
    {
     "data": {
      "text/plain": [
       "'s'"
      ]
     },
     "execution_count": 11,
     "metadata": {},
     "output_type": "execute_result"
    }
   ],
   "source": [
    "a[15]"
   ]
  },
  {
   "cell_type": "code",
   "execution_count": 12,
   "id": "8b6d5830-8f7f-4c1d-965f-9796b743428b",
   "metadata": {},
   "outputs": [
    {
     "data": {
      "text/plain": [
       "'n'"
      ]
     },
     "execution_count": 12,
     "metadata": {},
     "output_type": "execute_result"
    }
   ],
   "source": [
    "a[17]"
   ]
  },
  {
   "cell_type": "code",
   "execution_count": 13,
   "id": "06ee74c1-10ff-4a18-8eb7-7ce92fd1f355",
   "metadata": {},
   "outputs": [
    {
     "data": {
      "text/plain": [
       "'i'"
      ]
     },
     "execution_count": 13,
     "metadata": {},
     "output_type": "execute_result"
    }
   ],
   "source": [
    "a[21]"
   ]
  },
  {
   "cell_type": "code",
   "execution_count": 14,
   "id": "c582f2eb-0c2d-4d02-ada4-84fa98721459",
   "metadata": {},
   "outputs": [
    {
     "data": {
      "text/plain": [
       "'i'"
      ]
     },
     "execution_count": 14,
     "metadata": {},
     "output_type": "execute_result"
    }
   ],
   "source": [
    "a[19]"
   ]
  },
  {
   "cell_type": "code",
   "execution_count": 15,
   "id": "fa9db4ee-a064-42cb-aaa3-5154682ee406",
   "metadata": {},
   "outputs": [
    {
     "data": {
      "text/plain": [
       "'i'"
      ]
     },
     "execution_count": 15,
     "metadata": {},
     "output_type": "execute_result"
    }
   ],
   "source": [
    "a[-3]"
   ]
  },
  {
   "cell_type": "code",
   "execution_count": 16,
   "id": "6a518ba9-9571-4572-b3fb-fbe0a2ff5c47",
   "metadata": {},
   "outputs": [
    {
     "data": {
      "text/plain": [
       "'i'"
      ]
     },
     "execution_count": 16,
     "metadata": {},
     "output_type": "execute_result"
    }
   ],
   "source": [
    "a[-5]"
   ]
  },
  {
   "cell_type": "code",
   "execution_count": 17,
   "id": "6a2ad30d-151a-4151-94b5-d0b66ab84ad0",
   "metadata": {},
   "outputs": [
    {
     "data": {
      "text/plain": [
       "'n'"
      ]
     },
     "execution_count": 17,
     "metadata": {},
     "output_type": "execute_result"
    }
   ],
   "source": [
    "a[-7]"
   ]
  },
  {
   "cell_type": "code",
   "execution_count": 18,
   "id": "946345df-e689-4bd1-8dcf-af49d84296e3",
   "metadata": {},
   "outputs": [
    {
     "data": {
      "text/plain": [
       "'s'"
      ]
     },
     "execution_count": 18,
     "metadata": {},
     "output_type": "execute_result"
    }
   ],
   "source": [
    "a[-9]"
   ]
  },
  {
   "cell_type": "code",
   "execution_count": 19,
   "id": "d773f4fa-21ab-45b4-90b1-c08f7e1fdd72",
   "metadata": {},
   "outputs": [
    {
     "data": {
      "text/plain": [
       "'a'"
      ]
     },
     "execution_count": 19,
     "metadata": {},
     "output_type": "execute_result"
    }
   ],
   "source": [
    "a[-13]"
   ]
  },
  {
   "cell_type": "code",
   "execution_count": 20,
   "id": "bf12561a-0d70-456e-aeef-0a113f8c3302",
   "metadata": {},
   "outputs": [
    {
     "data": {
      "text/plain": [
       "'s'"
      ]
     },
     "execution_count": 20,
     "metadata": {},
     "output_type": "execute_result"
    }
   ],
   "source": [
    "a[-16]"
   ]
  },
  {
   "cell_type": "code",
   "execution_count": 21,
   "id": "98368e1a-e8cd-4c76-a429-51bb6d002e67",
   "metadata": {},
   "outputs": [
    {
     "data": {
      "text/plain": [
       "'o'"
      ]
     },
     "execution_count": 21,
     "metadata": {},
     "output_type": "execute_result"
    }
   ],
   "source": [
    "a[-20]"
   ]
  },
  {
   "cell_type": "code",
   "execution_count": 22,
   "id": "2f5fd65e-668e-454f-9ec3-4bf718994032",
   "metadata": {},
   "outputs": [
    {
     "data": {
      "text/plain": [
       "'y'"
      ]
     },
     "execution_count": 22,
     "metadata": {},
     "output_type": "execute_result"
    }
   ],
   "source": [
    "a[-23]"
   ]
  },
  {
   "cell_type": "code",
   "execution_count": 31,
   "id": "6f07209e-5dac-431c-9311-fe0d8492917b",
   "metadata": {},
   "outputs": [],
   "source": [
    "name=\"rakesh\",\"muskan\",\"manish\",\"riya\""
   ]
  },
  {
   "cell_type": "code",
   "execution_count": 32,
   "id": "62fb0932-cd16-41d7-88cc-7eea3b099fda",
   "metadata": {},
   "outputs": [
    {
     "data": {
      "text/plain": [
       "'riya'"
      ]
     },
     "execution_count": 32,
     "metadata": {},
     "output_type": "execute_result"
    }
   ],
   "source": [
    "name[3]"
   ]
  },
  {
   "cell_type": "code",
   "execution_count": 33,
   "id": "8c07f21e-2503-47f1-9d78-81ce2e6bed7a",
   "metadata": {},
   "outputs": [
    {
     "data": {
      "text/plain": [
       "'muskan'"
      ]
     },
     "execution_count": 33,
     "metadata": {},
     "output_type": "execute_result"
    }
   ],
   "source": [
    "name[1]"
   ]
  },
  {
   "cell_type": "code",
   "execution_count": 26,
   "id": "17041768-8b2b-4700-8308-d6045250e43d",
   "metadata": {},
   "outputs": [
    {
     "data": {
      "text/plain": [
       "'k'"
      ]
     },
     "execution_count": 26,
     "metadata": {},
     "output_type": "execute_result"
    }
   ],
   "source": [
    "(name[1][3])"
   ]
  },
  {
   "cell_type": "code",
   "execution_count": 27,
   "id": "a63c2239-2856-42fd-890a-a8d2a20c2012",
   "metadata": {},
   "outputs": [
    {
     "data": {
      "text/plain": [
       "'i'"
      ]
     },
     "execution_count": 27,
     "metadata": {},
     "output_type": "execute_result"
    }
   ],
   "source": [
    "(name[-1][-3])"
   ]
  },
  {
   "cell_type": "code",
   "execution_count": 28,
   "id": "981eda7a-6360-4d92-9eb5-91d4e6276aca",
   "metadata": {},
   "outputs": [
    {
     "data": {
      "text/plain": [
       "'r'"
      ]
     },
     "execution_count": 28,
     "metadata": {},
     "output_type": "execute_result"
    }
   ],
   "source": [
    "(name[-1][-4])"
   ]
  },
  {
   "cell_type": "code",
   "execution_count": 29,
   "id": "8a17905a-1f86-4ee1-b7f2-cafc6adf7bcd",
   "metadata": {},
   "outputs": [
    {
     "data": {
      "text/plain": [
       "'r'"
      ]
     },
     "execution_count": 29,
     "metadata": {},
     "output_type": "execute_result"
    }
   ],
   "source": [
    "(name[-4][-6])"
   ]
  },
  {
   "cell_type": "code",
   "execution_count": 30,
   "id": "37c9b474-62b3-4d74-bc96-afff40f879c4",
   "metadata": {},
   "outputs": [],
   "source": [
    "numbers=10,20,30,40,50"
   ]
  },
  {
   "cell_type": "code",
   "execution_count": 63,
   "id": "f5c7e611-a0a2-4462-a54a-f775050dcc33",
   "metadata": {},
   "outputs": [
    {
     "data": {
      "text/plain": [
       "30"
      ]
     },
     "execution_count": 63,
     "metadata": {},
     "output_type": "execute_result"
    }
   ],
   "source": [
    "numbers[2]"
   ]
  },
  {
   "cell_type": "code",
   "execution_count": 64,
   "id": "07a3027c-6985-4d1b-9a7f-a652e2295101",
   "metadata": {},
   "outputs": [
    {
     "data": {
      "text/plain": [
       "20"
      ]
     },
     "execution_count": 64,
     "metadata": {},
     "output_type": "execute_result"
    }
   ],
   "source": [
    "numbers[1]"
   ]
  },
  {
   "cell_type": "code",
   "execution_count": 65,
   "id": "649d0a2b-4d9c-4d49-bbc1-c557abb10db9",
   "metadata": {},
   "outputs": [
    {
     "data": {
      "text/plain": [
       "20"
      ]
     },
     "execution_count": 65,
     "metadata": {},
     "output_type": "execute_result"
    }
   ],
   "source": [
    "numbers[-4]"
   ]
  },
  {
   "cell_type": "markdown",
   "id": "84d7f5f9-f336-404e-9b28-15e10c01733b",
   "metadata": {},
   "source": [
    "# slicing  \n",
    "- [start:end:step]"
   ]
  },
  {
   "cell_type": "code",
   "execution_count": 4,
   "id": "51241a73-73f7-4335-99e5-85af2cf772da",
   "metadata": {},
   "outputs": [],
   "source": [
    "a=\"python\""
   ]
  },
  {
   "cell_type": "code",
   "execution_count": 5,
   "id": "4286e86d-f7fd-4c61-9951-724aec89d053",
   "metadata": {},
   "outputs": [
    {
     "data": {
      "text/plain": [
       "'pytho'"
      ]
     },
     "execution_count": 5,
     "metadata": {},
     "output_type": "execute_result"
    }
   ],
   "source": [
    "a[0:5]"
   ]
  },
  {
   "cell_type": "code",
   "execution_count": 6,
   "id": "8ba4b6eb-2b7a-4fd3-b4fe-84dd42621dc5",
   "metadata": {},
   "outputs": [
    {
     "data": {
      "text/plain": [
       "'yth'"
      ]
     },
     "execution_count": 6,
     "metadata": {},
     "output_type": "execute_result"
    }
   ],
   "source": [
    "a[1:4]"
   ]
  },
  {
   "cell_type": "code",
   "execution_count": 7,
   "id": "6ebae42a-3627-447c-a482-83f14dd8d80d",
   "metadata": {},
   "outputs": [
    {
     "data": {
      "text/plain": [
       "'ON IS EASY'"
      ]
     },
     "execution_count": 7,
     "metadata": {},
     "output_type": "execute_result"
    }
   ],
   "source": [
    "# leave the stop index blank\n",
    "example = \"PYTHON IS EASY\"\n",
    "example[4: ]"
   ]
  },
  {
   "cell_type": "code",
   "execution_count": 8,
   "id": "0bb99459-4bf8-4943-88fe-554931a05f56",
   "metadata": {},
   "outputs": [
    {
     "data": {
      "text/plain": [
       "'PH'"
      ]
     },
     "execution_count": 8,
     "metadata": {},
     "output_type": "execute_result"
    }
   ],
   "source": [
    "example[0:6:3]"
   ]
  },
  {
   "cell_type": "code",
   "execution_count": 9,
   "id": "1a059de1-f74d-4289-b482-aabf3bd18cd8",
   "metadata": {},
   "outputs": [
    {
     "data": {
      "text/plain": [
       "'PYTHON'"
      ]
     },
     "execution_count": 9,
     "metadata": {},
     "output_type": "execute_result"
    }
   ],
   "source": [
    "example[0:6:1]"
   ]
  },
  {
   "cell_type": "code",
   "execution_count": 13,
   "id": "3ed19bd3-f4e4-4649-8536-6db6a653e137",
   "metadata": {},
   "outputs": [],
   "source": [
    "p=\"general purpose programming\" "
   ]
  },
  {
   "cell_type": "code",
   "execution_count": 79,
   "id": "d9a3823a-a687-4591-be22-fb8ae89bdadd",
   "metadata": {},
   "outputs": [
    {
     "data": {
      "text/plain": [
       "'ose'"
      ]
     },
     "execution_count": 79,
     "metadata": {},
     "output_type": "execute_result"
    }
   ],
   "source": [
    "p[12:15]"
   ]
  },
  {
   "cell_type": "code",
   "execution_count": 85,
   "id": "c98ed004-f294-4c38-b6c5-87eedd0cb828",
   "metadata": {
    "scrolled": true
   },
   "outputs": [
    {
     "data": {
      "text/plain": [
       "'nrlp'"
      ]
     },
     "execution_count": 85,
     "metadata": {},
     "output_type": "execute_result"
    }
   ],
   "source": [
    "p[2:10:2]"
   ]
  },
  {
   "cell_type": "code",
   "execution_count": 3,
   "id": "e0df9242-088b-4b3e-bf64-d8fe9aa0272c",
   "metadata": {},
   "outputs": [
    {
     "data": {
      "text/plain": [
       "'eneral purpo'"
      ]
     },
     "execution_count": 3,
     "metadata": {},
     "output_type": "execute_result"
    }
   ],
   "source": [
    "p[1:13]"
   ]
  },
  {
   "cell_type": "code",
   "execution_count": 14,
   "id": "fb963a04-a3b9-43ff-86d1-dce47122fcc0",
   "metadata": {},
   "outputs": [],
   "source": [
    "a=\"openai_python\""
   ]
  },
  {
   "cell_type": "code",
   "execution_count": 15,
   "id": "7fe7db0a-231d-4d76-88ec-b3ca2c52a27f",
   "metadata": {},
   "outputs": [
    {
     "data": {
      "text/plain": [
       "'ni'"
      ]
     },
     "execution_count": 15,
     "metadata": {},
     "output_type": "execute_result"
    }
   ],
   "source": [
    "a[3:7:2]"
   ]
  },
  {
   "cell_type": "code",
   "execution_count": 16,
   "id": "4fa1c865-e23c-4bf0-925b-69123a9343af",
   "metadata": {},
   "outputs": [],
   "source": [
    "a=\"openai_chatbot\""
   ]
  },
  {
   "cell_type": "code",
   "execution_count": 20,
   "id": "32b48ff3-503c-4fb6-86d0-70f3711b6225",
   "metadata": {},
   "outputs": [
    {
     "data": {
      "text/plain": [
       "'oaho'"
      ]
     },
     "execution_count": 20,
     "metadata": {},
     "output_type": "execute_result"
    }
   ],
   "source": [
    "a[0:17:4]"
   ]
  },
  {
   "cell_type": "code",
   "execution_count": 22,
   "id": "916ed8df-6c06-4da0-b6ad-6066374fad64",
   "metadata": {},
   "outputs": [
    {
     "data": {
      "text/plain": [
       "'oah'"
      ]
     },
     "execution_count": 22,
     "metadata": {},
     "output_type": "execute_result"
    }
   ],
   "source": [
    "(a[0:17:4][0:3])"
   ]
  },
  {
   "cell_type": "code",
   "execution_count": 26,
   "id": "9810baa8-276a-4d37-9a91-9df7d6e1c79a",
   "metadata": {},
   "outputs": [
    {
     "data": {
      "text/plain": [
       "'on_ao'"
      ]
     },
     "execution_count": 26,
     "metadata": {},
     "output_type": "execute_result"
    }
   ],
   "source": [
    "(a[0:17:3])"
   ]
  },
  {
   "cell_type": "code",
   "execution_count": 27,
   "id": "cdd1c184-9f7f-42a3-9de3-891b4ea85022",
   "metadata": {},
   "outputs": [
    {
     "data": {
      "text/plain": [
       "'o_o'"
      ]
     },
     "execution_count": 27,
     "metadata": {},
     "output_type": "execute_result"
    }
   ],
   "source": [
    "(a[0:17:3][0:6:2])"
   ]
  },
  {
   "cell_type": "code",
   "execution_count": 28,
   "id": "7e77140f-2252-4a6d-a003-00f49291a508",
   "metadata": {},
   "outputs": [],
   "source": [
    "g=\"machinelearningisfunandpowerful\""
   ]
  },
  {
   "cell_type": "code",
   "execution_count": 30,
   "id": "52521cc4-10f4-47c4-ad3d-010d570ca113",
   "metadata": {},
   "outputs": [
    {
     "data": {
      "text/plain": [
       "'mieisaof'"
      ]
     },
     "execution_count": 30,
     "metadata": {},
     "output_type": "execute_result"
    }
   ],
   "source": [
    "g[0:32:4]"
   ]
  },
  {
   "cell_type": "code",
   "execution_count": 31,
   "id": "4ea0f6fa-f149-412c-a824-867d7b208918",
   "metadata": {},
   "outputs": [
    {
     "data": {
      "text/plain": [
       "'iiaf'"
      ]
     },
     "execution_count": 31,
     "metadata": {},
     "output_type": "execute_result"
    }
   ],
   "source": [
    "(g[0:32:4][1:9:2])"
   ]
  },
  {
   "cell_type": "code",
   "execution_count": 33,
   "id": "d10637d9-82c9-4666-b902-feccacba909c",
   "metadata": {},
   "outputs": [
    {
     "data": {
      "text/plain": [
       "'ahnlanni'"
      ]
     },
     "execution_count": 33,
     "metadata": {},
     "output_type": "execute_result"
    }
   ],
   "source": [
    "(g[-30:-12][0:15:2])"
   ]
  },
  {
   "cell_type": "code",
   "execution_count": 5,
   "id": "35d0f293-a91f-421e-a2a0-e4a1cb603b65",
   "metadata": {},
   "outputs": [],
   "source": [
    "a=\"python\""
   ]
  },
  {
   "cell_type": "code",
   "execution_count": 7,
   "id": "dde6ff86-298d-4679-96b5-4e7d59d0ef4e",
   "metadata": {},
   "outputs": [
    {
     "data": {
      "text/plain": [
       "'nohtyp'"
      ]
     },
     "execution_count": 7,
     "metadata": {},
     "output_type": "execute_result"
    }
   ],
   "source": [
    "a[ : :-1]"
   ]
  },
  {
   "cell_type": "code",
   "execution_count": 2,
   "id": "24b40ece-565a-4458-a507-32849994b8b1",
   "metadata": {},
   "outputs": [],
   "source": [
    "b=\"python is easy to learn\""
   ]
  },
  {
   "cell_type": "code",
   "execution_count": 9,
   "id": "93c98da6-467e-4505-a4bc-43bd2c39f7c1",
   "metadata": {},
   "outputs": [
    {
     "data": {
      "text/plain": [
       "'to lear'"
      ]
     },
     "execution_count": 9,
     "metadata": {},
     "output_type": "execute_result"
    }
   ],
   "source": [
    "b[-8:-1]"
   ]
  },
  {
   "cell_type": "code",
   "execution_count": 7,
   "id": "222df4d7-3801-4c43-9873-20319884e8ae",
   "metadata": {},
   "outputs": [
    {
     "data": {
      "text/plain": [
       "'thon '"
      ]
     },
     "execution_count": 7,
     "metadata": {},
     "output_type": "execute_result"
    }
   ],
   "source": [
    "b[-21:-16]"
   ]
  },
  {
   "cell_type": "code",
   "execution_count": 14,
   "id": "941a8f47-1881-4c1d-b8df-85359e411b68",
   "metadata": {},
   "outputs": [],
   "source": [
    "A=\"python is easy\""
   ]
  },
  {
   "cell_type": "code",
   "execution_count": 16,
   "id": "7884fd54-f7de-41df-8770-a9aaa98f3831",
   "metadata": {},
   "outputs": [
    {
     "data": {
      "text/plain": [
       "'ysae si nohtyp'"
      ]
     },
     "execution_count": 16,
     "metadata": {},
     "output_type": "execute_result"
    }
   ],
   "source": [
    "A[ : :-1]"
   ]
  },
  {
   "cell_type": "code",
   "execution_count": 17,
   "id": "1892831e-ba11-4411-a900-fa8d13034ac9",
   "metadata": {},
   "outputs": [
    {
     "data": {
      "text/plain": [
       "''"
      ]
     },
     "execution_count": 17,
     "metadata": {},
     "output_type": "execute_result"
    }
   ],
   "source": [
    "A[0:5:-1]"
   ]
  },
  {
   "cell_type": "code",
   "execution_count": 20,
   "id": "6cfbc063-469e-44c5-81ec-c996c8e89c23",
   "metadata": {},
   "outputs": [
    {
     "data": {
      "text/plain": [
       "'sae si n'"
      ]
     },
     "execution_count": 20,
     "metadata": {},
     "output_type": "execute_result"
    }
   ],
   "source": [
    "A[-2:-10:-1]"
   ]
  },
  {
   "cell_type": "code",
   "execution_count": null,
   "id": "f73905e8-c932-4046-8871-31af68ae0906",
   "metadata": {},
   "outputs": [],
   "source": []
  },
  {
   "cell_type": "code",
   "execution_count": null,
   "id": "a2eec250-94f7-48d8-85bb-6985552111fa",
   "metadata": {},
   "outputs": [],
   "source": []
  },
  {
   "cell_type": "markdown",
   "id": "8cc9713b-5cf4-4400-83c4-5bd3c055b309",
   "metadata": {},
   "source": [
    "# data types"
   ]
  },
  {
   "cell_type": "markdown",
   "id": "e2c20b13-e64c-4d19-9a06-5d8d093a96d0",
   "metadata": {},
   "source": [
    "#### primitive data types \n",
    "- number D.T\n",
    "- string D.T\n",
    "- none D.T\n"
   ]
  },
  {
   "cell_type": "markdown",
   "id": "b7abfeaa-0ddb-408f-b2c3-6a948ca4163c",
   "metadata": {},
   "source": [
    "#### non primitive data types\n",
    "- list\n",
    "- dict\n",
    "- set \n",
    "- tuples "
   ]
  },
  {
   "cell_type": "code",
   "execution_count": null,
   "id": "1b9dd694-2bd5-41ed-b932-6c3fbede9ab6",
   "metadata": {},
   "outputs": [],
   "source": []
  },
  {
   "cell_type": "code",
   "execution_count": null,
   "id": "3523de26-62aa-4a8a-957d-5c95271d7669",
   "metadata": {},
   "outputs": [],
   "source": []
  },
  {
   "cell_type": "code",
   "execution_count": null,
   "id": "7d241ccb-ef91-429a-8c59-a930ef3de772",
   "metadata": {},
   "outputs": [],
   "source": []
  },
  {
   "cell_type": "code",
   "execution_count": null,
   "id": "3d5c46e8-fdc3-4d9a-a93c-1e4c03d6a437",
   "metadata": {},
   "outputs": [],
   "source": []
  },
  {
   "cell_type": "code",
   "execution_count": null,
   "id": "9c425f1e-4caf-4586-bab0-6e4a12aa4941",
   "metadata": {},
   "outputs": [],
   "source": []
  },
  {
   "cell_type": "code",
   "execution_count": null,
   "id": "9fbe1929-f3c1-4c0a-b9dd-bde8319399f3",
   "metadata": {},
   "outputs": [],
   "source": []
  },
  {
   "cell_type": "code",
   "execution_count": null,
   "id": "766820fe-b1bd-4eac-b0aa-31c5da069c49",
   "metadata": {},
   "outputs": [],
   "source": []
  },
  {
   "cell_type": "code",
   "execution_count": null,
   "id": "dacaac77-97e1-4c5c-968c-eb8527eb51f8",
   "metadata": {},
   "outputs": [],
   "source": []
  },
  {
   "cell_type": "code",
   "execution_count": null,
   "id": "b58e21d0-a0e8-4565-b0ad-d7af001b235b",
   "metadata": {},
   "outputs": [],
   "source": []
  },
  {
   "cell_type": "code",
   "execution_count": null,
   "id": "4d4362e0-9e91-47bf-b8d7-53c82f10d170",
   "metadata": {},
   "outputs": [],
   "source": []
  },
  {
   "cell_type": "code",
   "execution_count": null,
   "id": "4c8ba30f-3329-461c-a592-00a95dc8f112",
   "metadata": {},
   "outputs": [],
   "source": []
  },
  {
   "cell_type": "code",
   "execution_count": null,
   "id": "e58331fc-c9dc-41c0-a0de-84e4c3a48a88",
   "metadata": {},
   "outputs": [],
   "source": []
  }
 ],
 "metadata": {
  "kernelspec": {
   "display_name": "Python 3 (ipykernel)",
   "language": "python",
   "name": "python3"
  },
  "language_info": {
   "codemirror_mode": {
    "name": "ipython",
    "version": 3
   },
   "file_extension": ".py",
   "mimetype": "text/x-python",
   "name": "python",
   "nbconvert_exporter": "python",
   "pygments_lexer": "ipython3",
   "version": "3.12.7"
  }
 },
 "nbformat": 4,
 "nbformat_minor": 5
}
