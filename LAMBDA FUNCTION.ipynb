{
 "cells": [
  {
   "cell_type": "code",
   "execution_count": 3,
   "id": "87148288-8e08-4930-81ae-66efa70901a7",
   "metadata": {},
   "outputs": [
    {
     "name": "stdout",
     "output_type": "stream",
     "text": [
      "even\n"
     ]
    }
   ],
   "source": [
    "(lambda x:print(\"even\") if x%2==0 else print(\"odd\"))(8)"
   ]
  },
  {
   "cell_type": "code",
   "execution_count": 6,
   "id": "25fbd9c5-ddf2-4ebf-b2cc-9957b0b4a01c",
   "metadata": {},
   "outputs": [
    {
     "ename": "SyntaxError",
     "evalue": "invalid syntax (120515207.py, line 1)",
     "output_type": "error",
     "traceback": [
      "\u001b[1;36m  Cell \u001b[1;32mIn[6], line 1\u001b[1;36m\u001b[0m\n\u001b[1;33m    [sq==lambda x:print(\"even\") if x%2==0 else print(\"odd\")]\u001b[0m\n\u001b[1;37m         ^\u001b[0m\n\u001b[1;31mSyntaxError\u001b[0m\u001b[1;31m:\u001b[0m invalid syntax\n"
     ]
    }
   ],
   "source": [
    "[sq=lambda x:print(\"even\") if x%2==0 else print(\"odd\")]\n",
    "sq(8)"
   ]
  },
  {
   "cell_type": "markdown",
   "id": "ae398edc-6d63-4a2f-83cd-5d121aa44712",
   "metadata": {},
   "source": [
    "# **BUILT IN FUNCTION**"
   ]
  },
  {
   "cell_type": "markdown",
   "id": "b713d8ad-7fc7-4160-b06a-768366db2144",
   "metadata": {},
   "source": [
    "- filter()\n",
    "- map()\n",
    "- reduce()"
   ]
  },
  {
   "cell_type": "code",
   "execution_count": 13,
   "id": "ae15d7d3-37f4-4969-a4a8-5b8dd89ac5e5",
   "metadata": {},
   "outputs": [
    {
     "name": "stdout",
     "output_type": "stream",
     "text": [
      "[12, 36]\n"
     ]
    }
   ],
   "source": [
    "nums=[85,12,36,71,49]\n",
    "nums_even=[]\n",
    "for x in nums:\n",
    "    if x%2==0:\n",
    "        nums_even.append(x)\n",
    "print(nums_even)"
   ]
  },
  {
   "cell_type": "code",
   "execution_count": 2,
   "id": "bb4dbf44-c62b-47b8-b7a4-a386654730d3",
   "metadata": {},
   "outputs": [],
   "source": [
    "nums=[85,12,36,71,49]\n",
    "def even_nums(list):\n",
    "    filter_list=[]\n",
    "    for i in list:\n",
    "        filter_list.append(i)\n",
    "    return filter_list"
   ]
  },
  {
   "cell_type": "code",
   "execution_count": 3,
   "id": "1917db19-30b5-4306-ab98-1dbc3acf2c5e",
   "metadata": {},
   "outputs": [],
   "source": [
    "nums=[85,12,36,71,49]\n",
    "def even_num(element):\n",
    "    if element%2==0:\n",
    "        return True\n",
    "\n",
    "filt_list=filter(even_num,nums)"
   ]
  },
  {
   "cell_type": "code",
   "execution_count": 16,
   "id": "08b61864-a65b-4de5-a4da-5810ddd082b4",
   "metadata": {},
   "outputs": [
    {
     "name": "stdout",
     "output_type": "stream",
     "text": [
      "['haldawni', 'hyderabad']\n"
     ]
    }
   ],
   "source": [
    "city_names=[\"haldawni\",\"hyderabad\",\"nainital\",\"delhi\",\"kanpur\"]\n",
    "city_names_h=[ ]\n",
    "for i in city_names:\n",
    "    if i[0]==\"h\":\n",
    "        city_names_h.append(i)\n",
    "print(city_names_h)"
   ]
  },
  {
   "cell_type": "code",
   "execution_count": 22,
   "id": "219c4b36-51c5-4411-a8b6-3b90beed8a5f",
   "metadata": {},
   "outputs": [
    {
     "name": "stdout",
     "output_type": "stream",
     "text": [
      "['haldawni', 'haldawni']\n"
     ]
    }
   ],
   "source": [
    "city_names=[\"haldawni\",\"hyderabad\",\"nainital\",\"delhi\",\"kanpur\"]\n",
    "city_names_h=[]\n",
    "for city in city_names:\n",
    "    if city.startswith(\"h\"):\n",
    "        city_names_h.append(i)\n",
    "\n",
    "print(city_names_h)"
   ]
  },
  {
   "cell_type": "code",
   "execution_count": 5,
   "id": "39dddd18-febc-4ef3-9421-497e3d37051c",
   "metadata": {},
   "outputs": [],
   "source": [
    "def select_city(city_names):\n",
    "    city_names_h=[]\n",
    "    for city in select_city:\n",
    "        if city.startswith(\"h\"):\n",
    "            city_names_h.append(city)\n",
    "\n",
    "    return city_names_h"
   ]
  },
  {
   "cell_type": "code",
   "execution_count": 6,
   "id": "448a3d4f-e3a8-4457-8be0-37c9e5705d2b",
   "metadata": {},
   "outputs": [],
   "source": [
    "select_city=[\"haldawni\",\"hyderabad\",\"nainital\",\"delhi\",\"kanpur\"]"
   ]
  },
  {
   "cell_type": "code",
   "execution_count": 7,
   "id": "9843591d-2768-45e6-a9da-8f438ca7e45f",
   "metadata": {},
   "outputs": [
    {
     "data": {
      "text/plain": [
       "False"
      ]
     },
     "execution_count": 7,
     "metadata": {},
     "output_type": "execute_result"
    }
   ],
   "source": [
    "def selecting_cities(city):\n",
    "    return city.startswith(\"h\")\n",
    "\n",
    "selecting_cities(\"london\")"
   ]
  },
  {
   "cell_type": "code",
   "execution_count": 8,
   "id": "a6e29bcb-6203-466e-80f2-2162fe9feaff",
   "metadata": {},
   "outputs": [
    {
     "name": "stdout",
     "output_type": "stream",
     "text": [
      "['haldawni', 'hyderabad']\n"
     ]
    }
   ],
   "source": [
    "city_names=[\"haldawni\",\"hyderabad\",\"nainital\",\"delhi\",\"kanpur\"]\n",
    "filtered_cities=list(filter(selecting_cities,city_names))\n",
    "print(filtered_cities)"
   ]
  },
  {
   "cell_type": "code",
   "execution_count": 9,
   "id": "ba4fc6b6-36bd-4c64-b300-76bfaf9e5247",
   "metadata": {},
   "outputs": [],
   "source": [
    "# filter functiom will pass each element of the list city_names one by one to the function selecting cities\n",
    "#for the element of the list city_names for which \"slecting_cities()\"return True are append to the new list \"filtered_cities\""
   ]
  },
  {
   "cell_type": "code",
   "execution_count": 10,
   "id": "2309ccb4-42ee-4f09-b79b-178b72c99734",
   "metadata": {},
   "outputs": [
    {
     "name": "stdout",
     "output_type": "stream",
     "text": [
      "['haldawni', 'hyderabad', 'nainital', 'delhi', 'kanpur']\n"
     ]
    }
   ],
   "source": [
    "def selecting_cities(city):\n",
    "    return True\n",
    "\n",
    "city_names=[\"haldawni\",\"hyderabad\",\"nainital\",\"delhi\",\"kanpur\"]\n",
    "filtered_cities=list(filter(selecting_cities,city_names))\n",
    "print(filtered_cities)"
   ]
  },
  {
   "cell_type": "code",
   "execution_count": 11,
   "id": "47827861-8ee6-4ff7-ac3e-5c83fa40c59b",
   "metadata": {},
   "outputs": [
    {
     "name": "stdout",
     "output_type": "stream",
     "text": [
      "[]\n"
     ]
    }
   ],
   "source": [
    "def selecting_cities(city):\n",
    "    return False\n",
    "\n",
    "city_names=[\"haldawni\",\"hyderabad\",\"nainital\",\"delhi\",\"kanpur\"]\n",
    "filtered_cities=list(filter(selecting_cities,city_names))\n",
    "print(filtered_cities)"
   ]
  },
  {
   "cell_type": "code",
   "execution_count": 21,
   "id": "a66e4f3f-9be2-4312-9b8d-ce4a0aaf656c",
   "metadata": {},
   "outputs": [
    {
     "name": "stdout",
     "output_type": "stream",
     "text": [
      "['delhi', 'dehradun', 'dubai', 'dhamji', 'nainital', 'allahabad']\n"
     ]
    }
   ],
   "source": [
    "def selecting_cities(city):\n",
    "    return (city.startswith(\"d\") and city.endswith(\"i\")) or len(city)>6\n",
    "\n",
    "city_names=[\"delhi\",\"dehradun\",\"dubai\",\"dhamji\",\"nainital\",\"allahabad\",\"agra\"]\n",
    "filtered_cities=list(filter(selecting_cities,city_names))\n",
    "print(filtered_cities)"
   ]
  },
  {
   "cell_type": "code",
   "execution_count": 7,
   "id": "dd8a6bef-3aae-4668-a02a-7d2283c5194a",
   "metadata": {},
   "outputs": [
    {
     "name": "stdout",
     "output_type": "stream",
     "text": [
      "[200, 'hyderabad', 245, 5645]\n"
     ]
    }
   ],
   "source": [
    "def selecting_elements(element):\n",
    "    return (type(element)==str and len(element)>8) or (type(element)==int and element>100)\n",
    "\n",
    "lstx=[\"haldawni\",100,200,20,\"hyderabad\",245,5645,\"nainital\",\"delhi\",\"kanpur\"]\n",
    "filtered_list=list(filter(selecting_elements,lstx))\n",
    "print(filtered_list)"
   ]
  },
  {
   "cell_type": "code",
   "execution_count": 2,
   "id": "eaf7342c-c69b-4922-a00d-1b933346e3a7",
   "metadata": {},
   "outputs": [
    {
     "name": "stdout",
     "output_type": "stream",
     "text": [
      "[344, 'haldwani', 'allahabad', 'dehradun']\n"
     ]
    }
   ],
   "source": [
    "def selecting_elements(element):\n",
    "    if type(element) == int and element>100:\n",
    "        return True\n",
    "    elif type(element) == str and  len(element)>5:\n",
    "        return True\n",
    "    else:\n",
    "        return False\n",
    "\n",
    "lstx=[45,344,90,\"haldwani\",\"allahabad\",\"dehradun\"]\n",
    "filtered_list = list(filter(selecting_elements,lstx))\n",
    "print(filtered_list)\n",
    "\n"
   ]
  },
  {
   "cell_type": "code",
   "execution_count": null,
   "id": "4ec3e17e-2cd5-4e33-afb1-0c12358cf59a",
   "metadata": {},
   "outputs": [],
   "source": []
  }
 ],
 "metadata": {
  "kernelspec": {
   "display_name": "Python 3 (ipykernel)",
   "language": "python",
   "name": "python3"
  },
  "language_info": {
   "codemirror_mode": {
    "name": "ipython",
    "version": 3
   },
   "file_extension": ".py",
   "mimetype": "text/x-python",
   "name": "python",
   "nbconvert_exporter": "python",
   "pygments_lexer": "ipython3",
   "version": "3.12.7"
  }
 },
 "nbformat": 4,
 "nbformat_minor": 5
}
