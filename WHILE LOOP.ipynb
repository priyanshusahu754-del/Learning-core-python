{
 "cells": [
  {
   "cell_type": "code",
   "execution_count": 1,
   "id": "00a462e1-e342-49e5-91fa-ca67cb9d1546",
   "metadata": {},
   "outputs": [
    {
     "name": "stdout",
     "output_type": "stream",
     "text": [
      "1\n",
      "2\n",
      "3\n",
      "4\n"
     ]
    }
   ],
   "source": [
    "x=1\n",
    "while x<5:\n",
    "    print(x)\n",
    "    x=x+1"
   ]
  },
  {
   "cell_type": "code",
   "execution_count": 1,
   "id": "07bc2670-2582-4dd4-b6a8-ad12633bd511",
   "metadata": {},
   "outputs": [
    {
     "name": "stdout",
     "output_type": "stream",
     "text": [
      "steve jobs = picasso + edison\n",
      "10\n",
      "steve jobs = picasso + edison\n",
      "11\n",
      "steve jobs = picasso + edison\n",
      "12\n",
      "steve jobs = picasso + edison\n",
      "13\n",
      "steve jobs = picasso + edison\n",
      "14\n",
      "steve jobs = picasso + edison\n",
      "15\n",
      "steve jobs = picasso + edison\n",
      "16\n",
      "steve jobs = picasso + edison\n",
      "17\n",
      "steve jobs = picasso + edison\n",
      "18\n",
      "steve jobs = picasso + edison\n",
      "19\n"
     ]
    }
   ],
   "source": [
    "x=\"steve jobs\"\n",
    "while len(x)<20:\n",
    "    print(\"steve jobs = picasso + edison\")\n",
    "    print(len(x))\n",
    "    x = x + \" \""
   ]
  },
  {
   "cell_type": "code",
   "execution_count": null,
   "id": "f385f0be-3697-4b7a-9e0b-c87b32aacf9d",
   "metadata": {},
   "outputs": [],
   "source": [
    "while True:\n",
    "    print(\"saransh\")\n",
    "\n",
    "#INFINITE LOOP"
   ]
  },
  {
   "cell_type": "code",
   "execution_count": 5,
   "id": "08e89572-5b14-4672-befd-055d5cdb1a5d",
   "metadata": {},
   "outputs": [],
   "source": [
    "while False:\n",
    "    print(\"saransh\")\n",
    "    "
   ]
  },
  {
   "cell_type": "code",
   "execution_count": 6,
   "id": "331f9ee3-43cb-4e10-9f4c-16109323b78e",
   "metadata": {},
   "outputs": [
    {
     "name": "stdout",
     "output_type": "stream",
     "text": [
      "python is very easy\n",
      "python is very easy\n",
      "python is very easy\n",
      "python is very easy\n",
      "python is very easy\n",
      "python is very easy\n",
      "python is very easy\n",
      "python is very easy\n",
      "python is very easy\n",
      "python is very easy\n",
      "python is very easy\n",
      "python is very easy\n",
      "python is very easy\n",
      "python is very easy\n",
      "python is very easy\n",
      "python is very easy\n",
      "python is very easy\n",
      "python is very easy\n",
      "python is very easy\n",
      "python is very easy\n"
     ]
    }
   ],
   "source": [
    "for i in range(20):\n",
    "    print(\"python is very easy\")\n",
    "    "
   ]
  },
  {
   "cell_type": "code",
   "execution_count": 9,
   "id": "7a39cfdc-7426-4ea7-8f2d-c3364c5db84f",
   "metadata": {
    "scrolled": true
   },
   "outputs": [
    {
     "name": "stdout",
     "output_type": "stream",
     "text": [
      "python is very easy\n",
      "python is very easy\n",
      "python is very easy\n",
      "python is very easy\n",
      "python is very easy\n",
      "python is very easy\n",
      "python is very easy\n",
      "python is very easy\n",
      "python is very easy\n",
      "python is very easy\n",
      "python is very easy\n",
      "python is very easy\n",
      "python is very easy\n",
      "python is very easy\n",
      "python is very easy\n",
      "python is very easy\n",
      "python is very easy\n",
      "python is very easy\n",
      "python is very easy\n",
      "python is very easy\n"
     ]
    }
   ],
   "source": [
    "i=1\n",
    "while i<=20:\n",
    "    print(\"python is very easy\")\n",
    "    i=i+1"
   ]
  },
  {
   "cell_type": "code",
   "execution_count": 11,
   "id": "a6e6b40a-42b8-4ff6-a874-e77e48d0daac",
   "metadata": {},
   "outputs": [
    {
     "name": "stdout",
     "output_type": "stream",
     "text": [
      "10\n"
     ]
    }
   ],
   "source": [
    "x=10\n",
    "while x>=10:\n",
    "    print(x)\n",
    "    x=x-1"
   ]
  },
  {
   "cell_type": "code",
   "execution_count": 12,
   "id": "7aa09f02-3107-4daf-aea9-af1340279c25",
   "metadata": {},
   "outputs": [
    {
     "name": "stdout",
     "output_type": "stream",
     "text": [
      "100\n",
      "95\n",
      "90\n",
      "85\n",
      "80\n",
      "75\n",
      "70\n",
      "65\n",
      "60\n",
      "55\n",
      "50\n",
      "45\n",
      "40\n",
      "35\n",
      "30\n",
      "25\n",
      "20\n",
      "15\n",
      "10\n"
     ]
    }
   ],
   "source": [
    "x=100\n",
    "while x>=10:\n",
    "    print(x)\n",
    "    x=x-5"
   ]
  },
  {
   "cell_type": "code",
   "execution_count": 15,
   "id": "99441261-bf03-4849-bcf4-f07fbbd08451",
   "metadata": {},
   "outputs": [
    {
     "name": "stdout",
     "output_type": "stream",
     "text": [
      "100\n"
     ]
    }
   ],
   "source": [
    "x=100\n",
    "while x>=10:\n",
    "    print(x)\n",
    "    x=8"
   ]
  },
  {
   "cell_type": "code",
   "execution_count": null,
   "id": "1a4c4572-0dfe-4319-9e21-9cd4a402cdcb",
   "metadata": {},
   "outputs": [],
   "source": [
    "x=100\n",
    "while x>=10:\n",
    "    print(x)\n",
    "    x=16\n",
    "\n",
    "#INFINITE LOOP\n"
   ]
  },
  {
   "cell_type": "code",
   "execution_count": 11,
   "id": "a0f69b17-aabc-4a74-b52e-18fd2e4886b2",
   "metadata": {},
   "outputs": [
    {
     "name": "stdout",
     "output_type": "stream",
     "text": [
      "mamta\n",
      "mayank\n",
      "tushar\n",
      "nishi\n",
      "priyanshu\n",
      "abdullah\n",
      "aayush\n",
      "suhail\n",
      "aarti\n"
     ]
    }
   ],
   "source": [
    "names=[\"mamta\",\"mayank\",\"tushar\",\"nishi\",\"priyanshu\",\"abdullah\",\"aayush\",\"suhail\",\"aarti\"]\n",
    "x=0\n",
    "while x<=8:\n",
    "    print(names[x])\n",
    "    x=x+1\n",
    "    \n",
    "    "
   ]
  },
  {
   "cell_type": "code",
   "execution_count": 1,
   "id": "941a2afa-7ae7-4837-9fa8-51cf372d9ca5",
   "metadata": {},
   "outputs": [
    {
     "name": "stdout",
     "output_type": "stream",
     "text": [
      "mamta\n",
      "mayank\n",
      "tushar\n",
      "nishi\n",
      "priyanshu\n",
      "abdullah\n",
      "aayush\n",
      "suhail\n",
      "aarti\n",
      "saransh\n"
     ]
    },
    {
     "ename": "IndexError",
     "evalue": "list index out of range",
     "output_type": "error",
     "traceback": [
      "\u001b[1;31m---------------------------------------------------------------------------\u001b[0m",
      "\u001b[1;31mIndexError\u001b[0m                                Traceback (most recent call last)",
      "Cell \u001b[1;32mIn[1], line 4\u001b[0m\n\u001b[0;32m      2\u001b[0m x\u001b[38;5;241m=\u001b[39m\u001b[38;5;241m0\u001b[39m\n\u001b[0;32m      3\u001b[0m \u001b[38;5;28;01mwhile\u001b[39;00m x\u001b[38;5;241m>\u001b[39m\u001b[38;5;241m=\u001b[39m\u001b[38;5;241m0\u001b[39m:\n\u001b[1;32m----> 4\u001b[0m     \u001b[38;5;28mprint\u001b[39m(names[x])\n\u001b[0;32m      5\u001b[0m     x\u001b[38;5;241m=\u001b[39mx\u001b[38;5;241m+\u001b[39m\u001b[38;5;241m1\u001b[39m\n",
      "\u001b[1;31mIndexError\u001b[0m: list index out of range"
     ]
    }
   ],
   "source": [
    "names=[\"mamta\",\"mayank\",\"tushar\",\"nishi\",\"priyanshu\",\"abdullah\",\"aayush\",\"suhail\",\"aarti\",\"saransh\"]\n",
    "x=0\n",
    "while x>=0:\n",
    "    print(names[x])\n",
    "    x=x+1\n",
    "    "
   ]
  },
  {
   "cell_type": "code",
   "execution_count": null,
   "id": "b849a99b-3262-402f-899f-5dcac0fa75e7",
   "metadata": {},
   "outputs": [
    {
     "name": "stdin",
     "output_type": "stream",
     "text": [
      "enter first number 09\n",
      "enter second number 78\n",
      "enter operator(+,-,/,*) %\n"
     ]
    },
    {
     "name": "stdout",
     "output_type": "stream",
     "text": [
      "invalid operator\n"
     ]
    },
    {
     "name": "stdin",
     "output_type": "stream",
     "text": [
      "enter first number 7\n",
      "enter second number 5\n",
      "enter operator(+,-,/,*) *\n"
     ]
    },
    {
     "name": "stdout",
     "output_type": "stream",
     "text": [
      "result 35.0\n"
     ]
    },
    {
     "name": "stdin",
     "output_type": "stream",
     "text": [
      "enter first number 5\n",
      "enter second number 8\n",
      "enter operator(+,-,/,*) 9\n"
     ]
    },
    {
     "name": "stdout",
     "output_type": "stream",
     "text": [
      "invalid operator\n"
     ]
    }
   ],
   "source": [
    "while True:\n",
    "    num1=float(input(\"enter first number\"))\n",
    "    num2=float(input(\"enter second number\"))\n",
    "    operator=input(\"enter operator(+,-,/,*)\")\n",
    "\n",
    "    if operator==\"+\":\n",
    "        result=num1+num2\n",
    "\n",
    "    elif operator==\"-\":\n",
    "        result=num1-num2\n",
    "\n",
    "    elif operator==\"/\":\n",
    "        result=num1/num2\n",
    "\n",
    "    elif operator==\"*\":\n",
    "        result=num1*num2\n",
    "\n",
    "    else:\n",
    "        print(\"invalid operator\")\n",
    "        continue\n",
    "    print(\"result\",result)"
   ]
  },
  {
   "cell_type": "code",
   "execution_count": 7,
   "id": "0ca31c82-6a4f-4214-8c6b-f25f58576683",
   "metadata": {},
   "outputs": [],
   "source": [
    "x=12\n",
    "if x<8:\n",
    "    print(x)\n",
    "    print(\"indent\")"
   ]
  },
  {
   "cell_type": "code",
   "execution_count": 8,
   "id": "f3c37361-0679-4066-a163-9df5b4276f14",
   "metadata": {},
   "outputs": [
    {
     "name": "stdout",
     "output_type": "stream",
     "text": [
      "indent\n"
     ]
    }
   ],
   "source": [
    "x=12\n",
    "if x<8:\n",
    "    print(x)\n",
    "    \n",
    "print(\"indent\")"
   ]
  },
  {
   "cell_type": "code",
   "execution_count": 1,
   "id": "4a25fea4-6632-4e55-b5aa-1a9b83cdea21",
   "metadata": {},
   "outputs": [
    {
     "name": "stdin",
     "output_type": "stream",
     "text": [
      "enter first number 43\n",
      "enter second number 34\n",
      "enter operator(+,-,/,*) +\n"
     ]
    },
    {
     "name": "stdout",
     "output_type": "stream",
     "text": [
      "result 77.0\n"
     ]
    },
    {
     "name": "stdin",
     "output_type": "stream",
     "text": [
      "do you want to continue? yes\n"
     ]
    }
   ],
   "source": [
    "while True:\n",
    "    num1=float(input(\"enter first number\"))\n",
    "    num2=float(input(\"enter second number\"))\n",
    "    operator=input(\"enter operator(+,-,/,*)\")\n",
    "\n",
    "    if operator==\"+\":\n",
    "        result=num1+num2\n",
    "\n",
    "    elif operator==\"-\":\n",
    "        result=num1-num2\n",
    "\n",
    "    elif operator==\"/\":\n",
    "        result=num1/num2\n",
    "\n",
    "    elif operator==\"*\":\n",
    "        result=num1*num2\n",
    "\n",
    "    else:\n",
    "        print(\"invalid operator\")\n",
    "        continue\n",
    "    print(\"result\",result)\n",
    "    again=input(\"do you want to continue?\").lower()\n",
    "    if again != \"YES\":\n",
    "        break\n",
    "    else:\n",
    "        continue"
   ]
  },
  {
   "cell_type": "markdown",
   "id": "518bec3f-9a51-464e-b3a6-ebb76867b2a2",
   "metadata": {},
   "source": [
    "# FUNCTION CALCULATOR"
   ]
  },
  {
   "cell_type": "code",
   "execution_count": 2,
   "id": "7bc196d6-e942-43f0-9eb1-3ab0958f6e92",
   "metadata": {},
   "outputs": [
    {
     "name": "stdin",
     "output_type": "stream",
     "text": [
      "enter first number 34\n",
      "enter second number 34\n",
      "enter operator(+,-,/,*) +\n"
     ]
    },
    {
     "data": {
      "text/plain": [
       "68.0"
      ]
     },
     "execution_count": 2,
     "metadata": {},
     "output_type": "execute_result"
    }
   ],
   "source": [
    "def calculator():\n",
    "    num1=float(input(\"enter first number\"))\n",
    "    num2=float(input(\"enter second number\"))\n",
    "    operator=input(\"enter operator(+,-,/,*)\")\n",
    "\n",
    "    if operator==\"+\":\n",
    "        return num1+num2\n",
    "\n",
    "    elif operator==\"-\":\n",
    "        return num1-num2\n",
    "\n",
    "    elif operator==\"*\":\n",
    "        return num1*num2\n",
    "\n",
    "    elif operator==\"/\":\n",
    "        return num1/num2\n",
    "\n",
    "    else:\n",
    "        print(\"invalid operator\")\n",
    "\n",
    "calculator()"
   ]
  },
  {
   "cell_type": "code",
   "execution_count": null,
   "id": "0f4d1377-3283-46fe-9d9a-6da21fd7e76a",
   "metadata": {},
   "outputs": [
    {
     "name": "stdin",
     "output_type": "stream",
     "text": [
      "ing_1 tea leaf\n",
      "ing_2 ginger\n",
      "ing_3 boil water\n",
      "tea flavour(milk,lemon,masala) green\n"
     ]
    },
    {
     "name": "stdout",
     "output_type": "stream",
     "text": [
      "unflavoured tea\n"
     ]
    }
   ],
   "source": [
    "while True:\n",
    "    ing_1=input(\"ing_1\")\n",
    "    ing_2=input(\"ing_2\")\n",
    "    ing_3=input(\"ing_3\")\n",
    "    tea_flavour=input(\"tea flavour(milk,lemon,masala)\")\n",
    "\n",
    "    if tea_flavour==\"milk\":\n",
    "        print(\"milk_tea\")\n",
    "\n",
    "    elif tea_flavour==\"lemon\":\n",
    "        print(\"lemon_tea\")\n",
    "\n",
    "    elif tea_flavour==\"masala\":\n",
    "        print(\"masala_tea\")\n",
    "\n",
    "    else:\n",
    "        print(\"unflavoured tea\")\n",
    "\n",
    "\n",
    "\n",
    "\n"
   ]
  },
  {
   "cell_type": "markdown",
   "id": "9eb78c81-d0a0-4dae-8f05-f35bdc8693ca",
   "metadata": {},
   "source": [
    "## **concept role**\n",
    "- outer loop control the number of rows(vertical dimension)\n",
    "- inner loop control characters per row(horizontal dimension)\n",
    "- print(...,end=\" \")keep printing in the same line\n",
    "- print() moves to the next line after a row is done\n",
    "- logic in inner decides what to print *,number,space,etc\n",
    "- condition (if)used for shapes like hollow boxes ,diagonal etc"
   ]
  },
  {
   "cell_type": "markdown",
   "id": "7c28a03f-59e8-47fe-b69f-81deb47cf7a1",
   "metadata": {},
   "source": [
    "# ***pro tips to practice***\n",
    "start with:\n",
    "\n",
    "for i in range(n):for j in range(m):print(\"?\",end=\" \")print()\n",
    "\n",
    "then change \n",
    "\n",
    "? = i,j,ijetc "
   ]
  },
  {
   "cell_type": "code",
   "execution_count": null,
   "id": "a2321523-dd8b-49fc-bb42-bff87b23486a",
   "metadata": {},
   "outputs": [],
   "source": []
  }
 ],
 "metadata": {
  "kernelspec": {
   "display_name": "Python 3 (ipykernel)",
   "language": "python",
   "name": "python3"
  },
  "language_info": {
   "codemirror_mode": {
    "name": "ipython",
    "version": 3
   },
   "file_extension": ".py",
   "mimetype": "text/x-python",
   "name": "python",
   "nbconvert_exporter": "python",
   "pygments_lexer": "ipython3",
   "version": "3.12.7"
  }
 },
 "nbformat": 4,
 "nbformat_minor": 5
}
