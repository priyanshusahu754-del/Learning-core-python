{
 "cells": [
  {
   "cell_type": "markdown",
   "id": "e61413ea-b3dc-4644-9c45-5453a7f70974",
   "metadata": {},
   "source": [
    "# FUNCTION"
   ]
  },
  {
   "cell_type": "code",
   "execution_count": 10,
   "id": "2d51c89c-d1c6-4490-a000-458034391e99",
   "metadata": {},
   "outputs": [],
   "source": [
    "###    def function_name( parameter1 , parameter2 , parameter3 .......):\n",
    "###        ...code....\n",
    "### code kitni nhi line ka ho sakta hai \n",
    "### 1-function = block of code \n",
    "### 2-function use = call function name"
   ]
  },
  {
   "cell_type": "code",
   "execution_count": 1,
   "id": "c8eee477-9568-4eef-bba7-3454f88f4746",
   "metadata": {},
   "outputs": [],
   "source": [
    "def greet():\n",
    "    print(\"greeting from vijAI robotics\")\n",
    "    \n"
   ]
  },
  {
   "cell_type": "code",
   "execution_count": 3,
   "id": "e4d1cbdd-2944-488e-9efd-2e9063606f23",
   "metadata": {},
   "outputs": [
    {
     "name": "stdout",
     "output_type": "stream",
     "text": [
      "greeting from vijAI robotics\n"
     ]
    }
   ],
   "source": [
    "greet()"
   ]
  },
  {
   "cell_type": "code",
   "execution_count": 5,
   "id": "0420b0c9-b339-4cd9-bc23-c6b63ac4ca19",
   "metadata": {},
   "outputs": [
    {
     "name": "stdout",
     "output_type": "stream",
     "text": [
      "welcome priyanshu\n",
      "greeting from vijAI robotics\n",
      "welcome mayank\n",
      "greeting from vijAI robotics\n",
      "welcome shreya\n",
      "greeting from vijAI robotics\n"
     ]
    }
   ],
   "source": [
    "name1=\"priyanshu\"\n",
    "name2=\"mayank\"\n",
    "name3=\"shreya\"\n",
    "print(\"welcome\",name1)\n",
    "print(\"greeting from vijAI robotics\")\n",
    "print(\"welcome\",name2)\n",
    "print(\"greeting from vijAI robotics\")\n",
    "print(\"welcome\",name3)\n",
    "print(\"greeting from vijAI robotics\")"
   ]
  },
  {
   "cell_type": "code",
   "execution_count": 7,
   "id": "125e9da5-4c49-4c26-89b5-e47485ad25f3",
   "metadata": {},
   "outputs": [
    {
     "name": "stdout",
     "output_type": "stream",
     "text": [
      "welcome priyanshu\n",
      "greeting from vijAI robotics\n",
      "welcome mayank\n",
      "greeting from vijAI robotics\n",
      "welcome shreya\n",
      "greeting from vijAI robotics\n"
     ]
    }
   ],
   "source": [
    "name1=\"priyanshu\"\n",
    "name2=\"mayank\"\n",
    "name3=\"shreya\"\n",
    "print(\"welcome\",name1)\n",
    "greet()\n",
    "print(\"welcome\",name2)\n",
    "greet()\n",
    "print(\"welcome\",name3)\n",
    "greet()"
   ]
  },
  {
   "cell_type": "code",
   "execution_count": 9,
   "id": "e9c0108e-b3b2-4b25-bcb9-dc8731088a64",
   "metadata": {},
   "outputs": [
    {
     "name": "stdout",
     "output_type": "stream",
     "text": [
      "welcome priyanshu\n",
      "greeting from vijAI robotics\n",
      "welcome mayank\n",
      "greeting from vijAI robotics\n",
      "welcome shreya\n",
      "greeting from vijAI robotics\n"
     ]
    }
   ],
   "source": [
    "def greet_student(name):\n",
    "    print(\"welcome\",name)\n",
    "    print(\"greeting from vijAI robotics\")\n",
    "\n",
    "name1=\"priyanshu\"\n",
    "name2=\"mayank\"\n",
    "name3=\"shreya\"\n",
    "\n",
    "greet_student(name1)\n",
    "greet_student(name2)\n",
    "greet_student(name3)"
   ]
  },
  {
   "cell_type": "code",
   "execution_count": null,
   "id": "314d4dd0-2d65-47d9-9fcf-4e3083e2b2e6",
   "metadata": {},
   "outputs": [],
   "source": [
    "course_name=\"data science\"\n",
    "batch_timing=\"10am\"\n"
   ]
  },
  {
   "cell_type": "code",
   "execution_count": 1,
   "id": "8856a2de-2227-4851-9cc5-919bd6ab320c",
   "metadata": {},
   "outputs": [
    {
     "ename": "TypeError",
     "evalue": "type() takes 1 or 3 arguments",
     "output_type": "error",
     "traceback": [
      "\u001b[1;31m---------------------------------------------------------------------------\u001b[0m",
      "\u001b[1;31mTypeError\u001b[0m                                 Traceback (most recent call last)",
      "Cell \u001b[1;32mIn[1], line 1\u001b[0m\n\u001b[1;32m----> 1\u001b[0m \u001b[38;5;28mtype\u001b[39m()\n",
      "\u001b[1;31mTypeError\u001b[0m: type() takes 1 or 3 arguments"
     ]
    }
   ],
   "source": [
    "type()"
   ]
  },
  {
   "cell_type": "code",
   "execution_count": 3,
   "id": "e2e57fe7-b719-4cec-bef1-c290c919bef7",
   "metadata": {},
   "outputs": [
    {
     "ename": "TypeError",
     "evalue": "greet() takes 0 positional arguments but 1 was given",
     "output_type": "error",
     "traceback": [
      "\u001b[1;31m---------------------------------------------------------------------------\u001b[0m",
      "\u001b[1;31mTypeError\u001b[0m                                 Traceback (most recent call last)",
      "Cell \u001b[1;32mIn[3], line 4\u001b[0m\n\u001b[0;32m      1\u001b[0m \u001b[38;5;28;01mdef\u001b[39;00m \u001b[38;5;21mgreet\u001b[39m():\n\u001b[0;32m      2\u001b[0m     \u001b[38;5;28mprint\u001b[39m(\u001b[38;5;124m\"\u001b[39m\u001b[38;5;124mwelcome to ABC\u001b[39m\u001b[38;5;124m\"\u001b[39m)\n\u001b[1;32m----> 4\u001b[0m greet(\u001b[38;5;124m\"\u001b[39m\u001b[38;5;124mpankaj\u001b[39m\u001b[38;5;124m\"\u001b[39m)\n",
      "\u001b[1;31mTypeError\u001b[0m: greet() takes 0 positional arguments but 1 was given"
     ]
    }
   ],
   "source": [
    "def greet():\n",
    "    print(\"welcome to ABC\")\n",
    "\n",
    "greet(\"pankaj\")\n",
    "    "
   ]
  },
  {
   "cell_type": "code",
   "execution_count": 4,
   "id": "de3ceeac-8a8b-4c90-b6fb-50f8ca4ada92",
   "metadata": {},
   "outputs": [
    {
     "name": "stdout",
     "output_type": "stream",
     "text": [
      "welcome to ABC\n"
     ]
    }
   ],
   "source": [
    "def greet(name):\n",
    "    print(\"welcome to ABC\")\n",
    "\n",
    "greet(\"pankaj\")\n",
    "    "
   ]
  },
  {
   "cell_type": "code",
   "execution_count": 5,
   "id": "7496e5a4-f0f2-4bab-8a29-4a79cb408188",
   "metadata": {},
   "outputs": [
    {
     "ename": "TypeError",
     "evalue": "greet() missing 1 required positional argument: 'name'",
     "output_type": "error",
     "traceback": [
      "\u001b[1;31m---------------------------------------------------------------------------\u001b[0m",
      "\u001b[1;31mTypeError\u001b[0m                                 Traceback (most recent call last)",
      "Cell \u001b[1;32mIn[5], line 4\u001b[0m\n\u001b[0;32m      1\u001b[0m \u001b[38;5;28;01mdef\u001b[39;00m \u001b[38;5;21mgreet\u001b[39m(name):\n\u001b[0;32m      2\u001b[0m     \u001b[38;5;28mprint\u001b[39m(\u001b[38;5;124m\"\u001b[39m\u001b[38;5;124mwelcome to ABC\u001b[39m\u001b[38;5;124m\"\u001b[39m)\n\u001b[1;32m----> 4\u001b[0m greet()\n",
      "\u001b[1;31mTypeError\u001b[0m: greet() missing 1 required positional argument: 'name'"
     ]
    }
   ],
   "source": [
    "def greet(name):\n",
    "    print(\"welcome to ABC\")\n",
    "\n",
    "greet()\n",
    "    "
   ]
  },
  {
   "cell_type": "code",
   "execution_count": 6,
   "id": "4ee79512-ed97-4db0-932b-1c26012ee298",
   "metadata": {},
   "outputs": [
    {
     "name": "stdout",
     "output_type": "stream",
     "text": [
      "welcome to ABC\n"
     ]
    }
   ],
   "source": [
    "def greet(name):\n",
    "    print(\"welcome to ABC\")\n",
    "\n",
    "greet(\"\")\n",
    "    "
   ]
  },
  {
   "cell_type": "code",
   "execution_count": 1,
   "id": "0133dd21-2cea-43aa-b622-132ed93a289f",
   "metadata": {},
   "outputs": [
    {
     "name": "stdout",
     "output_type": "stream",
     "text": [
      "welcome to ABC\n"
     ]
    }
   ],
   "source": [
    "def greet(name):\n",
    "    print(\"welcome to ABC\")\n",
    "\n",
    "greet([])\n",
    "    "
   ]
  },
  {
   "cell_type": "code",
   "execution_count": 10,
   "id": "55602562-6e94-491a-aff8-18d314c5e628",
   "metadata": {},
   "outputs": [
    {
     "name": "stdout",
     "output_type": "stream",
     "text": [
      "welcome to ABC\n"
     ]
    }
   ],
   "source": [
    "def greet(name,ID):\n",
    "    print(\"welcome to ABC\")\n",
    "\n",
    "greet(\"pankaj\",\"vij1\")\n",
    "    "
   ]
  },
  {
   "cell_type": "code",
   "execution_count": 11,
   "id": "b36aed08-1288-41fd-afd1-f5bd102cceeb",
   "metadata": {},
   "outputs": [
    {
     "ename": "TypeError",
     "evalue": "greet() missing 1 required positional argument: 'ID'",
     "output_type": "error",
     "traceback": [
      "\u001b[1;31m---------------------------------------------------------------------------\u001b[0m",
      "\u001b[1;31mTypeError\u001b[0m                                 Traceback (most recent call last)",
      "Cell \u001b[1;32mIn[11], line 4\u001b[0m\n\u001b[0;32m      1\u001b[0m \u001b[38;5;28;01mdef\u001b[39;00m \u001b[38;5;21mgreet\u001b[39m(name,ID):\n\u001b[0;32m      2\u001b[0m     \u001b[38;5;28mprint\u001b[39m(\u001b[38;5;124m\"\u001b[39m\u001b[38;5;124mwelcome to ABC\u001b[39m\u001b[38;5;124m\"\u001b[39m)\n\u001b[1;32m----> 4\u001b[0m greet(\u001b[38;5;124m\"\u001b[39m\u001b[38;5;124mpankaj\u001b[39m\u001b[38;5;124m\"\u001b[39m)\n",
      "\u001b[1;31mTypeError\u001b[0m: greet() missing 1 required positional argument: 'ID'"
     ]
    }
   ],
   "source": [
    "def greet(name,ID):\n",
    "    print(\"welcome to ABC\")\n",
    "\n",
    "greet(\"pankaj\")\n",
    "    "
   ]
  },
  {
   "cell_type": "code",
   "execution_count": 12,
   "id": "e7fbfc9f-e97c-41e0-bff5-ae71cfd09b88",
   "metadata": {},
   "outputs": [
    {
     "ename": "TypeError",
     "evalue": "greet() missing 2 required positional arguments: 'name' and 'ID'",
     "output_type": "error",
     "traceback": [
      "\u001b[1;31m---------------------------------------------------------------------------\u001b[0m",
      "\u001b[1;31mTypeError\u001b[0m                                 Traceback (most recent call last)",
      "Cell \u001b[1;32mIn[12], line 4\u001b[0m\n\u001b[0;32m      1\u001b[0m \u001b[38;5;28;01mdef\u001b[39;00m \u001b[38;5;21mgreet\u001b[39m(name,ID):\n\u001b[0;32m      2\u001b[0m     \u001b[38;5;28mprint\u001b[39m(\u001b[38;5;124m\"\u001b[39m\u001b[38;5;124mwelcome to ABC\u001b[39m\u001b[38;5;124m\"\u001b[39m)\n\u001b[1;32m----> 4\u001b[0m greet()\n",
      "\u001b[1;31mTypeError\u001b[0m: greet() missing 2 required positional arguments: 'name' and 'ID'"
     ]
    }
   ],
   "source": [
    "def greet(name,ID):\n",
    "    print(\"welcome to ABC\")\n",
    "\n",
    "greet()\n",
    "    "
   ]
  },
  {
   "cell_type": "code",
   "execution_count": 14,
   "id": "fa9ffa98-3436-4f9a-ba5e-72289cee834b",
   "metadata": {},
   "outputs": [
    {
     "name": "stdout",
     "output_type": "stream",
     "text": [
      "welcome to ABC pankaj vij1\n"
     ]
    }
   ],
   "source": [
    "def greet(name,ID):\n",
    "    print(\"welcome to ABC\",name,ID)\n",
    "\n",
    "greet(\"pankaj\",\"vij1\")\n",
    "    "
   ]
  },
  {
   "cell_type": "code",
   "execution_count": 15,
   "id": "acb138c0-cce1-46af-83fd-8ace7d644cb7",
   "metadata": {},
   "outputs": [
    {
     "name": "stdout",
     "output_type": "stream",
     "text": [
      "welcome to ABC pankaj vij1\n",
      "welcome to ABC suraj vij1\n"
     ]
    }
   ],
   "source": [
    "def greet(name,ID):\n",
    "    print(\"welcome to ABC\",name,ID)\n",
    "\n",
    "greet(\"pankaj\",\"vij1\")\n",
    "greet(\"suraj\",\"vij1\")"
   ]
  },
  {
   "cell_type": "code",
   "execution_count": 17,
   "id": "5898f455-6ebf-4316-9078-3240990b2a70",
   "metadata": {},
   "outputs": [
    {
     "name": "stdout",
     "output_type": "stream",
     "text": [
      "welcome to ABC pankaj vij1\n",
      "welcome to ABC suraj vij1\n"
     ]
    }
   ],
   "source": [
    "def greet(name,ID):\n",
    "    print(\"welcome to ABC\",name,ID)\n",
    "    std_id=name + \"_\" + ID\n",
    "    \n",
    "greet(\"pankaj\",\"vij1\")\n",
    "greet(\"suraj\",\"vij1\")"
   ]
  },
  {
   "cell_type": "code",
   "execution_count": 19,
   "id": "adbd50df-94c2-4d18-a86d-7e84a640a214",
   "metadata": {},
   "outputs": [
    {
     "name": "stdout",
     "output_type": "stream",
     "text": [
      "welcome to ABC pankaj vij1\n",
      "pankaj_vij1\n",
      "welcome to ABC suraj vij1\n",
      "suraj_vij1\n"
     ]
    }
   ],
   "source": [
    "def greet(name,ID):\n",
    "    print(\"welcome to ABC\",name,ID)\n",
    "    std_id=name + \"_\" + ID\n",
    "    print(std_id)\n",
    "    \n",
    "greet(\"pankaj\",\"vij1\")\n",
    "greet(\"suraj\",\"vij1\")"
   ]
  },
  {
   "cell_type": "markdown",
   "id": "6f7c23fd-c0fb-4888-9518-33b2d00c3634",
   "metadata": {},
   "source": [
    "# **RETURN STATEMENT**"
   ]
  },
  {
   "cell_type": "code",
   "execution_count": 11,
   "id": "6bdbbb92-1127-4710-9ad7-55e93f75258f",
   "metadata": {},
   "outputs": [
    {
     "name": "stdout",
     "output_type": "stream",
     "text": [
      "priyanshu is enroll\n",
      "priyanshu your student is priyanshu_vij1\n"
     ]
    }
   ],
   "source": [
    "def enroll(name,id):\n",
    "    print(name,\"is enroll\")\n",
    "    std_id=name+\"_\"+id\n",
    "    return std_id\n",
    "name1=\"priyanshu\"\n",
    "id=\"vij1\"\n",
    "std1=enroll(name1,id)\n",
    "print(name1,\"your student is\",std1)"
   ]
  },
  {
   "cell_type": "code",
   "execution_count": 12,
   "id": "0c70abfa-a74f-46ee-bc7f-27674e4bd81f",
   "metadata": {},
   "outputs": [
    {
     "name": "stdout",
     "output_type": "stream",
     "text": [
      "priyanshu is enroll\n",
      "priyanshu your student is ('priyanshu_vij1', 'vijai robotics')\n"
     ]
    }
   ],
   "source": [
    "def enroll(name,id):\n",
    "    print(name,\"is enroll\")\n",
    "    std_id=name+\"_\"+id\n",
    "    inst_name=\"vijai robotics\"\n",
    "    return std_id,inst_name\n",
    "name1=\"priyanshu\"\n",
    "id=\"vij1\"\n",
    "std1=enroll(name1,id)\n",
    "print(name1,\"your student is\",std1)"
   ]
  },
  {
   "cell_type": "code",
   "execution_count": 16,
   "id": "ad391792-3595-464d-bfb4-bab420cc5182",
   "metadata": {},
   "outputs": [
    {
     "name": "stdout",
     "output_type": "stream",
     "text": [
      "priyanshu_vij1\n"
     ]
    }
   ],
   "source": [
    "print(std1)"
   ]
  },
  {
   "cell_type": "code",
   "execution_count": 7,
   "id": "4261a8ce-4756-486f-a0ca-22d36b85d669",
   "metadata": {},
   "outputs": [
    {
     "name": "stdout",
     "output_type": "stream",
     "text": [
      "priyanshu is enroll\n",
      "priyanshu your student is priyanshu_vij1\n"
     ]
    }
   ],
   "source": [
    "def enroll(name,id):\n",
    "    print(name,\"is enroll\")\n",
    "    std_id=name+\"_\"+id\n",
    "    inst_name=\"vijai robotics\"\n",
    "    return std_id,inst_name\n",
    "name1=\"priyanshu\"\n",
    "id=\"vij1\"\n",
    "std1,std_inst=enroll(name1,id)\n",
    "print(name1,\"your student is\",std1)"
   ]
  },
  {
   "cell_type": "code",
   "execution_count": 8,
   "id": "d55bc0a4-8dd4-4596-858a-81546777bcbe",
   "metadata": {},
   "outputs": [
    {
     "ename": "NameError",
     "evalue": "name 'std_id' is not defined",
     "output_type": "error",
     "traceback": [
      "\u001b[1;31m---------------------------------------------------------------------------\u001b[0m",
      "\u001b[1;31mNameError\u001b[0m                                 Traceback (most recent call last)",
      "Cell \u001b[1;32mIn[8], line 1\u001b[0m\n\u001b[1;32m----> 1\u001b[0m \u001b[38;5;28mprint\u001b[39m(std_id,std_inst)\n",
      "\u001b[1;31mNameError\u001b[0m: name 'std_id' is not defined"
     ]
    }
   ],
   "source": [
    "print(std_id,std_inst)"
   ]
  },
  {
   "cell_type": "code",
   "execution_count": 3,
   "id": "27ce15e8-4446-4cd7-ad26-aafb8a5e746c",
   "metadata": {},
   "outputs": [
    {
     "name": "stdout",
     "output_type": "stream",
     "text": [
      "<class 'int'>\n"
     ]
    }
   ],
   "source": [
    "x=18\n",
    "y=type(x)\n",
    "print(y)"
   ]
  },
  {
   "cell_type": "code",
   "execution_count": 4,
   "id": "574390fa-ac3d-47b8-bb54-9b5f8845169f",
   "metadata": {},
   "outputs": [],
   "source": [
    "x=18\n",
    "type(x)\n",
    "z=10"
   ]
  },
  {
   "cell_type": "code",
   "execution_count": 26,
   "id": "0932569b-7a18-461c-b090-018570d1929e",
   "metadata": {},
   "outputs": [
    {
     "name": "stdout",
     "output_type": "stream",
     "text": [
      "tushar is enrolled\n",
      "tushar_vij1\n",
      "nishi is enrolled\n",
      "nishi_vij2\n",
      "None\n",
      "None\n"
     ]
    }
   ],
   "source": [
    "def enroll(name,id):\n",
    "    print(name,\"is enrolled\")\n",
    "    std_id=name+\"_\"+id\n",
    "    print(std_id)\n",
    "name1=\"tushar\"\n",
    "id1=\"vij1\"\n",
    "adm_id1=enroll(name1,id1)\n",
    "\n",
    "name2=\"nishi\"\n",
    "id2=\"vij2\"\n",
    "adm_id2=enroll(name2,id2)\n",
    "\n",
    "print(adm_id1)\n",
    "print(adm_id2)"
   ]
  },
  {
   "cell_type": "code",
   "execution_count": 28,
   "id": "fbb8b120-1d88-48d7-aaa5-6fefad9045ee",
   "metadata": {},
   "outputs": [
    {
     "name": "stdout",
     "output_type": "stream",
     "text": [
      "tushar is enrolled\n",
      "tushar_vij1\n",
      "nishi is enrolled\n",
      "nishi_vij2\n",
      "1. tushar_vij1\n",
      "2. nishi_vij2\n"
     ]
    }
   ],
   "source": [
    "def enroll(name,id):\n",
    "    print(name,\"is enrolled\")\n",
    "    std_id=name+\"_\"+id\n",
    "    print(std_id)\n",
    "    return std_id\n",
    "name1=\"tushar\"\n",
    "id1=\"vij1\"\n",
    "adm_id1=enroll(name1,id1)\n",
    "\n",
    "name2=\"nishi\"\n",
    "id2=\"vij2\"\n",
    "adm_id2=enroll(name2,id2)\n",
    "\n",
    "print(\"1.\",adm_id1)\n",
    "print(\"2.\",adm_id2)"
   ]
  },
  {
   "cell_type": "code",
   "execution_count": 24,
   "id": "f62fd9c5-7558-44f4-a5eb-d067a2c7e723",
   "metadata": {},
   "outputs": [
    {
     "name": "stdout",
     "output_type": "stream",
     "text": [
      "tushar is enrolled\n",
      "nishi is enrolled\n",
      "tushar_vij1\n",
      "nishi_vij2\n"
     ]
    }
   ],
   "source": [
    "def enroll(name,id):\n",
    "    print(name,\"is enrolled\")\n",
    "    std_id=name+\"_\"+id\n",
    "    return std_id\n",
    "name1=\"tushar\"\n",
    "id1=\"vij1\"\n",
    "std_id1=enroll(name1,id1)\n",
    "\n",
    "name2=\"nishi\"\n",
    "id2=\"vij2\"\n",
    "std_id2=enroll(name2,id2)\n",
    "\n",
    "print(std_id1)\n",
    "print(std_id2)"
   ]
  },
  {
   "cell_type": "code",
   "execution_count": 14,
   "id": "949c6050-ba4b-4739-8b13-573f31f823c8",
   "metadata": {},
   "outputs": [
    {
     "name": "stdout",
     "output_type": "stream",
     "text": [
      "tushar is enrolled\n",
      "tushar your student is vij1\n",
      "nishi is enrolled\n",
      "nishi your student is vij2\n"
     ]
    }
   ],
   "source": [
    "def enroll(name,id):\n",
    "    print(name,\"is enrolled\")\n",
    "    std_id=name+\"_\"+id\n",
    "    return std_id\n",
    "name1=\"tushar\"\n",
    "id1=\"vij1\"\n",
    "std_id1=enroll(name1,id1)\n",
    "print(name1,\"your student is\",id1)\n",
    "\n",
    "name2=\"nishi\"\n",
    "id2=\"vij2\"\n",
    "std_id2=enroll(name2,id2)\n",
    "print(name2,\"your student is\",id2)"
   ]
  },
  {
   "cell_type": "markdown",
   "id": "924c6f03-07f4-4c75-a82e-01fc731b9995",
   "metadata": {},
   "source": [
    "# return ka use tab karna hoga jab hume diff values use karni hau same elelment ki agr print karenge to ek baar hi use hoga code"
   ]
  },
  {
   "cell_type": "code",
   "execution_count": 18,
   "id": "60ff37aa-5b1a-4256-b071-3f9f50c3c231",
   "metadata": {},
   "outputs": [
    {
     "name": "stdout",
     "output_type": "stream",
     "text": [
      "tushar is enrolled\n",
      "nishi is enrolled\n"
     ]
    },
    {
     "data": {
      "text/plain": [
       "'nishi_vij2'"
      ]
     },
     "execution_count": 18,
     "metadata": {},
     "output_type": "execute_result"
    }
   ],
   "source": [
    "def enroll(name,id):\n",
    "    print(name,\"is enrolled\")\n",
    "    std_id=name+\"_\"+id\n",
    "    return std_id\n",
    "name1=\"tushar\"\n",
    "id1=\"vij1\"\n",
    "enroll(name1,id1)\n",
    "\n",
    "name2=\"nishi\"\n",
    "id2=\"vij2\"\n",
    "enroll(name2,id2)"
   ]
  },
  {
   "cell_type": "code",
   "execution_count": 1,
   "id": "b8a61c68-1359-4608-bc46-dd72676b4178",
   "metadata": {},
   "outputs": [],
   "source": [
    "def enroll_student():\n",
    "    name=input(\"enter the name of the student\")\n",
    "    enroll_date=input(\"enter date of enrollment\")\n",
    "    student_id=name+\"_\"+\"vij2025\"\n",
    "    return name,enroll_date,student_id"
   ]
  },
  {
   "cell_type": "code",
   "execution_count": 2,
   "id": "9e885dc8-b255-4450-b1d0-c2eb4a8dc8c0",
   "metadata": {},
   "outputs": [
    {
     "name": "stdin",
     "output_type": "stream",
     "text": [
      "enter the name of the student priyanshu \n",
      "enter date of enrollment 20\n"
     ]
    }
   ],
   "source": [
    "name1,enroll_date1,student_id1 = enroll_student()"
   ]
  },
  {
   "cell_type": "code",
   "execution_count": 7,
   "id": "37bb679a-5caa-4cbd-a00b-cd5374f2c9e8",
   "metadata": {},
   "outputs": [
    {
     "name": "stdout",
     "output_type": "stream",
     "text": [
      "name of student: priyanshu \n",
      "enrollment date of student: 20\n",
      "studet_id: priyanshu _vij2025\n"
     ]
    }
   ],
   "source": [
    "print(\"name of student:\",name1)\n",
    "print(\"enrollment date of student:\",enroll_date1)\n",
    "print(\"studet_id:\",student_id1)"
   ]
  },
  {
   "cell_type": "code",
   "execution_count": 14,
   "id": "5354c81d-9db5-4513-91ac-0bb434c9a76b",
   "metadata": {},
   "outputs": [
    {
     "name": "stdin",
     "output_type": "stream",
     "text": [
      "enter the name of the student priyanshu\n",
      "enter date of enrollment 20/09/25\n"
     ]
    }
   ],
   "source": [
    "def enroll_student():\n",
    "    name=input(\"enter the name of the student\")\n",
    "    enrollment_date=input(\"enter date of enrollment\")\n",
    "\n",
    "    if enrollment_date[6:]==\"2025\":\n",
    "        student_id=name+\"_\"+\"vij_2025\"\n",
    "    else:\n",
    "        student_id=name+\"_\"+\"vij_2024\"\n",
    "    return name,enrollment_date,student_id\n",
    "\n",
    "name2,enroll_date2,student_id2=enroll_student()"
   ]
  },
  {
   "cell_type": "code",
   "execution_count": 17,
   "id": "44976621-f804-4613-b066-ba2c535b5fc2",
   "metadata": {},
   "outputs": [
    {
     "name": "stdout",
     "output_type": "stream",
     "text": [
      "priyanshu priyanshu_vij_2024 20/09/25\n"
     ]
    }
   ],
   "source": [
    "print(name2,student_id2,enroll_date2)"
   ]
  },
  {
   "cell_type": "code",
   "execution_count": 19,
   "id": "be628602-d9af-48f4-ae0e-f36f3bae73d1",
   "metadata": {},
   "outputs": [
    {
     "name": "stdout",
     "output_type": "stream",
     "text": [
      "9\n",
      "4\n",
      "None\n"
     ]
    }
   ],
   "source": [
    "def square(x):\n",
    "    print(x**2)\n",
    "a=square(3)\n",
    "square(2)\n",
    "print(a)"
   ]
  },
  {
   "cell_type": "code",
   "execution_count": 22,
   "id": "5ff02d4a-6570-4a6b-9fe5-68bf6145f95e",
   "metadata": {},
   "outputs": [
    {
     "name": "stdout",
     "output_type": "stream",
     "text": [
      "9\n"
     ]
    }
   ],
   "source": [
    "def square(x):\n",
    "    return x**2\n",
    "a=square(3)\n",
    "square(2)\n",
    "print(a)"
   ]
  },
  {
   "cell_type": "code",
   "execution_count": null,
   "id": "6f05dcd8-61ac-4e0e-a6ec-a915d59b5013",
   "metadata": {},
   "outputs": [],
   "source": []
  }
 ],
 "metadata": {
  "kernelspec": {
   "display_name": "Python 3 (ipykernel)",
   "language": "python",
   "name": "python3"
  },
  "language_info": {
   "codemirror_mode": {
    "name": "ipython",
    "version": 3
   },
   "file_extension": ".py",
   "mimetype": "text/x-python",
   "name": "python",
   "nbconvert_exporter": "python",
   "pygments_lexer": "ipython3",
   "version": "3.12.7"
  }
 },
 "nbformat": 4,
 "nbformat_minor": 5
}
