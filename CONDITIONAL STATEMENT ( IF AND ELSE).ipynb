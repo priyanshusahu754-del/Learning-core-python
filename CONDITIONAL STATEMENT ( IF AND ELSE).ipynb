{
 "cells": [
  {
   "cell_type": "markdown",
   "id": "b20f7613-22ff-4ec8-bbb9-a2edac3bb594",
   "metadata": {},
   "source": [
    "# 1 What are Conditional Statements ?"
   ]
  },
  {
   "cell_type": "markdown",
   "id": "6293b648-fe2d-4820-8fbb-bd1c3dd42d96",
   "metadata": {},
   "source": [
    "### Conditional statements in Python are used to execute certain blocks of code based on specific\n",
    " conditions. These statements help control the flow of a program, making it behave differently in\n",
    " different situations."
   ]
  },
  {
   "cell_type": "markdown",
   "id": "a6b0a944-d9d3-4407-a7df-9a0d92771385",
   "metadata": {},
   "source": [
    "# 1 1. if statement: The First Gatekeeper\n",
    "### Concept: Execute a block of code only if a specific condition is true."
   ]
  },
  {
   "cell_type": "markdown",
   "id": "cdccac4c-064b-410f-81cf-dd201174dff5",
   "metadata": {},
   "source": [
    "# Syntax\n",
    "### **if condition:**\n",
    "### execute this block if condition is True"
   ]
  },
  {
   "cell_type": "markdown",
   "id": "ae328966-225d-4bc9-a62d-877e88965168",
   "metadata": {},
   "source": [
    "## EXAMPLES"
   ]
  },
  {
   "cell_type": "code",
   "execution_count": 2,
   "id": "78aca1b0-e793-4829-a63c-11d03edfb1e7",
   "metadata": {},
   "outputs": [],
   "source": [
    "# Temperature Warning\n",
    "\n",
    "temperature = 25   # Try changing values of temperature\n",
    "if temperature > 30:\n",
    "    print(\"It's really hot today!\") # Here the message prints only if temperature exceeds 30."
   ]
  },
  {
   "cell_type": "code",
   "execution_count": 3,
   "id": "ee77fa31-dd11-4069-b86f-d213980b7f27",
   "metadata": {},
   "outputs": [
    {
     "name": "stdout",
     "output_type": "stream",
     "text": [
      "It's really hot today!\n"
     ]
    }
   ],
   "source": [
    "# Temperature Warning\n",
    "\n",
    "temperature = 35   # Try changing values of temperature\n",
    "if temperature > 30:\n",
    "    print(\"It's really hot today!\") # Here the message prints only if temperature exceeds 30."
   ]
  },
  {
   "cell_type": "code",
   "execution_count": 4,
   "id": "b17fab52-9608-470a-ac69-3580281c1ef0",
   "metadata": {},
   "outputs": [
    {
     "name": "stdout",
     "output_type": "stream",
     "text": [
      "It's really hot today!\n"
     ]
    }
   ],
   "source": [
    "# Temperature Warning\n",
    "\n",
    "temperature = 30   # Try changing values of temperature\n",
    "if temperature >= 30:\n",
    "    print(\"It's really hot today!\") # Here the message prints only if temperature exceeds 30."
   ]
  },
  {
   "cell_type": "code",
   "execution_count": 5,
   "id": "878591ac-f2a7-4aa0-8865-966bad46142f",
   "metadata": {},
   "outputs": [],
   "source": [
    "# Temperature Warning\n",
    "\n",
    "temperature = 30   # Try changing values of temperature\n",
    "if temperature != 30:\n",
    "    print(\"It's really hot today!\") # Here the message prints only if temperature exceeds 30."
   ]
  },
  {
   "cell_type": "code",
   "execution_count": 6,
   "id": "63f238c2-2390-4f1e-840b-39e3381ed76d",
   "metadata": {},
   "outputs": [
    {
     "name": "stdout",
     "output_type": "stream",
     "text": [
      "It's really hot today!\n"
     ]
    }
   ],
   "source": [
    "# Temperature Warning\n",
    "\n",
    "temperature = 30   # Try changing values of temperature\n",
    "if temperature <= 30:\n",
    "    print(\"It's really hot today!\") # Here the message prints only if temperature exceeds 30."
   ]
  },
  {
   "cell_type": "code",
   "execution_count": 3,
   "id": "72946900-b9e6-4127-ac2a-ca0c9614ff65",
   "metadata": {},
   "outputs": [
    {
     "name": "stdout",
     "output_type": "stream",
     "text": [
      "Positive number\n"
     ]
    }
   ],
   "source": [
    "# Checking a positive number\n",
    "number = 10\n",
    "if number > 0:\n",
    "    print(\"Positive number\")"
   ]
  },
  {
   "cell_type": "code",
   "execution_count": 9,
   "id": "35886523-8251-4405-942b-f8e5900351ff",
   "metadata": {},
   "outputs": [
    {
     "name": "stdout",
     "output_type": "stream",
     "text": [
      "Positive number\n"
     ]
    }
   ],
   "source": [
    "# Checking a positive number\n",
    "number = 10\n",
    "if number >= 0 and number==10:\n",
    "    print(\"Positive number\")"
   ]
  },
  {
   "cell_type": "code",
   "execution_count": 4,
   "id": "6f3de29e-ebe7-4437-9821-a116d7d9b55a",
   "metadata": {},
   "outputs": [
    {
     "name": "stdout",
     "output_type": "stream",
     "text": [
      "You are eligible to vote.\n"
     ]
    }
   ],
   "source": [
    "# Verifying a minimum age\n",
    "age = 22\n",
    "if age >= 18:\n",
    "    print(\"You are eligible to vote.\")"
   ]
  },
  {
   "cell_type": "code",
   "execution_count": 5,
   "id": "fe5e9f1b-7ccb-4ff1-a53f-79363d9869b7",
   "metadata": {},
   "outputs": [
    {
     "name": "stdout",
     "output_type": "stream",
     "text": [
      "That's a long name!\n"
     ]
    }
   ],
   "source": [
    "# String length check\n",
    "name = \"Python\"\n",
    "if len(name) > 5:\n",
    "    print(\"That's a long name!\")"
   ]
  },
  {
   "cell_type": "code",
   "execution_count": 6,
   "id": "b7d1d33a-75f3-4e9e-aa0a-213210e7d043",
   "metadata": {},
   "outputs": [
    {
     "name": "stdout",
     "output_type": "stream",
     "text": [
      "Password length is okay.\n"
     ]
    }
   ],
   "source": [
    "# Password strength check based on its length\n",
    "password = \"mysecurepass\"\n",
    "if len(password) >= 8:\n",
    "    print(\"Password length is okay.\")"
   ]
  },
  {
   "cell_type": "code",
   "execution_count": 7,
   "id": "ce53853b-c4ab-4f5f-a82d-fa3eed387233",
   "metadata": {},
   "outputs": [
    {
     "name": "stdout",
     "output_type": "stream",
     "text": [
      "Item is in stock.\n"
     ]
    }
   ],
   "source": [
    " # Check stock availability\n",
    "stock = 5\n",
    "if stock > 0:\n",
    "    print(\"Item is in stock.\")"
   ]
  },
  {
   "cell_type": "markdown",
   "id": "99deb3fc-c85f-41c2-b200-6ad17d1a41bd",
   "metadata": {},
   "source": [
    "# Exercises\n",
    " 1. Eligible for a Driving License: Ask the user for their age. If the age is 18 or more, print\n",
    " “Eligible for a driving license”. Hint: age = int(input(“Enter age”))\n",
    " 2. Multiple of 5: Prompt the user for an integer. If it is divisible by 5, print “Multiple of 5”.\n",
    " 3. Character is a Vowel: Take a single character input. If it is one of a, e, i, o, u (in lowercase),\n",
    " print “Vowel”.\n",
    " 4. Long Word Alert: Ask for a word from the user. If the word has more than 8 characters,\n",
    " print “That’s a long word!”.\n",
    " 5. Weekend Detector: Take the day name from the user (e.g., “Monday”, “Saturday”). If it is\n",
    " “Saturday” or “Sunday”, print “Weekend”.\n",
    " 6. Exam Eligibility: Ask for attendance percentage and average assignment score. If attendance\n",
    " is at least 75% and score is at least 50, print “Eligible for exam”.\n",
    " 7. Discount Eligibility: Ask for total bill amount and if they are a member (yes/no). If the bill\n",
    " is above ￿1000 or they are a member, print “Discount applied”\n",
    " 8. Password Security Combo: Ask for a password. If the length is at least 8 and it contains “@”\n",
    " or “#”, print “Password seems secure”.\n",
    " 9. Not Containing a Word: Ask for a sentence. If it does not contain the word “boring”, print\n",
    " “Looks interesting”.\n",
    " 10. In Range Check: Ask for a number. If it is greater than or equal to 10 and less than or equal\n",
    " to 20, print “Number is within the range 10–20”"
   ]
  },
  {
   "cell_type": "code",
   "execution_count": 1,
   "id": "fa519367-5d5c-463c-bcac-761f6d49aa99",
   "metadata": {},
   "outputs": [
    {
     "name": "stdout",
     "output_type": "stream",
     "text": [
      "eligible for a driving license\n"
     ]
    }
   ],
   "source": [
    "# eligible for a driving license \n",
    "age=18\n",
    "if age==18:\n",
    "    print(\"eligible for a driving license\")\n"
   ]
  },
  {
   "cell_type": "code",
   "execution_count": 3,
   "id": "0da5615e-782d-455d-9a4a-80c8a353e9b1",
   "metadata": {},
   "outputs": [
    {
     "name": "stdin",
     "output_type": "stream",
     "text": [
      "enter age 25\n"
     ]
    },
    {
     "name": "stdout",
     "output_type": "stream",
     "text": [
      "eligible for a driving license\n"
     ]
    }
   ],
   "source": [
    "# eligible for a driving license \n",
    "age=int(input(\"enter age\"))\n",
    "if age>=18:\n",
    "    print(\"eligible for a driving license\")\n"
   ]
  },
  {
   "cell_type": "code",
   "execution_count": 13,
   "id": "4869a844-2a6e-4db1-87e7-2bb56736fe87",
   "metadata": {},
   "outputs": [
    {
     "name": "stdout",
     "output_type": "stream",
     "text": [
      "multiple of 5\n"
     ]
    }
   ],
   "source": [
    "# multiple of 5\n",
    "num=25\n",
    "if num==5*5:\n",
    "    print(\"multiple of 5\")"
   ]
  },
  {
   "cell_type": "code",
   "execution_count": 1,
   "id": "309bf03f-d310-42f2-bd3d-d84f281250ac",
   "metadata": {},
   "outputs": [
    {
     "name": "stdout",
     "output_type": "stream",
     "text": [
      "multiple of 5\n"
     ]
    }
   ],
   "source": [
    "# multiple of 5\n",
    "num=25\n",
    "if num/5==5:\n",
    "    print(\"multiple of 5\")"
   ]
  },
  {
   "cell_type": "code",
   "execution_count": 1,
   "id": "cc1ea6f5-c735-4607-aeb0-cdfcf3cd94d4",
   "metadata": {},
   "outputs": [
    {
     "name": "stdin",
     "output_type": "stream",
     "text": [
      "enter num 25\n"
     ]
    },
    {
     "name": "stdout",
     "output_type": "stream",
     "text": [
      "multiple of 5\n"
     ]
    }
   ],
   "source": [
    "# multiple of 5\n",
    "num = int(input(\"enter num\"))\n",
    "if num/5==5:\n",
    "    print(\"multiple of 5\")"
   ]
  },
  {
   "cell_type": "code",
   "execution_count": 11,
   "id": "869c6df9-96ca-4100-809b-0bfc4294f797",
   "metadata": {},
   "outputs": [
    {
     "name": "stdin",
     "output_type": "stream",
     "text": [
      "enter vow b\n"
     ]
    },
    {
     "name": "stdout",
     "output_type": "stream",
     "text": [
      "not a vowel\n"
     ]
    }
   ],
   "source": [
    "vow=input(\"enter vow\")\n",
    "if vow=='a'or vow=='e' or vow=='i' or vow=='o' or vow=='u':\n",
    "    print(\"character is vowel\") \n",
    "else:\n",
    "    print(\"not a vowel\")"
   ]
  },
  {
   "cell_type": "code",
   "execution_count": 14,
   "id": "82df31ce-47ce-4311-9586-644a73fce43c",
   "metadata": {},
   "outputs": [
    {
     "name": "stdin",
     "output_type": "stream",
     "text": [
      "character word 7\n"
     ]
    },
    {
     "name": "stdout",
     "output_type": "stream",
     "text": [
      "not a long word\n"
     ]
    }
   ],
   "source": [
    "character_word=int(input(\"character word\"))\n",
    "if character_word>=8 :\n",
    "    print(\"long word\")\n",
    "else:\n",
    "     print(\"not a long word\")"
   ]
  },
  {
   "cell_type": "code",
   "execution_count": 15,
   "id": "f9c4f4d3-02ec-497e-b403-ea6ae64f1d3a",
   "metadata": {},
   "outputs": [
    {
     "name": "stdin",
     "output_type": "stream",
     "text": [
      "character word 9\n"
     ]
    },
    {
     "name": "stdout",
     "output_type": "stream",
     "text": [
      "long word\n"
     ]
    }
   ],
   "source": [
    "character_word=int(input(\"character word\"))\n",
    "if character_word>=8 :\n",
    "    print(\"long word\")\n",
    "else:\n",
    "     print(\"not a long word\")"
   ]
  },
  {
   "cell_type": "code",
   "execution_count": 16,
   "id": "3bc56c19-3364-4d13-a817-f9ba7ba64f4c",
   "metadata": {},
   "outputs": [
    {
     "name": "stdout",
     "output_type": "stream",
     "text": [
      "long word\n"
     ]
    }
   ],
   "source": [
    "character_word=10\n",
    "if character_word>=8 :\n",
    "    print(\"long word\")\n",
    "else:\n",
    "     print(\"not a long word\")"
   ]
  },
  {
   "cell_type": "code",
   "execution_count": 17,
   "id": "37023574-9a63-447f-831b-6248d52a9cbb",
   "metadata": {},
   "outputs": [
    {
     "name": "stdin",
     "output_type": "stream",
     "text": [
      "day monday\n"
     ]
    },
    {
     "name": "stdout",
     "output_type": "stream",
     "text": [
      "not a weekend\n"
     ]
    }
   ],
   "source": [
    "day=input(\"day\")\n",
    "if day==\"sunday\" or day==\"saturday\":\n",
    "    print(\"weekend\")\n",
    "else:\n",
    "     print(\"not a weekend\")"
   ]
  },
  {
   "cell_type": "code",
   "execution_count": 19,
   "id": "2d7a009d-0775-4f1a-b21b-65e742e84d9f",
   "metadata": {},
   "outputs": [
    {
     "name": "stdin",
     "output_type": "stream",
     "text": [
      "day sunday\n"
     ]
    },
    {
     "name": "stdout",
     "output_type": "stream",
     "text": [
      "weekend\n"
     ]
    }
   ],
   "source": [
    "day=input(\"day\")\n",
    "if day==\"sunday\" or day==\"saturday\":\n",
    "    print(\"weekend\")\n",
    "else:\n",
    "     print(\"not a weekend\")"
   ]
  },
  {
   "cell_type": "code",
   "execution_count": 18,
   "id": "d6293624-f766-4435-b9e8-5426d58d56c3",
   "metadata": {},
   "outputs": [
    {
     "name": "stdout",
     "output_type": "stream",
     "text": [
      "not a weekend\n"
     ]
    }
   ],
   "source": [
    "day=\"monday\",\"tuesday\",\"wednesday\",\"thursday\",\"friday\",\"saturday\",\"sunday\"\n",
    "if day==\"sunday\" or day==\"saturday\":\n",
    "    print(\"weekend\")\n",
    "else:\n",
    "     print(\"not a weekend\")"
   ]
  },
  {
   "cell_type": "code",
   "execution_count": 1,
   "id": "1889f644-c965-4ba4-a835-845ade64b6d3",
   "metadata": {},
   "outputs": [
    {
     "name": "stdout",
     "output_type": "stream",
     "text": [
      "eligible for exam\n"
     ]
    }
   ],
   "source": [
    "# exam eligibility\n",
    "attendence=75\n",
    "score=50\n",
    "if attendence>=75 and score>=50:\n",
    "    print(\"eligible for exam\")"
   ]
  },
  {
   "cell_type": "code",
   "execution_count": 5,
   "id": "7c079701-8b72-4643-84b5-3fe95b057ff0",
   "metadata": {},
   "outputs": [
    {
     "name": "stdout",
     "output_type": "stream",
     "text": [
      "discount applied\n"
     ]
    }
   ],
   "source": [
    "#  discout eligibility \n",
    "bill=1000\n",
    "they_are_member=True\n",
    "if bill>=1000 or they_are_member==True:\n",
    "    print(\"discount applied\")"
   ]
  },
  {
   "cell_type": "code",
   "execution_count": 11,
   "id": "c9fc09f2-eb32-484d-ba78-b68a495b5dd0",
   "metadata": {},
   "outputs": [
    {
     "name": "stdout",
     "output_type": "stream",
     "text": [
      "password seems  secure\n"
     ]
    }
   ],
   "source": [
    "#password security combo\n",
    "password_contain=\"@\",\"#\"\n",
    "length=8\n",
    "if password_contain==(\"@\",\"#\") and length<=8:\n",
    "    print(\"password seems  secure\")\n"
   ]
  },
  {
   "cell_type": "code",
   "execution_count": 12,
   "id": "55c484c9-ebed-49ff-902e-7f44b2455176",
   "metadata": {},
   "outputs": [
    {
     "name": "stdout",
     "output_type": "stream",
     "text": [
      "looks interesting\n"
     ]
    }
   ],
   "source": [
    "# not containing a word\n",
    "sentence_does_not_contain=\"boring\"\n",
    "if sentence_does_not_contain==\"boring\" :\n",
    "    print(\"looks interesting\")"
   ]
  },
  {
   "cell_type": "code",
   "execution_count": 15,
   "id": "041de344-1127-42b5-a3bb-dd469f5ad4e6",
   "metadata": {},
   "outputs": [
    {
     "name": "stdin",
     "output_type": "stream",
     "text": [
      "num 15\n"
     ]
    },
    {
     "name": "stdout",
     "output_type": "stream",
     "text": [
      "number is within the range 10-20\n"
     ]
    }
   ],
   "source": [
    "# IN RANGE CHECK\n",
    "num=int(input(\"num\"))\n",
    "if 10<=num<=20:\n",
    "    print(\"number is within the range 10-20\")"
   ]
  },
  {
   "cell_type": "markdown",
   "id": "3488f89b-3f51-41d3-9af8-0824bfa4783d",
   "metadata": {},
   "source": [
    "# THE ELIF CLAUSE : MULTIPLE CHECKS , ONE PATH"
   ]
  },
  {
   "cell_type": "code",
   "execution_count": 17,
   "id": "77c9f4ac-34fb-4568-9548-4e93667daa1f",
   "metadata": {},
   "outputs": [
    {
     "name": "stdout",
     "output_type": "stream",
     "text": [
      "excellent\n"
     ]
    }
   ],
   "source": [
    "# EXAMPLE \n",
    "marks=95\n",
    "if marks>=90:\n",
    "    print (\"excellent\")\n",
    "elif marks>=75:\n",
    "    print(\"very good\")\n",
    "else:\n",
    "    print(\"needs improvement\")"
   ]
  },
  {
   "cell_type": "code",
   "execution_count": 18,
   "id": "222a6c4a-7fe7-466c-8ff5-0aac55061725",
   "metadata": {},
   "outputs": [
    {
     "name": "stdout",
     "output_type": "stream",
     "text": [
      "Weekend\n"
     ]
    }
   ],
   "source": [
    "# day name to type of day\n",
    "day=\"saturday\"\n",
    "if day.lower() in {\"saturday\", \"sunday\"}:\n",
    "    print(\"Weekend\")\n",
    "elif day.lower() == \"friday\":\n",
    "    print(\"Almost weekend!\")\n",
    "else:\n",
    "    print(\"Weekday\")"
   ]
  },
  {
   "cell_type": "code",
   "execution_count": 19,
   "id": "ef0f3edb-a9a8-48b6-82f2-19f9d7c0fd4b",
   "metadata": {},
   "outputs": [
    {
     "name": "stdout",
     "output_type": "stream",
     "text": [
      "Free ticket\n"
     ]
    }
   ],
   "source": [
    "# 3. Ticket Pricing by Age\n",
    "age = 4\n",
    "if age < 5:\n",
    "    print(\"Free ticket\")\n",
    "elif age <= 12:\n",
    "    print(\"Child ticket\")\n",
    "elif age <= 60:\n",
    "    print(\"Adult ticket\")\n",
    "else:\n",
    "    print(\"Senior ticket\")"
   ]
  },
  {
   "cell_type": "code",
   "execution_count": 20,
   "id": "eda7c053-9f42-4c69-9545-00cd57f7cc33",
   "metadata": {},
   "outputs": [
    {
     "name": "stdout",
     "output_type": "stream",
     "text": [
      "Wear a light jacket and carry um ella\n"
     ]
    }
   ],
   "source": [
    "# 5. Clothing Suggestion Based on Weather\n",
    "temp = 16\n",
    "rain = True\n",
    "if temp < 10:\n",
    "   print(\"Wear a heavy jacket\")\n",
    "elif temp < 20 and rain:\n",
    "    print(\"Wear a light jacket and carry um ella\")\n",
    "elif temp < 20:\n",
    "    print(\"Wear a light jacket\")\n",
    "else:\n",
    "    print(\"T-shirt weather\")"
   ]
  },
  {
   "cell_type": "code",
   "execution_count": 21,
   "id": "52ec4298-689b-488b-8d1b-18554c022b00",
   "metadata": {},
   "outputs": [
    {
     "name": "stdout",
     "output_type": "stream",
     "text": [
      "No entry — ID not verified\n"
     ]
    }
   ],
   "source": [
    " # 10. Multi-Stage Access Control\n",
    "has_ticket = True\n",
    "id_verified = False\n",
    "age = 19\n",
    "if not has_ticket:\n",
    "    print(\"No entry — ticket missing\")\n",
    "elif not id_verified:\n",
    "    print(\"No entry — ID not verified\")\n",
    "elif age < 18:\n",
    "    print(\"No entry — underage\")\n",
    "else:\n",
    "     print(\"Entry granted\")"
   ]
  },
  {
   "cell_type": "markdown",
   "id": "bfaee99b-f3bd-4072-be20-713ee3b29ab6",
   "metadata": {},
   "source": [
    "# exercises"
   ]
  },
  {
   "cell_type": "raw",
   "id": "191d719b-3cbc-4ea9-b4f8-78cb87501577",
   "metadata": {},
   "source": [
    "1. Traffic Light Helper\n",
    " Description:\n",
    " Input: \"red\", \"yellow\", or \"green\" (case-insensitive).\n",
    " Output:\n",
    " red → \"Stop\"\n",
    " yellow →\"Wait\"\n",
    " green →\"Go\"\n",
    " anything else →\"Invalid signal\""
   ]
  },
  {
   "cell_type": "code",
   "execution_count": 4,
   "id": "64c1189e-1db6-4cfc-a54b-72abae606610",
   "metadata": {},
   "outputs": [
    {
     "name": "stdin",
     "output_type": "stream",
     "text": [
      "light blue\n"
     ]
    },
    {
     "name": "stdout",
     "output_type": "stream",
     "text": [
      "invalid signal\n"
     ]
    }
   ],
   "source": [
    "light=input(\"light\")\n",
    "if light==\"red\":\n",
    "    print(\"stop\")\n",
    "elif light==\"yellow\":\n",
    "    print(\"wait\")\n",
    "elif light==\"green\":\n",
    "    print(\"go\")\n",
    "else:\n",
    "    print(\"invalid signal\")"
   ]
  },
  {
   "cell_type": "raw",
   "id": "b7bcbf34-78d9-4f60-9471-522a62aa0a0f",
   "metadata": {},
   "source": [
    "2. Score to Grade\n",
    " Description:\n",
    " Input: score (0–100).\n",
    " Output:\n",
    " 90–100 →\"A\"\n",
    " 75-89 →\"B\"\n",
    " 50-74 →\"C\"\n",
    " 0–49 → \"F\"\n",
    " Any number outside 0–100 →\"Invalid score\""
   ]
  },
  {
   "cell_type": "code",
   "execution_count": 15,
   "id": "056cb22b-8a8d-4b5a-8495-c2a943e50b10",
   "metadata": {},
   "outputs": [
    {
     "name": "stdin",
     "output_type": "stream",
     "text": [
      "score 99\n"
     ]
    },
    {
     "name": "stdout",
     "output_type": "stream",
     "text": [
      "A\n"
     ]
    }
   ],
   "source": [
    "score=int(input(\"score\"))\n",
    "if 100>score>90:\n",
    "    print(\"A\")\n",
    "elif 89>score>75:\n",
    "    print(\"B\")\n",
    "elif 74>score>50:\n",
    "    print(\"C\")\n",
    "elif 49>score>0:\n",
    "    print(\"F\")\n",
    "else:\n",
    "    print(\"invalid score\")"
   ]
  },
  {
   "cell_type": "raw",
   "id": "b4532a8c-b4a8-4fe8-b5ea-7f3e79666d4f",
   "metadata": {},
   "source": [
    " 3. Number Sign and Magnitude\n",
    " Description:\n",
    " Input: integer n.\n",
    " Output:\n",
    "Positive and ￿ 1000 →\"Large positive\"\n",
    " Positive but < 1000 → \"Small positive\"\n",
    " Zero → \"Zero\"\n",
    " Negative → \"Negative\""
   ]
  },
  {
   "cell_type": "code",
   "execution_count": 18,
   "id": "a660dbb6-371d-4e31-8127-78d910d81da5",
   "metadata": {},
   "outputs": [
    {
     "name": "stdin",
     "output_type": "stream",
     "text": [
      "n -100\n"
     ]
    },
    {
     "name": "stdout",
     "output_type": "stream",
     "text": [
      "negative\n"
     ]
    }
   ],
   "source": [
    "n=int(input(\"n\"))\n",
    "if n==1000:\n",
    "    print(\"large positive\")\n",
    "elif 1000>n>0:\n",
    "    print(\"small positive\")\n",
    "elif n==0:\n",
    "    print(\"zero\")\n",
    "else:\n",
    "    if n<0:\n",
    "        print(\"negative\")"
   ]
  },
  {
   "cell_type": "raw",
   "id": "5be89ad2-37c9-44d0-b393-0e2a3b5a53a8",
   "metadata": {},
   "source": [
    "4. Triangle Type by Angles\n",
    " Description:\n",
    " Input: three angles a, b, c.\n",
    " Output:\n",
    " If they don’t sum to 180 →\"Not a triangle\"\n",
    " If any angle is 90 → \"Right\"\n",
    " If all < 90 → \"Acute\"\n",
    " Otherwise →\"Obtuse\""
   ]
  },
  {
   "cell_type": "code",
   "execution_count": 23,
   "id": "ae29b49b-3dac-40e5-85b8-515ddcafae02",
   "metadata": {},
   "outputs": [
    {
     "name": "stdin",
     "output_type": "stream",
     "text": [
      "a 70\n",
      "b 90\n",
      "c 20\n"
     ]
    },
    {
     "name": "stdout",
     "output_type": "stream",
     "text": [
      "not a triangle\n"
     ]
    }
   ],
   "source": [
    "a=int(input(\"a\"))\n",
    "b=int(input(\"b\"))\n",
    "c=int(input(\"c\"))\n",
    "if a+b+c==180:\n",
    "    print(\"not a triangle\")\n",
    "elif a==90 or b==90 or c==90:\n",
    "    print(\"right\")\n",
    "elif a<90 and b<90 and c<90:\n",
    "    print(\"acute\")\n",
    "else:\n",
    "    print(\"obtuse\")"
   ]
  },
  {
   "cell_type": "raw",
   "id": "96e605bf-a4e7-44c0-8c75-9685d96d9558",
   "metadata": {},
   "source": [
    " 5. FizzBuzz Variant\n",
    " Description:\n",
    " Input: integer n.\n",
    " Output:\n",
    " Divisible by both 3 and 5 →\"Fizz buzz\"\n",
    " Divisible by 5 →\"buzz\"\n",
    " Divisible by 3 →\"fizz\"\n",
    " Else → \"None\""
   ]
  },
  {
   "cell_type": "code",
   "execution_count": 26,
   "id": "a2c84af5-2705-42cf-9f6c-b5f783efc19c",
   "metadata": {},
   "outputs": [
    {
     "name": "stdin",
     "output_type": "stream",
     "text": [
      "n 22\n"
     ]
    },
    {
     "name": "stdout",
     "output_type": "stream",
     "text": [
      "none\n"
     ]
    }
   ],
   "source": [
    "n=int(input(\"n\"))\n",
    "if n%3==0 and n%5==0:\n",
    "    print(\"fizz buzz\")\n",
    "elif n%5==0:\n",
    "    print(\"buzz\")\n",
    "elif n%3==0:\n",
    "    print(\"fizz\")\n",
    "else:\n",
    "    print(\"none\")\n"
   ]
  },
  {
   "cell_type": "raw",
   "id": "bfd1516f-7f9b-4135-a456-3182eb04f517",
   "metadata": {},
   "source": [
    " 6. Password Strength Ladder\n",
    " Description:\n",
    " Input: password string.\n",
    " Output:\n",
    " length < 8 → \"Too short\"\n",
    " length ￿ 8and contains digit →\"Okay\"\n",
    " length ￿ 10 and contains digit + special char (@ # $ %) → \"Strong\"\n",
    "length 12 and contains digit + special char + uppercase →\"very strong\""
   ]
  },
  {
   "cell_type": "code",
   "execution_count": 4,
   "id": "43b51300-111d-4825-acb5-ef8d26baa4dd",
   "metadata": {},
   "outputs": [
    {
     "ename": "SyntaxError",
     "evalue": "invalid syntax (2477217010.py, line 1)",
     "output_type": "error",
     "traceback": [
      "\u001b[1;36m  Cell \u001b[1;32mIn[4], line 1\u001b[1;36m\u001b[0m\n\u001b[1;33m    pass=1@fghjklpoiu\u001b[0m\n\u001b[1;37m        ^\u001b[0m\n\u001b[1;31mSyntaxError\u001b[0m\u001b[1;31m:\u001b[0m invalid syntax\n"
     ]
    }
   ],
   "source": [
    "pass=1@fghjklpoiu\n",
    "if len(pass)<8:\n",
    "    print(\"too short\")\n",
    "elif len(pass)==8 and \"1234567890\" in \"pass\":\n",
    "    print(\"okay\")\n",
    "elif len(pass)==10 and \"1234567890\" in \"pass\" and \"@#$%\" in \"pass\":\n",
    "    print(\"strong\")\n",
    "elif len(pass)==12 and \"1234567890\" in \"pass\" and \"@#$%\" in \"pass\" and pass.upper():\n",
    "    print(\"very strong\")"
   ]
  },
  {
   "cell_type": "raw",
   "id": "9e1de350-a5b1-42e1-b112-f00c49b2059a",
   "metadata": {},
   "source": [
    " 7. Exam Outcome with Priority\n",
    " Description:\n",
    " Input: marks (0–100), attendance (0-100)\n",
    "Output:\n",
    " If marks < 35 → \"Fail: marks\"\n",
    " Else if attendance < 75 → \"Fail: attendance\"\n",
    " Else if marks ￿ 85 and attendance ￿ 90 →\"Distinction\"\n",
    " Else → \"Pass\"\n",
    " \n",
    "\n"
   ]
  },
  {
   "cell_type": "code",
   "execution_count": 7,
   "id": "9a0ba622-05eb-4711-bc87-1a19d973d9c3",
   "metadata": {},
   "outputs": [
    {
     "name": "stdin",
     "output_type": "stream",
     "text": [
      "marks 65\n",
      "att 50\n"
     ]
    },
    {
     "name": "stdout",
     "output_type": "stream",
     "text": [
      "fail attendance\n"
     ]
    }
   ],
   "source": [
    "marks=int(input(\"marks\"))\n",
    "att=int(input(\"att\"))\n",
    "if marks<35:\n",
    "    print(\"fail\")\n",
    "elif att <75 :\n",
    "    print(\"fail attendance\")\n",
    "elif marks==85 and att==90 :\n",
    "    print(\"distinction\")\n",
    "else:\n",
    "    print(\"pass\")"
   ]
  },
  {
   "cell_type": "raw",
   "id": "28779080-f6f2-4064-a3fb-2b6225e10ba4",
   "metadata": {},
   "source": [
    "8. E-Commerce COD Eligibility\n",
    " Description:\n",
    " Input:\n",
    " pincode_serviceable (yes/no)\n",
    " order_value (float)\n",
    " category (string)\n",
    " Output:\n",
    " If not serviceable → \"COD unavailable\"\n",
    " Else if category in electronics/jewelry and order_value > 50000 →COD\n",
    " ↪unavailable\"\n",
    " Else if order_value < 200 → \"COD unavailable\"\n",
    " Else → \"COD available\""
   ]
  },
  {
   "cell_type": "code",
   "execution_count": null,
   "id": "5d72c996-57d1-42d4-b79b-8d08b128a2ec",
   "metadata": {},
   "outputs": [],
   "source": []
  },
  {
   "cell_type": "raw",
   "id": "e19d937c-04c5-482a-a516-34f6ab0ca378",
   "metadata": {},
   "source": [
    " 9. Email Format Quick Check\n",
    " Description:\n",
    " Input: email string.\n",
    " Output:\n",
    " Missing @ →\"Missing @ symbol\"\n",
    " Missing . after @ → \"Missing domain dot\"\n",
    " Ending not in .com, .org, .net →UNSUPPORTED TLD\n",
    " Else → \"Looks valid\""
   ]
  },
  {
   "cell_type": "code",
   "execution_count": null,
   "id": "4750c00c-2a05-4b41-bec0-bd2079b917e2",
   "metadata": {},
   "outputs": [],
   "source": [
    "email=\"\"\n",
    "if @ not in \"email\":\n",
    "    print(\"missing @symbol\")\n",
    "elif @. not in \"email\":\n",
    "    print(\"missing dot domain\")\n"
   ]
  },
  {
   "cell_type": "markdown",
   "id": "ed958924-0e4b-4407-96cc-ee39ada57402",
   "metadata": {},
   "source": [
    "# 4. Nesting if Statements: Layered Decisions\n",
    " Concept: Place one conditional inside another to handle complex scenarios."
   ]
  },
  {
   "cell_type": "code",
   "execution_count": 3,
   "id": "4e0db733-cb35-435a-aacb-3872f3a3ac9f",
   "metadata": {},
   "outputs": [
    {
     "ename": "IndentationError",
     "evalue": "expected an indented block after 'if' statement on line 3 (3787826424.py, line 4)",
     "output_type": "error",
     "traceback": [
      "\u001b[1;36m  Cell \u001b[1;32mIn[3], line 4\u001b[1;36m\u001b[0m\n\u001b[1;33m    if num%2==0:\u001b[0m\n\u001b[1;37m    ^\u001b[0m\n\u001b[1;31mIndentationError\u001b[0m\u001b[1;31m:\u001b[0m expected an indented block after 'if' statement on line 3\n"
     ]
    }
   ],
   "source": [
    " # Example\n",
    "num =-3\n",
    "if num < 0:\n",
    " if num%2==0:\n",
    "     print(\"Negative even number\")\n",
    " else:\n",
    "     print(\"Negative odd number\")\n",
    "else:\n",
    "    print(\"Non-negative number\")"
   ]
  },
  {
   "cell_type": "code",
   "execution_count": 4,
   "id": "da2f8b7f-5820-4eef-a31f-2d183d15656c",
   "metadata": {},
   "outputs": [
    {
     "name": "stdin",
     "output_type": "stream",
     "text": [
      "Enter a number:  78\n"
     ]
    },
    {
     "name": "stdout",
     "output_type": "stream",
     "text": [
      "Positive even\n"
     ]
    }
   ],
   "source": [
    "# 1. Number Classification (Positive/Negative + Even/Odd)\n",
    "n = int(input(\"Enter a number: \"))\n",
    "if n >= 0:\n",
    " if n % 2 == 0:\n",
    "     print(\"Positive even\")\n",
    " else:\n",
    "     print(\"Positive odd\")\n",
    "else:\n",
    "    if n % 2 == 0:\n",
    "        print(\"Negative even\")\n",
    "    else:\n",
    "        print(\"Negative odd\")"
   ]
  },
  {
   "cell_type": "code",
   "execution_count": 6,
   "id": "e76b6458-75f2-42ec-9bf9-2c201b8a269e",
   "metadata": {},
   "outputs": [
    {
     "name": "stdin",
     "output_type": "stream",
     "text": [
      "Username:  ADMIN\n",
      "Password:  SECURE123\n"
     ]
    },
    {
     "name": "stdout",
     "output_type": "stream",
     "text": [
      "User not recognized\n"
     ]
    }
   ],
   "source": [
    "# 2. Login with Role-Based Access\n",
    "username = input(\"Username: \")\n",
    "password = input(\"Password: \")\n",
    "if username == \"admin\":\n",
    " if password == \"secure123\":\n",
    "     print(\"Access granted: Admin dashboard\")\n",
    " else:\n",
    "     print(\"Wrong password for admin\")\n",
    "else:\n",
    " if username == \"guest\":\n",
    "  if password == \"guest\":\n",
    "      print(\"Access granted: Guest mode\")\n",
    "  else:\n",
    "      print(\"Wrong password for guest\")\n",
    " else:\n",
    "     print(\"User not recognized\")"
   ]
  },
  {
   "cell_type": "code",
   "execution_count": 7,
   "id": "334578cd-9cca-4843-89b6-814bdf9ce89c",
   "metadata": {},
   "outputs": [
    {
     "name": "stdin",
     "output_type": "stream",
     "text": [
      "Side a:  10\n",
      "Side b:  39\n",
      "Side c:  10\n"
     ]
    },
    {
     "name": "stdout",
     "output_type": "stream",
     "text": [
      "Not a valid triangle\n"
     ]
    }
   ],
   "source": [
    "# 3. Triangle Type by Sides\n",
    "a = int(input(\"Side a: \"))\n",
    "b = int(input(\"Side b: \"))\n",
    "c = int(input(\"Side c: \"))\n",
    "if a + b > c and b + c > a and a + c > b: # outer: valid triangle\n",
    " if a == b and b == c:\n",
    "     print(\"Equilateral triangle\")\n",
    " else:\n",
    "     if a == b or b == c or a == c:\n",
    "         print(\"Isosceles triangle\")\n",
    "     else:\n",
    "         print(\"Scalene triangle\")\n",
    "else:\n",
    "    print(\"Not a valid triangle\")"
   ]
  },
  {
   "cell_type": "code",
   "execution_count": 12,
   "id": "188deb98-2bb0-489b-bb45-3d795f889f91",
   "metadata": {},
   "outputs": [
    {
     "name": "stdin",
     "output_type": "stream",
     "text": [
      "Marks:  45\n",
      "Attendance %:  78\n"
     ]
    },
    {
     "name": "stdout",
     "output_type": "stream",
     "text": [
      "pass\n"
     ]
    }
   ],
   "source": [
    " # 4. Exam Result with Bonus Points\n",
    "marks = int(input(\"Marks: \"))\n",
    "attendance = int(input(\"Attendance %: \"))\n",
    "if marks >= 35:\n",
    "    if attendance>=75:\n",
    "        if marks >= 85:\n",
    "            print(\"distinction\")\n",
    "        else:\n",
    "            print(\"pass\")\n",
    "    else:\n",
    "        print(\"pass but low Attendance warning\")\n",
    "else:\n",
    "    if attendance >=90:\n",
    "        print(\"fail but eligible foe re-test due to high attendance\")\n",
    "    else:\n",
    "        print(\"fail\")\n",
    "    "
   ]
  },
  {
   "cell_type": "code",
   "execution_count": 14,
   "id": "e71fe88b-e8de-4736-858d-2e40efd351e7",
   "metadata": {},
   "outputs": [
    {
     "name": "stdin",
     "output_type": "stream",
     "text": [
      "Enter withdrawal amount:  2000\n"
     ]
    },
    {
     "name": "stdout",
     "output_type": "stream",
     "text": [
      "Withdrawal approved\n"
     ]
    }
   ],
   "source": [
    "#5. ATM Withdrawal Check\n",
    "balance = 5000\n",
    "amount = int(input(\"Enter withdrawal amount: \"))\n",
    "if amount <= balance:\n",
    "    if amount % 100 == 0:\n",
    "        if amount <= 2000:\n",
    "            print(\"Withdrawal approved\")\n",
    "        else:\n",
    "            print(\"Exceeds single transaction limit\")\n",
    "    else:\n",
    "        print(\"Amount must be multiple of 100\")\n",
    "else:\n",
    "    print(\"Insufficient balance\")"
   ]
  },
  {
   "cell_type": "code",
   "execution_count": 4,
   "id": "60300ef2-6744-4a8e-9263-098aac71476a",
   "metadata": {},
   "outputs": [
    {
     "name": "stdin",
     "output_type": "stream",
     "text": [
      "Enter your age:  11\n"
     ]
    },
    {
     "name": "stdout",
     "output_type": "stream",
     "text": [
      "You are underage for driving.\n"
     ]
    }
   ],
   "source": [
    " # 7. Age & License Eligibility (Simple → Nested)\n",
    "age = int(input(\"Enter your age: \"))\n",
    "if age >= 18:\n",
    "    has_license = input(\"Do you have a valid driving license? (yes/no): \").lower()\n",
    "    if has_license == \"yes\":\n",
    "        print(\"You are allowed to drive.\")\n",
    "    else:\n",
    "        print(\"You need a valid license to drive.\")\n",
    "else:\n",
    "    print(\"You are underage for driving.\")"
   ]
  },
  {
   "cell_type": "code",
   "execution_count": 5,
   "id": "b26809ff-a514-4cdd-b95c-7bd9166757a2",
   "metadata": {},
   "outputs": [
    {
     "name": "stdin",
     "output_type": "stream",
     "text": [
      "Marks:  45\n",
      "Attendance %:  67\n"
     ]
    },
    {
     "name": "stdout",
     "output_type": "stream",
     "text": [
      "Marks too low for scholarship consideration.\n"
     ]
    }
   ],
   "source": [
    "# 8. Marks, Attendance & Scholarship Check\n",
    "marks = int(input(\"Marks: \"))\n",
    "attendance = int(input(\"Attendance %: \"))\n",
    "if marks >= 60:\n",
    "    if attendance >= 80:\n",
    "        extra_curricular = input(\"Any extra-curricular achievements? (yes/no):␣\").lower()\n",
    "        if extra_curricular == \"yes\":\n",
    "            print(\"Scholarship awarded!\")\n",
    "        else:\n",
    "            print(\"Good performance but no scholarship.\")\n",
    "    else:\n",
    "        print(\"Not eligible for scholarship due to low attendance.\")\n",
    "else:\n",
    "    print(\"Marks too low for scholarship consideration.\")"
   ]
  },
  {
   "cell_type": "code",
   "execution_count": 6,
   "id": "00f62c7e-7109-4faf-a990-ac162bc2d488",
   "metadata": {},
   "outputs": [
    {
     "name": "stdin",
     "output_type": "stream",
     "text": [
      "Marks:  79\n"
     ]
    },
    {
     "name": "stdout",
     "output_type": "stream",
     "text": [
      "Pass\n",
      "Grade: B\n"
     ]
    }
   ],
   "source": [
    "# 10. Exam Grading with Retake Option\n",
    "marks = int(input(\"Marks: \"))\n",
    "if marks >= 50:\n",
    "    print(\"Pass\")\n",
    "    if marks >= 85:\n",
    "        print(\"Grade: A\")\n",
    "    elif marks >= 70:\n",
    "        print(\"Grade: B\")\n",
    "    else:\n",
    "        print(\"Grade: C\")\n",
    "else:\n",
    "    print(\"Fail\")\n",
    "    if marks >= 40:\n",
    "        print(\"Eligible for retake\")\n",
    "    else:\n",
    "        print(\"Repeat the course\")"
   ]
  },
  {
   "cell_type": "raw",
   "id": "25cd1758-d85d-4fd3-83b3-74881af287a6",
   "metadata": {},
   "source": [
    "1. Grocery Discount Eligibility\n",
    " Ask the user for the total bill amount.\n",
    " If the bill is above ￿500, ask if they have a membership card.\n",
    " If yes →print \"Discount applied\"\n",
    " If no →print \"Join our membership to get discounts\"\n",
    " If the bill is ￿500 or less →print \"No discount available\""
   ]
  },
  {
   "cell_type": "code",
   "execution_count": 1,
   "id": "320de233-1e0c-4320-a2bc-cc362c57164d",
   "metadata": {},
   "outputs": [
    {
     "name": "stdin",
     "output_type": "stream",
     "text": [
      "total bill 590\n",
      "they have membership? (yes/no):  yes\n"
     ]
    },
    {
     "name": "stdout",
     "output_type": "stream",
     "text": [
      "discount applied\n"
     ]
    }
   ],
   "source": [
    "bill=int(input(\"total bill\"))\n",
    "if bill>500:\n",
    "    have_membership=input(\"they have membership? (yes/no): \")\n",
    "    if have_membership==\"yes\":\n",
    "        print(\"discount applied\")\n",
    "    else:\n",
    "        print(\"join our membership to get discount\")\n",
    "else:\n",
    "    if bill<=500:\n",
    "        print(\"no discount available\")"
   ]
  },
  {
   "cell_type": "raw",
   "id": "ab13ea86-bf0f-432c-a2f2-47a775a069ca",
   "metadata": {},
   "source": [
    " 2. Student Sports Team Selection\n",
    " Ask the user’s age.\n",
    " If age is between 10 and 18 (inclusive), ask if they can attend practice 4 days␣\n",
    " a week\n",
    " if yes - print - \"selected for team \"\n",
    " if no - print -\"not enough practice commitment\"\n",
    "  If age is outside the range →print \"Not eligible for this age group\""
   ]
  },
  {
   "cell_type": "code",
   "execution_count": 2,
   "id": "137a6ff9-db30-49ec-94de-2fd274743e21",
   "metadata": {},
   "outputs": [
    {
     "name": "stdin",
     "output_type": "stream",
     "text": [
      "user age 17\n",
      "can attend 4 days in a week? (yes/no): yes\n"
     ]
    },
    {
     "name": "stdout",
     "output_type": "stream",
     "text": [
      "selected for team\n"
     ]
    }
   ],
   "source": [
    "age=int(input(\"user age\"))\n",
    "if 18>=age>=10:\n",
    "    practice_attend_a_week=input(\"can attend 4 days in a week? (yes/no):\")\n",
    "    if practice_attend_a_week==\"yes\":\n",
    "        print(\"selected for team\")\n",
    "    else:\n",
    "        print(\"not enough practice commitment\")\n",
    "else:\n",
    "    if age>18:\n",
    "        print(\"Not eligible for this age group\")"
   ]
  },
  {
   "cell_type": "raw",
   "id": "0d232e4b-e5e9-4ce6-98e6-20fb29c0e829",
   "metadata": {},
   "source": [
    "3. Mobile Data Plan Suggestion\n",
    " Ask the user’s monthly usage in GB.\n",
    " If usage is less than or equal to 5 GB, ask if they also make more than 100␣\n",
    " ↪calls per month.\n",
    " If yes →print \"Plan B\"\n",
    " If no →print \"Plan A\"\n",
    " If usage is more than 5 GB, ask if it is less than or equal to 20 GB.\n",
    " If yes →print \"Plan C\"\n",
    " If no →print \"Plan D\"\n",
    " "
   ]
  },
  {
   "cell_type": "code",
   "execution_count": null,
   "id": "8f43f790-f0a8-4ee9-acd9-4904ec5a103d",
   "metadata": {},
   "outputs": [],
   "source": [
    "data_usage=int(input(\"monthly usage in GB\")\n",
    "if data_usage<=5:\n",
    "        make_calls_100=input(\"make calls more than 100? (yes/no):\")\n",
    "        if make_calls_100==\"yes\":\n",
    "            print(\"planB\")\n",
    "        else:\n",
    "            print(\"planA\")\n",
    "else:\n",
    "    if data_usage>=5:\n",
    "    "
   ]
  }
 ],
 "metadata": {
  "kernelspec": {
   "display_name": "Python 3 (ipykernel)",
   "language": "python",
   "name": "python3"
  },
  "language_info": {
   "codemirror_mode": {
    "name": "ipython",
    "version": 3
   },
   "file_extension": ".py",
   "mimetype": "text/x-python",
   "name": "python",
   "nbconvert_exporter": "python",
   "pygments_lexer": "ipython3",
   "version": "3.12.7"
  }
 },
 "nbformat": 4,
 "nbformat_minor": 5
}
