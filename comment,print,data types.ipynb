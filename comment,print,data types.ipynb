{
 "cells": [
  {
   "cell_type": "markdown",
   "id": "e79f5ae0-9210-4e05-acc7-6728e78f8296",
   "metadata": {},
   "source": [
    "# heading1"
   ]
  },
  {
   "cell_type": "markdown",
   "id": "ca687914-cce5-47ec-a6ed-190e22687f79",
   "metadata": {},
   "source": [
    "## heading2"
   ]
  },
  {
   "cell_type": "markdown",
   "id": "b4058022-dfe6-46ee-aaa7-0a6626d7321f",
   "metadata": {},
   "source": [
    "### heading 3"
   ]
  },
  {
   "cell_type": "markdown",
   "id": "1500df16-dba3-4874-ba38-463a28fa7000",
   "metadata": {},
   "source": [
    "#### heading4 "
   ]
  },
  {
   "cell_type": "markdown",
   "id": "bea632c7-3bbd-4de5-b3fa-6f9034b65212",
   "metadata": {},
   "source": [
    "##### heading5"
   ]
  },
  {
   "cell_type": "markdown",
   "id": "1a77ab0b-4a51-40b0-89c1-dad2b1cb18d1",
   "metadata": {},
   "source": [
    "###### heading6"
   ]
  },
  {
   "cell_type": "markdown",
   "id": "9c410fd5-6ce2-4495-bdac-6e986e78d57b",
   "metadata": {},
   "source": [
    "# commemts"
   ]
  },
  {
   "cell_type": "markdown",
   "id": "ef1b4e2e-acf7-4ffb-ac49-0b55964e1ec0",
   "metadata": {
    "jp-MarkdownHeadingCollapsed": true
   },
   "source": [
    " *python* was created by guido van  rossum "
   ]
  },
  {
   "cell_type": "markdown",
   "id": "717ea5be-1ff3-4f89-ab51-f69422fed222",
   "metadata": {},
   "source": [
    "python was created by guido van rossum "
   ]
  },
  {
   "cell_type": "code",
   "execution_count": 1,
   "id": "6df33e1e-5f5c-44ca-91d0-539eae297c06",
   "metadata": {},
   "outputs": [],
   "source": [
    "# *python* was created by guido van rossum "
   ]
  },
  {
   "cell_type": "markdown",
   "id": "401f7566-4de8-4571-9a46-d5a6b0cf823a",
   "metadata": {},
   "source": [
    "**PYTHON** was created by guido van rosssum"
   ]
  },
  {
   "cell_type": "markdown",
   "id": "d71b65e0-bf03-4149-83cf-f268e2b97439",
   "metadata": {},
   "source": [
    "**PYTHON** was created by ***GUIDO VAN ROSSUM***"
   ]
  },
  {
   "cell_type": "markdown",
   "id": "0b6799a3-72b1-463f-a1a5-1a66788a36a4",
   "metadata": {},
   "source": [
    "**PYTHON** was created by ****GUIDO VAN ROSSUM****"
   ]
  },
  {
   "cell_type": "markdown",
   "id": "2a81963a-bae1-4517-8c94-bb8962294c0a",
   "metadata": {},
   "source": [
    "**PYTHON** was created by **GUIDO VAN ROSSUM**"
   ]
  },
  {
   "cell_type": "markdown",
   "id": "2bd8bfc7-edff-4ff3-83bb-96368a05f172",
   "metadata": {},
   "source": [
    "**PYTHON was created by GUIDO VAN ROSSUM**"
   ]
  },
  {
   "cell_type": "markdown",
   "id": "4aadf68e-0035-4dbc-b5a5-0d0ce597befa",
   "metadata": {},
   "source": [
    "***PYTHON was created by GUIDO VAN ROSSUM***"
   ]
  },
  {
   "cell_type": "markdown",
   "id": "705f9238-5a62-4e29-b3dd-96ceee94e8ad",
   "metadata": {},
   "source": [
    "*** PYTHON was created by GUIDO VAN ROSSUM ***"
   ]
  },
  {
   "cell_type": "raw",
   "id": "f8144094-d38b-4216-bf50-79aaa5d3c99a",
   "metadata": {},
   "source": [
    "a=12+20\n",
    "print(a)"
   ]
  },
  {
   "cell_type": "code",
   "execution_count": 2,
   "id": "76088e86-1243-4900-bc18-de06c849c623",
   "metadata": {},
   "outputs": [
    {
     "data": {
      "text/plain": [
       "'this \\nis \\nalso a\\nmultiline\\ncomment\\n'"
      ]
     },
     "execution_count": 2,
     "metadata": {},
     "output_type": "execute_result"
    }
   ],
   "source": [
    "'''this \n",
    "is \n",
    "also a\n",
    "multiline\n",
    "comment\n",
    "'''"
   ]
  },
  {
   "cell_type": "code",
   "execution_count": 3,
   "id": "3213fb97-f0bc-403d-93e0-88c79b48c182",
   "metadata": {},
   "outputs": [
    {
     "data": {
      "text/plain": [
       "'python'"
      ]
     },
     "execution_count": 3,
     "metadata": {},
     "output_type": "execute_result"
    }
   ],
   "source": [
    "\"python\""
   ]
  },
  {
   "cell_type": "code",
   "execution_count": 4,
   "id": "062197d8-b16d-4336-8503-075793e0f7e5",
   "metadata": {},
   "outputs": [
    {
     "data": {
      "text/plain": [
       "'python'"
      ]
     },
     "execution_count": 4,
     "metadata": {},
     "output_type": "execute_result"
    }
   ],
   "source": [
    "'python'"
   ]
  },
  {
   "cell_type": "code",
   "execution_count": 6,
   "id": "af0ee01e-13f6-4a28-b7cf-82417514d257",
   "metadata": {},
   "outputs": [
    {
     "data": {
      "text/plain": [
       "'c++'"
      ]
     },
     "execution_count": 6,
     "metadata": {},
     "output_type": "execute_result"
    }
   ],
   "source": [
    "\"python\"\n",
    "\"java\"\n",
    "\"c++\""
   ]
  },
  {
   "cell_type": "code",
   "execution_count": 7,
   "id": "c15e259c-f956-4ea0-95e3-68f61f729da8",
   "metadata": {},
   "outputs": [
    {
     "data": {
      "text/plain": [
       "'data science'"
      ]
     },
     "execution_count": 7,
     "metadata": {},
     "output_type": "execute_result"
    }
   ],
   "source": [
    "\"python\"\n",
    "\"java\"\n",
    "\"c++\"\n",
    "\"data science\""
   ]
  },
  {
   "cell_type": "code",
   "execution_count": 8,
   "id": "2dbae9d3-7ffc-4c2c-bf4c-86c59b276f48",
   "metadata": {},
   "outputs": [
    {
     "data": {
      "text/plain": [
       "12"
      ]
     },
     "execution_count": 8,
     "metadata": {},
     "output_type": "execute_result"
    }
   ],
   "source": [
    "\"data science\"\n",
    "12"
   ]
  },
  {
   "cell_type": "code",
   "execution_count": 9,
   "id": "18bfd0a9-939f-4ee1-a1f8-a4304945e521",
   "metadata": {},
   "outputs": [
    {
     "data": {
      "text/plain": [
       "12"
      ]
     },
     "execution_count": 9,
     "metadata": {},
     "output_type": "execute_result"
    }
   ],
   "source": [
    "12"
   ]
  },
  {
   "cell_type": "code",
   "execution_count": 10,
   "id": "462528af-b8d9-42ea-b611-b0d755be38dc",
   "metadata": {},
   "outputs": [
    {
     "data": {
      "text/plain": [
       "'data science'"
      ]
     },
     "execution_count": 10,
     "metadata": {},
     "output_type": "execute_result"
    }
   ],
   "source": [
    "121\n",
    "\"data science\""
   ]
  },
  {
   "cell_type": "code",
   "execution_count": 11,
   "id": "fd5e0624-585f-4f83-9fae-968118e815fd",
   "metadata": {},
   "outputs": [
    {
     "data": {
      "text/plain": [
       "623"
      ]
     },
     "execution_count": 11,
     "metadata": {},
     "output_type": "execute_result"
    }
   ],
   "source": [
    "\"python\"\n",
    "89*7"
   ]
  },
  {
   "cell_type": "code",
   "execution_count": 15,
   "id": "fa69de3a-c15e-4807-bf8a-ffc0137633ec",
   "metadata": {},
   "outputs": [
    {
     "name": "stdout",
     "output_type": "stream",
     "text": [
      "artificia intelligence\n",
      "5.0\n",
      "108\n"
     ]
    }
   ],
   "source": [
    "print(\"artificia intelligence\")\n",
    "print(45/9)\n",
    "print(12*9)"
   ]
  },
  {
   "cell_type": "code",
   "execution_count": 16,
   "id": "226398b1-6e9b-4cfe-a73a-ae66eb9469e9",
   "metadata": {},
   "outputs": [
    {
     "name": "stdout",
     "output_type": "stream",
     "text": [
      "artificia intelligence\n",
      "5.0\n"
     ]
    },
    {
     "data": {
      "text/plain": [
       "108"
      ]
     },
     "execution_count": 16,
     "metadata": {},
     "output_type": "execute_result"
    }
   ],
   "source": [
    "print(\"artificia intelligence\")\n",
    "print(45/9)\n",
    "12*9"
   ]
  },
  {
   "cell_type": "code",
   "execution_count": 17,
   "id": "0f93ca2e-fa53-4540-9198-bd904060df49",
   "metadata": {},
   "outputs": [
    {
     "name": "stdout",
     "output_type": "stream",
     "text": [
      "python\n",
      "45/9\n",
      "12*9\n"
     ]
    }
   ],
   "source": [
    "print(\"python\")\n",
    "print(\"45/9\")\n",
    "print('12*9')\n"
   ]
  },
  {
   "cell_type": "code",
   "execution_count": 19,
   "id": "a3217ba7-f4d2-425e-b4ab-c684f91a7f6f",
   "metadata": {},
   "outputs": [
    {
     "ename": "TypeError",
     "evalue": "unsupported operand type(s) for @: 'int' and 'int'",
     "output_type": "error",
     "traceback": [
      "\u001b[1;31m---------------------------------------------------------------------------\u001b[0m",
      "\u001b[1;31mTypeError\u001b[0m                                 Traceback (most recent call last)",
      "Cell \u001b[1;32mIn[19], line 1\u001b[0m\n\u001b[1;32m----> 1\u001b[0m \u001b[38;5;241m13\u001b[39m\u001b[38;5;241m&\u001b[39m\u001b[38;5;241m4\u001b[39m\u001b[38;5;241m@\u001b[39m\u001b[38;5;241m872\u001b[39m\n",
      "\u001b[1;31mTypeError\u001b[0m: unsupported operand type(s) for @: 'int' and 'int'"
     ]
    }
   ],
   "source": [
    "13&4@872"
   ]
  },
  {
   "cell_type": "code",
   "execution_count": 20,
   "id": "65396f3a-2b3d-4baa-b267-1f7aaea48535",
   "metadata": {},
   "outputs": [
    {
     "ename": "NameError",
     "evalue": "name 'python' is not defined",
     "output_type": "error",
     "traceback": [
      "\u001b[1;31m---------------------------------------------------------------------------\u001b[0m",
      "\u001b[1;31mNameError\u001b[0m                                 Traceback (most recent call last)",
      "Cell \u001b[1;32mIn[20], line 1\u001b[0m\n\u001b[1;32m----> 1\u001b[0m python\n",
      "\u001b[1;31mNameError\u001b[0m: name 'python' is not defined"
     ]
    }
   ],
   "source": [
    "python"
   ]
  },
  {
   "cell_type": "code",
   "execution_count": 21,
   "id": "64c7adb8-07ef-4fc0-bb30-f93ee53ddafe",
   "metadata": {},
   "outputs": [
    {
     "ename": "SyntaxError",
     "evalue": "invalid syntax (3018585889.py, line 1)",
     "output_type": "error",
     "traceback": [
      "\u001b[1;36m  Cell \u001b[1;32mIn[21], line 1\u001b[1;36m\u001b[0m\n\u001b[1;33m    data science\u001b[0m\n\u001b[1;37m         ^\u001b[0m\n\u001b[1;31mSyntaxError\u001b[0m\u001b[1;31m:\u001b[0m invalid syntax\n"
     ]
    }
   ],
   "source": [
    "data science\n"
   ]
  },
  {
   "cell_type": "code",
   "execution_count": 22,
   "id": "2378cde0-4155-434c-90ae-47487c8b7a7f",
   "metadata": {},
   "outputs": [
    {
     "ename": "SyntaxError",
     "evalue": "invalid syntax (1490617311.py, line 1)",
     "output_type": "error",
     "traceback": [
      "\u001b[1;36m  Cell \u001b[1;32mIn[22], line 1\u001b[1;36m\u001b[0m\n\u001b[1;33m    artificial intelligence\u001b[0m\n\u001b[1;37m               ^\u001b[0m\n\u001b[1;31mSyntaxError\u001b[0m\u001b[1;31m:\u001b[0m invalid syntax\n"
     ]
    }
   ],
   "source": [
    "artificial intelligence "
   ]
  },
  {
   "cell_type": "code",
   "execution_count": null,
   "id": "a65838e0-dc35-4e51-8aa1-a423cd787746",
   "metadata": {},
   "outputs": [],
   "source": []
  },
  {
   "cell_type": "code",
   "execution_count": 23,
   "id": "7dff9281-77c4-49d5-b5bc-48f28aec2eff",
   "metadata": {},
   "outputs": [
    {
     "ename": "TypeError",
     "evalue": "unsupported operand type(s) for +: 'int' and 'str'",
     "output_type": "error",
     "traceback": [
      "\u001b[1;31m---------------------------------------------------------------------------\u001b[0m",
      "\u001b[1;31mTypeError\u001b[0m                                 Traceback (most recent call last)",
      "Cell \u001b[1;32mIn[23], line 1\u001b[0m\n\u001b[1;32m----> 1\u001b[0m \u001b[38;5;241m12\u001b[39m\u001b[38;5;241m+\u001b[39m\u001b[38;5;124m\"\u001b[39m\u001b[38;5;124m445\u001b[39m\u001b[38;5;124m\"\u001b[39m\n",
      "\u001b[1;31mTypeError\u001b[0m: unsupported operand type(s) for +: 'int' and 'str'"
     ]
    }
   ],
   "source": [
    "12+\"445\""
   ]
  },
  {
   "cell_type": "code",
   "execution_count": 24,
   "id": "37d521a9-961d-458b-9aa4-822cde4403aa",
   "metadata": {},
   "outputs": [
    {
     "name": "stdout",
     "output_type": "stream",
     "text": [
      "ds\n"
     ]
    },
    {
     "data": {
      "text/plain": [
       "'ml'"
      ]
     },
     "execution_count": 24,
     "metadata": {},
     "output_type": "execute_result"
    }
   ],
   "source": [
    "\"ai\"\n",
    "print(\"ds\")\n",
    "\"ml\""
   ]
  },
  {
   "cell_type": "code",
   "execution_count": 26,
   "id": "9568970e-3b76-4a9f-8502-043bcf272d3d",
   "metadata": {},
   "outputs": [
    {
     "name": "stdout",
     "output_type": "stream",
     "text": [
      "i am learning data science\n"
     ]
    }
   ],
   "source": [
    "a='i am learning'\n",
    "b='data science'\n",
    "print(a,b)"
   ]
  },
  {
   "cell_type": "code",
   "execution_count": 27,
   "id": "966ba2ed-0e18-4965-86b0-b8f9d7b332d5",
   "metadata": {},
   "outputs": [
    {
     "data": {
      "text/plain": [
       "'iam learning\\ndata science'"
      ]
     },
     "execution_count": 27,
     "metadata": {},
     "output_type": "execute_result"
    }
   ],
   "source": [
    "'''iam learning\n",
    "data science'''"
   ]
  },
  {
   "cell_type": "code",
   "execution_count": 32,
   "id": "2c2289f9-088c-4200-8f70-83ea66444e9b",
   "metadata": {},
   "outputs": [
    {
     "name": "stdout",
     "output_type": "stream",
     "text": [
      "iam leaarning\n",
      " data science\n"
     ]
    }
   ],
   "source": [
    "print(\"iam leaarning\\n data science\")"
   ]
  },
  {
   "cell_type": "code",
   "execution_count": 33,
   "id": "b3d33413-9083-4c75-b6aa-40853ccc5d01",
   "metadata": {},
   "outputs": [
    {
     "name": "stdout",
     "output_type": "stream",
     "text": [
      "iam leaarning\n",
      "   data science\n"
     ]
    }
   ],
   "source": [
    "print(\"iam leaarning\\n   data science\")"
   ]
  },
  {
   "cell_type": "code",
   "execution_count": 38,
   "id": "976b3144-c199-44ca-b257-0da40c9e8d0f",
   "metadata": {},
   "outputs": [
    {
     "name": "stdout",
     "output_type": "stream",
     "text": [
      "iam leaarning\n",
      "    data science\n"
     ]
    }
   ],
   "source": [
    "print(\"iam leaarning\\n    data science\")"
   ]
  },
  {
   "cell_type": "code",
   "execution_count": 42,
   "id": "13c9dbff-b077-4b8f-949e-452e9cb177d9",
   "metadata": {},
   "outputs": [
    {
     "name": "stdout",
     "output_type": "stream",
     "text": [
      "abc     \n",
      "grgdffg\n"
     ]
    }
   ],
   "source": [
    "print(\"abc     \\ngrgdffg\")"
   ]
  },
  {
   "cell_type": "raw",
   "id": "94326645-e207-4cfc-a7f9-23b27078e123",
   "metadata": {},
   "source": [
    "print(\"python\\n\\nDS\")"
   ]
  },
  {
   "cell_type": "code",
   "execution_count": 43,
   "id": "a387cb7d-e599-44ca-b213-7abc83a2a26e",
   "metadata": {},
   "outputs": [
    {
     "name": "stdout",
     "output_type": "stream",
     "text": [
      "python\n",
      "\n",
      "\n",
      "DS\n"
     ]
    }
   ],
   "source": [
    "print(\"python\\n\\n\\nDS\")"
   ]
  },
  {
   "cell_type": "code",
   "execution_count": 44,
   "id": "de06fd78-a929-4189-8314-83245aea6e67",
   "metadata": {},
   "outputs": [
    {
     "name": "stdout",
     "output_type": "stream",
     "text": [
      "python\n",
      "PYTHON\n",
      "\n",
      "DS\n"
     ]
    }
   ],
   "source": [
    "print(\"python\\nPYTHON\\n\\nDS\")"
   ]
  },
  {
   "cell_type": "code",
   "execution_count": 48,
   "id": "81c07ebe-10da-4303-bd57-07be32ca6f32",
   "metadata": {},
   "outputs": [
    {
     "name": "stdout",
     "output_type": "stream",
     "text": [
      "\n",
      "python\n",
      "\n",
      "\n",
      "PYTHON\n",
      "\n",
      "\n",
      "DS\n"
     ]
    }
   ],
   "source": [
    "print(\"\\npython\\n\\n\\nPYTHON\\n\\n\\nDS\")"
   ]
  },
  {
   "cell_type": "code",
   "execution_count": 49,
   "id": "af43bf6a-d9e9-40dd-8d3b-876ced60eee2",
   "metadata": {},
   "outputs": [
    {
     "name": "stdout",
     "output_type": "stream",
     "text": [
      "1.5 =\n"
     ]
    }
   ],
   "source": [
    "print(12/8,\"=\")"
   ]
  },
  {
   "cell_type": "code",
   "execution_count": 50,
   "id": "79a5f01d-2803-4fbc-b930-593abb01e183",
   "metadata": {},
   "outputs": [
    {
     "name": "stdout",
     "output_type": "stream",
     "text": [
      "12 / 8 = 1.5\n"
     ]
    }
   ],
   "source": [
    "print(12,\"/\",8,\"=\",1.5)"
   ]
  },
  {
   "cell_type": "code",
   "execution_count": 52,
   "id": "ca8c1eea-8e1b-4a99-bb91-10eb1bfb8bb4",
   "metadata": {},
   "outputs": [
    {
     "name": "stdout",
     "output_type": "stream",
     "text": [
      "python - 10 + 8 = 18\n"
     ]
    }
   ],
   "source": [
    "print(\"python\",\"-\",10,\"+\",8,\"=\",18)"
   ]
  },
  {
   "cell_type": "code",
   "execution_count": 54,
   "id": "5a6468d3-ef03-449d-8a07-a84c881854bd",
   "metadata": {},
   "outputs": [
    {
     "name": "stdout",
     "output_type": "stream",
     "text": [
      "12/8 = 1.5\n"
     ]
    }
   ],
   "source": [
    "print(\"12/8 =\",12/8)"
   ]
  },
  {
   "cell_type": "markdown",
   "id": "c46b9431-9ed1-4c67-ab20-e682af3daa83",
   "metadata": {},
   "source": [
    "# DATA TYPES "
   ]
  },
  {
   "cell_type": "code",
   "execution_count": 3,
   "id": "400450b2-0e11-4488-9589-930b57fcfdfb",
   "metadata": {},
   "outputs": [
    {
     "data": {
      "text/plain": [
       "'True'"
      ]
     },
     "execution_count": 3,
     "metadata": {},
     "output_type": "execute_result"
    }
   ],
   "source": [
    " \"hello world\" #string\n",
    " 45 #int\n",
    " 45.6 #flooat\n",
    " True #booolean\n",
    "False #boolean\n",
    " \"True\" #string"
   ]
  },
  {
   "cell_type": "markdown",
   "id": "51e6e4ec-7a3b-4c04-81d2-abccb48b6c56",
   "metadata": {},
   "source": [
    "# escape sequences"
   ]
  },
  {
   "cell_type": "code",
   "execution_count": 5,
   "id": "9038d324-fe46-4899-bdc5-807f766a8723",
   "metadata": {},
   "outputs": [
    {
     "name": "stdout",
     "output_type": "stream",
     "text": [
      "python\n",
      "data science\n"
     ]
    }
   ],
   "source": [
    "print(\"python\\ndata science\")"
   ]
  },
  {
   "cell_type": "code",
   "execution_count": 6,
   "id": "13fab94c-e953-4cc3-a073-672f248d9ba5",
   "metadata": {},
   "outputs": [
    {
     "name": "stdout",
     "output_type": "stream",
     "text": [
      "data         PYTHON           SCIENCE\n"
     ]
    }
   ],
   "source": [
    "print(\"data         PYTHON           SCIENCE\")"
   ]
  },
  {
   "cell_type": "code",
   "execution_count": 9,
   "id": "d3bb0198-0045-4265-83ef-5d016b5357a5",
   "metadata": {},
   "outputs": [
    {
     "name": "stdout",
     "output_type": "stream",
     "text": [
      "data\tpython\n"
     ]
    }
   ],
   "source": [
    "print(\"data\\tpython\")"
   ]
  },
  {
   "cell_type": "code",
   "execution_count": 10,
   "id": "0a4faf34-430d-4487-a18c-8d8341d8e46d",
   "metadata": {},
   "outputs": [
    {
     "name": "stdout",
     "output_type": "stream",
     "text": [
      "data\t\t\tpython\n"
     ]
    }
   ],
   "source": [
    "print(\"data\\t\\t\\tpython\")"
   ]
  },
  {
   "cell_type": "code",
   "execution_count": 11,
   "id": "3f3cadcb-8b1b-453a-93b8-efa461338680",
   "metadata": {},
   "outputs": [
    {
     "name": "stdout",
     "output_type": "stream",
     "text": [
      "data\t\t\tpython\n",
      "science\n"
     ]
    }
   ],
   "source": [
    "print(\"data\\t\\t\\tpython\\nscience\")"
   ]
  },
  {
   "cell_type": "code",
   "execution_count": null,
   "id": "a88a6775-d913-4b29-b5b5-76f9fc8998b8",
   "metadata": {},
   "outputs": [],
   "source": []
  }
 ],
 "metadata": {
  "kernelspec": {
   "display_name": "Python 3 (ipykernel)",
   "language": "python",
   "name": "python3"
  },
  "language_info": {
   "codemirror_mode": {
    "name": "ipython",
    "version": 3
   },
   "file_extension": ".py",
   "mimetype": "text/x-python",
   "name": "python",
   "nbconvert_exporter": "python",
   "pygments_lexer": "ipython3",
   "version": "3.12.7"
  }
 },
 "nbformat": 4,
 "nbformat_minor": 5
}
