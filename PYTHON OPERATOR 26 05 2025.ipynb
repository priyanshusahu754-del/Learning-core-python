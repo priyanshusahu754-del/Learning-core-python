{
 "cells": [
  {
   "cell_type": "markdown",
   "id": "6cdc9b2e-bf45-4d6d-b62e-6cfd46839d6e",
   "metadata": {},
   "source": [
    "# python operator \n",
    "python has seven type of operator that we can use to perform different opertion and produce a result \n",
    "- arithmetic operator \n",
    "- relational operator\n",
    "- assignment operator\n",
    "- logical operator \n",
    "- mebership operator \n",
    "- identity operator \n",
    "- bitwise operator \n",
    "\n",
    "# arithmetic operator \n",
    "- addition operator +\n",
    "- subtraction -\n",
    "- multiplication *\n",
    "- dividion /\n",
    "- floor division //\n",
    "- modules %\n",
    "- exponent **\n",
    "\n",
    "- relational operator\n",
    "- assignment operator \n",
    "- logical operator \n",
    "- a nd ( logical and )\n",
    "- or ( logical or ) \n",
    "- not ( logical not ) \n",
    "\n"
   ]
  },
  {
   "cell_type": "code",
   "execution_count": 1,
   "id": "08d032a7-1e56-4985-8352-2d8c7c4ddc95",
   "metadata": {},
   "outputs": [
    {
     "data": {
      "text/plain": [
       "15"
      ]
     },
     "execution_count": 1,
     "metadata": {},
     "output_type": "execute_result"
    }
   ],
   "source": [
    "5+10"
   ]
  },
  {
   "cell_type": "code",
   "execution_count": 2,
   "id": "1033ab3a-ea77-47f8-9e34-9f104725bc95",
   "metadata": {},
   "outputs": [
    {
     "data": {
      "text/plain": [
       "15"
      ]
     },
     "execution_count": 2,
     "metadata": {},
     "output_type": "execute_result"
    }
   ],
   "source": [
    "x=5\n",
    "y=10\n",
    "x+y"
   ]
  },
  {
   "cell_type": "code",
   "execution_count": 3,
   "id": "46a21d91-279b-4cd6-83cc-260441e79e42",
   "metadata": {
    "scrolled": true
   },
   "outputs": [
    {
     "name": "stdout",
     "output_type": "stream",
     "text": [
      "15\n"
     ]
    }
   ],
   "source": [
    "x=5 \n",
    "print (x+y)"
   ]
  },
  {
   "cell_type": "code",
   "execution_count": 4,
   "id": "3dc25286-0692-4d77-9d83-7ef673fd57b5",
   "metadata": {},
   "outputs": [
    {
     "name": "stdout",
     "output_type": "stream",
     "text": [
      "50\n"
     ]
    }
   ],
   "source": [
    "print (x*y)"
   ]
  },
  {
   "cell_type": "code",
   "execution_count": 5,
   "id": "83c8cc15-2d86-47d8-8e09-6e5de6d7a22d",
   "metadata": {},
   "outputs": [
    {
     "name": "stdout",
     "output_type": "stream",
     "text": [
      "0.5\n"
     ]
    }
   ],
   "source": [
    "print (x/y)"
   ]
  },
  {
   "cell_type": "code",
   "execution_count": 6,
   "id": "c753cc0a-b446-4b9d-b7d3-69666c2ad8cc",
   "metadata": {},
   "outputs": [
    {
     "name": "stdout",
     "output_type": "stream",
     "text": [
      "0\n"
     ]
    }
   ],
   "source": [
    "print (x//y)"
   ]
  },
  {
   "cell_type": "code",
   "execution_count": 7,
   "id": "05ddb3e1-7f43-49ae-bdc0-34a71806edb6",
   "metadata": {},
   "outputs": [
    {
     "name": "stdout",
     "output_type": "stream",
     "text": [
      "7\n"
     ]
    }
   ],
   "source": [
    "print(2+5)"
   ]
  },
  {
   "cell_type": "raw",
   "id": "445e6f2a-0e02-4758-bd31-18c144156267",
   "metadata": {},
   "source": [
    "print(5//0.5)"
   ]
  },
  {
   "cell_type": "code",
   "execution_count": 8,
   "id": "0ce0e88c-a2f8-41d6-823c-db1c8ec3dc91",
   "metadata": {},
   "outputs": [
    {
     "name": "stdout",
     "output_type": "stream",
     "text": [
      "0.0\n"
     ]
    }
   ],
   "source": [
    "print(0.5//5)"
   ]
  },
  {
   "cell_type": "code",
   "execution_count": 9,
   "id": "9addc021-7bff-4d25-881c-4920ed1701db",
   "metadata": {},
   "outputs": [
    {
     "name": "stdout",
     "output_type": "stream",
     "text": [
      "17.0\n"
     ]
    }
   ],
   "source": [
    "print(2*5+7-6/8//9)"
   ]
  },
  {
   "cell_type": "code",
   "execution_count": 10,
   "id": "ab142509-c403-4f0e-b23c-7b7f40d6f11c",
   "metadata": {},
   "outputs": [
    {
     "name": "stdout",
     "output_type": "stream",
     "text": [
      "7.0\n"
     ]
    }
   ],
   "source": [
    "print (2+7-8*4/6//2)"
   ]
  },
  {
   "cell_type": "code",
   "execution_count": 11,
   "id": "f044860f-d806-47e0-a5ac-dc343b4f7a88",
   "metadata": {},
   "outputs": [
    {
     "name": "stdout",
     "output_type": "stream",
     "text": [
      "32.0\n"
     ]
    }
   ],
   "source": [
    "print(2+6*5-2**3/3//5)"
   ]
  },
  {
   "cell_type": "code",
   "execution_count": 12,
   "id": "19bd8d03-011a-42be-88b7-d49926f33344",
   "metadata": {},
   "outputs": [
    {
     "name": "stdout",
     "output_type": "stream",
     "text": [
      "-1.0\n"
     ]
    }
   ],
   "source": [
    "print (4-5+6*2%3**2/2//5)"
   ]
  },
  {
   "cell_type": "code",
   "execution_count": 13,
   "id": "01c1553c-3e7b-47b6-a8e1-b051093f81d2",
   "metadata": {},
   "outputs": [
    {
     "name": "stdout",
     "output_type": "stream",
     "text": [
      "-16\n"
     ]
    }
   ],
   "source": [
    "print(-47//3)"
   ]
  },
  {
   "cell_type": "code",
   "execution_count": 14,
   "id": "e574d3d8-5f16-4e4f-a5ad-d9a2e46cdf38",
   "metadata": {},
   "outputs": [
    {
     "name": "stdout",
     "output_type": "stream",
     "text": [
      "7.888888888888889\n"
     ]
    }
   ],
   "source": [
    "a=2+3-5*2/3**2+4\n",
    "print(a)"
   ]
  },
  {
   "cell_type": "code",
   "execution_count": 15,
   "id": "c2cb0014-89f5-4a69-ac09-7158ff1d2c6c",
   "metadata": {},
   "outputs": [
    {
     "name": "stdout",
     "output_type": "stream",
     "text": [
      "67\n"
     ]
    }
   ],
   "source": [
    "a = (12 + 3) * 3 ** 2 // 2\n",
    "print(a)"
   ]
  },
  {
   "cell_type": "code",
   "execution_count": 16,
   "id": "4336af94-3192-4fd8-b955-ba56c5b31ec8",
   "metadata": {},
   "outputs": [
    {
     "name": "stdout",
     "output_type": "stream",
     "text": [
      "-632\n"
     ]
    }
   ],
   "source": [
    "a=(10+5-6**2*7)+9*4//2-59*(10//2-5+7)\n",
    "print(a)"
   ]
  },
  {
   "cell_type": "code",
   "execution_count": 17,
   "id": "32abe6d6-ce62-4be4-9410-b46bbae971e9",
   "metadata": {},
   "outputs": [
    {
     "data": {
      "text/plain": [
       "-4"
      ]
     },
     "execution_count": 17,
     "metadata": {},
     "output_type": "execute_result"
    }
   ],
   "source": [
    "-22//7"
   ]
  },
  {
   "cell_type": "code",
   "execution_count": 18,
   "id": "3e944204-626f-4390-b222-889cc7f00654",
   "metadata": {},
   "outputs": [
    {
     "data": {
      "text/plain": [
       "-4"
      ]
     },
     "execution_count": 18,
     "metadata": {},
     "output_type": "execute_result"
    }
   ],
   "source": [
    "-24//7"
   ]
  },
  {
   "cell_type": "markdown",
   "id": "7234fff7-30fa-4aa3-96d2-15caf817bed0",
   "metadata": {},
   "source": [
    "#### modula operation"
   ]
  },
  {
   "cell_type": "code",
   "execution_count": 19,
   "id": "4537f8ba-7be2-439b-9ca8-e1a48eba7f9c",
   "metadata": {},
   "outputs": [
    {
     "data": {
      "text/plain": [
       "2"
      ]
     },
     "execution_count": 19,
     "metadata": {},
     "output_type": "execute_result"
    }
   ],
   "source": [
    "5%3"
   ]
  },
  {
   "cell_type": "code",
   "execution_count": 20,
   "id": "077a6c91-8f2e-4cbc-8693-3ae87429b33b",
   "metadata": {},
   "outputs": [
    {
     "data": {
      "text/plain": [
       "3"
      ]
     },
     "execution_count": 20,
     "metadata": {},
     "output_type": "execute_result"
    }
   ],
   "source": [
    "7%4"
   ]
  },
  {
   "cell_type": "code",
   "execution_count": 21,
   "id": "018a67b7-28ca-451b-aeec-2ee5d2b9564e",
   "metadata": {},
   "outputs": [
    {
     "data": {
      "text/plain": [
       "2"
      ]
     },
     "execution_count": 21,
     "metadata": {},
     "output_type": "execute_result"
    }
   ],
   "source": [
    "30%7"
   ]
  },
  {
   "cell_type": "code",
   "execution_count": 22,
   "id": "afa552ad-d37c-4c5c-856b-9029bf0bd58f",
   "metadata": {},
   "outputs": [
    {
     "data": {
      "text/plain": [
       "0"
      ]
     },
     "execution_count": 22,
     "metadata": {},
     "output_type": "execute_result"
    }
   ],
   "source": [
    "30%3"
   ]
  },
  {
   "cell_type": "code",
   "execution_count": 24,
   "id": "c0aba542-af3e-42af-b2a4-5b88f048d2ec",
   "metadata": {},
   "outputs": [
    {
     "name": "stdout",
     "output_type": "stream",
     "text": [
      "2\n"
     ]
    }
   ],
   "source": [
    "print(20%3)"
   ]
  },
  {
   "cell_type": "code",
   "execution_count": 25,
   "id": "23f69846-3f8e-4e93-925e-c2bfabd5d7d5",
   "metadata": {},
   "outputs": [
    {
     "name": "stdout",
     "output_type": "stream",
     "text": [
      "2\n"
     ]
    }
   ],
   "source": [
    "print(2%4)"
   ]
  },
  {
   "cell_type": "code",
   "execution_count": 26,
   "id": "cfeb6fdb-7eb5-41be-acd4-bd1df76623b2",
   "metadata": {},
   "outputs": [
    {
     "name": "stdout",
     "output_type": "stream",
     "text": [
      "10\n"
     ]
    }
   ],
   "source": [
    "print(10%21)"
   ]
  },
  {
   "cell_type": "code",
   "execution_count": 27,
   "id": "f44f6c59-66fe-460b-a3ad-92f79395dd5e",
   "metadata": {},
   "outputs": [
    {
     "name": "stdout",
     "output_type": "stream",
     "text": [
      "4\n"
     ]
    }
   ],
   "source": [
    "print(4%20)"
   ]
  },
  {
   "cell_type": "markdown",
   "id": "1660bbf5-8316-416d-a3f8-231759cdc30a",
   "metadata": {},
   "source": [
    "- sabse pehle bracket ki value solve hogi    thn        left to right move hoga usme ( *,/,//,%) inme se jo phle aaya wo phle solve hoga frr add and subtract"
   ]
  },
  {
   "cell_type": "markdown",
   "id": "f13e61d8-1450-438f-9fae-b407a1617645",
   "metadata": {},
   "source": [
    "# relational (comparison) operator\n",
    "- greater than >\n",
    "- <  less than \n",
    "- =  equal to \n",
    "- != not equal to \n",
    "-  greater or equal >=\n",
    "- <= less or equal "
   ]
  },
  {
   "cell_type": "code",
   "execution_count": 28,
   "id": "427a0fc8-be87-4827-80b7-801fe2771acd",
   "metadata": {},
   "outputs": [],
   "source": [
    "x=10\n",
    "y=5"
   ]
  },
  {
   "cell_type": "code",
   "execution_count": 29,
   "id": "88a924ac-9b1e-4871-853c-bd15bc9d29ac",
   "metadata": {},
   "outputs": [
    {
     "data": {
      "text/plain": [
       "False"
      ]
     },
     "execution_count": 29,
     "metadata": {},
     "output_type": "execute_result"
    }
   ],
   "source": [
    "x is y "
   ]
  },
  {
   "cell_type": "code",
   "execution_count": 30,
   "id": "2de13506-def3-4711-811b-fcc93324aa57",
   "metadata": {},
   "outputs": [
    {
     "data": {
      "text/plain": [
       "True"
      ]
     },
     "execution_count": 30,
     "metadata": {},
     "output_type": "execute_result"
    }
   ],
   "source": [
    "x>y"
   ]
  },
  {
   "cell_type": "code",
   "execution_count": 31,
   "id": "0fd65b08-b4a6-475d-90a5-45024bfe6c2e",
   "metadata": {},
   "outputs": [
    {
     "data": {
      "text/plain": [
       "False"
      ]
     },
     "execution_count": 31,
     "metadata": {},
     "output_type": "execute_result"
    }
   ],
   "source": [
    "x<y"
   ]
  },
  {
   "cell_type": "code",
   "execution_count": 32,
   "id": "2522cdfa-5e5e-47f8-a07a-a7195ffe215a",
   "metadata": {},
   "outputs": [
    {
     "data": {
      "text/plain": [
       "False"
      ]
     },
     "execution_count": 32,
     "metadata": {},
     "output_type": "execute_result"
    }
   ],
   "source": [
    "x<=y"
   ]
  },
  {
   "cell_type": "code",
   "execution_count": 33,
   "id": "675c2e3e-668f-4a5d-94e5-41ee54b16480",
   "metadata": {},
   "outputs": [
    {
     "data": {
      "text/plain": [
       "True"
      ]
     },
     "execution_count": 33,
     "metadata": {},
     "output_type": "execute_result"
    }
   ],
   "source": [
    "x>=y"
   ]
  },
  {
   "cell_type": "code",
   "execution_count": 34,
   "id": "27772d50-f27f-4084-ba27-1f630d287a8b",
   "metadata": {},
   "outputs": [
    {
     "data": {
      "text/plain": [
       "False"
      ]
     },
     "execution_count": 34,
     "metadata": {},
     "output_type": "execute_result"
    }
   ],
   "source": [
    "x<=y"
   ]
  },
  {
   "cell_type": "code",
   "execution_count": 35,
   "id": "2109c848-2b92-4fba-b4ae-725538bd0bc7",
   "metadata": {},
   "outputs": [
    {
     "data": {
      "text/plain": [
       "True"
      ]
     },
     "execution_count": 35,
     "metadata": {},
     "output_type": "execute_result"
    }
   ],
   "source": [
    "x!=y"
   ]
  },
  {
   "cell_type": "code",
   "execution_count": 36,
   "id": "bd516c58-db45-4812-a133-441b48d2eb6c",
   "metadata": {},
   "outputs": [
    {
     "data": {
      "text/plain": [
       "True"
      ]
     },
     "execution_count": 36,
     "metadata": {},
     "output_type": "execute_result"
    }
   ],
   "source": [
    "y<=y"
   ]
  },
  {
   "cell_type": "code",
   "execution_count": 37,
   "id": "e4a522ca-95fc-4d97-9e11-22cec7feb1a9",
   "metadata": {},
   "outputs": [
    {
     "data": {
      "text/plain": [
       "False"
      ]
     },
     "execution_count": 37,
     "metadata": {},
     "output_type": "execute_result"
    }
   ],
   "source": [
    "y>=x"
   ]
  },
  {
   "cell_type": "code",
   "execution_count": 38,
   "id": "353ca76c-ad10-43fd-a50f-442c33a33e70",
   "metadata": {},
   "outputs": [
    {
     "data": {
      "text/plain": [
       "True"
      ]
     },
     "execution_count": 38,
     "metadata": {},
     "output_type": "execute_result"
    }
   ],
   "source": [
    "x=\"python\"\n",
    "y=\"Hello world\"\n",
    "x>y"
   ]
  },
  {
   "cell_type": "code",
   "execution_count": 39,
   "id": "f33272fd-2592-47e5-9243-f4243582b7fd",
   "metadata": {},
   "outputs": [
    {
     "name": "stdout",
     "output_type": "stream",
     "text": [
      "80\n",
      "112\n"
     ]
    }
   ],
   "source": [
    "#UNICODE VALUE\n",
    "A=\"P\"\n",
    "B=\"p\"\n",
    "print(ord(A))\n",
    "print(ord(B))"
   ]
  },
  {
   "cell_type": "code",
   "execution_count": 40,
   "id": "947930e9-c007-4083-8edf-59b37595973c",
   "metadata": {},
   "outputs": [
    {
     "name": "stdout",
     "output_type": "stream",
     "text": [
      "True\n"
     ]
    }
   ],
   "source": [
    "print(A<B)"
   ]
  },
  {
   "cell_type": "code",
   "execution_count": 41,
   "id": "484606c2-083f-451b-bb2d-ef511bd486cf",
   "metadata": {},
   "outputs": [
    {
     "data": {
      "text/plain": [
       "True"
      ]
     },
     "execution_count": 41,
     "metadata": {},
     "output_type": "execute_result"
    }
   ],
   "source": [
    "X=\"python\"\n",
    "Y=\"queen\"\n",
    "X<Y"
   ]
  },
  {
   "cell_type": "markdown",
   "id": "ee71b22e-6a09-4a9a-81c1-65522df19822",
   "metadata": {},
   "source": [
    "# logical oprator"
   ]
  },
  {
   "cell_type": "markdown",
   "id": "3c79ad18-ffe5-490c-831d-0ab76e20d85b",
   "metadata": {},
   "source": [
    "#### and    or    not \n",
    "#### it is used to combine conditional statement"
   ]
  },
  {
   "cell_type": "code",
   "execution_count": 42,
   "id": "ecc79cc4-02dd-4f28-87c4-7d4c23254587",
   "metadata": {},
   "outputs": [
    {
     "name": "stdout",
     "output_type": "stream",
     "text": [
      "True\n"
     ]
    }
   ],
   "source": [
    "x=13\n",
    "y=14\n",
    "z=15\n",
    "print(x<y or y!=z)"
   ]
  },
  {
   "cell_type": "code",
   "execution_count": 43,
   "id": "9527a58f-f99b-40ba-88ac-76c6ecedc44c",
   "metadata": {},
   "outputs": [
    {
     "name": "stdout",
     "output_type": "stream",
     "text": [
      "True\n"
     ]
    }
   ],
   "source": [
    "x=15\n",
    "y=14\n",
    "print(x<y or X!=y)"
   ]
  },
  {
   "cell_type": "code",
   "execution_count": 44,
   "id": "17a597f9-3495-42e3-b8a9-c1601ce95fd5",
   "metadata": {},
   "outputs": [
    {
     "name": "stdout",
     "output_type": "stream",
     "text": [
      "0\n"
     ]
    }
   ],
   "source": [
    "num=2\n",
    "print(num%2)"
   ]
  },
  {
   "cell_type": "code",
   "execution_count": 45,
   "id": "9668a344-7649-4168-9707-d54a86a4bc61",
   "metadata": {},
   "outputs": [
    {
     "name": "stdout",
     "output_type": "stream",
     "text": [
      "True\n"
     ]
    }
   ],
   "source": [
    "print(num%2>=0)"
   ]
  },
  {
   "cell_type": "code",
   "execution_count": 46,
   "id": "be3304e4-d0fa-44b6-94a1-601c154de1c5",
   "metadata": {},
   "outputs": [
    {
     "name": "stdout",
     "output_type": "stream",
     "text": [
      "False\n",
      "True\n",
      "True\n"
     ]
    }
   ],
   "source": [
    "print(num%2>0)\n",
    "print(num%2==0)\n",
    "print(num%2>0 or num%2==0) #false or true"
   ]
  },
  {
   "cell_type": "code",
   "execution_count": 47,
   "id": "60f202f8-d611-4f35-8c78-0d851b33f399",
   "metadata": {},
   "outputs": [
    {
     "name": "stdout",
     "output_type": "stream",
     "text": [
      "False\n"
     ]
    }
   ],
   "source": [
    "num=39\n",
    "print(num%2==0)"
   ]
  },
  {
   "cell_type": "code",
   "execution_count": 48,
   "id": "eafed40e-3487-4286-9d72-c9f40db73701",
   "metadata": {},
   "outputs": [
    {
     "name": "stdout",
     "output_type": "stream",
     "text": [
      "False\n",
      "False\n",
      "False\n"
     ]
    }
   ],
   "source": [
    "a=25\n",
    "b=20\n",
    "c=20\n",
    "print(a<b)\n",
    "print(b!=c)\n",
    "print(c>a)"
   ]
  },
  {
   "cell_type": "code",
   "execution_count": 49,
   "id": "3fceb171-78d7-4ca8-b7ea-8e0d8ccfd88c",
   "metadata": {},
   "outputs": [
    {
     "name": "stdout",
     "output_type": "stream",
     "text": [
      "False\n"
     ]
    }
   ],
   "source": [
    "print(a<b or b!=c or c>a)"
   ]
  },
  {
   "cell_type": "code",
   "execution_count": 50,
   "id": "17d709ab-a5b8-4b60-9b1e-99482cccea75",
   "metadata": {},
   "outputs": [
    {
     "name": "stdout",
     "output_type": "stream",
     "text": [
      "False\n"
     ]
    }
   ],
   "source": [
    "print(a<b and b!=c and c>a)"
   ]
  },
  {
   "cell_type": "code",
   "execution_count": 51,
   "id": "e7470293-42f2-42f1-9bd9-74f41e4e72de",
   "metadata": {},
   "outputs": [
    {
     "name": "stdout",
     "output_type": "stream",
     "text": [
      "True\n",
      "True\n",
      "True\n"
     ]
    }
   ],
   "source": [
    "a=15\n",
    "b=20\n",
    "c=25\n",
    "print(a<b)\n",
    "print(b!=c)\n",
    "print(c>a)"
   ]
  },
  {
   "cell_type": "code",
   "execution_count": 53,
   "id": "a5d7aed6-989b-42e4-a976-d0cee7f453bf",
   "metadata": {},
   "outputs": [
    {
     "name": "stdout",
     "output_type": "stream",
     "text": [
      "True\n"
     ]
    }
   ],
   "source": [
    "print(a<b and b!=c and c>a)"
   ]
  },
  {
   "cell_type": "code",
   "execution_count": 54,
   "id": "695f44af-5d4f-4bca-afbd-fb1f41f29804",
   "metadata": {},
   "outputs": [
    {
     "name": "stdout",
     "output_type": "stream",
     "text": [
      "True\n"
     ]
    }
   ],
   "source": [
    "x=13\n",
    "y=14\n",
    "z=15\n",
    "print(x<y and y!=z)"
   ]
  },
  {
   "cell_type": "code",
   "execution_count": 57,
   "id": "f6a6fdea-b66d-4bf2-921a-27b95c5dc8f8",
   "metadata": {},
   "outputs": [
    {
     "name": "stdout",
     "output_type": "stream",
     "text": [
      "True\n",
      "True\n",
      "True\n"
     ]
    }
   ],
   "source": [
    "x=13\n",
    "y=14\n",
    "z=15\n",
    "print(x<y)\n",
    "print(y!=z)\n",
    "print(x<y and y!=z)"
   ]
  },
  {
   "cell_type": "code",
   "execution_count": 58,
   "id": "77af4cb4-1634-4a4b-9fbe-441d7e4c49e1",
   "metadata": {},
   "outputs": [
    {
     "name": "stdout",
     "output_type": "stream",
     "text": [
      "False\n",
      "True\n",
      "False\n"
     ]
    }
   ],
   "source": [
    "x=15\n",
    "y=14\n",
    "z=13\n",
    "print(x<y)\n",
    "print(y!=z)\n",
    "print(x<y and y!=z)"
   ]
  },
  {
   "cell_type": "code",
   "execution_count": 59,
   "id": "dbba7c06-d7d6-402e-97f7-b345879789c9",
   "metadata": {},
   "outputs": [
    {
     "name": "stdout",
     "output_type": "stream",
     "text": [
      "True\n",
      "False\n",
      "False\n"
     ]
    }
   ],
   "source": [
    "x=13\n",
    "y=14\n",
    "z=14\n",
    "print(x<y)\n",
    "print(y!=z)\n",
    "print(x<y and y!=z)"
   ]
  },
  {
   "cell_type": "code",
   "execution_count": 61,
   "id": "fee535f1-5354-48da-9bf6-6eaf4ba9e5bd",
   "metadata": {},
   "outputs": [
    {
     "name": "stdout",
     "output_type": "stream",
     "text": [
      "False\n",
      "False\n",
      "False\n"
     ]
    }
   ],
   "source": [
    "x=20\n",
    "y=14\n",
    "z=14\n",
    "print(x<y)\n",
    "print(y!=z)\n",
    "print(x<y and y!=z)"
   ]
  },
  {
   "cell_type": "code",
   "execution_count": 14,
   "id": "5666bb79-fcc9-45ce-9fe5-7be094e9757b",
   "metadata": {},
   "outputs": [
    {
     "name": "stdout",
     "output_type": "stream",
     "text": [
      "False\n"
     ]
    }
   ],
   "source": [
    "#its a weekday and time is before 7:00 am ,wake up.\n",
    "weekday=\"monday\",\"tuesday\",\"wednesday\",\"thursday\",\"friday\",\"saturday\"\n",
    "day=\"weekday\"\n",
    "Time=7\n",
    "print((day==\"monday\") and (Time<7))"
   ]
  },
  {
   "cell_type": "code",
   "execution_count": 22,
   "id": "e833c9e9-4e90-44f9-8db1-b29d1680fe39",
   "metadata": {},
   "outputs": [
    {
     "name": "stdout",
     "output_type": "stream",
     "text": [
      "True\n"
     ]
    }
   ],
   "source": [
    "#its a weekday and time is before 7:00 am ,wake up.\n",
    "day=\"monday\",\"tuesday\",\"wednesday\",\"thursday\",\"friday\",\"saturday\"\n",
    "Time=7\n",
    "print((day==\"monday\") or (Time<=7))"
   ]
  },
  {
   "cell_type": "code",
   "execution_count": 23,
   "id": "f85bb7ca-7e6a-402f-8edc-ecb716d8af17",
   "metadata": {},
   "outputs": [
    {
     "name": "stdout",
     "output_type": "stream",
     "text": [
      "False\n"
     ]
    }
   ],
   "source": [
    "#its a weekday and time is before 7:00 am ,wake up.\n",
    "day=\"monday\",\"tuesday\",\"wednesday\",\"thursday\",\"friday\",\"saturday\"\n",
    "Time=7\n",
    "print(day==\"monday\") "
   ]
  },
  {
   "cell_type": "code",
   "execution_count": 3,
   "id": "17b58a60-5788-43a1-8b72-0e49798ef914",
   "metadata": {},
   "outputs": [
    {
     "name": "stdout",
     "output_type": "stream",
     "text": [
      "True\n"
     ]
    }
   ],
   "source": [
    "day=\"monday\"\n",
    "time=6\n",
    "print(day!=\"saturday\" and day!=\"sunday\" and time<7)"
   ]
  },
  {
   "cell_type": "code",
   "execution_count": 6,
   "id": "1119771b-18dd-4eee-bb64-ab6951cc7be2",
   "metadata": {},
   "outputs": [
    {
     "name": "stdout",
     "output_type": "stream",
     "text": [
      "True\n"
     ]
    }
   ],
   "source": [
    "# if you wokw up and your uniform is clean,go take a shower and get dressed\n",
    "wake_up=\"yes\"\n",
    "uniform=\"clean\"\n",
    "print(wake_up==\"yes\" and uniform==\"clean\")"
   ]
  },
  {
   "cell_type": "code",
   "execution_count": 7,
   "id": "165077de-1cbe-4b3c-a6bf-7b869b3fb884",
   "metadata": {},
   "outputs": [
    {
     "name": "stdout",
     "output_type": "stream",
     "text": [
      "True\n"
     ]
    }
   ],
   "source": [
    "# if its a weekdday and homework id not done ,panic!,\n",
    "day=\"monday\"\n",
    "homework=\"done\"\n",
    "print(day!=\"saturday\" and day!=\"sunday\" and homework==\"done\")"
   ]
  },
  {
   "cell_type": "code",
   "execution_count": 12,
   "id": "1bfb91b4-255c-416e-93c8-227d1235c5b9",
   "metadata": {},
   "outputs": [
    {
     "name": "stdout",
     "output_type": "stream",
     "text": [
      "True\n"
     ]
    }
   ],
   "source": [
    "#it is raining and you dont have an umbrella , stay home\n",
    "raining=\"yes\"\n",
    "umbrella=\"no\"\n",
    "print(umbrella==\"no\" and raining==\"yes\")"
   ]
  },
  {
   "cell_type": "code",
   "execution_count": 14,
   "id": "d38599ec-fd15-46a2-99ec-ca85248f5427",
   "metadata": {},
   "outputs": [
    {
     "name": "stdout",
     "output_type": "stream",
     "text": [
      "True\n"
     ]
    }
   ],
   "source": [
    "#if today is monday and you forget your id card ,go back and get it \n",
    "day=\"monday\"\n",
    "id_card=\"forget\"\n",
    "print(day!=\"sunday\" and day!=\"tuesday\" and day!=\"wednesday\" and day!=\"thursday\" and day!=\"friday\" and day!=\"saturday\" and id_card==\"forget\")"
   ]
  },
  {
   "cell_type": "code",
   "execution_count": 22,
   "id": "f71ae6f3-c931-4d99-8b82-9427122db7ed",
   "metadata": {},
   "outputs": [
    {
     "name": "stdout",
     "output_type": "stream",
     "text": [
      "True\n"
     ]
    }
   ],
   "source": [
    "#if today is monday and you forget your id card ,go back and get it \n",
    "day=\"monday\"\n",
    "id_card=\"forget\"\n",
    "print(day==\"monday\" and id_card==\"forget\")\n",
    "      "
   ]
  },
  {
   "cell_type": "code",
   "execution_count": 20,
   "id": "05eea5ee-3e7c-46f6-9139-c90ebaf83635",
   "metadata": {},
   "outputs": [
    {
     "name": "stdout",
     "output_type": "stream",
     "text": [
      "False\n"
     ]
    }
   ],
   "source": [
    "#if the bus has already arrived and you're not ready , take an auto \n",
    "bus_arrived=\"no\"\n",
    "ready=\"no\"\n",
    "print(bus_arrived==\"yes\" and ready==\"no\")"
   ]
  },
  {
   "cell_type": "code",
   "execution_count": 34,
   "id": "dc30d948-7279-44c5-86d9-ade925d6f0ff",
   "metadata": {},
   "outputs": [
    {
     "name": "stdout",
     "output_type": "stream",
     "text": [
      "True\n"
     ]
    }
   ],
   "source": [
    "#if today is sunday or a holiday , sleep again\n",
    "day=\"sunday\"  \n",
    "holiday=\"monday\"\n",
    "print(day==\"sunday\" and holiday==\"monday\")"
   ]
  },
  {
   "cell_type": "code",
   "execution_count": 29,
   "id": "031607e7-28a2-472a-b4ce-3924574c2f8e",
   "metadata": {},
   "outputs": [
    {
     "name": "stdout",
     "output_type": "stream",
     "text": [
      "True\n"
     ]
    }
   ],
   "source": [
    "#if you are ready ,have your id, bus has arrived,wait at the gate \n",
    "ready=\"yes\"\n",
    "have_id=\"yes\"\n",
    "bus_arrived=\"yes\"\n",
    "print(ready==\"yes\" and have_id==\"yes\" and bus_arrived==\"yes\")"
   ]
  },
  {
   "cell_type": "code",
   "execution_count": 24,
   "id": "e4930a37-bb7e-4bb1-a073-143550a7bb51",
   "metadata": {},
   "outputs": [
    {
     "name": "stdout",
     "output_type": "stream",
     "text": [
      "True\n"
     ]
    }
   ],
   "source": [
    "#if its raining you missed the bus and forget your id -skip school today\n",
    "its_raining=\"yes\"\n",
    "bus_missed=\"yes\"\n",
    "id_card=\"forget\"\n",
    "print(its_raining==\"yes\" and bus_missed==\"yes\" and id_card==\"forget\")"
   ]
  },
  {
   "cell_type": "code",
   "execution_count": null,
   "id": "1059ff95-c8ab-4b23-ab48-76e6d32181db",
   "metadata": {},
   "outputs": [],
   "source": []
  },
  {
   "cell_type": "markdown",
   "id": "eaee721d-2844-4646-8ead-76a6b3f250f3",
   "metadata": {},
   "source": [
    "# assignment operator \n",
    "- assign =\n",
    "- add and assign +=\n",
    "- sub and assign -=\n",
    "- multiply and assign *=\n",
    "- division and assign /=\n",
    "- floor division and assign //=\n",
    "- modules and assign %=\n"
   ]
  },
  {
   "cell_type": "code",
   "execution_count": 1,
   "id": "bbc4149a-0fcc-4ad5-b796-a387b49d1793",
   "metadata": {},
   "outputs": [],
   "source": [
    "a=10"
   ]
  },
  {
   "cell_type": "code",
   "execution_count": 2,
   "id": "4d908129-55bd-42e3-833e-a154096ebd71",
   "metadata": {},
   "outputs": [
    {
     "name": "stdout",
     "output_type": "stream",
     "text": [
      "15\n"
     ]
    }
   ],
   "source": [
    "a += 5\n",
    "print(a)"
   ]
  },
  {
   "cell_type": "code",
   "execution_count": 3,
   "id": "d7a2264b-3189-4539-89a8-3d358d0397bb",
   "metadata": {},
   "outputs": [
    {
     "name": "stdout",
     "output_type": "stream",
     "text": [
      "5\n"
     ]
    }
   ],
   "source": [
    "a -= 10\n",
    "print (a)"
   ]
  },
  {
   "cell_type": "code",
   "execution_count": 4,
   "id": "cff3b3c0-4ab6-45b2-bbd1-0d0ec8382c6a",
   "metadata": {},
   "outputs": [
    {
     "data": {
      "text/plain": [
       "False"
      ]
     },
     "execution_count": 4,
     "metadata": {},
     "output_type": "execute_result"
    }
   ],
   "source": [
    "z=\"hello\"\n",
    "\"false\"==z"
   ]
  },
  {
   "cell_type": "code",
   "execution_count": 14,
   "id": "7b78eb7e-a2be-4ae7-b3d1-96db879be9c3",
   "metadata": {},
   "outputs": [
    {
     "data": {
      "text/plain": [
       "False"
      ]
     },
     "execution_count": 14,
     "metadata": {},
     "output_type": "execute_result"
    }
   ],
   "source": [
    "\"false\">=\"hello world\""
   ]
  },
  {
   "cell_type": "code",
   "execution_count": 15,
   "id": "3a4e0a20-7922-4519-8187-cea9297f33e5",
   "metadata": {},
   "outputs": [
    {
     "data": {
      "text/plain": [
       "True"
      ]
     },
     "execution_count": 15,
     "metadata": {},
     "output_type": "execute_result"
    }
   ],
   "source": [
    "\"false\"<=\"hello world\""
   ]
  },
  {
   "cell_type": "code",
   "execution_count": 17,
   "id": "cc9404f3-4805-435e-a424-139d9efea4c9",
   "metadata": {},
   "outputs": [
    {
     "name": "stdout",
     "output_type": "stream",
     "text": [
      "False\n",
      "True\n",
      "False\n"
     ]
    }
   ],
   "source": [
    "x=\"hello world\"\n",
    "y=\"priyanshu sahu\"\n",
    "print(x==y)\n",
    "print(x<=y)\n",
    "print(x>=y)"
   ]
  },
  {
   "cell_type": "code",
   "execution_count": 18,
   "id": "6f15c362-3aac-4914-8a9f-838805058eb7",
   "metadata": {},
   "outputs": [
    {
     "ename": "TypeError",
     "evalue": "'>=' not supported between instances of 'str' and 'int'",
     "output_type": "error",
     "traceback": [
      "\u001b[1;31m---------------------------------------------------------------------------\u001b[0m",
      "\u001b[1;31mTypeError\u001b[0m                                 Traceback (most recent call last)",
      "Cell \u001b[1;32mIn[18], line 4\u001b[0m\n\u001b[0;32m      2\u001b[0m y\u001b[38;5;241m=\u001b[39m\u001b[38;5;124m\"\u001b[39m\u001b[38;5;124mpriyanshu sahu\u001b[39m\u001b[38;5;124m\"\u001b[39m\n\u001b[0;32m      3\u001b[0m z\u001b[38;5;241m=\u001b[39m\u001b[38;5;241m10\u001b[39m\n\u001b[1;32m----> 4\u001b[0m \u001b[38;5;28mprint\u001b[39m(x\u001b[38;5;241m>\u001b[39m\u001b[38;5;241m=\u001b[39mz)\n\u001b[0;32m      5\u001b[0m \u001b[38;5;28mprint\u001b[39m(x\u001b[38;5;241m==\u001b[39mz)\n\u001b[0;32m      6\u001b[0m \u001b[38;5;28mprint\u001b[39m(y\u001b[38;5;241m<\u001b[39m\u001b[38;5;241m=\u001b[39mz)\n",
      "\u001b[1;31mTypeError\u001b[0m: '>=' not supported between instances of 'str' and 'int'"
     ]
    }
   ],
   "source": [
    "x=\"hello world\"\n",
    "y=\"priyanshu sahu\"\n",
    "z=10\n",
    "print(x>=z)\n",
    "print(x==z)\n",
    "print(y<=z)"
   ]
  },
  {
   "cell_type": "code",
   "execution_count": 20,
   "id": "7ec41499-f189-4020-8915-fee35c166ef2",
   "metadata": {},
   "outputs": [
    {
     "name": "stdout",
     "output_type": "stream",
     "text": [
      "20\n",
      "20\n"
     ]
    }
   ],
   "source": [
    "a=10\n",
    "b=20\n",
    "a=b\n",
    "print(b)\n",
    "print(a)"
   ]
  },
  {
   "cell_type": "raw",
   "id": "5ed20101-282c-4198-b83d-d492dc389ee6",
   "metadata": {},
   "source": [
    "# logical operator \n",
    "- and ( logical and ) \n",
    "- or (logical or )\n",
    "- not (logical not)"
   ]
  },
  {
   "cell_type": "code",
   "execution_count": 7,
   "id": "804aec12-8791-4aed-9853-8161c7392b59",
   "metadata": {},
   "outputs": [],
   "source": [
    "a=5\n",
    "b=8"
   ]
  },
  {
   "cell_type": "code",
   "execution_count": 80,
   "id": "bdd3d3bb-91e9-4bd6-814a-2321a9157111",
   "metadata": {
    "scrolled": true
   },
   "outputs": [
    {
     "data": {
      "text/plain": [
       "8"
      ]
     },
     "execution_count": 80,
     "metadata": {},
     "output_type": "execute_result"
    }
   ],
   "source": [
    "a and b"
   ]
  },
  {
   "cell_type": "code",
   "execution_count": 81,
   "id": "1da3a9f4-214b-45fe-9378-be36d07c13d6",
   "metadata": {
    "scrolled": true
   },
   "outputs": [
    {
     "data": {
      "text/plain": [
       "False"
      ]
     },
     "execution_count": 81,
     "metadata": {},
     "output_type": "execute_result"
    }
   ],
   "source": [
    "not b "
   ]
  },
  {
   "cell_type": "code",
   "execution_count": 82,
   "id": "f00ec69e-bbc9-41d4-a373-bfa72d24a36d",
   "metadata": {},
   "outputs": [
    {
     "data": {
      "text/plain": [
       "False"
      ]
     },
     "execution_count": 82,
     "metadata": {},
     "output_type": "execute_result"
    }
   ],
   "source": [
    "not a and b "
   ]
  },
  {
   "cell_type": "code",
   "execution_count": 86,
   "id": "ade4c723-396d-4812-9bbe-b921ce2d6bb3",
   "metadata": {},
   "outputs": [
    {
     "data": {
      "text/plain": [
       "8"
      ]
     },
     "execution_count": 86,
     "metadata": {},
     "output_type": "execute_result"
    }
   ],
   "source": [
    "not a or b"
   ]
  },
  {
   "cell_type": "code",
   "execution_count": 87,
   "id": "ad93d5d1-1e1f-4f30-b65d-edfd27118ee8",
   "metadata": {},
   "outputs": [
    {
     "data": {
      "text/plain": [
       "False"
      ]
     },
     "execution_count": 87,
     "metadata": {},
     "output_type": "execute_result"
    }
   ],
   "source": [
    "not b and a"
   ]
  },
  {
   "cell_type": "code",
   "execution_count": 90,
   "id": "db078a55-61de-4496-b68d-2f37f3fe38aa",
   "metadata": {},
   "outputs": [
    {
     "data": {
      "text/plain": [
       "8"
      ]
     },
     "execution_count": 90,
     "metadata": {},
     "output_type": "execute_result"
    }
   ],
   "source": [
    "b or a and not a"
   ]
  },
  {
   "cell_type": "code",
   "execution_count": 93,
   "id": "25543056-dfd8-4206-9b68-ca311cb771a2",
   "metadata": {},
   "outputs": [
    {
     "data": {
      "text/plain": [
       "False"
      ]
     },
     "execution_count": 93,
     "metadata": {},
     "output_type": "execute_result"
    }
   ],
   "source": [
    "not a and b "
   ]
  },
  {
   "cell_type": "markdown",
   "id": "6b9f04c6-171f-4f90-a83c-81b9026a0f08",
   "metadata": {},
   "source": [
    "# membership operator \n"
   ]
  },
  {
   "cell_type": "code",
   "execution_count": 4,
   "id": "b6785ecc-99b0-47e7-a3f3-7ba1aeb91c22",
   "metadata": {},
   "outputs": [
    {
     "data": {
      "text/plain": [
       "False"
      ]
     },
     "execution_count": 4,
     "metadata": {},
     "output_type": "execute_result"
    }
   ],
   "source": [
    "my_list = [ 11,15,21,29,50,70]\n",
    "15 not in my_list "
   ]
  },
  {
   "cell_type": "code",
   "execution_count": 97,
   "id": "bf56bca8-fdec-46d6-8ea7-24b6e07abc5e",
   "metadata": {},
   "outputs": [
    {
     "data": {
      "text/plain": [
       "True"
      ]
     },
     "execution_count": 97,
     "metadata": {},
     "output_type": "execute_result"
    }
   ],
   "source": [
    "15 in my_list "
   ]
  },
  {
   "cell_type": "code",
   "execution_count": 2,
   "id": "c0eb44ce-1609-4bf5-9fb0-fc6510ec46e0",
   "metadata": {},
   "outputs": [
    {
     "data": {
      "text/plain": [
       "True"
      ]
     },
     "execution_count": 2,
     "metadata": {},
     "output_type": "execute_result"
    }
   ],
   "source": [
    "21 in my_list"
   ]
  },
  {
   "cell_type": "code",
   "execution_count": 6,
   "id": "3136b980-e2f6-495d-a025-4c6f6bfe90a4",
   "metadata": {},
   "outputs": [
    {
     "data": {
      "text/plain": [
       "True"
      ]
     },
     "execution_count": 6,
     "metadata": {},
     "output_type": "execute_result"
    }
   ],
   "source": [
    "22 not in my_list"
   ]
  },
  {
   "cell_type": "code",
   "execution_count": 23,
   "id": "5e37952e-bd4a-46e3-98fa-3a5f8fc2032f",
   "metadata": {},
   "outputs": [
    {
     "name": "stdout",
     "output_type": "stream",
     "text": [
      "ok\n"
     ]
    }
   ],
   "source": [
    "age=18\n",
    "school=12\n",
    "if age==18 and school==12:\n",
    "    print('ok')\n",
    "else:\n",
    "     print('not ok')"
   ]
  },
  {
   "cell_type": "code",
   "execution_count": 19,
   "id": "b6810f10-e1ea-4951-bc9e-d00c6957a60b",
   "metadata": {},
   "outputs": [
    {
     "name": "stdout",
     "output_type": "stream",
     "text": [
      "ok\n"
     ]
    }
   ],
   "source": [
    "a=10\n",
    "if a>8 and a!=5 and a>=10:\n",
    "    print('ok')\n",
    "\n",
    "else:\n",
    "    print('not ok')"
   ]
  },
  {
   "cell_type": "code",
   "execution_count": 25,
   "id": "38b4b603-c274-4b9f-b5f9-d8cc19f7a58f",
   "metadata": {},
   "outputs": [
    {
     "name": "stdout",
     "output_type": "stream",
     "text": [
      "ok\n"
     ]
    }
   ],
   "source": [
    "a=20\n",
    "if a>10 or a>20 and a<=21:\n",
    "    print('ok')\n",
    "else:\n",
    "     print('not ok')\n"
   ]
  },
  {
   "cell_type": "code",
   "execution_count": 2,
   "id": "0968ec7d-c8c4-456b-b1fe-110f421ab73b",
   "metadata": {},
   "outputs": [
    {
     "data": {
      "text/plain": [
       "True"
      ]
     },
     "execution_count": 2,
     "metadata": {},
     "output_type": "execute_result"
    }
   ],
   "source": [
    "True or False and True"
   ]
  },
  {
   "cell_type": "code",
   "execution_count": 3,
   "id": "2c23719b-7209-4d39-aa6b-8811d989d199",
   "metadata": {},
   "outputs": [
    {
     "name": "stdout",
     "output_type": "stream",
     "text": [
      "ok\n"
     ]
    }
   ],
   "source": [
    "a=20\n",
    "if a>10 or a>20 or a<=21:\n",
    "    print('ok')\n",
    "else:\n",
    "     print('not ok')\n"
   ]
  },
  {
   "cell_type": "code",
   "execution_count": 1,
   "id": "1ede5251-3759-4ff5-98fb-ed149dfcf462",
   "metadata": {},
   "outputs": [
    {
     "name": "stdout",
     "output_type": "stream",
     "text": [
      "hello\n"
     ]
    }
   ],
   "source": [
    "w=100\n",
    "if w<=110 and w!=1010 and w==100:\n",
    "    print('hello')\n",
    "else:\n",
    "     print('yes yes')"
   ]
  },
  {
   "cell_type": "markdown",
   "id": "e998094c-ed35-4859-b9da-3838dc9a5f69",
   "metadata": {},
   "source": [
    "# QUESTION\n",
    "- a student is eligible to sit foR the final exam only if \n",
    "attendance is 75% or more \n",
    "internal marks are 40 or more out of 50"
   ]
  },
  {
   "cell_type": "code",
   "execution_count": 7,
   "id": "f98a8a85-be5e-41f6-a908-eca9e7199c3a",
   "metadata": {},
   "outputs": [
    {
     "name": "stdout",
     "output_type": "stream",
     "text": [
      "sit\n"
     ]
    }
   ],
   "source": [
    "attendance=100\n",
    "marks=50\n",
    "if attendance>=75 and marks>=40:\n",
    "    print('sit')\n",
    "else:\n",
    "     print('get out')"
   ]
  },
  {
   "cell_type": "code",
   "execution_count": 17,
   "id": "445ae248-e8c8-436c-9823-7a616a7361f5",
   "metadata": {},
   "outputs": [
    {
     "name": "stdout",
     "output_type": "stream",
     "text": [
      "get out\n"
     ]
    }
   ],
   "source": [
    "attendance=70\n",
    "marks=50\n",
    "if attendance>=75 and marks>=40:\n",
    "    print('sit')\n",
    "else:\n",
    "     print('get out')"
   ]
  },
  {
   "cell_type": "markdown",
   "id": "9363b1ec-e1c3-4f32-9eb2-3429555202c7",
   "metadata": {},
   "source": [
    "# Question\n",
    "- a person can enter the building if he has id card either a visitor pass "
   ]
  },
  {
   "cell_type": "code",
   "execution_count": 2,
   "id": "3b6be64e-db6d-446e-9837-fdd25ed09f9a",
   "metadata": {},
   "outputs": [
    {
     "ename": "NameError",
     "evalue": "name 'idcard' is not defined",
     "output_type": "error",
     "traceback": [
      "\u001b[1;31m---------------------------------------------------------------------------\u001b[0m",
      "\u001b[1;31mNameError\u001b[0m                                 Traceback (most recent call last)",
      "Cell \u001b[1;32mIn[2], line 1\u001b[0m\n\u001b[1;32m----> 1\u001b[0m a\u001b[38;5;241m=\u001b[39midcard \n\u001b[0;32m      2\u001b[0m b\u001b[38;5;241m=\u001b[39mvisitorpass \n\u001b[0;32m      3\u001b[0m \u001b[38;5;28;01mif\u001b[39;00m a\u001b[38;5;241m==\u001b[39mid_card \u001b[38;5;129;01mand\u001b[39;00m b\u001b[38;5;241m==\u001b[39mvisitor_pass:\n",
      "\u001b[1;31mNameError\u001b[0m: name 'idcard' is not defined"
     ]
    }
   ],
   "source": [
    "a=idcard \n",
    "b=visitorpass \n",
    "if a==id_card and b==visitor_pass:\n",
    "    print('enter')\n",
    "else:\n",
    "     print('bahar raho')"
   ]
  },
  {
   "cell_type": "code",
   "execution_count": 4,
   "id": "4d16d007-0c32-4dd5-9a30-ad9a23898fb2",
   "metadata": {},
   "outputs": [
    {
     "name": "stdout",
     "output_type": "stream",
     "text": [
      "bhar rho\n"
     ]
    }
   ],
   "source": [
    "id_card=1\n",
    "visitor_pass=2\n",
    "if id_card==1 and visitor_pass!=2:\n",
    "    print('enter')\n",
    "else:\n",
    "     print('bhar rho')"
   ]
  },
  {
   "cell_type": "markdown",
   "id": "66acd6e3-b2f1-4a76-9d4f-aa248915f8e5",
   "metadata": {},
   "source": [
    " #  login system using and or not "
   ]
  },
  {
   "cell_type": "markdown",
   "id": "6b0813d2-a03d-4b88-a50c-953bbaeeb529",
   "metadata": {},
   "source": [
    "# question\n",
    "- allow login if uername and password are correct  and the account is not logged or user is the admin "
   ]
  },
  {
   "cell_type": "code",
   "execution_count": 8,
   "id": "bf02e7c7-bd0a-4666-bb93-a651a387b89d",
   "metadata": {},
   "outputs": [
    {
     "name": "stdout",
     "output_type": "stream",
     "text": [
      "allow login\n"
     ]
    }
   ],
   "source": [
    "username=123\n",
    "password=754\n",
    "account_logged=False\n",
    "user_admin =True \n",
    "if password==754 and username==123 and account_logged==False or user_admin==True:\n",
    "    print('allow login')\n",
    "else:\n",
    "     print('not allowed')\n"
   ]
  },
  {
   "cell_type": "markdown",
   "id": "08d8e7c7-49cf-4a60-96ee-3d465a1835f7",
   "metadata": {},
   "source": [
    "#  is operator "
   ]
  },
  {
   "cell_type": "markdown",
   "id": "8bf994eb-8e71-47a3-9ad2-6bcaaab6fe7e",
   "metadata": {},
   "source": [
    "python has two identity operator is and is not "
   ]
  },
  {
   "cell_type": "markdown",
   "id": "2eb6270a-28fb-42ed-9a5d-1f9fe0d4a741",
   "metadata": {},
   "source": [
    "- is operator for finding the ids of data types\n",
    "- the is operator returns boolean True and False . if returns True if the memory returns adress first value is equal to the second value .otherwise , it returns False in python , the is keyword is used to test for object identity not quality "
   ]
  },
  {
   "cell_type": "code",
   "execution_count": 2,
   "id": "4ca46714-5206-44a3-9d6d-0ba1c5393e95",
   "metadata": {},
   "outputs": [],
   "source": [
    "x=567\n",
    "y=11\n",
    "z=567"
   ]
  },
  {
   "cell_type": "code",
   "execution_count": 6,
   "id": "6e28b5f1-5ca9-4700-ae46-5db36b408e35",
   "metadata": {},
   "outputs": [
    {
     "data": {
      "text/plain": [
       "False"
      ]
     },
     "execution_count": 6,
     "metadata": {},
     "output_type": "execute_result"
    }
   ],
   "source": [
    "x is y #x is y matlab dono ka memory adress same hai "
   ]
  },
  {
   "cell_type": "code",
   "execution_count": 4,
   "id": "01150f40-7b72-4921-aefe-d49aa137c045",
   "metadata": {},
   "outputs": [
    {
     "data": {
      "text/plain": [
       "False"
      ]
     },
     "execution_count": 4,
     "metadata": {},
     "output_type": "execute_result"
    }
   ],
   "source": [
    "x is z  "
   ]
  },
  {
   "cell_type": "code",
   "execution_count": 5,
   "id": "906f69ac-c24a-42f0-a212-e0e171dc2697",
   "metadata": {},
   "outputs": [
    {
     "data": {
      "text/plain": [
       "False"
      ]
     },
     "execution_count": 5,
     "metadata": {},
     "output_type": "execute_result"
    }
   ],
   "source": [
    "y is z"
   ]
  },
  {
   "cell_type": "code",
   "execution_count": 21,
   "id": "f16208c8-5264-43fe-83fd-481c5ddee65b",
   "metadata": {},
   "outputs": [
    {
     "name": "stdout",
     "output_type": "stream",
     "text": [
      "2622382998672\n"
     ]
    }
   ],
   "source": [
    "print(id(x))"
   ]
  },
  {
   "cell_type": "code",
   "execution_count": 22,
   "id": "7e876e74-48d3-4e8e-90f5-7ae8f9f34689",
   "metadata": {},
   "outputs": [
    {
     "name": "stdout",
     "output_type": "stream",
     "text": [
      "2622382999696\n"
     ]
    }
   ],
   "source": [
    "print(id(z))"
   ]
  },
  {
   "cell_type": "code",
   "execution_count": 23,
   "id": "ce2c0a83-46aa-43bc-ab67-c8054283e284",
   "metadata": {},
   "outputs": [
    {
     "name": "stdout",
     "output_type": "stream",
     "text": [
      "140703300397816\n"
     ]
    }
   ],
   "source": [
    "print(id(y))"
   ]
  },
  {
   "cell_type": "code",
   "execution_count": 25,
   "id": "b4649066-d8fe-451f-8473-9f426df54b72",
   "metadata": {},
   "outputs": [
    {
     "data": {
      "text/plain": [
       "True"
      ]
     },
     "execution_count": 25,
     "metadata": {},
     "output_type": "execute_result"
    }
   ],
   "source": [
    "x is not y"
   ]
  },
  {
   "cell_type": "code",
   "execution_count": null,
   "id": "c9e30d26-73c1-4d05-aefe-5173e54f297b",
   "metadata": {},
   "outputs": [],
   "source": []
  }
 ],
 "metadata": {
  "kernelspec": {
   "display_name": "Python 3 (ipykernel)",
   "language": "python",
   "name": "python3"
  },
  "language_info": {
   "codemirror_mode": {
    "name": "ipython",
    "version": 3
   },
   "file_extension": ".py",
   "mimetype": "text/x-python",
   "name": "python",
   "nbconvert_exporter": "python",
   "pygments_lexer": "ipython3",
   "version": "3.12.7"
  }
 },
 "nbformat": 4,
 "nbformat_minor": 5
}
