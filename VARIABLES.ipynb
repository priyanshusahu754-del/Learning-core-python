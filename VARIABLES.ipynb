{
 "cells": [
  {
   "cell_type": "markdown",
   "id": "5c628cf5-05f8-4f87-bd58-acb84d4c3bce",
   "metadata": {},
   "source": [
    "# VARIABLES\n",
    "- a variable is a container thAT stores data in the memory of your computer "
   ]
  },
  {
   "cell_type": "markdown",
   "id": "43d8df38-8b02-4ab5-aa25-df8beda9ecad",
   "metadata": {},
   "source": [
    "<font size=\"5\"> what is a <b>variable</b>?"
   ]
  },
  {
   "cell_type": "code",
   "execution_count": 17,
   "id": "88a8cc2d-0439-45fa-9cd2-5fa46eebef7f",
   "metadata": {},
   "outputs": [
    {
     "name": "stdout",
     "output_type": "stream",
     "text": [
      "neeraj is in python batch\n",
      "ayush is in ML batch\n",
      "nishi is in python batch\n",
      "suraj is in ML batch\n"
     ]
    }
   ],
   "source": [
    "print(\"neeraj is in python batch\") \n",
    "print(\"ayush is in ML batch\") \n",
    "print(\"nishi is in python batch\") \n",
    "print(\"suraj is in ML batch\")"
   ]
  },
  {
   "cell_type": "code",
   "execution_count": 18,
   "id": "5f7a92b7-4364-4f2f-be40-31cd685076e9",
   "metadata": {},
   "outputs": [
    {
     "name": "stdout",
     "output_type": "stream",
     "text": [
      "nishi and neeraj are in python batch\n",
      "ayush and suraj are in ML batch\n"
     ]
    }
   ],
   "source": [
    "print(\"nishi and neeraj are in python batch\") \n",
    "print(\"ayush and suraj are in ML batch\")"
   ]
  },
  {
   "cell_type": "code",
   "execution_count": 19,
   "id": "448fc792-d793-4f42-9e2f-8bc22caf0bd4",
   "metadata": {},
   "outputs": [
    {
     "name": "stdout",
     "output_type": "stream",
     "text": [
      "himanshu is in python batch\n",
      "suhail  is in ML batch\n",
      "akhilesh is in python batch\n",
      "pankaj is in ML batch\n"
     ]
    }
   ],
   "source": [
    "print(\"himanshu is in python batch\") \n",
    "print(\"suhail  is in ML batch\") \n",
    "print(\"akhilesh is in python batch\") \n",
    "print(\"pankaj is in ML batch\")\n"
   ]
  },
  {
   "cell_type": "code",
   "execution_count": 20,
   "id": "fbbbcffb-cb4b-41ef-ad5f-59e3714b45da",
   "metadata": {},
   "outputs": [
    {
     "name": "stdout",
     "output_type": "stream",
     "text": [
      "himanshu and akhilesh are in python batch\n",
      "suhail and pankaj are in ML batch\n"
     ]
    }
   ],
   "source": [
    "print(\"himanshu and akhilesh are in python batch\") \n",
    "print(\"suhail and pankaj are in ML batch\")"
   ]
  },
  {
   "cell_type": "code",
   "execution_count": 21,
   "id": "a48dc8f6-3dc9-441c-b3ad-2b5d4cc6e8bf",
   "metadata": {},
   "outputs": [],
   "source": [
    "std1= \"nishi\"\n",
    "std2=\"suraj\"\n",
    "std3=\"priyanshu\"\n",
    "std4=\"suhail\"\n",
    "std5=\"himanshu\"\n",
    "std6=\"alkhilesh\"\n",
    "std7=\"neeraj\"\n",
    "std8=\"ayush\"\n",
    "\n",
    "batch1=\"python batch\"\n",
    "batch2=\"ML batch\""
   ]
  },
  {
   "cell_type": "code",
   "execution_count": 22,
   "id": "305498d8-7390-4a36-ae2a-4318b43f6fdc",
   "metadata": {},
   "outputs": [
    {
     "name": "stdout",
     "output_type": "stream",
     "text": [
      "nishi is in python batch\n",
      "suraj is in ML batch\n"
     ]
    }
   ],
   "source": [
    "print(std1,\"is in\",batch1)\n",
    "print(std2,\"is in\",batch2)"
   ]
  },
  {
   "cell_type": "code",
   "execution_count": 23,
   "id": "31d51964-92cc-4cc7-b160-7ce522664e06",
   "metadata": {},
   "outputs": [
    {
     "name": "stdout",
     "output_type": "stream",
     "text": [
      "priyanshu is in python batch\n",
      "suhail is in ML batch\n"
     ]
    }
   ],
   "source": [
    "print(std3,\"is in\",batch1)\n",
    "print(std4,\"is in\",batch2)"
   ]
  },
  {
   "cell_type": "code",
   "execution_count": 24,
   "id": "4dbe81f0-0873-43c1-9885-16ede7874b00",
   "metadata": {},
   "outputs": [],
   "source": [
    "#INTEGER\n",
    "age1 =14\n",
    "age2 =25"
   ]
  },
  {
   "cell_type": "code",
   "execution_count": 25,
   "id": "f2f0c965-d447-4a2c-b700-937230389ad4",
   "metadata": {},
   "outputs": [
    {
     "name": "stdout",
     "output_type": "stream",
     "text": [
      "14\n",
      "25\n"
     ]
    }
   ],
   "source": [
    "print(age1)\n",
    "print(age2)"
   ]
  },
  {
   "cell_type": "code",
   "execution_count": 26,
   "id": "97682c7b-55a0-40a5-8aa1-336513581326",
   "metadata": {},
   "outputs": [
    {
     "name": "stdout",
     "output_type": "stream",
     "text": [
      "39\n"
     ]
    }
   ],
   "source": [
    "print(age1+age2)"
   ]
  },
  {
   "cell_type": "code",
   "execution_count": 27,
   "id": "f1fc5f27-1639-4df1-8da5-d2822668d420",
   "metadata": {},
   "outputs": [
    {
     "name": "stdout",
     "output_type": "stream",
     "text": [
      "-11\n"
     ]
    }
   ],
   "source": [
    "print(age1-age2)"
   ]
  },
  {
   "cell_type": "code",
   "execution_count": 28,
   "id": "90524b2b-326e-418c-8885-662809a3e16f",
   "metadata": {},
   "outputs": [
    {
     "name": "stdout",
     "output_type": "stream",
     "text": [
      "nishi is 14 years old\n"
     ]
    }
   ],
   "source": [
    "print(std1,\"is\",age1,\"years old\")"
   ]
  },
  {
   "cell_type": "code",
   "execution_count": 29,
   "id": "64912f1c-2c07-4647-aa43-25ed91a2de4d",
   "metadata": {},
   "outputs": [
    {
     "name": "stdout",
     "output_type": "stream",
     "text": [
      "height is 175.5 cm \n",
      "weight is 75.23 kg\n"
     ]
    }
   ],
   "source": [
    "height=\"175.5 cm\"\n",
    "weight=\"75.23 kg\"\n",
    "\n",
    "\n",
    "print(\"height is\",height,\"\\nweight is\",weight)"
   ]
  },
  {
   "cell_type": "code",
   "execution_count": 30,
   "id": "1cd1aed1-2dc2-4cf1-9d52-5d5dd082e36b",
   "metadata": {},
   "outputs": [
    {
     "name": "stdout",
     "output_type": "stream",
     "text": [
      "height is 175.2 cm \n",
      "weight is 75.2 kg\n"
     ]
    }
   ],
   "source": [
    "height = \"175.2 cm\"\n",
    "weight = \"75.2 kg\"\n",
    "\n",
    "\n",
    "print(\"height is\",height,\"\\nweight is\",weight)"
   ]
  },
  {
   "cell_type": "markdown",
   "id": "a720fdb3-d3f5-413a-b47f-450b7a02f9ca",
   "metadata": {},
   "source": [
    "in the foll cell syntax error is coming bcause a valid data type is not being stored in the variable \n",
    "height and weight"
   ]
  },
  {
   "cell_type": "code",
   "execution_count": 31,
   "id": "7b50a635-8aa3-4d02-af3b-71d3d835ef5c",
   "metadata": {},
   "outputs": [
    {
     "ename": "TypeError",
     "evalue": "unsupported operand type(s) for ** or pow(): 'str' and 'int'",
     "output_type": "error",
     "traceback": [
      "\u001b[1;31m---------------------------------------------------------------------------\u001b[0m",
      "\u001b[1;31mTypeError\u001b[0m                                 Traceback (most recent call last)",
      "Cell \u001b[1;32mIn[31], line 1\u001b[0m\n\u001b[1;32m----> 1\u001b[0m bmi \u001b[38;5;241m=\u001b[39m (height) \u001b[38;5;241m/\u001b[39m (weight\u001b[38;5;241m*\u001b[39m\u001b[38;5;241m*\u001b[39m\u001b[38;5;241m2\u001b[39m)\n\u001b[0;32m      2\u001b[0m \u001b[38;5;28mprint\u001b[39m(\u001b[38;5;124m\"\u001b[39m\u001b[38;5;124mBMI IS\u001b[39m\u001b[38;5;124m\"\u001b[39m,bmi)\n",
      "\u001b[1;31mTypeError\u001b[0m: unsupported operand type(s) for ** or pow(): 'str' and 'int'"
     ]
    }
   ],
   "source": [
    "bmi = (height) / (weight**2)\n",
    "print(\"BMI IS\",bmi)"
   ]
  },
  {
   "cell_type": "code",
   "execution_count": 32,
   "id": "b4b9ee33-1474-4835-b04a-b62364f3670d",
   "metadata": {},
   "outputs": [
    {
     "ename": "TypeError",
     "evalue": "unsupported operand type(s) for /: 'str' and 'int'",
     "output_type": "error",
     "traceback": [
      "\u001b[1;31m---------------------------------------------------------------------------\u001b[0m",
      "\u001b[1;31mTypeError\u001b[0m                                 Traceback (most recent call last)",
      "Cell \u001b[1;32mIn[32], line 1\u001b[0m\n\u001b[1;32m----> 1\u001b[0m \u001b[38;5;124m\"\u001b[39m\u001b[38;5;124m175.5\u001b[39m\u001b[38;5;124m\"\u001b[39m\u001b[38;5;241m/\u001b[39m\u001b[38;5;241m100\u001b[39m\n",
      "\u001b[1;31mTypeError\u001b[0m: unsupported operand type(s) for /: 'str' and 'int'"
     ]
    }
   ],
   "source": [
    "\"175.5\"/100"
   ]
  },
  {
   "cell_type": "markdown",
   "id": "defa37b5-a458-4539-9c14-67e908e3fc79",
   "metadata": {},
   "source": [
    "#### typecasting"
   ]
  },
  {
   "cell_type": "code",
   "execution_count": 33,
   "id": "284d3010-967b-440c-b1ef-a7e7d28bb2b1",
   "metadata": {},
   "outputs": [
    {
     "name": "stdout",
     "output_type": "stream",
     "text": [
      "<class 'int'>\n"
     ]
    }
   ],
   "source": [
    "height=189\n",
    "print(type(height))"
   ]
  },
  {
   "cell_type": "code",
   "execution_count": 34,
   "id": "8139e9b6-5ddb-47da-9442-b8a337822d4f",
   "metadata": {},
   "outputs": [
    {
     "name": "stdout",
     "output_type": "stream",
     "text": [
      "<class 'float'>\n",
      "189.0\n"
     ]
    }
   ],
   "source": [
    "#int -> float\n",
    "height=float(height)\n",
    "print(type(height))\n",
    "print(height)"
   ]
  },
  {
   "cell_type": "code",
   "execution_count": 35,
   "id": "73b7651b-85ef-4032-9d9d-6d5cb7bfbb89",
   "metadata": {},
   "outputs": [
    {
     "name": "stdout",
     "output_type": "stream",
     "text": [
      "<class 'str'>\n",
      "189.0\n"
     ]
    }
   ],
   "source": [
    "height=str(height)\n",
    "print(type(height))\n",
    "print(height)"
   ]
  },
  {
   "cell_type": "code",
   "execution_count": 36,
   "id": "e36828c3-18ee-4e10-bf45-d41663a0513c",
   "metadata": {},
   "outputs": [
    {
     "name": "stdout",
     "output_type": "stream",
     "text": [
      "<class 'str'>\n",
      "height\n"
     ]
    }
   ],
   "source": [
    "height=\"height\"\n",
    "print(type(height))\n",
    "print(height)"
   ]
  },
  {
   "cell_type": "code",
   "execution_count": 37,
   "id": "e0564203-a9c2-4563-8066-a64b9bfc66d8",
   "metadata": {},
   "outputs": [
    {
     "ename": "NameError",
     "evalue": "name 'greeting' is not defined",
     "output_type": "error",
     "traceback": [
      "\u001b[1;31m---------------------------------------------------------------------------\u001b[0m",
      "\u001b[1;31mNameError\u001b[0m                                 Traceback (most recent call last)",
      "Cell \u001b[1;32mIn[37], line 1\u001b[0m\n\u001b[1;32m----> 1\u001b[0m greeting\u001b[38;5;241m=\u001b[39m\u001b[38;5;28mint\u001b[39m(greeting)\n\u001b[0;32m      2\u001b[0m \u001b[38;5;28mprint\u001b[39m(greeting)\n",
      "\u001b[1;31mNameError\u001b[0m: name 'greeting' is not defined"
     ]
    }
   ],
   "source": [
    "greeting=int(greeting)\n",
    "print(greeting)"
   ]
  },
  {
   "cell_type": "code",
   "execution_count": null,
   "id": "04721ce1-0970-4664-b135-0ee4c8a41b3c",
   "metadata": {},
   "outputs": [],
   "source": [
    "greeting=\"123\"\n",
    "greeting=int(greeting)\n",
    "print(greeting)\n",
    "print(type(greeting))"
   ]
  },
  {
   "cell_type": "code",
   "execution_count": 38,
   "id": "323fe800-4e35-4900-8e85-9a9438f74986",
   "metadata": {},
   "outputs": [
    {
     "ename": "SyntaxError",
     "evalue": "invalid decimal literal (1531194201.py, line 1)",
     "output_type": "error",
     "traceback": [
      "\u001b[1;36m  Cell \u001b[1;32mIn[38], line 1\u001b[1;36m\u001b[0m\n\u001b[1;33m    1std=\"suhel\"\u001b[0m\n\u001b[1;37m    ^\u001b[0m\n\u001b[1;31mSyntaxError\u001b[0m\u001b[1;31m:\u001b[0m invalid decimal literal\n"
     ]
    }
   ],
   "source": [
    "1std=\"suhel\""
   ]
  },
  {
   "cell_type": "code",
   "execution_count": 39,
   "id": "7e1e798d-1af0-47af-a1fa-2821462004d2",
   "metadata": {},
   "outputs": [
    {
     "ename": "SyntaxError",
     "evalue": "cannot assign to expression here. Maybe you meant '==' instead of '='? (3883279921.py, line 1)",
     "output_type": "error",
     "traceback": [
      "\u001b[1;36m  Cell \u001b[1;32mIn[39], line 1\u001b[1;36m\u001b[0m\n\u001b[1;33m    std@1=\"suhel\"\u001b[0m\n\u001b[1;37m    ^\u001b[0m\n\u001b[1;31mSyntaxError\u001b[0m\u001b[1;31m:\u001b[0m cannot assign to expression here. Maybe you meant '==' instead of '='?\n"
     ]
    }
   ],
   "source": [
    "std@1=\"suhel\""
   ]
  },
  {
   "cell_type": "code",
   "execution_count": 40,
   "id": "4a5a3ec1-a0fe-40bb-84c0-c693819f357d",
   "metadata": {},
   "outputs": [],
   "source": [
    "std_1=\"suhel\""
   ]
  },
  {
   "cell_type": "code",
   "execution_count": 41,
   "id": "be4db065-060a-4473-ab08-9f53643d8efa",
   "metadata": {},
   "outputs": [],
   "source": [
    "std2=\"pankaj\""
   ]
  },
  {
   "cell_type": "markdown",
   "id": "a28da230-8064-4581-a0f4-3b75e903e5d3",
   "metadata": {},
   "source": [
    "# rules for names of variables\n",
    "- a  variale name must start with an alphabet or an underscore\n",
    "- a variale name cannot start with a number or any special character \n",
    "- a variable name can only conatin alphabet numbers and underscore \n",
    "- the use of special character is prohibited\n",
    "- variable name are case sensitive in python\n",
    "- python keywords cannot be used as variales name \n"
   ]
  },
  {
   "cell_type": "code",
   "execution_count": 42,
   "id": "77232a4f-25da-4c7d-bd19-c38ea28b5075",
   "metadata": {},
   "outputs": [
    {
     "name": "stdout",
     "output_type": "stream",
     "text": [
      "\n",
      "Here is a list of the Python keywords.  Enter any keyword to get more help.\n",
      "\n",
      "False               class               from                or\n",
      "None                continue            global              pass\n",
      "True                def                 if                  raise\n",
      "and                 del                 import              return\n",
      "as                  elif                in                  try\n",
      "assert              else                is                  while\n",
      "async               except              lambda              with\n",
      "await               finally             nonlocal            yield\n",
      "break               for                 not                 \n",
      "\n"
     ]
    }
   ],
   "source": [
    "help(\"keywords\")"
   ]
  },
  {
   "cell_type": "code",
   "execution_count": 43,
   "id": "32ff0e91-e373-4824-b7cd-0a6aef2430b2",
   "metadata": {},
   "outputs": [],
   "source": [
    "false = 23"
   ]
  },
  {
   "cell_type": "code",
   "execution_count": 44,
   "id": "235f7f7e-8109-498a-ba12-87590b54d681",
   "metadata": {},
   "outputs": [
    {
     "ename": "SyntaxError",
     "evalue": "invalid syntax (993395603.py, line 1)",
     "output_type": "error",
     "traceback": [
      "\u001b[1;36m  Cell \u001b[1;32mIn[44], line 1\u001b[1;36m\u001b[0m\n\u001b[1;33m    continue=24\u001b[0m\n\u001b[1;37m            ^\u001b[0m\n\u001b[1;31mSyntaxError\u001b[0m\u001b[1;31m:\u001b[0m invalid syntax\n"
     ]
    }
   ],
   "source": [
    "continue=24"
   ]
  },
  {
   "cell_type": "code",
   "execution_count": 45,
   "id": "2e145d75-6018-4eaf-8110-b0f58592ddbf",
   "metadata": {},
   "outputs": [
    {
     "name": "stdout",
     "output_type": "stream",
     "text": [
      "cat\n"
     ]
    }
   ],
   "source": [
    "animal1=\"c\"+\"a\"+\"t\" #\"c\"+\"a\"+\"t\" is an expression\n",
    "print(animal1)\n"
   ]
  },
  {
   "cell_type": "code",
   "execution_count": 46,
   "id": "197faa89-8b5c-495d-83e2-533fa74a7570",
   "metadata": {},
   "outputs": [
    {
     "name": "stdout",
     "output_type": "stream",
     "text": [
      "catdog\n"
     ]
    }
   ],
   "source": [
    "animal2=\"dog\"\n",
    "combined_animal=animal1+animal2\n",
    "print(combined_animal)"
   ]
  },
  {
   "cell_type": "code",
   "execution_count": 47,
   "id": "44f35389-5b0c-42ca-80af-5479d4b81608",
   "metadata": {},
   "outputs": [
    {
     "data": {
      "text/plain": [
       "str"
      ]
     },
     "execution_count": 47,
     "metadata": {},
     "output_type": "execute_result"
    }
   ],
   "source": [
    "type(combined_animal)"
   ]
  },
  {
   "cell_type": "code",
   "execution_count": 48,
   "id": "dbfaecae-3cac-4195-b73d-44de780dd815",
   "metadata": {},
   "outputs": [
    {
     "name": "stdout",
     "output_type": "stream",
     "text": [
      "46\n"
     ]
    }
   ],
   "source": [
    "new_variable=12+34\n",
    "# 12+34 is an expressiom\n",
    "print(new_variable)"
   ]
  },
  {
   "cell_type": "code",
   "execution_count": 49,
   "id": "5b2ae1f5-9aee-446f-bca2-54d09b5bd44e",
   "metadata": {},
   "outputs": [
    {
     "name": "stdout",
     "output_type": "stream",
     "text": [
      "25.41127165822231\n"
     ]
    }
   ],
   "source": [
    "height=175.2\n",
    "weight=78\n",
    "bmi=weight/((height/100)**2)\n",
    "print(bmi)"
   ]
  },
  {
   "cell_type": "markdown",
   "id": "cf48160d-8e66-488b-b5fb-319f46402b86",
   "metadata": {},
   "source": [
    "\n",
    "# python is case sensitive"
   ]
  },
  {
   "cell_type": "code",
   "execution_count": 50,
   "id": "0d945d48-bb21-4b5d-aaf2-9b71508310f9",
   "metadata": {},
   "outputs": [
    {
     "ename": "NameError",
     "evalue": "name 'A' is not defined",
     "output_type": "error",
     "traceback": [
      "\u001b[1;31m---------------------------------------------------------------------------\u001b[0m",
      "\u001b[1;31mNameError\u001b[0m                                 Traceback (most recent call last)",
      "Cell \u001b[1;32mIn[50], line 2\u001b[0m\n\u001b[0;32m      1\u001b[0m a\u001b[38;5;241m=\u001b[39m\u001b[38;5;241m12\u001b[39m\n\u001b[1;32m----> 2\u001b[0m b\u001b[38;5;241m=\u001b[39mA\n",
      "\u001b[1;31mNameError\u001b[0m: name 'A' is not defined"
     ]
    }
   ],
   "source": [
    "a=12\n",
    "b=A"
   ]
  },
  {
   "cell_type": "code",
   "execution_count": 51,
   "id": "453a73ed-ddd1-44dd-af08-26ca24fba5a5",
   "metadata": {},
   "outputs": [
    {
     "ename": "SyntaxError",
     "evalue": "invalid decimal literal (1716495127.py, line 1)",
     "output_type": "error",
     "traceback": [
      "\u001b[1;36m  Cell \u001b[1;32mIn[51], line 1\u001b[1;36m\u001b[0m\n\u001b[1;33m    0student1=\"gaurav\"\u001b[0m\n\u001b[1;37m    ^\u001b[0m\n\u001b[1;31mSyntaxError\u001b[0m\u001b[1;31m:\u001b[0m invalid decimal literal\n"
     ]
    }
   ],
   "source": [
    "0student1=\"gaurav\"\n",
    "student2=\"rohit\"\n",
    "student3=\"kartik\"\n",
    "print(student1)\n",
    "print(student2)\n",
    "print(student3)"
   ]
  },
  {
   "cell_type": "code",
   "execution_count": 52,
   "id": "6901aa6c-f627-4576-add6-f457aec680e1",
   "metadata": {},
   "outputs": [
    {
     "name": "stdout",
     "output_type": "stream",
     "text": [
      "gaurav\n",
      "rohit\n",
      "kartik\n"
     ]
    }
   ],
   "source": [
    "std1,std2,std3=\"gaurav\",\"rohit\",\"kartik\"\n",
    "print(std1)\n",
    "print(std2)\n",
    "print(std3)"
   ]
  },
  {
   "cell_type": "code",
   "execution_count": 53,
   "id": "c16723a4-fce7-4488-a481-3a7808513a34",
   "metadata": {},
   "outputs": [
    {
     "name": "stdout",
     "output_type": "stream",
     "text": [
      "rohit 25 265.3\n"
     ]
    }
   ],
   "source": [
    "name,age,height=\"rohit\",25,265.3\n",
    "print(name,age,height)"
   ]
  },
  {
   "cell_type": "code",
   "execution_count": 54,
   "id": "237d53ca",
   "metadata": {},
   "outputs": [
    {
     "ename": "SyntaxError",
     "evalue": "invalid syntax (1606115830.py, line 1)",
     "output_type": "error",
     "traceback": [
      "\u001b[1;36m  Cell \u001b[1;32mIn[54], line 1\u001b[1;36m\u001b[0m\n\u001b[1;33m    name age height=\"rohit\" 25 265.3\u001b[0m\n\u001b[1;37m         ^\u001b[0m\n\u001b[1;31mSyntaxError\u001b[0m\u001b[1;31m:\u001b[0m invalid syntax\n"
     ]
    }
   ],
   "source": [
    "name age height=\"rohit\" 25 265.3\n",
    "print(name,age,height)"
   ]
  },
  {
   "cell_type": "code",
   "execution_count": 55,
   "id": "0d1305fb-40b1-45d2-aeac-0e772ab5fb5d",
   "metadata": {},
   "outputs": [
    {
     "ename": "SyntaxError",
     "evalue": "Missing parentheses in call to 'print'. Did you mean print(...)? (2540950455.py, line 1)",
     "output_type": "error",
     "traceback": [
      "\u001b[1;36m  Cell \u001b[1;32mIn[55], line 1\u001b[1;36m\u001b[0m\n\u001b[1;33m    print std1+std2+std3\u001b[0m\n\u001b[1;37m    ^\u001b[0m\n\u001b[1;31mSyntaxError\u001b[0m\u001b[1;31m:\u001b[0m Missing parentheses in call to 'print'. Did you mean print(...)?\n"
     ]
    }
   ],
   "source": [
    "print std1+std2+std3"
   ]
  },
  {
   "cell_type": "code",
   "execution_count": 56,
   "id": "35ceb197-364b-4e5b-b22a-7bc4f776f7c4",
   "metadata": {},
   "outputs": [
    {
     "name": "stdout",
     "output_type": "stream",
     "text": [
      "std1std2std3\n"
     ]
    }
   ],
   "source": [
    "print(\"std1\"+\"std2\"+\"std3\")"
   ]
  },
  {
   "cell_type": "code",
   "execution_count": 57,
   "id": "0b3160ea-30db-48fa-9c5d-50a7a1665ba0",
   "metadata": {},
   "outputs": [
    {
     "name": "stdout",
     "output_type": "stream",
     "text": [
      "20\n"
     ]
    }
   ],
   "source": [
    "user1_age=20\n",
    "print(user1_age)"
   ]
  },
  {
   "cell_type": "code",
   "execution_count": 58,
   "id": "9fb635f5-bd5b-42a7-ba15-ccfeccfb12d3",
   "metadata": {},
   "outputs": [
    {
     "name": "stdout",
     "output_type": "stream",
     "text": [
      "40\n"
     ]
    }
   ],
   "source": [
    "user1_age=40\n",
    "print(user1_age)"
   ]
  },
  {
   "cell_type": "code",
   "execution_count": 59,
   "id": "de99ee6c-16ca-4974-a6d3-de491900b23a",
   "metadata": {},
   "outputs": [
    {
     "name": "stdout",
     "output_type": "stream",
     "text": [
      "forty five\n"
     ]
    }
   ],
   "source": [
    "user1_age=\"forty five\"\n",
    "print(user1_age)"
   ]
  },
  {
   "cell_type": "markdown",
   "id": "4a5e574f-d2b9-4abc-97e1-ea4890772f5c",
   "metadata": {},
   "source": [
    "to define a vaiable whose value we do not want ti change in the whole program we write the name of that variale in capital letters this is a common practice but not enforced by python"
   ]
  },
  {
   "cell_type": "code",
   "execution_count": 60,
   "id": "ec8f025a-4ae8-4506-a160-18df0cfc7b93",
   "metadata": {},
   "outputs": [
    {
     "name": "stdout",
     "output_type": "stream",
     "text": [
      "3.14\n"
     ]
    }
   ],
   "source": [
    "PI=3.14 #CONSTANT\n",
    "print(PI)"
   ]
  },
  {
   "cell_type": "markdown",
   "id": "38bcbc07-bee4-4039-a5ed-16e56d67fc6e",
   "metadata": {},
   "source": [
    "IT IS STILL POSSIBLE TO CHANGE THE VALUE OF TYIS CONSTANT VARIABLE "
   ]
  },
  {
   "cell_type": "code",
   "execution_count": 61,
   "id": "ed4321b9-7307-48bc-a2f1-ca95965491be",
   "metadata": {},
   "outputs": [
    {
     "name": "stdout",
     "output_type": "stream",
     "text": [
      "21\n"
     ]
    }
   ],
   "source": [
    "x=21\n",
    "print(x)"
   ]
  },
  {
   "cell_type": "code",
   "execution_count": 62,
   "id": "bfab9f4b-0ded-46db-9eef-cecb1d82c507",
   "metadata": {},
   "outputs": [
    {
     "name": "stdout",
     "output_type": "stream",
     "text": [
      "30\n"
     ]
    }
   ],
   "source": [
    "x=10\n",
    "y=20\n",
    "z=x+y\n",
    "print(z)"
   ]
  },
  {
   "cell_type": "code",
   "execution_count": 63,
   "id": "a75063ca-d03a-4755-b08b-d69735161772",
   "metadata": {},
   "outputs": [],
   "source": [
    "del x"
   ]
  },
  {
   "cell_type": "code",
   "execution_count": 64,
   "id": "4920b46d-58fb-4a9b-8a58-208ae64acc05",
   "metadata": {},
   "outputs": [
    {
     "ename": "NameError",
     "evalue": "name 'X' is not defined",
     "output_type": "error",
     "traceback": [
      "\u001b[1;31m---------------------------------------------------------------------------\u001b[0m",
      "\u001b[1;31mNameError\u001b[0m                                 Traceback (most recent call last)",
      "Cell \u001b[1;32mIn[64], line 1\u001b[0m\n\u001b[1;32m----> 1\u001b[0m \u001b[38;5;28mprint\u001b[39m(X)\n",
      "\u001b[1;31mNameError\u001b[0m: name 'X' is not defined"
     ]
    }
   ],
   "source": [
    "print(X)"
   ]
  },
  {
   "cell_type": "code",
   "execution_count": 65,
   "id": "ebd4ac9c-a730-43f0-a17e-a9941b72d53e",
   "metadata": {},
   "outputs": [
    {
     "name": "stdout",
     "output_type": "stream",
     "text": [
      "30\n"
     ]
    }
   ],
   "source": [
    "print(z)"
   ]
  },
  {
   "cell_type": "markdown",
   "id": "4bec682d-4b34-4bf4-944b-3e55152ccc22",
   "metadata": {},
   "source": [
    "#### z is independe nt of x and y its existance is not dependent on the existance of x and y once z has been created"
   ]
  },
  {
   "cell_type": "code",
   "execution_count": 43,
   "id": "c289cb09-4938-4085-92d1-194b452bf617",
   "metadata": {},
   "outputs": [],
   "source": [
    "#write a program to swap the value of two variable var_1 and var_2\n",
    "var_1=23\n",
    "var_2=94\n",
    "var_3=var_1"
   ]
  },
  {
   "cell_type": "code",
   "execution_count": 44,
   "id": "5d47ae6f-6624-47c9-99da-7752e57bbc51",
   "metadata": {},
   "outputs": [],
   "source": [
    "var_1=var_2\n",
    "var_2=var_3"
   ]
  },
  {
   "cell_type": "code",
   "execution_count": 45,
   "id": "2d2a7d08-1f74-4825-bd45-2ff47a89dc6b",
   "metadata": {},
   "outputs": [
    {
     "name": "stdout",
     "output_type": "stream",
     "text": [
      "94\n",
      "23\n"
     ]
    }
   ],
   "source": [
    "print(var_1)\n",
    "print(var_2)"
   ]
  },
  {
   "cell_type": "code",
   "execution_count": 73,
   "id": "3c0094e0-f03d-44e7-b2d4-094cd62b1055",
   "metadata": {},
   "outputs": [
    {
     "name": "stdout",
     "output_type": "stream",
     "text": [
      "94\n",
      "23\n"
     ]
    }
   ],
   "source": [
    "var_1,var_2=var_2,var_1\n",
    "print(var_1)\n",
    "print(var_2)"
   ]
  },
  {
   "cell_type": "code",
   "execution_count": 74,
   "id": "72690986-5fce-4949-becb-0cbf5149182f",
   "metadata": {},
   "outputs": [],
   "source": [
    "x=\"for\""
   ]
  },
  {
   "cell_type": "code",
   "execution_count": 9,
   "id": "2663f9f6-dd3d-4b8f-9672-847e89d82663",
   "metadata": {},
   "outputs": [
    {
     "ename": "SyntaxError",
     "evalue": "cannot assign to True (2249180451.py, line 1)",
     "output_type": "error",
     "traceback": [
      "\u001b[1;36m  Cell \u001b[1;32mIn[9], line 1\u001b[1;36m\u001b[0m\n\u001b[1;33m    True=\"hello world\"\u001b[0m\n\u001b[1;37m    ^\u001b[0m\n\u001b[1;31mSyntaxError\u001b[0m\u001b[1;31m:\u001b[0m cannot assign to True\n"
     ]
    }
   ],
   "source": [
    "True=\"hello world\""
   ]
  },
  {
   "cell_type": "code",
   "execution_count": 10,
   "id": "e2a1451f-298a-43bf-8ddb-0f1b19fce507",
   "metadata": {},
   "outputs": [],
   "source": [
    "is_True=\"hello world\""
   ]
  },
  {
   "cell_type": "code",
   "execution_count": 11,
   "id": "845f107a-3bd8-48f6-ab88-195fb2cb6261",
   "metadata": {},
   "outputs": [],
   "source": [
    "true=\"hello world\""
   ]
  },
  {
   "cell_type": "code",
   "execution_count": 12,
   "id": "c577d414-4564-445b-aee1-0ad945991cfc",
   "metadata": {},
   "outputs": [
    {
     "ename": "SyntaxError",
     "evalue": "invalid syntax (1643191954.py, line 1)",
     "output_type": "error",
     "traceback": [
      "\u001b[1;36m  Cell \u001b[1;32mIn[12], line 1\u001b[1;36m\u001b[0m\n\u001b[1;33m    for=123\u001b[0m\n\u001b[1;37m       ^\u001b[0m\n\u001b[1;31mSyntaxError\u001b[0m\u001b[1;31m:\u001b[0m invalid syntax\n"
     ]
    }
   ],
   "source": [
    "for=123"
   ]
  },
  {
   "cell_type": "raw",
   "id": "7b010bac-cc8d-4d0a-a9e0-0ea3858d05f2",
   "metadata": {},
   "source": [
    "For=123"
   ]
  },
  {
   "cell_type": "code",
   "execution_count": 20,
   "id": "052c5ee5-6f77-4eb1-8693-d9cc63992961",
   "metadata": {},
   "outputs": [
    {
     "name": "stdout",
     "output_type": "stream",
     "text": [
      "20 30\n"
     ]
    }
   ],
   "source": [
    "x=10\n",
    "y=20\n",
    "x=y\n",
    "y=30\n",
    "print(x,y)"
   ]
  },
  {
   "cell_type": "code",
   "execution_count": 24,
   "id": "8c003039-ea48-4453-966c-aa6eea665afd",
   "metadata": {},
   "outputs": [
    {
     "name": "stdout",
     "output_type": "stream",
     "text": [
      "100 200\n"
     ]
    }
   ],
   "source": [
    "x=100\n",
    "y=200\n",
    "print(x,y)"
   ]
  },
  {
   "cell_type": "code",
   "execution_count": 25,
   "id": "f4673373-6225-49d0-8c0c-bc8e1bdd3c9b",
   "metadata": {},
   "outputs": [
    {
     "name": "stdout",
     "output_type": "stream",
     "text": [
      "25.0 50.0\n"
     ]
    }
   ],
   "source": [
    "y=x/2\n",
    "x=y/2\n",
    "print(x,y)"
   ]
  },
  {
   "cell_type": "code",
   "execution_count": 26,
   "id": "dbdc5722-0343-4d91-aab3-61adc7a000c0",
   "metadata": {},
   "outputs": [
    {
     "name": "stdout",
     "output_type": "stream",
     "text": [
      "6.25 12.5\n"
     ]
    }
   ],
   "source": [
    "y=x/2\n",
    "x=y/2\n",
    "print(x,y)"
   ]
  },
  {
   "cell_type": "code",
   "execution_count": 27,
   "id": "5e942d4b-64f9-460e-94ea-ef3c5333d47f",
   "metadata": {},
   "outputs": [
    {
     "name": "stdout",
     "output_type": "stream",
     "text": [
      "1.5625 3.125\n"
     ]
    }
   ],
   "source": [
    "y=x/2\n",
    "x=y/2\n",
    "print(x,y)"
   ]
  },
  {
   "cell_type": "code",
   "execution_count": null,
   "id": "d49367f6-c290-4073-a9da-83c84c9b3bd0",
   "metadata": {},
   "outputs": [],
   "source": []
  },
  {
   "cell_type": "code",
   "execution_count": null,
   "id": "771ec93d-789c-40dd-9965-ad8944b958f6",
   "metadata": {},
   "outputs": [],
   "source": []
  },
  {
   "cell_type": "code",
   "execution_count": null,
   "id": "f6d3e1f2-d2f0-49bd-8c04-d7ab89a82eb5",
   "metadata": {},
   "outputs": [],
   "source": []
  },
  {
   "cell_type": "code",
   "execution_count": null,
   "id": "e7cbe8b5-3f89-4996-8ecc-514ef7dc0ac4",
   "metadata": {},
   "outputs": [],
   "source": []
  },
  {
   "cell_type": "code",
   "execution_count": null,
   "id": "8fab7ea6-b08a-43f4-a281-f75ddfdfc934",
   "metadata": {},
   "outputs": [],
   "source": []
  },
  {
   "cell_type": "code",
   "execution_count": null,
   "id": "ffdcc121-583a-47f1-b694-21d6fdc0d84f",
   "metadata": {},
   "outputs": [],
   "source": []
  }
 ],
 "metadata": {
  "kernelspec": {
   "display_name": "Python 3 (ipykernel)",
   "language": "python",
   "name": "python3"
  },
  "language_info": {
   "codemirror_mode": {
    "name": "ipython",
    "version": 3
   },
   "file_extension": ".py",
   "mimetype": "text/x-python",
   "name": "python",
   "nbconvert_exporter": "python",
   "pygments_lexer": "ipython3",
   "version": "3.12.7"
  }
 },
 "nbformat": 4,
 "nbformat_minor": 5
}
