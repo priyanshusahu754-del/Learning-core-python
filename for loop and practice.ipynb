{
 "cells": [
  {
   "cell_type": "code",
   "execution_count": 1,
   "id": "79e9da4f-58cd-4109-b2c1-b497fde27a47",
   "metadata": {},
   "outputs": [],
   "source": [
    "# print \"python is very easy\" 5 times "
   ]
  },
  {
   "cell_type": "code",
   "execution_count": 2,
   "id": "95e24cf9-03ff-4dd1-b118-3775e7fc21f1",
   "metadata": {},
   "outputs": [],
   "source": [
    "# print all the element of a list one by one using indexing "
   ]
  },
  {
   "cell_type": "code",
   "execution_count": 1,
   "id": "92d884fe-bae2-4e84-9884-978ee93db992",
   "metadata": {},
   "outputs": [
    {
     "name": "stdout",
     "output_type": "stream",
     "text": [
      "python is easy\n",
      "python is easy\n",
      "python is easy\n",
      "python is easy\n",
      "python is easy\n",
      "python is easy\n"
     ]
    }
   ],
   "source": [
    "print(\"python is easy\") \n",
    "print(\"python is easy\") \n",
    "print(\"python is easy\") \n",
    "print(\"python is easy\") \n",
    "print(\"python is easy\") \n",
    "print(\"python is easy\") "
   ]
  },
  {
   "cell_type": "code",
   "execution_count": 2,
   "id": "0fcc96aa-9896-4026-bc30-0f1aad647ee7",
   "metadata": {},
   "outputs": [
    {
     "data": {
      "text/plain": [
       "'mamta'"
      ]
     },
     "execution_count": 2,
     "metadata": {},
     "output_type": "execute_result"
    }
   ],
   "source": [
    "names=[\"mamta\",\"mayank\",\"tushar\",\"nishi\",\"priyanshu\",\"abdullah\",\"aayush\",\"suhail\",\"aarti\"]\n",
    "names[0]"
   ]
  },
  {
   "cell_type": "code",
   "execution_count": 3,
   "id": "6faefa12-ee8c-4272-b127-193cbb78a1cd",
   "metadata": {},
   "outputs": [
    {
     "name": "stdout",
     "output_type": "stream",
     "text": [
      "mayank\n",
      "tushar\n",
      "nishi\n",
      "priyanshu\n",
      "abdullah\n",
      "aayush\n",
      "suhail\n",
      "aarti\n"
     ]
    }
   ],
   "source": [
    "print(names[1])\n",
    "print(names[2])\n",
    "print(names[3])\n",
    "print(names[4])\n",
    "print(names[5])\n",
    "print(names[6])\n",
    "print(names[7])\n",
    "print(names[8])"
   ]
  },
  {
   "cell_type": "code",
   "execution_count": 4,
   "id": "06d9c016-c90b-46f2-b4de-946aafd9a740",
   "metadata": {},
   "outputs": [
    {
     "name": "stdout",
     "output_type": "stream",
     "text": [
      "python is very easy\n",
      "python is very easy\n",
      "python is very easy\n",
      "python is very easy\n",
      "python is very easy\n"
     ]
    }
   ],
   "source": [
    "for i in range(5):\n",
    "    print(\"python is very easy\")"
   ]
  },
  {
   "cell_type": "code",
   "execution_count": 5,
   "id": "da546028-2e84-4909-8f73-c4692de4559e",
   "metadata": {},
   "outputs": [
    {
     "name": "stdout",
     "output_type": "stream",
     "text": [
      "python is very easy\n",
      "python is very easy\n",
      "python is very easy\n",
      "python is very easy\n",
      "python is very easy\n",
      "python is very easy\n",
      "python is very easy\n",
      "python is very easy\n",
      "python is very easy\n",
      "python is very easy\n"
     ]
    }
   ],
   "source": [
    "for i in range(10):\n",
    "    print(\"python is very easy\")"
   ]
  },
  {
   "cell_type": "code",
   "execution_count": 6,
   "id": "33f998a7-07bb-4cb7-ac75-60d44037a067",
   "metadata": {},
   "outputs": [
    {
     "name": "stdout",
     "output_type": "stream",
     "text": [
      "python is very easy\n",
      "python is very easy\n",
      "python is very easy\n",
      "python is very easy\n",
      "python is very easy\n",
      "python is very easy\n",
      "python is very easy\n",
      "python is very easy\n",
      "python is very easy\n",
      "python is very easy\n",
      "python is very easy\n",
      "python is very easy\n",
      "python is very easy\n",
      "python is very easy\n",
      "python is very easy\n",
      "python is very easy\n",
      "python is very easy\n",
      "python is very easy\n",
      "python is very easy\n",
      "python is very easy\n"
     ]
    }
   ],
   "source": [
    "for i in range(20):\n",
    "    print(\"python is very easy\")"
   ]
  },
  {
   "cell_type": "code",
   "execution_count": 7,
   "id": "81cdac66-e782-4602-9fa8-a17bb7e97deb",
   "metadata": {},
   "outputs": [
    {
     "name": "stdout",
     "output_type": "stream",
     "text": [
      "mamta\n",
      "mayank\n",
      "tushar\n",
      "nishi\n",
      "priyanshu\n",
      "abdullah\n",
      "aayush\n",
      "suhail\n",
      "aarti\n"
     ]
    }
   ],
   "source": [
    "names=[\"mamta\",\"mayank\",\"tushar\",\"nishi\",\"priyanshu\",\"abdullah\",\"aayush\",\"suhail\",\"aarti\"]\n",
    "for x in names:\n",
    "    print(x)"
   ]
  },
  {
   "cell_type": "code",
   "execution_count": 18,
   "id": "eca16dae-28c7-47b2-8ee3-b933dadc6c4f",
   "metadata": {},
   "outputs": [
    {
     "name": "stdout",
     "output_type": "stream",
     "text": [
      "mamta\n",
      "mayank\n",
      "tushar\n",
      "nishi\n",
      "priyanshu\n",
      "abdullah\n",
      "aayush\n",
      "suhail\n",
      "aarti\n"
     ]
    }
   ],
   "source": [
    "names=[\"mamta\",\"mayank\",\"tushar\",\"nishi\",\"priyanshu\",\"abdullah\",\"aayush\",\"suhail\",\"aarti\"]\n",
    "for i in names:\n",
    "    print(i)"
   ]
  },
  {
   "cell_type": "code",
   "execution_count": 19,
   "id": "eb034160-4a59-4540-927a-d6924f8f0ec0",
   "metadata": {},
   "outputs": [
    {
     "name": "stdout",
     "output_type": "stream",
     "text": [
      "aarti\n",
      "aarti\n",
      "aarti\n",
      "aarti\n",
      "aarti\n",
      "aarti\n",
      "aarti\n",
      "aarti\n",
      "aarti\n"
     ]
    }
   ],
   "source": [
    "for x in range(9):\n",
    "    print(names[8])"
   ]
  },
  {
   "cell_type": "code",
   "execution_count": 12,
   "id": "1516fa34-f446-4b06-b501-74854c553586",
   "metadata": {},
   "outputs": [
    {
     "name": "stdout",
     "output_type": "stream",
     "text": [
      "mamta\n",
      "mayank\n",
      "tushar\n",
      "nishi\n",
      "priyanshu\n",
      "abdullah\n",
      "aayush\n",
      "suhail\n",
      "aarti\n"
     ]
    }
   ],
   "source": [
    "for x in range(9):\n",
    "    print(names[x])"
   ]
  },
  {
   "cell_type": "code",
   "execution_count": 13,
   "id": "0064ecc0-05b3-4877-a975-0435f86b58f7",
   "metadata": {},
   "outputs": [
    {
     "name": "stdout",
     "output_type": "stream",
     "text": [
      "range(0, 9)\n",
      "range(0, 9)\n",
      "range(0, 9)\n",
      "range(0, 9)\n",
      "range(0, 9)\n",
      "range(0, 9)\n",
      "range(0, 9)\n",
      "range(0, 9)\n",
      "range(0, 9)\n"
     ]
    }
   ],
   "source": [
    "names=[\"mamta\",\"mayank\",\"tushar\",\"nishi\",\"priyanshu\",\"abdullah\",\"aayush\",\"suhail\",\"aarti\"]\n",
    "for x in range(9):\n",
    "    print(range(9))"
   ]
  },
  {
   "cell_type": "code",
   "execution_count": 15,
   "id": "a5857bff-4504-4412-ae40-50389e30ca0e",
   "metadata": {},
   "outputs": [
    {
     "name": "stdout",
     "output_type": "stream",
     "text": [
      "list[8]\n"
     ]
    }
   ],
   "source": [
    "print(list[x])"
   ]
  },
  {
   "cell_type": "code",
   "execution_count": 16,
   "id": "3c300f56-4652-4396-a7c4-01cb779b95d2",
   "metadata": {},
   "outputs": [
    {
     "name": "stdout",
     "output_type": "stream",
     "text": [
      "range(10, 20)\n",
      "[10, 11, 12, 13, 14, 15, 16, 17, 18, 19]\n"
     ]
    }
   ],
   "source": [
    "y=range(10,20)\n",
    "print(y)\n",
    "print(list(y))"
   ]
  },
  {
   "cell_type": "code",
   "execution_count": 6,
   "id": "67b99a06-e490-437f-ac43-738f1b7f4e94",
   "metadata": {},
   "outputs": [
    {
     "name": "stdout",
     "output_type": "stream",
     "text": [
      "range(10, 20)\n",
      "[10, 11, 12, 13, 14, 15, 16, 17, 18, 19]\n"
     ]
    }
   ],
   "source": [
    "y=range(10,20)\n",
    "print(y)\n",
    "print(list(y))\n"
   ]
  },
  {
   "cell_type": "code",
   "execution_count": 3,
   "id": "7e731689-c0ff-437e-924a-5c3bc62b30b2",
   "metadata": {},
   "outputs": [
    {
     "name": "stdout",
     "output_type": "stream",
     "text": [
      "mamta\n",
      "mayank\n",
      "tushar\n",
      "nishi\n",
      "priyanshu\n",
      "abdullah\n",
      "aayush\n",
      "suhail\n",
      "aarti\n"
     ]
    }
   ],
   "source": [
    "names=[\"mamta\",\"mayank\",\"tushar\",\"nishi\",\"priyanshu\",\"abdullah\",\"aayush\",\"suhail\",\"aarti\"]\n",
    "a=range(9)\n",
    "for x in a:\n",
    "    print(names[x])"
   ]
  },
  {
   "cell_type": "code",
   "execution_count": 4,
   "id": "66b44120-1152-4073-8833-b96fe359ce32",
   "metadata": {},
   "outputs": [
    {
     "data": {
      "text/plain": [
       "int"
      ]
     },
     "execution_count": 4,
     "metadata": {},
     "output_type": "execute_result"
    }
   ],
   "source": [
    "type(x)"
   ]
  },
  {
   "cell_type": "code",
   "execution_count": 23,
   "id": "df263a98-90d1-4841-ba67-7407a882af48",
   "metadata": {},
   "outputs": [
    {
     "name": "stdout",
     "output_type": "stream",
     "text": [
      "<class 'int'>\n",
      "<class 'list'>\n",
      "<class 'type'>\n"
     ]
    }
   ],
   "source": [
    "print(type(x))\n",
    "print(type(names))\n",
    "print(type(range))"
   ]
  },
  {
   "cell_type": "code",
   "execution_count": 24,
   "id": "0c3eff1a-d303-477e-b522-1a1daad78e92",
   "metadata": {},
   "outputs": [
    {
     "name": "stdout",
     "output_type": "stream",
     "text": [
      "0\n",
      "1\n",
      "2\n",
      "3\n",
      "4\n",
      "5\n",
      "6\n",
      "7\n",
      "8\n"
     ]
    }
   ],
   "source": [
    "for x in range(9):\n",
    "    print(x)"
   ]
  },
  {
   "cell_type": "code",
   "execution_count": 7,
   "id": "88988983-fc28-449e-8d85-e6b15a918fc0",
   "metadata": {},
   "outputs": [
    {
     "name": "stdout",
     "output_type": "stream",
     "text": [
      "0\n",
      "1\n",
      "2\n",
      "3\n",
      "4\n",
      "5\n"
     ]
    }
   ],
   "source": [
    "for x in range(6):\n",
    "    print(x)\n",
    "    "
   ]
  },
  {
   "cell_type": "code",
   "execution_count": 11,
   "id": "73ea3957-74c3-48a7-8b12-957ad45dacb8",
   "metadata": {},
   "outputs": [
    {
     "name": "stdout",
     "output_type": "stream",
     "text": [
      "0\n",
      "1\n",
      "2\n",
      "3\n",
      "4\n",
      "5\n"
     ]
    }
   ],
   "source": [
    "for x in range(6):\n",
    "    print(x)\n",
    "    type(x)\n",
    "    "
   ]
  },
  {
   "cell_type": "code",
   "execution_count": 13,
   "id": "56b234d7-3bcd-434c-b0a3-90e6049b80b3",
   "metadata": {
    "scrolled": true
   },
   "outputs": [
    {
     "name": "stdout",
     "output_type": "stream",
     "text": [
      "0\n",
      "1\n",
      "2\n",
      "3\n",
      "4\n",
      "5\n",
      "6\n",
      "7\n",
      "8\n"
     ]
    }
   ],
   "source": [
    "names=[\"mamta\",\"mayank\",\"tushar\",\"nishi\",\"priyanshu\",\"abdullah\",\"aayush\",\"suhail\",\"aarti\"]\n",
    "names=range(9)\n",
    "for x in names:\n",
    "    print(names[x])"
   ]
  },
  {
   "cell_type": "code",
   "execution_count": 15,
   "id": "41ce1684-cb2b-4efd-943d-ed50e619e51f",
   "metadata": {},
   "outputs": [
    {
     "data": {
      "text/plain": [
       "int"
      ]
     },
     "execution_count": 15,
     "metadata": {},
     "output_type": "execute_result"
    }
   ],
   "source": [
    "type(x)"
   ]
  },
  {
   "cell_type": "code",
   "execution_count": 21,
   "id": "066693f2-2fb4-41e7-82a4-1ca35af6e7c1",
   "metadata": {},
   "outputs": [
    {
     "name": "stdout",
     "output_type": "stream",
     "text": [
      "3\n",
      "0\n",
      "13\n",
      "10\n",
      "23\n",
      "20\n",
      "33\n",
      "30\n",
      "43\n",
      "40\n",
      "53\n",
      "50\n",
      "63\n",
      "60\n",
      "73\n",
      "70\n",
      "83\n",
      "80\n"
     ]
    }
   ],
   "source": [
    "for x in range(9):\n",
    "    y=x*10\n",
    "    z=y+3\n",
    "    print(z)\n",
    "    print(y)\n"
   ]
  },
  {
   "cell_type": "markdown",
   "id": "b05712e7-7553-4463-ad07-38953017dcc2",
   "metadata": {},
   "source": [
    "# ***ITERABLE DATA TYPES***\n",
    "LIST , SET , TUPLES , DICTIONARY , STRING , RANGE "
   ]
  },
  {
   "cell_type": "markdown",
   "id": "a7db0ea1-f47e-45fc-85aa-0795768a3eae",
   "metadata": {},
   "source": [
    "### ***1-ITERATION MEANS REPETITION***"
   ]
  },
  {
   "cell_type": "markdown",
   "id": "566cd8cb-0d08-4f29-854c-bee1db4baeab",
   "metadata": {},
   "source": [
    "### ***2-ITERABLE ME MULTIPLE VALUES HOGI***"
   ]
  },
  {
   "cell_type": "code",
   "execution_count": 19,
   "id": "0485d7a5-1f96-4a31-ac2e-75fd4f214bb7",
   "metadata": {},
   "outputs": [
    {
     "name": "stdout",
     "output_type": "stream",
     "text": [
      "python is easy\n",
      "12\n",
      "python is easy\n",
      "38\n",
      "python is easy\n",
      "45\n",
      "python is easy\n",
      "69\n"
     ]
    }
   ],
   "source": [
    "for a in [12,38,45,69]:    # is program me no of elelment aur unki value kya hai dono se frq pdega\n",
    "    print(\"python is easy\")\n",
    "    print(a)"
   ]
  },
  {
   "cell_type": "code",
   "execution_count": 1,
   "id": "70120b3e-023c-4903-87d5-15ebea6bc1c3",
   "metadata": {},
   "outputs": [
    {
     "name": "stdout",
     "output_type": "stream",
     "text": [
      "python is easy\n",
      "python is easy\n",
      "python is easy\n",
      "python is easy\n"
     ]
    }
   ],
   "source": [
    "for a in [12,38,45,69]:      # is program me list me kitne element hai usse frq pdega element ki value kya hai usse frq nhi padega\n",
    "    print(\"python is easy\")"
   ]
  },
  {
   "cell_type": "code",
   "execution_count": 2,
   "id": "1abf6f75-67b0-4bd3-bb38-85a6492212f2",
   "metadata": {},
   "outputs": [
    {
     "name": "stdout",
     "output_type": "stream",
     "text": [
      "python is easy\n",
      "<class 'int'>\n",
      "12\n",
      "python is easy\n",
      "<class 'int'>\n",
      "38\n",
      "python is easy\n",
      "<class 'int'>\n",
      "45\n",
      "python is easy\n",
      "<class 'int'>\n",
      "69\n"
     ]
    }
   ],
   "source": [
    "for a in [12,38,45,69]:      \n",
    "    print(\"python is easy\")\n",
    "    print(type(a))\n",
    "    print(a)"
   ]
  },
  {
   "cell_type": "code",
   "execution_count": 3,
   "id": "9a992eb0-8f6f-4cef-a023-9e3c90f8041f",
   "metadata": {},
   "outputs": [
    {
     "name": "stdout",
     "output_type": "stream",
     "text": [
      "python is easy\n",
      "<class 'str'>\n",
      "12\n",
      "python is easy\n",
      "<class 'str'>\n",
      "38\n",
      "python is easy\n",
      "<class 'str'>\n",
      "45\n",
      "python is easy\n",
      "<class 'str'>\n",
      "69\n"
     ]
    }
   ],
   "source": [
    "for a in [\"12\",\"38\",\"45\",\"69\"]:      \n",
    "    print(\"python is easy\")\n",
    "    print(type(a))\n",
    "    print(a)"
   ]
  },
  {
   "cell_type": "markdown",
   "id": "4d44e399-5c94-450d-87fa-12b4f0100957",
   "metadata": {},
   "source": [
    "# **conclusion** \n",
    "###  ***for loop kitni baar chalega wo decide hoga by the length of iteable***"
   ]
  },
  {
   "cell_type": "code",
   "execution_count": 5,
   "id": "9e3026bb-38a9-47c0-ba95-510fc2a5c735",
   "metadata": {},
   "outputs": [
    {
     "name": "stdout",
     "output_type": "stream",
     "text": [
      "mamta\n",
      "mayank\n",
      "tushar\n",
      "nishi\n",
      "priyanshu\n"
     ]
    }
   ],
   "source": [
    "names=[\"mamta\",\"mayank\",\"tushar\",\"nishi\",\"priyanshu\",\"abdullah\",\"aayush\",\"suhail\",\"aarti\"]\n",
    "for x in range(5):\n",
    "    print(names[x])"
   ]
  },
  {
   "cell_type": "code",
   "execution_count": 6,
   "id": "a2b24984-b340-4762-b932-4b11b263e8b3",
   "metadata": {},
   "outputs": [
    {
     "name": "stdout",
     "output_type": "stream",
     "text": [
      "p\n",
      "y\n",
      "t\n",
      "h\n",
      "o\n",
      "n\n"
     ]
    }
   ],
   "source": [
    "word=\"python\"\n",
    "for letter in word:\n",
    "    print(letter)"
   ]
  },
  {
   "cell_type": "code",
   "execution_count": 19,
   "id": "27f68c14-36d2-4cd2-9a01-c526ec22b1c2",
   "metadata": {},
   "outputs": [],
   "source": [
    "y=0\n",
    "for x in range(5):\n",
    "    y=y+x"
   ]
  },
  {
   "cell_type": "code",
   "execution_count": 18,
   "id": "137cb61b-fb38-4fba-8660-373a6037350d",
   "metadata": {},
   "outputs": [
    {
     "name": "stdout",
     "output_type": "stream",
     "text": [
      "4\n",
      "10\n"
     ]
    }
   ],
   "source": [
    "print(x)\n",
    "print(y)"
   ]
  },
  {
   "cell_type": "code",
   "execution_count": 31,
   "id": "775115b6-c28c-4322-8286-823db88fc428",
   "metadata": {},
   "outputs": [
    {
     "name": "stdout",
     "output_type": "stream",
     "text": [
      "2\n",
      "4\n"
     ]
    }
   ],
   "source": [
    "y=0\n",
    "for x in range(5):\n",
    "    y=x-y\n",
    "print(y)\n",
    "print(x)\n"
   ]
  },
  {
   "cell_type": "code",
   "execution_count": 35,
   "id": "59939862-02ac-400d-badd-f9c1c88b42b9",
   "metadata": {},
   "outputs": [
    {
     "name": "stdout",
     "output_type": "stream",
     "text": [
      "6\n"
     ]
    }
   ],
   "source": [
    "count=0\n",
    "device=\"laptop\"\n",
    "for x in device:\n",
    "    count=count+1\n",
    "print(count)"
   ]
  },
  {
   "cell_type": "code",
   "execution_count": null,
   "id": "c42d84d6-1291-40dc-b3b0-e1de6a353535",
   "metadata": {},
   "outputs": [],
   "source": []
  }
 ],
 "metadata": {
  "kernelspec": {
   "display_name": "Python 3 (ipykernel)",
   "language": "python",
   "name": "python3"
  },
  "language_info": {
   "codemirror_mode": {
    "name": "ipython",
    "version": 3
   },
   "file_extension": ".py",
   "mimetype": "text/x-python",
   "name": "python",
   "nbconvert_exporter": "python",
   "pygments_lexer": "ipython3",
   "version": "3.12.7"
  }
 },
 "nbformat": 4,
 "nbformat_minor": 5
}
