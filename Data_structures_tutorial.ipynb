{
 "cells": [
  {
   "cell_type": "markdown",
   "id": "0cbac925-c8c9-4eee-8ff1-8fe60a72cdb3",
   "metadata": {},
   "source": [
    "# PYTHON DATA STRUCTURES"
   ]
  },
  {
   "cell_type": "markdown",
   "id": "f443de1d-9fd5-466f-9ab6-fbb0832e17a4",
   "metadata": {},
   "source": [
    "# 1.lists"
   ]
  },
  {
   "cell_type": "markdown",
   "id": "7c81a407-dd41-4731-bee9-0e8c0ef4116e",
   "metadata": {},
   "source": [
    "#### **definition**: a list is an **ordered,mutable collection**in python\n",
    "- allows duplicates\n",
    "- elemnts can be of mix data types\n",
    "- supports indexing( positive and negative"
   ]
  },
  {
   "cell_type": "markdown",
   "id": "b3cf9e60-33ff-4b73-bab6-69dbe096859d",
   "metadata": {},
   "source": [
    "# creating list"
   ]
  },
  {
   "cell_type": "code",
   "execution_count": 22,
   "id": "73d54918-e68a-4c7a-9335-c059047ff6dc",
   "metadata": {},
   "outputs": [
    {
     "name": "stdout",
     "output_type": "stream",
     "text": [
      "number: [10, 20, 30]\n",
      "fruits: ['mango', 'apple', 'banana']\n",
      "mixed: [1, 'two', 3.0, [4, 5]]\n"
     ]
    }
   ],
   "source": [
    "nums=[10,20,30]\n",
    "fruits=[\"mango\",\"apple\",\"banana\"]\n",
    "mixed=[1,\"two\",3.0,[4,5]]\n",
    "\n",
    "print(\"number:\",nums)\n",
    "print(\"fruits:\",fruits)\n",
    "print(\"mixed:\",mixed)"
   ]
  },
  {
   "cell_type": "code",
   "execution_count": 23,
   "id": "7a8057f6-620d-41bd-b9da-cfc35f111b8e",
   "metadata": {},
   "outputs": [
    {
     "name": "stdout",
     "output_type": "stream",
     "text": [
      "[30, 10, 20]\n",
      "[34, 65, 34, 65]\n"
     ]
    }
   ],
   "source": [
    "nums1=[30,10,20] #lists preserve order\n",
    "print(nums1)\n",
    "\n",
    "nums2=[34,65,34,65] #duplicates allowed\n",
    "print(nums2)"
   ]
  },
  {
   "cell_type": "markdown",
   "id": "31d35256-b5d3-4556-88b8-756da671d45f",
   "metadata": {},
   "source": [
    "# **lists method**"
   ]
  },
  {
   "cell_type": "markdown",
   "id": "cabe1a6a-2bcf-4202-a9f2-2d5b19dc5244",
   "metadata": {},
   "source": [
    "## **len()**"
   ]
  },
  {
   "cell_type": "markdown",
   "id": "dc7888ed-b0ca-4f13-838b-2488dbf8fdea",
   "metadata": {},
   "source": [
    "**note: len() is a function not a method**"
   ]
  },
  {
   "cell_type": "markdown",
   "id": "59cae9ae-106a-4da0-bde7-bc832fffab84",
   "metadata": {},
   "source": [
    "## append"
   ]
  },
  {
   "cell_type": "code",
   "execution_count": 24,
   "id": "3b67b954-4aeb-4f17-b713-fb9af1d4dbfd",
   "metadata": {},
   "outputs": [
    {
     "name": "stdout",
     "output_type": "stream",
     "text": [
      "[10, 20, 30]\n"
     ]
    }
   ],
   "source": [
    "list=[10,20]\n",
    "list.append(30)\n",
    "print(list)"
   ]
  },
  {
   "cell_type": "markdown",
   "id": "cc18d13d-9fcd-4a38-b1d8-a2a6ec35c930",
   "metadata": {},
   "source": [
    "# EXTEND"
   ]
  },
  {
   "cell_type": "code",
   "execution_count": 25,
   "id": "40bf11e4-d810-4e95-b27e-4255a7dc3d59",
   "metadata": {},
   "outputs": [
    {
     "name": "stdout",
     "output_type": "stream",
     "text": [
      "[1, 2, 3, 4, 5]\n"
     ]
    }
   ],
   "source": [
    "list2=[1,2]  #extend karne ke liye hume ek list me rakhna padega data types\n",
    "list2.extend([3,4,5])\n",
    "print(list2)"
   ]
  },
  {
   "cell_type": "markdown",
   "id": "80ab1a96-f710-42f5-8f18-552d33ee88e8",
   "metadata": {},
   "source": [
    "# REMOVE"
   ]
  },
  {
   "cell_type": "code",
   "execution_count": 26,
   "id": "2bc186c0-e08f-4759-ab8e-a8d94837ec79",
   "metadata": {},
   "outputs": [
    {
     "name": "stdout",
     "output_type": "stream",
     "text": [
      "[1, 2, 3]\n"
     ]
    }
   ],
   "source": [
    "nums=[1,2,2,3]\n",
    "nums.remove(2)\n",
    "print(nums)"
   ]
  },
  {
   "cell_type": "markdown",
   "id": "f41c1cef-5542-45a3-a863-57274c0e4210",
   "metadata": {},
   "source": [
    "# POP(INDEX_OF_THE_VALUE_TO_REMOVE)"
   ]
  },
  {
   "cell_type": "code",
   "execution_count": 27,
   "id": "39436718-26ec-4a6b-b51a-f18f34c8f687",
   "metadata": {},
   "outputs": [
    {
     "name": "stdout",
     "output_type": "stream",
     "text": [
      "40\n",
      "20\n",
      "[10, 30]\n"
     ]
    }
   ],
   "source": [
    "list3=[10,20,30,40]\n",
    "pop1=list3.pop()\n",
    "pop2=list3.pop(1)\n",
    "print(pop1)\n",
    "print(pop2)\n",
    "print(list3)"
   ]
  },
  {
   "cell_type": "markdown",
   "id": "ae5e55dc-af93-4c5e-a47a-22f6e6fcea4c",
   "metadata": {},
   "source": [
    "# CLEAR"
   ]
  },
  {
   "cell_type": "code",
   "execution_count": 28,
   "id": "4c2015fd-fd7f-41f5-abc5-3c6d56e4917b",
   "metadata": {},
   "outputs": [
    {
     "name": "stdout",
     "output_type": "stream",
     "text": [
      "[]\n"
     ]
    }
   ],
   "source": [
    "LIST4=[1,2,3]\n",
    "LIST4.clear()\n",
    "print(LIST4)"
   ]
  },
  {
   "cell_type": "markdown",
   "id": "f6f9d608-2803-4063-8997-09a8365738e4",
   "metadata": {},
   "source": [
    "# INDEX"
   ]
  },
  {
   "cell_type": "code",
   "execution_count": 33,
   "id": "cc0fa171-8fa1-4914-a54d-5f22089bf7c9",
   "metadata": {},
   "outputs": [
    {
     "data": {
      "text/plain": [
       "1"
      ]
     },
     "execution_count": 33,
     "metadata": {},
     "output_type": "execute_result"
    }
   ],
   "source": [
    "LETTER=[\"A\",\"B\",\"C\",\"D\"]\n",
    "LETTER.index('B')\n"
   ]
  },
  {
   "cell_type": "markdown",
   "id": "9d112f64-1509-45f4-9188-ef4b1f0e4a5a",
   "metadata": {},
   "source": [
    "# count()"
   ]
  },
  {
   "cell_type": "code",
   "execution_count": 1,
   "id": "3b8c53e2-0d10-42b3-a5f8-12a676bff3e2",
   "metadata": {},
   "outputs": [
    {
     "name": "stdout",
     "output_type": "stream",
     "text": [
      "3\n"
     ]
    }
   ],
   "source": [
    "letters = ['a','b','b','c','b']\n",
    "print(letters.count('b'))"
   ]
  },
  {
   "cell_type": "markdown",
   "id": "75a44f51-3d6c-4b89-b45b-44581d832e36",
   "metadata": {},
   "source": [
    "# sort"
   ]
  },
  {
   "cell_type": "code",
   "execution_count": 5,
   "id": "ea48237c-e73a-47da-9a09-bcd650b5feb6",
   "metadata": {},
   "outputs": [
    {
     "name": "stdout",
     "output_type": "stream",
     "text": [
      "[2, 2, 5, 9]\n"
     ]
    }
   ],
   "source": [
    "nums=[5,2,9,2]\n",
    "nums.sort()\n",
    "print(nums)"
   ]
  },
  {
   "cell_type": "markdown",
   "id": "29c9dcd2-27c6-45fa-b746-54e3268ce437",
   "metadata": {},
   "source": [
    "# sort(reverse)"
   ]
  },
  {
   "cell_type": "code",
   "execution_count": 9,
   "id": "69ecf6ec-61bd-454d-98cb-8557e86ba204",
   "metadata": {},
   "outputs": [
    {
     "name": "stdout",
     "output_type": "stream",
     "text": [
      "[9, 5, 2, 2]\n"
     ]
    }
   ],
   "source": [
    "nums=[5,2,9,2]\n",
    "nums.sort(reverse=True)\n",
    "print(nums)"
   ]
  },
  {
   "cell_type": "markdown",
   "id": "65bb79ec-06fe-449e-b60a-6800128bb95b",
   "metadata": {},
   "source": [
    "# reverse()"
   ]
  },
  {
   "cell_type": "code",
   "execution_count": 10,
   "id": "d8d32264-8690-4f83-a588-fb087b2da7da",
   "metadata": {},
   "outputs": [
    {
     "name": "stdout",
     "output_type": "stream",
     "text": [
      "[89, 56, 78]\n"
     ]
    }
   ],
   "source": [
    "nums=[78,56,89]\n",
    "nums.reverse()\n",
    "print(nums)"
   ]
  },
  {
   "cell_type": "markdown",
   "id": "9b65edd2-238e-48da-a39b-6bfd255e068f",
   "metadata": {},
   "source": [
    "# slicing"
   ]
  },
  {
   "cell_type": "code",
   "execution_count": 11,
   "id": "e02c6421-7ddb-4026-9d31-9ec2aa048a90",
   "metadata": {},
   "outputs": [
    {
     "name": "stdout",
     "output_type": "stream",
     "text": [
      "[20, 30, 40]\n",
      "[10, 20, 30]\n",
      "[10, 30, 50]\n"
     ]
    }
   ],
   "source": [
    "nums=[10,20,30,40,50]\n",
    "print(nums[1:4])\n",
    "print(nums[ :3])\n",
    "print(nums[::2])"
   ]
  },
  {
   "cell_type": "markdown",
   "id": "3ec2b2a0-d0f2-4f9d-9d4d-258ccfa7666a",
   "metadata": {},
   "source": [
    "# 2-**TUPLES**"
   ]
  },
  {
   "cell_type": "markdown",
   "id": "18b5194d-e7ea-45b0-b424-725e3bfc83fd",
   "metadata": {},
   "source": [
    "- IT IS AN ORDERED IMMUTABLE COLLECTION\n",
    "- ALLOW DUPLICATES\n",
    "- GOOD FOR FIXED RECORDS"
   ]
  },
  {
   "cell_type": "markdown",
   "id": "a9ef97e1-61e1-4960-9729-21ab872fba40",
   "metadata": {},
   "source": [
    "## CREATING TUPLES "
   ]
  },
  {
   "cell_type": "code",
   "execution_count": 14,
   "id": "29f650ce-f70c-4051-a513-aef301507123",
   "metadata": {},
   "outputs": [
    {
     "name": "stdout",
     "output_type": "stream",
     "text": [
      "(10, 20, 30)\n",
      "(42,)\n"
     ]
    }
   ],
   "source": [
    "T=(10,20,30)\n",
    "SINGLE=(42,)\n",
    "print(T)\n",
    "print(SINGLE)"
   ]
  },
  {
   "cell_type": "markdown",
   "id": "44b78387-275c-49c4-b584-a04a2b7c2323",
   "metadata": {},
   "source": [
    "## tuples method "
   ]
  },
  {
   "cell_type": "markdown",
   "id": "c4a1171e-9d1d-44bc-a448-aa6e9023b498",
   "metadata": {},
   "source": [
    "### len()\n",
    "- note len() is a function not a method "
   ]
  },
  {
   "cell_type": "code",
   "execution_count": 16,
   "id": "f39eafc4-3411-4f8d-a6c4-5b864a900da0",
   "metadata": {},
   "outputs": [
    {
     "name": "stdout",
     "output_type": "stream",
     "text": [
      "3\n"
     ]
    }
   ],
   "source": [
    "t=(10,20,30)\n",
    "print(len(t))"
   ]
  },
  {
   "cell_type": "markdown",
   "id": "4136129e-a2ea-4a10-a523-be75578096d9",
   "metadata": {},
   "source": [
    "# tuple.count()"
   ]
  },
  {
   "cell_type": "code",
   "execution_count": 18,
   "id": "5f60befe-75e7-44b7-b8cd-928f6cce8a79",
   "metadata": {},
   "outputs": [
    {
     "name": "stdout",
     "output_type": "stream",
     "text": [
      "3\n"
     ]
    }
   ],
   "source": [
    "t=(1,2,1,3,1)\n",
    "print(t.count(1))"
   ]
  },
  {
   "cell_type": "markdown",
   "id": "4c21fc16-9311-47ca-b47c-a59323f16255",
   "metadata": {},
   "source": [
    "# tuples.index()"
   ]
  },
  {
   "cell_type": "code",
   "execution_count": 23,
   "id": "0e1518c0-997b-4c54-85f1-741c00695a8d",
   "metadata": {},
   "outputs": [
    {
     "name": "stdout",
     "output_type": "stream",
     "text": [
      "1\n"
     ]
    }
   ],
   "source": [
    "t=(10,20,30,20)\n",
    "print(t.index(20))"
   ]
  },
  {
   "cell_type": "markdown",
   "id": "338fbf5e-61eb-47fd-8c54-5c3d64346abe",
   "metadata": {},
   "source": [
    "# indexing and slicing"
   ]
  },
  {
   "cell_type": "code",
   "execution_count": 24,
   "id": "56866f66-4d6f-4ed4-8b70-07266beb4250",
   "metadata": {},
   "outputs": [
    {
     "name": "stdout",
     "output_type": "stream",
     "text": [
      "a\n",
      "d\n",
      "('b', 'c')\n"
     ]
    }
   ],
   "source": [
    "t=('a','b','c','d')\n",
    "print(t[0])\n",
    "print(t[-1])\n",
    "print(t[1:3])"
   ]
  },
  {
   "cell_type": "markdown",
   "id": "f49c615e-ed9a-4c5b-8814-ed2b4a5d8d35",
   "metadata": {},
   "source": [
    "# concatenation and repetition"
   ]
  },
  {
   "cell_type": "code",
   "execution_count": 28,
   "id": "ab813b5e-b77d-4072-95af-cf7b0df6af13",
   "metadata": {},
   "outputs": [
    {
     "name": "stdout",
     "output_type": "stream",
     "text": [
      "(1, 2, 3, 4)\n",
      "(1, 2, 1, 2, 1, 2)\n"
     ]
    }
   ],
   "source": [
    "t1=(1,2)\n",
    "t2=(3,4)\n",
    "print(t1+t2)\n",
    "print(t1*3)\n"
   ]
  },
  {
   "cell_type": "markdown",
   "id": "e10fafa0-f2a5-42f1-9ab7-506538210996",
   "metadata": {},
   "source": [
    "# membership"
   ]
  },
  {
   "cell_type": "code",
   "execution_count": 29,
   "id": "01daf56c-6094-4be1-9c78-5e4ca04af300",
   "metadata": {},
   "outputs": [
    {
     "name": "stdout",
     "output_type": "stream",
     "text": [
      "True\n",
      "False\n"
     ]
    }
   ],
   "source": [
    "t=(1,2,3)\n",
    "print(2 in t)\n",
    "print(5 in t)"
   ]
  },
  {
   "cell_type": "code",
   "execution_count": null,
   "id": "22b7a4be-205a-4a85-b8d3-36bb874b5b84",
   "metadata": {},
   "outputs": [],
   "source": [
    "t2=10,20,30\n",
    "print(t2)\n",
    "print(type(t2))"
   ]
  },
  {
   "cell_type": "markdown",
   "id": "1ef6c00a-ee4d-4508-9ca0-342946b858c7",
   "metadata": {},
   "source": [
    "# 3-**sets**"
   ]
  },
  {
   "cell_type": "markdown",
   "id": "8d619522-c9c9-4f64-9b78-363728fba2d1",
   "metadata": {},
   "source": [
    "- a set is an unordered collection of unique element\n",
    "- no duplicates\n",
    "- no indexing and slicing \n",
    "- great for membership test snd set operation "
   ]
  },
  {
   "cell_type": "markdown",
   "id": "9bfc0f60-034f-4830-b7cb-019d0e0da474",
   "metadata": {},
   "source": [
    "# create and deduplicate "
   ]
  },
  {
   "cell_type": "code",
   "execution_count": 1,
   "id": "0baed9ec-7f00-46cb-bc6d-1e27109ddb7d",
   "metadata": {},
   "outputs": [
    {
     "name": "stdout",
     "output_type": "stream",
     "text": [
      "{1, 2, 3}\n",
      "{1, 2, 3}\n"
     ]
    }
   ],
   "source": [
    "s={1,2,3}\n",
    "dedup=set([1,2,2,3,3])\n",
    "print(s)\n",
    "print(dedup)"
   ]
  },
  {
   "cell_type": "markdown",
   "id": "b6c88cc3-9684-4077-ad55-7c2e8f9419d8",
   "metadata": {},
   "source": [
    "# [***LIST SET DICTIONARY TUPLES STRING ARE ITERABLE***]\n",
    "# [***AND REMAINING DATA TYPES ARE NON ITERABLE***]"
   ]
  },
  {
   "cell_type": "markdown",
   "id": "3edefcc3-5bf7-4ca0-a525-7c9b4d3c87d1",
   "metadata": {},
   "source": [
    "# len()"
   ]
  },
  {
   "cell_type": "code",
   "execution_count": 1,
   "id": "8defb145-35cc-4176-be08-e7a819e2e339",
   "metadata": {},
   "outputs": [
    {
     "name": "stdout",
     "output_type": "stream",
     "text": [
      "3\n"
     ]
    }
   ],
   "source": [
    "s={1,2,3.1}\n",
    "print(len(s))"
   ]
  },
  {
   "cell_type": "markdown",
   "id": "ade7e512-7916-4009-9933-5f1b43c098ba",
   "metadata": {},
   "source": [
    "# add"
   ]
  },
  {
   "cell_type": "code",
   "execution_count": 2,
   "id": "85b57425-32ed-472b-a3e2-51ff9c246b1a",
   "metadata": {},
   "outputs": [
    {
     "name": "stdout",
     "output_type": "stream",
     "text": [
      "{1, 2, 3}\n"
     ]
    }
   ],
   "source": [
    "s={1,2}\n",
    "s.add(3)\n",
    "print(s)"
   ]
  },
  {
   "cell_type": "markdown",
   "id": "2aaad84e-02ec-4900-a7f7-b7f0d0cca8cf",
   "metadata": {},
   "source": [
    "# update "
   ]
  },
  {
   "cell_type": "code",
   "execution_count": 4,
   "id": "3bb815d4-0d16-48be-ab72-bc79c2d8a664",
   "metadata": {},
   "outputs": [
    {
     "name": "stdout",
     "output_type": "stream",
     "text": [
      "{1, 2, 3, 4, 5}\n"
     ]
    }
   ],
   "source": [
    "s={1}\n",
    "s.update([2,3],{4,5})\n",
    "print(s)"
   ]
  },
  {
   "cell_type": "markdown",
   "id": "ed26142e-7851-4f53-970d-733510b0bb67",
   "metadata": {},
   "source": [
    "# remove"
   ]
  },
  {
   "cell_type": "code",
   "execution_count": 7,
   "id": "6b5c7f26-fc9b-451a-8ddf-4b3fd098d9b1",
   "metadata": {},
   "outputs": [
    {
     "name": "stdout",
     "output_type": "stream",
     "text": [
      "{1, 2}\n"
     ]
    }
   ],
   "source": [
    "r={1,2,3}\n",
    "r.remove(3)\n",
    "print(r)"
   ]
  },
  {
   "cell_type": "markdown",
   "id": "37a04cb4-e388-4003-a3e0-8cfd18f5638c",
   "metadata": {},
   "source": [
    "# discard"
   ]
  },
  {
   "cell_type": "code",
   "execution_count": 8,
   "id": "1c6a3480-1c4e-44e3-84ba-0c4a83e92071",
   "metadata": {},
   "outputs": [
    {
     "name": "stdout",
     "output_type": "stream",
     "text": [
      "{20, 30}\n"
     ]
    }
   ],
   "source": [
    "d={10,20,30}\n",
    "d.discard(10)\n",
    "print(d)"
   ]
  },
  {
   "cell_type": "markdown",
   "id": "cdf26b64-333e-47e6-8e31-5ab9235b83a4",
   "metadata": {},
   "source": [
    "# pop"
   ]
  },
  {
   "cell_type": "code",
   "execution_count": 9,
   "id": "1f03d6f3-8b58-40e5-8943-d231a5139e52",
   "metadata": {},
   "outputs": [
    {
     "name": "stdout",
     "output_type": "stream",
     "text": [
      "{2, 3}\n"
     ]
    }
   ],
   "source": [
    "p={1,2,3}\n",
    "p.pop()\n",
    "print(p)"
   ]
  },
  {
   "cell_type": "markdown",
   "id": "6ab93989-4a3a-4ca3-a698-c6932f4aebb4",
   "metadata": {},
   "source": [
    "# union"
   ]
  },
  {
   "cell_type": "code",
   "execution_count": 10,
   "id": "19f97224-4adb-419d-bc1e-836f1911cb77",
   "metadata": {},
   "outputs": [
    {
     "data": {
      "text/plain": [
       "{1, 2, 3, 4}"
      ]
     },
     "execution_count": 10,
     "metadata": {},
     "output_type": "execute_result"
    }
   ],
   "source": [
    "a,b={1,2,3},{2,3,4}\n",
    "a.union(b)"
   ]
  },
  {
   "cell_type": "markdown",
   "id": "b509d174-e1b6-45ef-8db5-3f8168939f62",
   "metadata": {},
   "source": [
    "# intersection"
   ]
  },
  {
   "cell_type": "code",
   "execution_count": 11,
   "id": "aacf3f3c-8b65-45d6-bf20-b284f70bfe41",
   "metadata": {},
   "outputs": [
    {
     "data": {
      "text/plain": [
       "{2, 3}"
      ]
     },
     "execution_count": 11,
     "metadata": {},
     "output_type": "execute_result"
    }
   ],
   "source": [
    "a,b={1,2,3},{2,3,4}\n",
    "a.intersection(b)"
   ]
  },
  {
   "cell_type": "markdown",
   "id": "5863d81b-afb7-4543-9482-8e40592aadef",
   "metadata": {},
   "source": [
    "# difference"
   ]
  },
  {
   "cell_type": "code",
   "execution_count": 12,
   "id": "75888e9b-439d-4541-90e8-d9da0a77782a",
   "metadata": {},
   "outputs": [
    {
     "data": {
      "text/plain": [
       "{1}"
      ]
     },
     "execution_count": 12,
     "metadata": {},
     "output_type": "execute_result"
    }
   ],
   "source": [
    "a,b={1,2,3},{2,3,4}\n",
    "a.difference(b)"
   ]
  },
  {
   "cell_type": "markdown",
   "id": "652f046b-f0ab-42fa-bb46-9b1408179705",
   "metadata": {},
   "source": [
    "# symmetric difference "
   ]
  },
  {
   "cell_type": "code",
   "execution_count": 16,
   "id": "a3eaaf80-cbf8-480c-adb5-26d1b69cdbde",
   "metadata": {},
   "outputs": [
    {
     "data": {
      "text/plain": [
       "{1, 4}"
      ]
     },
     "execution_count": 16,
     "metadata": {},
     "output_type": "execute_result"
    }
   ],
   "source": [
    "a,b={1,2,3},{2,3,4}\n",
    "a.symmetric_difference(b)"
   ]
  },
  {
   "cell_type": "markdown",
   "id": "d93c08db-0525-4078-8594-c7bc6ee2f72e",
   "metadata": {},
   "source": [
    "# ***4 DICTIONARIES***"
   ]
  },
  {
   "cell_type": "markdown",
   "id": "b64788cd-0ff9-4435-8d4c-946a76e4bda4",
   "metadata": {},
   "source": [
    "A DICTIONARY MAPS UNIQUE MMUTABLE KEYS TO VALUE  \n",
    "MUTABLE \n",
    "FAST LOOKUPS\n",
    "PRESERVE INSERTION ORDER\n",
    "\n",
    "### ***1- duplicates keys doesnt exist***"
   ]
  },
  {
   "cell_type": "markdown",
   "id": "b96f2c21-26ea-4934-a61a-ffd28fb953e4",
   "metadata": {},
   "source": [
    "# CREATING DICTIONAREIES"
   ]
  },
  {
   "cell_type": "code",
   "execution_count": 27,
   "id": "1854b5e1-4b32-431f-a738-930fc6fa0b36",
   "metadata": {},
   "outputs": [
    {
     "name": "stdout",
     "output_type": "stream",
     "text": [
      "{'pankaj', 'naman'}\n",
      "{'x': 1, 'y': 2}\n"
     ]
    }
   ],
   "source": [
    "person={\"naman\",\"pankaj\"}\n",
    "pairs=dict([(\"x\",1),(\"y\",2)])\n",
    "print(person)\n",
    "print(pairs)"
   ]
  },
  {
   "cell_type": "markdown",
   "id": "acc74092-7088-475a-b314-6547af0814b2",
   "metadata": {},
   "source": [
    "# dictionary method"
   ]
  },
  {
   "cell_type": "markdown",
   "id": "1340ff83-ca32-43ff-85e9-8252e37d43e8",
   "metadata": {},
   "source": [
    "# len()"
   ]
  },
  {
   "cell_type": "code",
   "execution_count": 2,
   "id": "800833f2-e330-4614-96a7-b8ad43752103",
   "metadata": {},
   "outputs": [
    {
     "name": "stdout",
     "output_type": "stream",
     "text": [
      "Length: 2\n"
     ]
    }
   ],
   "source": [
    "d = {\"a\":1, \"b\":2}\n",
    "print(\"Length:\", len(d))"
   ]
  },
  {
   "cell_type": "markdown",
   "id": "0a385ba6-b8a9-489f-ac97-979004230af8",
   "metadata": {},
   "source": [
    "# access[]  get()"
   ]
  },
  {
   "cell_type": "code",
   "execution_count": 3,
   "id": "a974dd87-7aab-47d7-a753-ae322a106bb0",
   "metadata": {},
   "outputs": [
    {
     "name": "stdout",
     "output_type": "stream",
     "text": [
      "name: Mayank\n",
      "salary with get: None\n"
     ]
    }
   ],
   "source": [
    "d = {\"name\":\"Mayank\", \"age\":28}\n",
    "print(\"name:\", d[\"name\"])\n",
    "print(\"salary with get:\", d.get(\"salary\"))"
   ]
  },
  {
   "cell_type": "markdown",
   "id": "2e949700-f3cf-45d7-a159-98c7d51a753d",
   "metadata": {},
   "source": [
    "# insert/update"
   ]
  },
  {
   "cell_type": "code",
   "execution_count": 5,
   "id": "2c928307-6034-41e9-9e0c-6f6fbd862790",
   "metadata": {},
   "outputs": [
    {
     "name": "stdout",
     "output_type": "stream",
     "text": [
      "After assignments: {'lang': 'Python', 'year': 1991}\n"
     ]
    }
   ],
   "source": [
    "d = {}\n",
    "d[\"lang\"] = \"Python\"\n",
    "d[\"year\"] = 1991\n",
    "print(\"After assignments:\", d)"
   ]
  },
  {
   "cell_type": "markdown",
   "id": "c0096d77-c5ac-4522-a96a-0c73babafd04",
   "metadata": {},
   "source": [
    "# UPDATE"
   ]
  },
  {
   "cell_type": "code",
   "execution_count": 6,
   "id": "88eef080-7a01-4aec-ac8e-1f07551e3b41",
   "metadata": {},
   "outputs": [
    {
     "name": "stdout",
     "output_type": "stream",
     "text": [
      "After update: {'a': 1, 'b': 20, 'c': 3}\n"
     ]
    }
   ],
   "source": [
    "d = {\"a\":1, \"b\":2}\n",
    "d.update({\"b\":20, \"c\":3})\n",
    "print(\"After update:\", d)"
   ]
  },
  {
   "cell_type": "markdown",
   "id": "ab47fc12-fc83-43d9-9356-a343383d9608",
   "metadata": {},
   "source": [
    "# POP"
   ]
  },
  {
   "cell_type": "code",
   "execution_count": 8,
   "id": "34f20f12-6299-4ac9-baf0-1d4b8b873106",
   "metadata": {},
   "outputs": [
    {
     "name": "stdout",
     "output_type": "stream",
     "text": [
      "Popped a: 1 | d now: {'b': 2}\n"
     ]
    }
   ],
   "source": [
    "d = {\"a\":1, \"b\":2}\n",
    "val = d.pop(\"a\")\n",
    "print(\"Popped a:\", val, \"| d now:\", d)"
   ]
  },
  {
   "cell_type": "markdown",
   "id": "32602831-cade-4107-8b59-3438b2bffdbb",
   "metadata": {},
   "source": [
    "# POPITEM"
   ]
  },
  {
   "cell_type": "code",
   "execution_count": 9,
   "id": "363e7459-c928-46fa-94dc-4adb89d69de6",
   "metadata": {},
   "outputs": [
    {
     "name": "stdout",
     "output_type": "stream",
     "text": [
      "Popped a: 1 | d now: {'b': 2}\n"
     ]
    }
   ],
   "source": [
    "d = {\"a\":1, \"b\":2}\n",
    "val = d.pop(\"a\")\n",
    "print(\"Popped a:\", val, \"| d now:\", d)"
   ]
  },
  {
   "cell_type": "markdown",
   "id": "adbda84e-f7d8-4e96-83ae-32c06fbf8f15",
   "metadata": {},
   "source": [
    "# CLEAR()"
   ]
  },
  {
   "cell_type": "code",
   "execution_count": 10,
   "id": "c566f1c0-e9b7-4370-9993-2d430345eea2",
   "metadata": {},
   "outputs": [
    {
     "name": "stdout",
     "output_type": "stream",
     "text": [
      "After clear: {}\n"
     ]
    }
   ],
   "source": [
    "d = {\"a\":1}\n",
    "d.clear()\n",
    "print(\"After clear:\", d)"
   ]
  },
  {
   "cell_type": "markdown",
   "id": "b973e2ec-e255-4ad7-ab12-c47c84ea4a57",
   "metadata": {},
   "source": [
    "# KEYS() VALUES() ITEMS()"
   ]
  },
  {
   "cell_type": "code",
   "execution_count": 13,
   "id": "2712f35f-505b-49cb-bb54-81fbde82d473",
   "metadata": {},
   "outputs": [
    {
     "name": "stdout",
     "output_type": "stream",
     "text": [
      "keys: ['name', 'role']\n",
      "values: ['Nishi', 'Data Scientist']\n",
      "items: [('name', 'Nishi'), ('role', 'Data Scientist')]\n"
     ]
    }
   ],
   "source": [
    "d = {\"name\":\"Nishi\", \"role\":\"Data Scientist\"}\n",
    "print(\"keys:\", list(d.keys()))\n",
    "print(\"values:\", list(d.values()))\n",
    "print(\"items:\", list(d.items()))"
   ]
  },
  {
   "cell_type": "code",
   "execution_count": null,
   "id": "0623608a-68e2-4759-8e74-ef8d70bff1d6",
   "metadata": {},
   "outputs": [],
   "source": []
  }
 ],
 "metadata": {
  "kernelspec": {
   "display_name": "Python 3 (ipykernel)",
   "language": "python",
   "name": "python3"
  },
  "language_info": {
   "codemirror_mode": {
    "name": "ipython",
    "version": 3
   },
   "file_extension": ".py",
   "mimetype": "text/x-python",
   "name": "python",
   "nbconvert_exporter": "python",
   "pygments_lexer": "ipython3",
   "version": "3.12.7"
  }
 },
 "nbformat": 4,
 "nbformat_minor": 5
}
